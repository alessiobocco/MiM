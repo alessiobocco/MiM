{
 "cells": [
  {
   "cell_type": "markdown",
   "metadata": {
    "id": "97a3239d"
   },
   "source": [
    "# Rossmann Store Sales Prediction\n",
    "# By Mohamed Eltayeb"
   ]
  },
  {
   "cell_type": "markdown",
   "metadata": {
    "id": "968bc204"
   },
   "source": [
    "# Import libraries"
   ]
  },
  {
   "cell_type": "code",
   "execution_count": null,
   "metadata": {
    "id": "ca5139f0"
   },
   "outputs": [],
   "source": [
    "import numpy as np\n",
    "import pandas as pd\n",
    "import matplotlib.pyplot as plt\n",
    "import seaborn as sns\n",
    "from scipy import stats\n",
    "\n",
    "from sklearn.preprocessing import LabelEncoder\n",
    "from pandas.plotting import scatter_matrix\n",
    "\n",
    "\n",
    "from lightgbm import LGBMRegressor\n",
    "from sklearn.compose import TransformedTargetRegressor\n",
    "\n",
    "import warnings\n",
    "warnings.simplefilter(action='ignore', category=FutureWarning)\n",
    "pd.set_option('display.float_format', lambda x: '%.3f' % x)\n",
    "pd.options.mode.chained_assignment = None  # default='warn'\n",
    "plt.rcParams[\"figure.figsize\"] = (12, 8)\n",
    "pd.set_option('display.max_columns', None)"
   ]
  },
  {
   "cell_type": "code",
   "execution_count": null,
   "metadata": {
    "id": "ac57d761"
   },
   "outputs": [],
   "source": [
    "#The Evaluation Metric\n",
    "def RMSPE(y_true, y_pred):\n",
    "    '''\n",
    "    Compute Root Mean Square Percentage Error between two arrays.\n",
    "    '''\n",
    "    loss = np.sqrt(np.mean(np.square(((y_true - y_pred) / y_true)), axis=0))\n",
    "\n",
    "    return loss"
   ]
  },
  {
   "cell_type": "code",
   "execution_count": null,
   "metadata": {},
   "outputs": [],
   "source": [
    "#Plot the LGBM Features Importances\n",
    "def plotImp(model, X , num = 20, fig_size = (40, 20)):\n",
    "    feature_imp = pd.DataFrame({'Value':model.feature_importances_,'Feature':X.columns})\n",
    "    plt.figure(figsize=fig_size)\n",
    "    sns.set(font_scale = 5)\n",
    "    sns.barplot(x=\"Value\", y=\"Feature\", data=feature_imp.sort_values(by=\"Value\", \n",
    "                                                        ascending=False)[0:num])\n",
    "    plt.title('LightGBM Features (avg over folds)')\n",
    "    plt.tight_layout()\n",
    "    plt.savefig('lgbm_importances-01.png')\n",
    "    plt.show()"
   ]
  },
  {
   "cell_type": "markdown",
   "metadata": {
    "id": "d4023c8a"
   },
   "source": [
    "# Read the training and testing data\n"
   ]
  },
  {
   "cell_type": "code",
   "execution_count": null,
   "metadata": {
    "id": "1ede6afb"
   },
   "outputs": [],
   "source": [
    "train_df = pd.read_csv(\"../input/rossmann-store-sales/train.csv\",dtype={'StateHoliday': object})\n",
    "test_df = pd.read_csv(\"../input/rossmann-store-sales/test.csv\")\n",
    "store_df = pd.read_csv(\"../input/rossmann-store-sales/store.csv\")"
   ]
  },
  {
   "cell_type": "code",
   "execution_count": null,
   "metadata": {
    "id": "b4d2ec61"
   },
   "outputs": [],
   "source": [
    "train_df = pd.merge(train_df, store_df, how = 'left', on = 'Store')\n",
    "test_df = pd.merge(test_df, store_df, how = 'left', on = 'Store')"
   ]
  },
  {
   "cell_type": "markdown",
   "metadata": {
    "id": "433c9901"
   },
   "source": [
    "# Convert the Tabular Data to Time Series Data"
   ]
  },
  {
   "cell_type": "code",
   "execution_count": null,
   "metadata": {
    "id": "882341a9"
   },
   "outputs": [],
   "source": [
    "ID = test_df['Id']\n",
    "test_df.drop('Id',inplace=True,axis=1)\n",
    "\n",
    "train_df.sort_values([\"Store\",\"Date\"], ignore_index=True, inplace=True)\n",
    "test_df.sort_values([\"Store\",\"Date\"], ignore_index=True, inplace=True)\n",
    "\n",
    "for dataset in (train_df,test_df):\n",
    "    dataset['Date'] = pd.to_datetime(dataset['Date'])\n",
    "    dataset['Day'] = dataset.Date.dt.day\n",
    "    dataset['Month'] = dataset.Date.dt.month\n",
    "    dataset['Year'] = dataset.Date.dt.year\n",
    "    dataset['DayOfYear'] = dataset.Date.dt.dayofyear\n",
    "    dataset['WeekOfYear'] = dataset.Date.dt.weekofyear\n",
    "    dataset.set_index('Date', inplace=True)"
   ]
  },
  {
   "cell_type": "markdown",
   "metadata": {
    "id": "b7f152fb"
   },
   "source": [
    "# Exploratory data analysis"
   ]
  },
  {
   "cell_type": "markdown",
   "metadata": {
    "id": "eebc4b79"
   },
   "source": [
    "# Features:"
   ]
  },
  {
   "cell_type": "markdown",
   "metadata": {
    "id": "7bf0a4e6"
   },
   "source": [
    "* Id - an Id that represents a (Store, Date) duple within the test set\n",
    "* Store - a unique Id for each store\n",
    "* Sales - the turnover for any given day (this is what you are predicting)\n",
    "* Customers - the number of customers on a given day\n",
    "* Open - an indicator for whether the store was open: 0 = closed, 1 = open\n",
    "* StateHoliday - indicates a state holiday. Normally all stores, with few exceptions, are closed on state holidays. Note that all schools are closed on public holidays and weekends. a = public holiday, b = Easter holiday, c = Christmas, 0 = None\n",
    "* SchoolHoliday - indicates if the (Store, Date) was affected by the closure of public schools\n",
    "* StoreType - differentiates between 4 different store models: a, b, c, d\n",
    "* Assortment - describes an assortment level: a = basic, b = extra, c = extended\n",
    "* CompetitionDistance - distance in meters to the nearest competitor store\n",
    "* CompetitionOpenSince[Month/Year] - gives the approximate year and month of the time the nearest competitor was opened\n",
    "* Promo - indicates whether a store is running a promo on that day\n",
    "* Promo2 - Promo2 is a continuing and consecutive promotion for some stores: 0 = store is not participating, 1 = store is participating\n",
    "* Promo2Since[Year/Week] - describes the year and calendar week when the store started participating in Promo2\n",
    "* PromoInterval - describes the consecutive intervals Promo2 is started, naming the months the promotion is started anew. E.g. \"Feb,May,Aug,Nov\" means each round starts in February, May, August, November of any given year for that store"
   ]
  },
  {
   "cell_type": "code",
   "execution_count": null,
   "metadata": {
    "id": "7e414fa4",
    "outputId": "41b5bdc8-1db9-4137-d4a3-35d78018fd8c"
   },
   "outputs": [],
   "source": [
    "train_df.shape"
   ]
  },
  {
   "cell_type": "code",
   "execution_count": null,
   "metadata": {
    "id": "0eecb98d"
   },
   "outputs": [],
   "source": [
    "test_df.shape"
   ]
  },
  {
   "cell_type": "code",
   "execution_count": null,
   "metadata": {
    "id": "7eb42a7f",
    "outputId": "8c3a2dcc-3120-4df0-eafe-b1ef54083f45"
   },
   "outputs": [],
   "source": [
    "train_df.info()"
   ]
  },
  {
   "cell_type": "code",
   "execution_count": null,
   "metadata": {
    "id": "3673a464"
   },
   "outputs": [],
   "source": [
    "test_df.info()"
   ]
  },
  {
   "cell_type": "code",
   "execution_count": null,
   "metadata": {
    "id": "115a4f9a"
   },
   "outputs": [],
   "source": [
    "train_df.head()"
   ]
  },
  {
   "cell_type": "code",
   "execution_count": null,
   "metadata": {
    "id": "9abeadb6"
   },
   "outputs": [],
   "source": [
    "test_df.head()"
   ]
  },
  {
   "cell_type": "code",
   "execution_count": null,
   "metadata": {
    "id": "28cdfec7",
    "outputId": "1cbc65b4-5e60-4339-90e2-374f737dc26a"
   },
   "outputs": [],
   "source": [
    "train_df.describe()"
   ]
  },
  {
   "cell_type": "code",
   "execution_count": null,
   "metadata": {
    "id": "fbf8c52b",
    "outputId": "d58f7c58-0d84-4269-eac2-c08dd1c19dc2"
   },
   "outputs": [],
   "source": [
    "test_df.describe()"
   ]
  },
  {
   "cell_type": "markdown",
   "metadata": {
    "id": "070fd51e"
   },
   "source": [
    "# Plots"
   ]
  },
  {
   "cell_type": "code",
   "execution_count": null,
   "metadata": {
    "id": "38601abf"
   },
   "outputs": [],
   "source": [
    "#Numerical Features Histograms (Train)\n",
    "num_feats = list(train_df.select_dtypes(include=['int64', 'float64', 'int32']).columns)\n",
    "train_df[num_feats].hist(figsize=(20,15));"
   ]
  },
  {
   "cell_type": "code",
   "execution_count": null,
   "metadata": {
    "id": "e02dfe58"
   },
   "outputs": [],
   "source": [
    "#Numerical Features Histograms (Test)\n",
    "num_feats = list(test_df.select_dtypes(include=['int64', 'float64', 'int32']).columns)\n",
    "test_df[num_feats].hist(figsize=(20,15));"
   ]
  },
  {
   "cell_type": "markdown",
   "metadata": {
    "id": "34625426"
   },
   "source": [
    "#### We can notice several things. Firstly, the test set does not have the customers feature, so we cannot use it in prediction. But we maybe can utilize it in doing clusters for the stores.\n",
    "#### Secondly, for each feature, the distribution in the training set has almost an equal corresponding one in the test set except for the feature 'SchoolHoliday' which has a lot of '1.0's values in the test set."
   ]
  },
  {
   "cell_type": "code",
   "execution_count": null,
   "metadata": {
    "id": "935aeca1",
    "outputId": "e4708ddc-d303-444b-c4bc-833b1c5e4ce8"
   },
   "outputs": [],
   "source": [
    "#Sales_Stores\n",
    "plt.figure(figsize=(12, 8))\n",
    "plt.scatter(train_df['Store'],train_df['Sales'], alpha=0.1);\n",
    "plt.plot()"
   ]
  },
  {
   "cell_type": "markdown",
   "metadata": {
    "id": "eb271b03"
   },
   "source": [
    "#### We can see that only several stores have sales more than 20000, and there are quite a lot of 0 sales days. This may be an indication to the days when the stores were closed. Deleting these points later would be better for forcasting well."
   ]
  },
  {
   "cell_type": "code",
   "execution_count": null,
   "metadata": {
    "id": "a3e6d2ff"
   },
   "outputs": [],
   "source": [
    "#Sales_Customers\n",
    "attributes = [\"Sales\", \"Customers\"]\n",
    "scatter_matrix(train_df[attributes], alpha=0.1);"
   ]
  },
  {
   "cell_type": "markdown",
   "metadata": {
    "id": "bd2d5cfc"
   },
   "source": [
    "#### Obviously, this feature is highly correlated to the target and may be a powerful predictor, but it is not in the test set, so we cannot use it except in making clusters or aggregations. "
   ]
  },
  {
   "cell_type": "code",
   "execution_count": null,
   "metadata": {
    "id": "e35ea16e"
   },
   "outputs": [],
   "source": [
    "#Sales_CompetitionDistance\n",
    "attributes = [\"Sales\", \"CompetitionDistance\"]\n",
    "scatter_matrix(train_df[attributes], alpha=0.1);"
   ]
  },
  {
   "cell_type": "markdown",
   "metadata": {
    "id": "7dabecae"
   },
   "source": [
    "#### Well, it looks like the further stores distant from each other, the lower sales they get. This maybe due to that people tend to go to places where several same stores setting next to each other in order to get best prices.\n",
    "#### Also, several similar stores setting to each other may mean that their place is a big market within the city while that distant stores may mean that they are just small retailing stores.\n"
   ]
  },
  {
   "cell_type": "code",
   "execution_count": 1,
   "metadata": {
    "id": "7a6cd215",
    "tags": []
   },
   "outputs": [
    {
     "ename": "NameError",
     "evalue": "name 'sns' is not defined",
     "output_type": "error",
     "traceback": [
      "\u001b[0;31m---------------------------------------------------------------------------\u001b[0m",
      "\u001b[0;31mNameError\u001b[0m                                 Traceback (most recent call last)",
      "Cell \u001b[0;32mIn[1], line 2\u001b[0m\n\u001b[1;32m      1\u001b[0m \u001b[38;5;66;03m#Sales_Open\u001b[39;00m\n\u001b[0;32m----> 2\u001b[0m \u001b[43msns\u001b[49m\u001b[38;5;241m.\u001b[39mset()\n\u001b[1;32m      3\u001b[0m plt\u001b[38;5;241m.\u001b[39mhist(train_df[train_df[\u001b[38;5;124m'\u001b[39m\u001b[38;5;124mOpen\u001b[39m\u001b[38;5;124m'\u001b[39m] \u001b[38;5;241m==\u001b[39m \u001b[38;5;241m1\u001b[39m]\u001b[38;5;241m.\u001b[39mSales, color\u001b[38;5;241m=\u001b[39m\u001b[38;5;124m'\u001b[39m\u001b[38;5;124mgreen\u001b[39m\u001b[38;5;124m'\u001b[39m, alpha\u001b[38;5;241m=\u001b[39m\u001b[38;5;241m0.3\u001b[39m, label \u001b[38;5;241m=\u001b[39m \u001b[38;5;124m'\u001b[39m\u001b[38;5;124mYES\u001b[39m\u001b[38;5;124m'\u001b[39m)\n\u001b[1;32m      4\u001b[0m plt\u001b[38;5;241m.\u001b[39mhist(train_df[train_df[\u001b[38;5;124m'\u001b[39m\u001b[38;5;124mOpen\u001b[39m\u001b[38;5;124m'\u001b[39m] \u001b[38;5;241m==\u001b[39m \u001b[38;5;241m0\u001b[39m]\u001b[38;5;241m.\u001b[39mSales, color\u001b[38;5;241m=\u001b[39m\u001b[38;5;124m'\u001b[39m\u001b[38;5;124mred\u001b[39m\u001b[38;5;124m'\u001b[39m, alpha\u001b[38;5;241m=\u001b[39m\u001b[38;5;241m0.3\u001b[39m, label \u001b[38;5;241m=\u001b[39m \u001b[38;5;124m'\u001b[39m\u001b[38;5;124mNO\u001b[39m\u001b[38;5;124m'\u001b[39m)\n",
      "\u001b[0;31mNameError\u001b[0m: name 'sns' is not defined"
     ]
    }
   ],
   "source": [
    "#Sales_Open\n",
    "sns.set()\n",
    "plt.hist(train_df[train_df['Open'] == 1].Sales, color='green', alpha=0.3, label = 'YES')\n",
    "plt.hist(train_df[train_df['Open'] == 0].Sales, color='red', alpha=0.3, label = 'NO')\n",
    "plt.legend()\n",
    "plt.plot()"
   ]
  },
  {
   "cell_type": "markdown",
   "metadata": {
    "id": "8707997c"
   },
   "source": [
    "#### Nothing's strange. As that no red bars appeares, that does mean the store doesn't have any sales when the store is closed which is reasonable.\n",
    "#### We can use this piece of information to fill some of the test set predictions manually."
   ]
  },
  {
   "cell_type": "code",
   "execution_count": null,
   "metadata": {
    "id": "84454a64"
   },
   "outputs": [],
   "source": [
    "#Sales_Promo\n",
    "sns.set()\n",
    "plt.hist(train_df[train_df['Promo'] == 1].Sales, color='green', alpha=0.3, label = 'YES')\n",
    "plt.hist(train_df[train_df['Promo'] == 0].Sales, color='red', alpha=0.3, label = 'NO')\n",
    "plt.legend()\n",
    "plt.plot()"
   ]
  },
  {
   "cell_type": "code",
   "execution_count": null,
   "metadata": {
    "id": "fdb6cf49"
   },
   "outputs": [],
   "source": [
    "#Sales_Promo2\n",
    "sns.set()\n",
    "plt.hist(train_df[train_df['Promo2'] == 1].Sales, color='green', alpha=0.3, label = 'YES')\n",
    "plt.hist(train_df[train_df['Promo2'] == 0].Sales, color='red', alpha=0.3, label = 'NO')\n",
    "plt.legend()\n",
    "plt.plot()"
   ]
  },
  {
   "cell_type": "markdown",
   "metadata": {
    "id": "c2138f2f"
   },
   "source": [
    "#### It looks like stores with continuing and consecutive promotions doesn't get significantly better sales than stores with indiviual promotions. In fact, it looks like the opposite is true."
   ]
  },
  {
   "cell_type": "code",
   "execution_count": null,
   "metadata": {
    "id": "7dc3d19c"
   },
   "outputs": [],
   "source": [
    "#Sales_DayOfWeek\n",
    "plt.figure(figsize=(12, 8))\n",
    "plt.scatter(train_df[\"DayOfWeek\"],train_df[\"Sales\"])\n",
    "plt.plot()"
   ]
  },
  {
   "cell_type": "code",
   "execution_count": null,
   "metadata": {
    "id": "8c14dc07"
   },
   "outputs": [],
   "source": [
    "#Sales_Month\n",
    "plt.figure(figsize=(12, 8))\n",
    "plt.scatter(train_df[\"Month\"],train_df[\"Sales\"])\n",
    "plt.plot()"
   ]
  },
  {
   "cell_type": "markdown",
   "metadata": {
    "id": "d8cadb63"
   },
   "source": [
    "#### High sales in April, May, June and December\n",
    "#### Low sales in January and September"
   ]
  },
  {
   "cell_type": "code",
   "execution_count": null,
   "metadata": {
    "id": "3387a3d8"
   },
   "outputs": [],
   "source": [
    "#Sales_StoreType\n",
    "sns.set()\n",
    "plt.hist(train_df[train_df['StoreType'] == 'a'].Sales, color='green', alpha=0.3, label = 'a')\n",
    "plt.hist(train_df[train_df['StoreType'] == 'b'].Sales, color='red', alpha=0.3, label = 'b')\n",
    "plt.hist(train_df[train_df['StoreType'] == 'c'].Sales, color='yellow', alpha=0.3, label = 'c')\n",
    "plt.hist(train_df[train_df['StoreType'] == 'd'].Sales, color='blue', alpha=0.3, label = 'd')\n",
    "plt.legend()\n",
    "plt.plot()"
   ]
  },
  {
   "cell_type": "markdown",
   "metadata": {
    "id": "121270d1"
   },
   "source": [
    "#### Stores with type 'b' look like having greater mean sales than the others. "
   ]
  },
  {
   "cell_type": "code",
   "execution_count": null,
   "metadata": {
    "id": "b5e608fa"
   },
   "outputs": [],
   "source": [
    "#Sales_Assortment\n",
    "sns.set()\n",
    "plt.hist(train_df[train_df['Assortment'] == 'a'].Sales, color='green', alpha=0.3, label = 'a')\n",
    "plt.hist(train_df[train_df['Assortment'] == 'b'].Sales, color='red', alpha=0.3, label = 'b')\n",
    "plt.hist(train_df[train_df['Assortment'] == 'c'].Sales, color='yellow', alpha=0.3, label = 'c')\n",
    "plt.legend()\n",
    "plt.plot()"
   ]
  },
  {
   "cell_type": "markdown",
   "metadata": {
    "id": "43512d7f"
   },
   "source": [
    "#### Stores with Assortment 'b' look like having much less maximum sales than the others. "
   ]
  },
  {
   "cell_type": "code",
   "execution_count": null,
   "metadata": {
    "id": "824a6802"
   },
   "outputs": [],
   "source": [
    "#Open_DayOfWeek\n",
    "sns.countplot( x='DayOfWeek', data=train_df, hue=\"Open\", palette=\"Set1\");"
   ]
  },
  {
   "cell_type": "markdown",
   "metadata": {
    "id": "f25ee57d"
   },
   "source": [
    "#### Almost all the stores are closed at the weekend.\n",
    "#### As that the data has been taken from European Countries, it is safe to say that number 7 represent Sunday."
   ]
  },
  {
   "cell_type": "code",
   "execution_count": null,
   "metadata": {
    "id": "5280f97f"
   },
   "outputs": [],
   "source": [
    "#PromoInterval\n",
    "train_df['PromoInterval'].hist()"
   ]
  },
  {
   "cell_type": "markdown",
   "metadata": {
    "id": "828f8415"
   },
   "source": [
    "#### Clearly, most of the stores prefer the Jan,Apr,Jul,Oct Promo interval. "
   ]
  },
  {
   "cell_type": "markdown",
   "metadata": {
    "id": "0de8cf90"
   },
   "source": [
    "# Feature Engineering"
   ]
  },
  {
   "cell_type": "markdown",
   "metadata": {
    "id": "64991048"
   },
   "source": [
    "# Adding Aggregations"
   ]
  },
  {
   "cell_type": "code",
   "execution_count": null,
   "metadata": {},
   "outputs": [],
   "source": [
    "# Sales_per_day, Customers_per_day, avg_sales_per_customer and Sales_per_customers_per_day\n",
    "\n",
    "# Get total sales, customers and open days per store\n",
    "store_data_sales = train_df.groupby([train_df['Store']])['Sales'].sum()\n",
    "store_data_customers = train_df.groupby([train_df['Store']])['Customers'].sum()\n",
    "store_data_avg_sales = train_df.groupby([train_df['Store']])['Sales'].mean()\n",
    "store_data_avg_customers = train_df.groupby([train_df['Store']])['Customers'].mean()\n",
    "store_data_open = train_df.groupby([train_df['Store']])['Open'].count()\n",
    "\n",
    "# Calculate sales per day, customers per day and sales per customers per day\n",
    "store_data_sales_per_day = store_data_sales / store_data_open\n",
    "store_data_customers_per_day = store_data_customers / store_data_open\n",
    "store_data_avg_sales_per_customer = store_data_avg_sales / store_data_avg_customers\n",
    "store_data_sales_per_customer_per_day = store_data_sales_per_day / store_data_customers_per_day\n",
    "\n",
    "#Saving the above values in a dictionary so that they can be mapped to the dataframe.\n",
    "sales_per_day_dict = dict(store_data_sales_per_day)\n",
    "customers_per_day_dict = dict(store_data_customers_per_day)\n",
    "avg_sales_per_customer_dict = dict(store_data_avg_sales_per_customer)\n",
    "sales_per_customers_per_day_dict = dict(store_data_sales_per_customer_per_day)\n",
    "\n",
    "\n",
    "\n",
    "train_df['SalesPerDay'] = train_df['Store'].map(sales_per_day_dict)\n",
    "train_df['Customers_per_day'] = train_df['Store'].map(customers_per_day_dict)\n",
    "train_df['Avg_Sales_per_Customer'] = train_df['Store'].map(avg_sales_per_customer_dict)\n",
    "train_df['Sales_Per_Customers_Per_Day'] = train_df['Store'].map(sales_per_customers_per_day_dict)\n",
    "\n",
    "test_df['Sales_per_day'] = test_df['Store'].map(sales_per_day_dict)\n",
    "test_df['Customers_per_day'] = test_df['Store'].map(customers_per_day_dict)\n",
    "test_df['Avg_Sales_per_Customer'] = test_df['Store'].map(avg_sales_per_customer_dict)\n",
    "test_df['Sales_Per_Customers_Per_Day'] = test_df['Store'].map(sales_per_customers_per_day_dict)"
   ]
  },
  {
   "cell_type": "markdown",
   "metadata": {},
   "source": [
    "## Foureier Frequnecies and Amplitudes"
   ]
  },
  {
   "cell_type": "code",
   "execution_count": null,
   "metadata": {
    "scrolled": true
   },
   "outputs": [],
   "source": [
    "freq2_dict_no_log = dict()\n",
    "freq3_dict_no_log = dict()\n",
    "\n",
    "amp2_dict_no_log = dict()\n",
    "amp3_dict_no_log = dict()\n",
    "\n",
    "for feat_1 in ('Year','Month'):\n",
    "        for i in range(min(train_df[feat_1].unique()), max(train_df[feat_1].unique()) + 1):\n",
    "\n",
    "            a = train_df.loc[train_df[feat_1]==i]\n",
    "            a_sales = a['Sales']\n",
    "\n",
    "            Y = np.fft.fft(a_sales.values)\n",
    "            Y = abs(Y)\n",
    "            freq = np.fft.fftfreq(len(Y), 1)\n",
    "\n",
    "            intercept_index = np.argmax(Y)\n",
    "            Y = np.delete(Y, intercept_index)\n",
    "            freq = np.delete(freq, intercept_index)\n",
    "\n",
    "            amplitude_1_index = np.argmax(Y)\n",
    "            amplitude_1 = Y[amplitude_1_index]\n",
    "            Y = np.delete(Y, amplitude_1_index)\n",
    "            freq_1 = freq[amplitude_1_index]\n",
    "            freq = np.delete(freq, amplitude_1_index)\n",
    "\n",
    "            amplitude_2_index = np.argmax(Y)\n",
    "            amplitude_2 = Y[amplitude_2_index]\n",
    "            Y = np.delete(Y, amplitude_2_index)\n",
    "            freq_2 = freq[amplitude_2_index]\n",
    "            freq = np.delete(freq, amplitude_2_index)\n",
    "\n",
    "            amplitude_3_index = np.argmax(Y)\n",
    "            amplitude_3 = Y[amplitude_3_index]\n",
    "            Y = np.delete(Y, amplitude_3_index)\n",
    "            freq_3 = freq[amplitude_3_index]\n",
    "            freq = np.delete(freq, amplitude_3_index)\n",
    "            \n",
    "\n",
    "            #Freq_1 is not included because it seems as it is always 0\n",
    "            a[f'Frequency_2_{feat_1}_Sales'] = freq_2\n",
    "            a[f'Frequency_3_{feat_1}_Sales'] = freq_3\n",
    "\n",
    "            a[f'Amplitude_2_{feat_1}_Sales'] = amplitude_2\n",
    "            a[f'Amplitude_3_{feat_1}_Sales'] = amplitude_3\n",
    "\n",
    "\n",
    "            freq2_dict_no_log[i] = freq_2\n",
    "            freq3_dict_no_log[i] = freq_3\n",
    "\n",
    "            amp2_dict_no_log[i] = amplitude_2\n",
    "            amp3_dict_no_log[i] = amplitude_3\n",
    "\n",
    "\n",
    "            if i == min(train_df[feat_1].unique()):\n",
    "                k = a\n",
    "            else:\n",
    "                k = pd.concat([k,a])\n",
    "        train_df = k\n",
    "        test_df[f'Frequency_2_{feat_1}_Sales'] = test_df[feat_1].map(freq2_dict_no_log)\n",
    "        test_df[f'Frequency_3_{feat_1}_Sales'] = test_df[feat_1].map(freq3_dict_no_log)\n",
    "        test_df[f'Amplitude_2_{feat_1}_Sales'] = test_df[feat_1].map(amp2_dict_no_log)\n",
    "        test_df[f'Amplitude_3_{feat_1}_Sales'] = test_df[feat_1].map(amp3_dict_no_log)\n",
    "        freq2_dict_no_log = dict()\n",
    "        freq3_dict_no_log = dict()\n",
    "        amp2_dict_no_log = dict()\n",
    "        amp3_dict_no_log = dict()\n"
   ]
  },
  {
   "cell_type": "markdown",
   "metadata": {},
   "source": [
    "## Converting \"CompetitionOpenSinceYear/Month\" to Milliseconds"
   ]
  },
  {
   "cell_type": "code",
   "execution_count": null,
   "metadata": {},
   "outputs": [],
   "source": [
    "feats = ['CompetitionOpenSinceMonth','CompetitionOpenSinceYear']\n",
    "modes = train_df[feats].mode()\n",
    "\n",
    "for f in feats:\n",
    "        train_df[f] = train_df[f].fillna(modes[f][0])\n",
    "        test_df[f] = test_df[f].fillna(modes[f][0])\n",
    "\n",
    "#---------------------------------------------------------------------------------------------------------------- \n",
    "def convertCompetitionOpen(df):\n",
    "    try:\n",
    "        date = '{}-{}'.format(int(df['CompetitionOpenSinceYear']), int(df['CompetitionOpenSinceMonth']))\n",
    "        return pd.to_datetime(date)\n",
    "    except:\n",
    "        return np.nan\n",
    "\n",
    "train_df['CompetitionOpenInt'] = train_df.apply(lambda df: convertCompetitionOpen(df), axis=1).astype(np.int64)\n",
    "test_df['CompetitionOpenInt'] = test_df.apply(lambda df: convertCompetitionOpen(df), axis=1).astype(np.int64)"
   ]
  },
  {
   "cell_type": "markdown",
   "metadata": {
    "id": "abe1bf8f"
   },
   "source": [
    "## Drop 'Customers' and 'StateHoliday' Columns"
   ]
  },
  {
   "cell_type": "code",
   "execution_count": null,
   "metadata": {
    "id": "0791d108"
   },
   "outputs": [],
   "source": [
    "train_df.drop('Customers',inplace = True, axis=1)  #Because it is not in the test set"
   ]
  },
  {
   "cell_type": "code",
   "execution_count": null,
   "metadata": {},
   "outputs": [],
   "source": [
    "train_df.drop('StateHoliday',inplace=True,axis=1)  #Because it reduces the performance\n",
    "test_df.drop('StateHoliday',inplace=True,axis=1)"
   ]
  },
  {
   "cell_type": "markdown",
   "metadata": {},
   "source": [
    "## Return to the original order"
   ]
  },
  {
   "cell_type": "code",
   "execution_count": null,
   "metadata": {},
   "outputs": [],
   "source": [
    "train_df.sort_values([\"Store\"], ignore_index=True, inplace=True)\n",
    "test_df.sort_values([\"Store\"], ignore_index=True, inplace=True)\n",
    "train_df.sort_values([\"Year\",\"Month\",\"Day\"], ascending=False ,ignore_index=True, inplace=True)\n",
    "test_df.sort_values([\"Year\",\"Month\",\"Day\"], ascending=False ,ignore_index=True, inplace=True)"
   ]
  },
  {
   "cell_type": "markdown",
   "metadata": {
    "id": "f46e388c"
   },
   "source": [
    "# Data preprocessing"
   ]
  },
  {
   "cell_type": "markdown",
   "metadata": {
    "id": "9593a818"
   },
   "source": [
    "## Missing Values"
   ]
  },
  {
   "cell_type": "code",
   "execution_count": null,
   "metadata": {
    "id": "5de84649",
    "outputId": "f66e777d-cf63-4167-f79e-292c284e74a9"
   },
   "outputs": [],
   "source": [
    "#missing data percentage (Training)\n",
    "total = train_df.isnull().sum().sort_values(ascending=False)\n",
    "percent_1 = train_df.isnull().sum()/train_df.isnull().count()*100\n",
    "percent_2 = (round(percent_1, 1)).sort_values(ascending=False)\n",
    "missing_data = pd.concat([total, percent_2], axis=1, keys=['Total', '%'])\n",
    "missing_data"
   ]
  },
  {
   "cell_type": "code",
   "execution_count": null,
   "metadata": {
    "id": "2f23d16d",
    "outputId": "9971595f-2ece-4a6d-a55d-f64b019ca9c6"
   },
   "outputs": [],
   "source": [
    "#missing data percentage (Testing)\n",
    "total = test_df.isnull().sum().sort_values(ascending=False)\n",
    "percent_1 = test_df.isnull().sum()/test_df.isnull().count()*100\n",
    "percent_2 = (round(percent_1, 1)).sort_values(ascending=False)\n",
    "missing_data = pd.concat([total, percent_2], axis=1, keys=['Total', '%'])\n",
    "missing_data"
   ]
  },
  {
   "cell_type": "code",
   "execution_count": null,
   "metadata": {
    "id": "85983e90"
   },
   "outputs": [],
   "source": [
    "feats = ['Promo2SinceYear','Promo2SinceWeek','CompetitionDistance', 'PromoInterval']\n",
    "modes = train_df[feats].mode()\n",
    "\n",
    "for f in feats:\n",
    "        train_df[f] = train_df[f].fillna(modes[f][0])\n",
    "        test_df[f] = test_df[f].fillna(modes[f][0])\n",
    "for dataset in (train_df,test_df):\n",
    "    dataset['Open'] = dataset['Open'].fillna(0)"
   ]
  },
  {
   "cell_type": "markdown",
   "metadata": {
    "id": "e7fc780c"
   },
   "source": [
    "# Remove Outliers"
   ]
  },
  {
   "cell_type": "code",
   "execution_count": null,
   "metadata": {
    "id": "e2606b45",
    "outputId": "a1a8f921-a982-4c10-b36d-a138034eef3a"
   },
   "outputs": [],
   "source": [
    "train_df = train_df[train_df['Sales'] < 25000]  #Drops samples which have sales more than 25000\n",
    "train_df.reset_index(drop=True)"
   ]
  },
  {
   "cell_type": "markdown",
   "metadata": {
    "id": "1cc59d3a"
   },
   "source": [
    "# Encoding"
   ]
  },
  {
   "cell_type": "markdown",
   "metadata": {
    "id": "8cee2f61"
   },
   "source": [
    "## Label Encoder"
   ]
  },
  {
   "cell_type": "code",
   "execution_count": null,
   "metadata": {
    "id": "48be25b5"
   },
   "outputs": [],
   "source": [
    "attributes = ['StoreType','Assortment','PromoInterval']\n",
    "for dataset in (train_df,test_df):\n",
    "    for f in attributes:\n",
    "        dataset[attributes] = dataset[attributes].apply(lambda x: pd.factorize(x)[0])"
   ]
  },
  {
   "cell_type": "markdown",
   "metadata": {},
   "source": [
    "# Only Use non-zero Sales Samples For Training"
   ]
  },
  {
   "cell_type": "code",
   "execution_count": null,
   "metadata": {
    "id": "e13bb50b"
   },
   "outputs": [],
   "source": [
    "train_df = train_df[train_df['Open'] == 1]\n",
    "train_df = train_df[train_df['Sales'] > 0.0]"
   ]
  },
  {
   "cell_type": "markdown",
   "metadata": {},
   "source": [
    "# The Correlation with The Target "
   ]
  },
  {
   "cell_type": "code",
   "execution_count": null,
   "metadata": {
    "id": "54571b20",
    "outputId": "737c392b-d659-4522-e130-94bf89a35988"
   },
   "outputs": [],
   "source": [
    "corr_matrix = train_df.corr()\n",
    "corr_matrix[\"Sales\"].sort_values(ascending=False)"
   ]
  },
  {
   "cell_type": "markdown",
   "metadata": {
    "id": "3105b273"
   },
   "source": [
    "# ML Modeling"
   ]
  },
  {
   "cell_type": "markdown",
   "metadata": {},
   "source": [
    "## Initialize The Model "
   ]
  },
  {
   "cell_type": "code",
   "execution_count": null,
   "metadata": {},
   "outputs": [],
   "source": [
    "params = {'n_estimators': 1742,\n",
    "          'min_child_samples': 89,\n",
    "          'n_jobs':-1,\n",
    "          'learning_rate': 0.2723,\n",
    "          'max_depth': -1,  \n",
    "          'subsample': 1,\n",
    "          'colsample_bytree': 0.8,\n",
    "          'reg_alpha': 0.1,\n",
    "          'reg_lambda': 1,\n",
    "          'verbosity': -1}"
   ]
  },
  {
   "cell_type": "code",
   "execution_count": null,
   "metadata": {
    "id": "a2d7474d"
   },
   "outputs": [],
   "source": [
    "#LightGBM Regressor\n",
    "lgbm = LGBMRegressor(**params, random_state=42)"
   ]
  },
  {
   "cell_type": "markdown",
   "metadata": {
    "id": "43b8dce2"
   },
   "source": [
    "## Validation"
   ]
  },
  {
   "cell_type": "code",
   "execution_count": null,
   "metadata": {},
   "outputs": [],
   "source": [
    "#Sort the values to use the last days as a validation set\n",
    "temp = train_df.sort_values([\"Year\",\"Month\",\"Day\"], ignore_index=True).copy()\n",
    "\n",
    "#The same time period as the test set\n",
    "train = temp[:-47000].copy()       \n",
    "vali = temp[-47000:].copy()\n",
    "\n",
    "#Return to the same order as the original dataset\n",
    "train.sort_values([\"Store\"], ignore_index=True, inplace=True)\n",
    "vali.sort_values([\"Store\"], ignore_index=True, inplace=True)\n",
    "train.sort_values([\"Year\",\"Month\",\"Day\"], ascending=False ,ignore_index=True, inplace=True)\n",
    "vali.sort_values([\"Year\",\"Month\",\"Day\"], ascending=False ,ignore_index=True, inplace=True)\n",
    "\n",
    "#Get the target\n",
    "y_test = vali['Sales'].copy()\n",
    "vali.drop('Sales',inplace=True,axis=1)"
   ]
  },
  {
   "cell_type": "code",
   "execution_count": null,
   "metadata": {},
   "outputs": [],
   "source": [
    "#Fit the Model\n",
    "lgbm.fit(train.drop('Sales',axis=1),train['Sales'])\n",
    "y_pred = lgbm.predict(vali)\n",
    "\n",
    "#Use a Correction Factor Because we transformed the target with log(x+1) then reversed it\n",
    "y_pred = y_pred*0.995\n",
    "score = RMSPE(y_test,y_pred)\n",
    "score"
   ]
  },
  {
   "cell_type": "markdown",
   "metadata": {},
   "source": [
    "## Show the Features Importances"
   ]
  },
  {
   "cell_type": "code",
   "execution_count": null,
   "metadata": {},
   "outputs": [],
   "source": [
    "plotImp(lgbm,train.drop('Sales',axis=1))"
   ]
  },
  {
   "cell_type": "markdown",
   "metadata": {},
   "source": [
    "# The Final Model "
   ]
  },
  {
   "cell_type": "markdown",
   "metadata": {},
   "source": [
    "## Prepare the Datasets"
   ]
  },
  {
   "cell_type": "markdown",
   "metadata": {},
   "source": [
    "### We will fit the models with two datasets:"
   ]
  },
  {
   "cell_type": "markdown",
   "metadata": {},
   "source": [
    "### 1- The Full Training Set "
   ]
  },
  {
   "cell_type": "code",
   "execution_count": null,
   "metadata": {},
   "outputs": [],
   "source": [
    "X = train_df.drop('Sales',axis=1)\n",
    "y = train_df['Sales']"
   ]
  },
  {
   "cell_type": "markdown",
   "metadata": {},
   "source": [
    "### 2- A Dataset Consists of Only the Data Between May and September from All The Years"
   ]
  },
  {
   "cell_type": "code",
   "execution_count": null,
   "metadata": {},
   "outputs": [],
   "source": [
    "X_MaySept = train_df[(train_df['Month'] >= 5) & (train_df['Month'] <= 9)]\n",
    "X_MaySept.reset_index(drop=True)\n",
    "y_MaySept = X_MaySept['Sales']\n",
    "X_MaySept = X_MaySept.drop('Sales',axis=1)"
   ]
  },
  {
   "cell_type": "markdown",
   "metadata": {},
   "source": [
    "## Models: Layer 1"
   ]
  },
  {
   "cell_type": "code",
   "execution_count": null,
   "metadata": {},
   "outputs": [],
   "source": [
    "Predictions = pd.DataFrame()"
   ]
  },
  {
   "cell_type": "markdown",
   "metadata": {
    "tags": []
   },
   "source": [
    "### 1- Averaging 15 Models With The Same Hyperparameters but Changing The Seed. "
   ]
  },
  {
   "cell_type": "markdown",
   "metadata": {},
   "source": [
    "### Feed Them with The Full Dataset and Get the Mean, Harmonic Mean and Geometric Mean of The Predictions."
   ]
  },
  {
   "cell_type": "code",
   "execution_count": null,
   "metadata": {},
   "outputs": [],
   "source": [
    "for seed in range(30,46):\n",
    "    lgbm = LGBMRegressor(**params, random_state=seed)\n",
    "    #Transform the target with log(x+1) to make the model able to optimize the loss function properly\n",
    "    llgbm = TransformedTargetRegressor(lgbm, func = np.log1p, inverse_func = np.expm1)\n",
    "    llgbm.fit(X, y)\n",
    "\n",
    "    Predictions[f'Sales_{seed}'] = llgbm.predict(test_df)\n",
    "    Predictions[f'Sales_{seed}'] = Predictions[f'Sales_{seed}'] * 0.995 #Multiply by a Correction Factor\n",
    "\n",
    "Predictions['Mean'] = Predictions.mean(axis=1)\n",
    "Predictions['HMean'] = Predictions.apply(stats.hmean, axis=1)\n",
    "Predictions['GMean'] = Predictions.apply(stats.gmean, axis=1)"
   ]
  },
  {
   "cell_type": "markdown",
   "metadata": {},
   "source": [
    "### 2- Averaging 15 Models With The Same Hyperparameters but Changing The Seed. "
   ]
  },
  {
   "cell_type": "markdown",
   "metadata": {},
   "source": [
    "### Feed Them with The MaySeptember Dataset and Get the Mean, Harmonic Mean and Geometric Mean of The Predictions."
   ]
  },
  {
   "cell_type": "code",
   "execution_count": null,
   "metadata": {},
   "outputs": [],
   "source": [
    "for seed in range(30,46):\n",
    "    lgbm = LGBMRegressor(**params, random_state=seed)\n",
    "    #Transform the target with log(x+1) to make the model able to optimize the loss function properly\n",
    "    llgbm = TransformedTargetRegressor(lgbm, func = np.log1p, inverse_func = np.expm1)\n",
    "    llgbm.fit(X_MaySept, y_MaySept)\n",
    "\n",
    "    Predictions[f'Sales_2_{seed}'] = llgbm.predict(test_df)\n",
    "    Predictions[f'Sales_2_{seed}'] = Predictions[f'Sales_2_{seed}'] * 0.995\n",
    "\n",
    "Predictions['Mean_2'] = Predictions.mean(axis=1)\n",
    "Predictions['HMean_2'] = Predictions.apply(stats.hmean, axis=1)\n",
    "Predictions['GMean_2'] = Predictions.apply(stats.gmean, axis=1)"
   ]
  },
  {
   "cell_type": "markdown",
   "metadata": {},
   "source": [
    "## Models: Layer 2"
   ]
  },
  {
   "cell_type": "markdown",
   "metadata": {},
   "source": [
    "### Get The Harmonic Mean of The Six Predictions "
   ]
  },
  {
   "cell_type": "code",
   "execution_count": null,
   "metadata": {},
   "outputs": [],
   "source": [
    "FinalPred = Predictions[['Mean','HMean','GMean','Mean_2','HMean_2','GMean_2']].apply(stats.hmean,axis=1)"
   ]
  },
  {
   "cell_type": "markdown",
   "metadata": {},
   "source": [
    "## Models: Make The Submission File"
   ]
  },
  {
   "cell_type": "code",
   "execution_count": null,
   "metadata": {},
   "outputs": [],
   "source": [
    "submission = pd.DataFrame({\"Id\": ID ,\"Sales\": FinalPred.values})\n",
    "submission.to_csv('FinalSubmission.csv',index=False) "
   ]
  },
  {
   "cell_type": "markdown",
   "metadata": {},
   "source": [
    "# Public Leaderboard: 0.10448\n",
    "# Private Leaderboard: 0.11323"
   ]
  }
 ],
 "metadata": {
  "kernelspec": {
   "display_name": "Python 3 (ipykernel)",
   "language": "python",
   "name": "python3"
  },
  "language_info": {
   "codemirror_mode": {
    "name": "ipython",
    "version": 3
   },
   "file_extension": ".py",
   "mimetype": "text/x-python",
   "name": "python",
   "nbconvert_exporter": "python",
   "pygments_lexer": "ipython3",
   "version": "3.10.9"
  }
 },
 "nbformat": 4,
 "nbformat_minor": 4
}
