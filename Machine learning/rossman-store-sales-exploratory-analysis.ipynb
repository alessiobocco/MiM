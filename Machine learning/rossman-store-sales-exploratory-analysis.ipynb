{
 "cells": [
  {
   "cell_type": "markdown",
   "id": "48d09e51",
   "metadata": {
    "papermill": {
     "duration": 0.040621,
     "end_time": "2022-11-10T06:20:08.992386",
     "exception": false,
     "start_time": "2022-11-10T06:20:08.951765",
     "status": "completed"
    },
    "tags": []
   },
   "source": [
    "<h1>Table of Contents</h1>"
   ]
  },
  {
   "cell_type": "markdown",
   "id": "20b6b6c8",
   "metadata": {
    "papermill": {
     "duration": 0.034221,
     "end_time": "2022-11-10T06:20:09.062462",
     "exception": false,
     "start_time": "2022-11-10T06:20:09.028241",
     "status": "completed"
    },
    "tags": []
   },
   "source": [
    "<ol style=\"font-weight:bold;\">\n",
    "    <li><a href=\"#1.-Introduction\" style=\"text-decoration: none; color: black;\">Introduction</a></li>\n",
    "    <li><a href=\"#2.-Ethical-Considerations\" style=\"text-decoration: none; color: black;\">Ethical Considerations</a></li>\n",
    "    <li><a href=\"#3.-Variable-explanation\" style=\"text-decoration: none; color: black;\">Variable Explanation</a></li>\n",
    "    <li><a href=\"#4.-Import-and-Reading-the-Data\" style=\"text-decoration: none; color: black;\">Import and Reading the Data</a></li>\n",
    "    <li><a href=\"#5.-Data-Summary\" style=\"text-decoration: none; color: black;\">Data Summary</a></li>\n",
    "    <li><a href=\"#6.-Merging-of-Data-Sources\" style=\"text-decoration: none; color: black;\">Merging of Data Sources</a></li>\n",
    "    <li><a href=\"#7.-Summary-Statistics\" style=\"text-decoration: none; color: black;\">Summary Statistics</a></li>\n",
    "    <li><a href=\"#8.-Data-cleaning\" style=\"text-decoration: none; color: black;\">Data Cleaning</a></li>\n",
    "        <ul>\n",
    "            <li><a href=\"#Datetime\" style=\"text-decoration: none; color: black;\">Datetime</a></li>\n",
    "            <li><a href=\"#Duplicates\" style=\"text-decoration: none; color: black;\">Duplicates</a></li>\n",
    "            <li><a href=\"#Text-and-Expected-Values\" style=\"text-decoration: none; color: black;\">Text and Expected Values</a></li>\n",
    "            <li><a href=\"#Removing-Rows-and-Columns\" style=\"text-decoration: none; color: black;\">Removing Rows and Columns</a></li>\n",
    "            <li><a href=\"#Outliers\" style=\"text-decoration: none; color: black;\">Outliers</a></li>\n",
    "            <li><a href=\"#Sales-Outliers\" style=\"text-decoration: none; color: black;\">Sales Outliers</a></li>\n",
    "            <li><a href=\"#Customer-Outliers\" style=\"text-decoration: none; color: black;\">Customer Outliers</a></li>\n",
    "            <li><a href=\"#Missing-Values\" style=\"text-decoration: none; color: black;\">Missing Values</a></li>\n",
    "            <li><a href=\"#Adding-an-UPT-Column\" style=\"text-decoration: none; color: black;\">Adding an UPT Column</a></li>\n",
    "            <li><a href=\"#Review-of-Summary-Statistics-Post-Cleaning\" style=\"text-decoration: none; color: black;\">Review of Summary Statistics Post Cleaning</a></li>\n",
    "        </ul>\n",
    "    <li><a href=\"#9.--Exploratory-Insights\" style=\"text-decoration: none; color: black;\">Exploratory Insights</a></li>\n",
    "    <li><a href=\"#10.-Conclusion\" style=\"text-decoration: none; color: black;\">Conclusion</a></li>\n",
    "    <li><a href=\"#References\" style=\"text-decoration: none; color: black;\">References</a></li>\n",
    "    \n",
    "    \n",
    "</ol>"
   ]
  },
  {
   "cell_type": "markdown",
   "id": "12ffe654",
   "metadata": {
    "papermill": {
     "duration": 0.033033,
     "end_time": "2022-11-10T06:20:09.129300",
     "exception": false,
     "start_time": "2022-11-10T06:20:09.096267",
     "status": "completed"
    },
    "tags": []
   },
   "source": [
    "<h1 style=\"background-color:#548984; color: #FFFFFF; padding: 15px;\">1. Introduction</h1>"
   ]
  },
  {
   "cell_type": "markdown",
   "id": "8e1ac81a",
   "metadata": {
    "papermill": {
     "duration": 0.034915,
     "end_time": "2022-11-10T06:20:09.198702",
     "exception": false,
     "start_time": "2022-11-10T06:20:09.163787",
     "status": "completed"
    },
    "tags": []
   },
   "source": [
    "This report looks at store and sales data for Rossmann drug stores, a large drug store chain that operates several thousand stores all across Europe (Rossmann Store Sales, 2015). It looks at data covering more than a thousand stores, with information ranging from store model, distance from competitor stores, to promos currently running. It also looks at the number of customers and number of sales for each store on a daily level over a period of more than two and a half years. Throughout the report we’ll merge, clean, and wrangle this data so we can easily filter down to look for trends in sales and customer numbers across different types of stores and over different time periods. Through this exploratory analysis we hope to identify trends across all stores and across stores based on their unique characteristics, with the hope of using said trends to be able to predict future sales. "
   ]
  },
  {
   "cell_type": "markdown",
   "id": "8f8f10a9",
   "metadata": {
    "papermill": {
     "duration": 0.032966,
     "end_time": "2022-11-10T06:20:09.265328",
     "exception": false,
     "start_time": "2022-11-10T06:20:09.232362",
     "status": "completed"
    },
    "tags": []
   },
   "source": [
    "---"
   ]
  },
  {
   "cell_type": "markdown",
   "id": "4bad85fa",
   "metadata": {
    "papermill": {
     "duration": 0.034875,
     "end_time": "2022-11-10T06:20:09.333653",
     "exception": false,
     "start_time": "2022-11-10T06:20:09.298778",
     "status": "completed"
    },
    "tags": []
   },
   "source": [
    "<h1 style=\"background-color:#548984; color: #FFFFFF; padding: 15px;\">2. Ethical Considerations</h1>"
   ]
  },
  {
   "cell_type": "markdown",
   "id": "173b974b",
   "metadata": {
    "papermill": {
     "duration": 0.033182,
     "end_time": "2022-11-10T06:20:09.401877",
     "exception": false,
     "start_time": "2022-11-10T06:20:09.368695",
     "status": "completed"
    },
    "tags": []
   },
   "source": [
    "This data has been provided by the Rossman company and used within the provided rules on their Kaggle competition page for an exploratory analysis (Rossmann Store Sales, 2015). There is no personal identifiable information (PII) in this data set."
   ]
  },
  {
   "cell_type": "markdown",
   "id": "cb04859d",
   "metadata": {
    "papermill": {
     "duration": 0.035103,
     "end_time": "2022-11-10T06:20:09.476400",
     "exception": false,
     "start_time": "2022-11-10T06:20:09.441297",
     "status": "completed"
    },
    "tags": []
   },
   "source": [
    "---"
   ]
  },
  {
   "cell_type": "markdown",
   "id": "0c4dd405",
   "metadata": {
    "papermill": {
     "duration": 0.033251,
     "end_time": "2022-11-10T06:20:09.544464",
     "exception": false,
     "start_time": "2022-11-10T06:20:09.511213",
     "status": "completed"
    },
    "tags": []
   },
   "source": [
    "<h1 style=\"background-color:#548984; color: #FFFFFF; padding: 15px;\">3. Variable explanation</h1>"
   ]
  },
  {
   "cell_type": "markdown",
   "id": "c052dd87",
   "metadata": {
    "papermill": {
     "duration": 0.032919,
     "end_time": "2022-11-10T06:20:09.610865",
     "exception": false,
     "start_time": "2022-11-10T06:20:09.577946",
     "status": "completed"
    },
    "tags": []
   },
   "source": [
    "Most of the fields are self-explanatory. The following are descriptions for those that aren't.\n",
    "\n",
    "\n",
    "* **Store** - <span style=\"color:#3399ff;\">**(nominal)**</span> a unique ID for each store\n",
    "* **Sales** - <span style=\"color:#2ac09e;\">**(discrete)**</span> the number of transactions recorded at the store that day\n",
    "* **Customers** - <span style=\"color:#2ac09e;\">**(discrete)**</span> the number of customers on a given day\n",
    "* **Open** - <span style=\"color:#3399ff;\">**(nominal)**</span> an indicator for whether the store was open: 0 = closed, 1 = open\n",
    "* **StateHoliday** - <span style=\"color:#3399ff;\">**(nominal)**</span> indicates a state holiday. Normally all stores, with few exceptions, are closed on state holidays. Note that all schools are closed on public holidays and weekends. a = public holiday, b = Easter holiday, c = Christmas, 0 = None\n",
    "* **SchoolHoliday** - <span style=\"color:#3399ff;\">**(nominal)**</span> indicates if the (Store, Date) was affected by the closure of public schools\n",
    "* **StoreType** - <span style=\"color:#3399ff;\">**(nominal)**</span> differentiates between 4 different store models: a, b, c, d\n",
    "* **Assortment** - <span style=\"color:#3399ff;\">**(nominal)**</span> describes an assortment level: a = basic, b = extra, c = extended\n",
    "* **CompetitionDistance** - <span style=\"color:#e8a151;\">**(continuous)**</span> distance in meters to the nearest competitor store\n",
    "* **CompetitionOpenSince[Month/Year]** <span style=\"color:#2ac09e;\">**(discrete)**</span> gives the approximate year and month of the time the nearest competitor store was opened\n",
    "* **Promo** - <span style=\"color:#3399ff;\">**(nominal)**</span> indicates whether a store is running a promo on that day\n",
    "* **Promo2** - <span style=\"color:#3399ff;\">**(nominal)**</span> Promo2 is a continuing and consecutive promotion for some stores: 0 = store is not participating, 1 = store is participating\n",
    "* **Promo2Since[Year/Week]** - <span style=\"color:#2ac09e;\">**(discrete)**</span> describes the year and calendar week when the store started participating in Promo2\n",
    "* **PromoInterval** - <span style=\"color:#b47cdb;\">**(ordinal)**</span> describes the consecutive intervals Promo2 is started, naming the months the promotion is started anew. E.g. \"Feb,May,Aug,Nov\" means each round starts in February, May, August, November of any given year for that store\n",
    "* **DayOfWeek** - <span style=\"color:#b47cdb;\">**(ordinal)**</span> Day of the week, using 1-7 for Monday - Sunday respectively\n",
    "* **Date** - <span style=\"color:#df7394;\">**Date**</span> in YYYY-MM-DD\n",
    "\n",
    "* **UPT** - <span style=\"color:#e8a151;\">**(continuous)**</span> Units Per Transaction, a calculated measure of the average number of items sold per transaction on a given day at a given store\n",
    "\n",
    "(Rossmann Store Sales, 2015)"
   ]
  },
  {
   "cell_type": "markdown",
   "id": "12a526a3",
   "metadata": {
    "papermill": {
     "duration": 0.032908,
     "end_time": "2022-11-10T06:20:09.677201",
     "exception": false,
     "start_time": "2022-11-10T06:20:09.644293",
     "status": "completed"
    },
    "tags": []
   },
   "source": [
    "---"
   ]
  },
  {
   "cell_type": "markdown",
   "id": "b3a5f68d",
   "metadata": {
    "papermill": {
     "duration": 0.033803,
     "end_time": "2022-11-10T06:20:09.744503",
     "exception": false,
     "start_time": "2022-11-10T06:20:09.710700",
     "status": "completed"
    },
    "tags": []
   },
   "source": [
    "<h1 style=\"background-color:#548984; color: #FFFFFF; padding: 15px;\">4. Import and Reading the Data</h1>"
   ]
  },
  {
   "cell_type": "markdown",
   "id": "f19d4e5c",
   "metadata": {
    "papermill": {
     "duration": 0.033278,
     "end_time": "2022-11-10T06:20:09.811266",
     "exception": false,
     "start_time": "2022-11-10T06:20:09.777988",
     "status": "completed"
    },
    "tags": []
   },
   "source": [
    "We'll begin with importing the required libraries and reading our .csv files."
   ]
  },
  {
   "cell_type": "code",
   "execution_count": 1,
   "id": "e22b3881",
   "metadata": {
    "execution": {
     "iopub.execute_input": "2022-11-10T06:20:09.880975Z",
     "iopub.status.busy": "2022-11-10T06:20:09.879926Z",
     "iopub.status.idle": "2022-11-10T06:20:11.117991Z",
     "shell.execute_reply": "2022-11-10T06:20:11.116459Z"
    },
    "papermill": {
     "duration": 1.277111,
     "end_time": "2022-11-10T06:20:11.121679",
     "exception": false,
     "start_time": "2022-11-10T06:20:09.844568",
     "status": "completed"
    },
    "tags": []
   },
   "outputs": [],
   "source": [
    "import numpy as np\n",
    "import pandas as pd\n",
    "import datetime as dt\n",
    "import matplotlib.pyplot as plt\n",
    "import seaborn as sns"
   ]
  },
  {
   "cell_type": "code",
   "execution_count": 2,
   "id": "ff99e660",
   "metadata": {
    "execution": {
     "iopub.execute_input": "2022-11-10T06:20:11.194199Z",
     "iopub.status.busy": "2022-11-10T06:20:11.193599Z",
     "iopub.status.idle": "2022-11-10T06:20:11.221760Z",
     "shell.execute_reply": "2022-11-10T06:20:11.220654Z"
    },
    "papermill": {
     "duration": 0.068222,
     "end_time": "2022-11-10T06:20:11.224803",
     "exception": false,
     "start_time": "2022-11-10T06:20:11.156581",
     "status": "completed"
    },
    "tags": []
   },
   "outputs": [],
   "source": [
    "stores_lookup = pd.read_csv('../input/rossmann-store-sales/store.csv')\n"
   ]
  },
  {
   "cell_type": "code",
   "execution_count": 3,
   "id": "41638d53",
   "metadata": {
    "execution": {
     "iopub.execute_input": "2022-11-10T06:20:11.297924Z",
     "iopub.status.busy": "2022-11-10T06:20:11.296993Z",
     "iopub.status.idle": "2022-11-10T06:20:12.557162Z",
     "shell.execute_reply": "2022-11-10T06:20:12.555732Z"
    },
    "papermill": {
     "duration": 1.301105,
     "end_time": "2022-11-10T06:20:12.560801",
     "exception": false,
     "start_time": "2022-11-10T06:20:11.259696",
     "status": "completed"
    },
    "tags": []
   },
   "outputs": [],
   "source": [
    "sales_data = pd.read_csv('../input/rossmann-store-sales/train.csv', low_memory=False)\n"
   ]
  },
  {
   "cell_type": "markdown",
   "id": "2b9ecbe4",
   "metadata": {
    "papermill": {
     "duration": 0.033347,
     "end_time": "2022-11-10T06:20:12.628037",
     "exception": false,
     "start_time": "2022-11-10T06:20:12.594690",
     "status": "completed"
    },
    "tags": []
   },
   "source": [
    "---"
   ]
  },
  {
   "cell_type": "markdown",
   "id": "0e6ffb72",
   "metadata": {
    "papermill": {
     "duration": 0.032921,
     "end_time": "2022-11-10T06:20:12.695135",
     "exception": false,
     "start_time": "2022-11-10T06:20:12.662214",
     "status": "completed"
    },
    "tags": []
   },
   "source": [
    "<h1 style=\"background-color:#548984; color: #FFFFFF; padding: 15px;\">5. Data Summary</h1>"
   ]
  },
  {
   "cell_type": "markdown",
   "id": "40aa1205",
   "metadata": {
    "papermill": {
     "duration": 0.034042,
     "end_time": "2022-11-10T06:20:12.764575",
     "exception": false,
     "start_time": "2022-11-10T06:20:12.730533",
     "status": "completed"
    },
    "tags": []
   },
   "source": [
    "The **stores_lookup** table has 10 columns and 1,115 rows. It has a primary key *Store* that has a unique integer for each of the 1,115 stores. It gives us static information about each store such as the model and assortment of the store, information about the nearest competitor store, and whether or not they participate in the consecutive promotion \"Promo2\". Largely we're looking at numerical and date data, but *Store Type* and *Assortment* are flagged with letters to indicate store models and assorment level, per the variable explanations, as well as  the *PromoInterval* column listing abbreviated months. "
   ]
  },
  {
   "cell_type": "code",
   "execution_count": 4,
   "id": "f62c3dde",
   "metadata": {
    "execution": {
     "iopub.execute_input": "2022-11-10T06:20:12.834277Z",
     "iopub.status.busy": "2022-11-10T06:20:12.833823Z",
     "iopub.status.idle": "2022-11-10T06:20:12.861495Z",
     "shell.execute_reply": "2022-11-10T06:20:12.860242Z"
    },
    "papermill": {
     "duration": 0.066287,
     "end_time": "2022-11-10T06:20:12.864811",
     "exception": false,
     "start_time": "2022-11-10T06:20:12.798524",
     "status": "completed"
    },
    "tags": []
   },
   "outputs": [
    {
     "data": {
      "text/html": [
       "<div>\n",
       "<style scoped>\n",
       "    .dataframe tbody tr th:only-of-type {\n",
       "        vertical-align: middle;\n",
       "    }\n",
       "\n",
       "    .dataframe tbody tr th {\n",
       "        vertical-align: top;\n",
       "    }\n",
       "\n",
       "    .dataframe thead th {\n",
       "        text-align: right;\n",
       "    }\n",
       "</style>\n",
       "<table border=\"1\" class=\"dataframe\">\n",
       "  <thead>\n",
       "    <tr style=\"text-align: right;\">\n",
       "      <th></th>\n",
       "      <th>Store</th>\n",
       "      <th>StoreType</th>\n",
       "      <th>Assortment</th>\n",
       "      <th>CompetitionDistance</th>\n",
       "      <th>CompetitionOpenSinceMonth</th>\n",
       "      <th>CompetitionOpenSinceYear</th>\n",
       "      <th>Promo2</th>\n",
       "      <th>Promo2SinceWeek</th>\n",
       "      <th>Promo2SinceYear</th>\n",
       "      <th>PromoInterval</th>\n",
       "    </tr>\n",
       "  </thead>\n",
       "  <tbody>\n",
       "    <tr>\n",
       "      <th>0</th>\n",
       "      <td>1</td>\n",
       "      <td>c</td>\n",
       "      <td>a</td>\n",
       "      <td>1270.0</td>\n",
       "      <td>9.0</td>\n",
       "      <td>2008.0</td>\n",
       "      <td>0</td>\n",
       "      <td>NaN</td>\n",
       "      <td>NaN</td>\n",
       "      <td>NaN</td>\n",
       "    </tr>\n",
       "    <tr>\n",
       "      <th>1</th>\n",
       "      <td>2</td>\n",
       "      <td>a</td>\n",
       "      <td>a</td>\n",
       "      <td>570.0</td>\n",
       "      <td>11.0</td>\n",
       "      <td>2007.0</td>\n",
       "      <td>1</td>\n",
       "      <td>13.0</td>\n",
       "      <td>2010.0</td>\n",
       "      <td>Jan,Apr,Jul,Oct</td>\n",
       "    </tr>\n",
       "    <tr>\n",
       "      <th>2</th>\n",
       "      <td>3</td>\n",
       "      <td>a</td>\n",
       "      <td>a</td>\n",
       "      <td>14130.0</td>\n",
       "      <td>12.0</td>\n",
       "      <td>2006.0</td>\n",
       "      <td>1</td>\n",
       "      <td>14.0</td>\n",
       "      <td>2011.0</td>\n",
       "      <td>Jan,Apr,Jul,Oct</td>\n",
       "    </tr>\n",
       "    <tr>\n",
       "      <th>3</th>\n",
       "      <td>4</td>\n",
       "      <td>c</td>\n",
       "      <td>c</td>\n",
       "      <td>620.0</td>\n",
       "      <td>9.0</td>\n",
       "      <td>2009.0</td>\n",
       "      <td>0</td>\n",
       "      <td>NaN</td>\n",
       "      <td>NaN</td>\n",
       "      <td>NaN</td>\n",
       "    </tr>\n",
       "    <tr>\n",
       "      <th>4</th>\n",
       "      <td>5</td>\n",
       "      <td>a</td>\n",
       "      <td>a</td>\n",
       "      <td>29910.0</td>\n",
       "      <td>4.0</td>\n",
       "      <td>2015.0</td>\n",
       "      <td>0</td>\n",
       "      <td>NaN</td>\n",
       "      <td>NaN</td>\n",
       "      <td>NaN</td>\n",
       "    </tr>\n",
       "  </tbody>\n",
       "</table>\n",
       "</div>"
      ],
      "text/plain": [
       "   Store StoreType Assortment  CompetitionDistance  CompetitionOpenSinceMonth  \\\n",
       "0      1         c          a               1270.0                        9.0   \n",
       "1      2         a          a                570.0                       11.0   \n",
       "2      3         a          a              14130.0                       12.0   \n",
       "3      4         c          c                620.0                        9.0   \n",
       "4      5         a          a              29910.0                        4.0   \n",
       "\n",
       "   CompetitionOpenSinceYear  Promo2  Promo2SinceWeek  Promo2SinceYear  \\\n",
       "0                    2008.0       0              NaN              NaN   \n",
       "1                    2007.0       1             13.0           2010.0   \n",
       "2                    2006.0       1             14.0           2011.0   \n",
       "3                    2009.0       0              NaN              NaN   \n",
       "4                    2015.0       0              NaN              NaN   \n",
       "\n",
       "     PromoInterval  \n",
       "0              NaN  \n",
       "1  Jan,Apr,Jul,Oct  \n",
       "2  Jan,Apr,Jul,Oct  \n",
       "3              NaN  \n",
       "4              NaN  "
      ]
     },
     "execution_count": 4,
     "metadata": {},
     "output_type": "execute_result"
    }
   ],
   "source": [
    "stores_lookup.head()"
   ]
  },
  {
   "cell_type": "code",
   "execution_count": 5,
   "id": "f5e06900",
   "metadata": {
    "execution": {
     "iopub.execute_input": "2022-11-10T06:20:12.935854Z",
     "iopub.status.busy": "2022-11-10T06:20:12.935202Z",
     "iopub.status.idle": "2022-11-10T06:20:12.942714Z",
     "shell.execute_reply": "2022-11-10T06:20:12.941425Z"
    },
    "papermill": {
     "duration": 0.045801,
     "end_time": "2022-11-10T06:20:12.944964",
     "exception": false,
     "start_time": "2022-11-10T06:20:12.899163",
     "status": "completed"
    },
    "scrolled": true,
    "tags": []
   },
   "outputs": [
    {
     "data": {
      "text/plain": [
       "(1115, 10)"
      ]
     },
     "execution_count": 5,
     "metadata": {},
     "output_type": "execute_result"
    }
   ],
   "source": [
    "stores_lookup.shape"
   ]
  },
  {
   "cell_type": "code",
   "execution_count": 6,
   "id": "b9c5dd35",
   "metadata": {
    "execution": {
     "iopub.execute_input": "2022-11-10T06:20:13.014846Z",
     "iopub.status.busy": "2022-11-10T06:20:13.014230Z",
     "iopub.status.idle": "2022-11-10T06:20:13.041637Z",
     "shell.execute_reply": "2022-11-10T06:20:13.040202Z"
    },
    "papermill": {
     "duration": 0.065187,
     "end_time": "2022-11-10T06:20:13.044118",
     "exception": false,
     "start_time": "2022-11-10T06:20:12.978931",
     "status": "completed"
    },
    "scrolled": true,
    "tags": []
   },
   "outputs": [
    {
     "name": "stdout",
     "output_type": "stream",
     "text": [
      "<class 'pandas.core.frame.DataFrame'>\n",
      "RangeIndex: 1115 entries, 0 to 1114\n",
      "Data columns (total 10 columns):\n",
      " #   Column                     Non-Null Count  Dtype  \n",
      "---  ------                     --------------  -----  \n",
      " 0   Store                      1115 non-null   int64  \n",
      " 1   StoreType                  1115 non-null   object \n",
      " 2   Assortment                 1115 non-null   object \n",
      " 3   CompetitionDistance        1112 non-null   float64\n",
      " 4   CompetitionOpenSinceMonth  761 non-null    float64\n",
      " 5   CompetitionOpenSinceYear   761 non-null    float64\n",
      " 6   Promo2                     1115 non-null   int64  \n",
      " 7   Promo2SinceWeek            571 non-null    float64\n",
      " 8   Promo2SinceYear            571 non-null    float64\n",
      " 9   PromoInterval              571 non-null    object \n",
      "dtypes: float64(5), int64(2), object(3)\n",
      "memory usage: 87.2+ KB\n"
     ]
    }
   ],
   "source": [
    "stores_lookup.info()"
   ]
  },
  {
   "cell_type": "markdown",
   "id": "daeafb9b",
   "metadata": {
    "papermill": {
     "duration": 0.035081,
     "end_time": "2022-11-10T06:20:13.113604",
     "exception": false,
     "start_time": "2022-11-10T06:20:13.078523",
     "status": "completed"
    },
    "tags": []
   },
   "source": [
    "---"
   ]
  },
  {
   "cell_type": "markdown",
   "id": "7eb04fd9",
   "metadata": {
    "papermill": {
     "duration": 0.033719,
     "end_time": "2022-11-10T06:20:13.182351",
     "exception": false,
     "start_time": "2022-11-10T06:20:13.148632",
     "status": "completed"
    },
    "tags": []
   },
   "source": [
    "The **sales_data** table has 9 columns and 1,017,209 rows. Rather than have a unique primary key, it lists number of sales and customers for each store for each day from Jan 01, 2013 through July 31, 2015. It almost entirely numerical or date data, including the use of binary flags to indicate if the store was open, running a promo, and if it was a school holiday. The *StateHoliday* column is an exception in that it uses a binary flag 0 if there was no state holiday, but a letter 'a'-'c' to list the type of holiday if there was one. "
   ]
  },
  {
   "cell_type": "code",
   "execution_count": 7,
   "id": "47c5e200",
   "metadata": {
    "execution": {
     "iopub.execute_input": "2022-11-10T06:20:13.254020Z",
     "iopub.status.busy": "2022-11-10T06:20:13.253363Z",
     "iopub.status.idle": "2022-11-10T06:20:13.267766Z",
     "shell.execute_reply": "2022-11-10T06:20:13.266636Z"
    },
    "papermill": {
     "duration": 0.053985,
     "end_time": "2022-11-10T06:20:13.270296",
     "exception": false,
     "start_time": "2022-11-10T06:20:13.216311",
     "status": "completed"
    },
    "scrolled": true,
    "tags": []
   },
   "outputs": [
    {
     "data": {
      "text/html": [
       "<div>\n",
       "<style scoped>\n",
       "    .dataframe tbody tr th:only-of-type {\n",
       "        vertical-align: middle;\n",
       "    }\n",
       "\n",
       "    .dataframe tbody tr th {\n",
       "        vertical-align: top;\n",
       "    }\n",
       "\n",
       "    .dataframe thead th {\n",
       "        text-align: right;\n",
       "    }\n",
       "</style>\n",
       "<table border=\"1\" class=\"dataframe\">\n",
       "  <thead>\n",
       "    <tr style=\"text-align: right;\">\n",
       "      <th></th>\n",
       "      <th>Store</th>\n",
       "      <th>DayOfWeek</th>\n",
       "      <th>Date</th>\n",
       "      <th>Sales</th>\n",
       "      <th>Customers</th>\n",
       "      <th>Open</th>\n",
       "      <th>Promo</th>\n",
       "      <th>StateHoliday</th>\n",
       "      <th>SchoolHoliday</th>\n",
       "    </tr>\n",
       "  </thead>\n",
       "  <tbody>\n",
       "    <tr>\n",
       "      <th>0</th>\n",
       "      <td>1</td>\n",
       "      <td>5</td>\n",
       "      <td>2015-07-31</td>\n",
       "      <td>5263</td>\n",
       "      <td>555</td>\n",
       "      <td>1</td>\n",
       "      <td>1</td>\n",
       "      <td>0</td>\n",
       "      <td>1</td>\n",
       "    </tr>\n",
       "    <tr>\n",
       "      <th>1</th>\n",
       "      <td>2</td>\n",
       "      <td>5</td>\n",
       "      <td>2015-07-31</td>\n",
       "      <td>6064</td>\n",
       "      <td>625</td>\n",
       "      <td>1</td>\n",
       "      <td>1</td>\n",
       "      <td>0</td>\n",
       "      <td>1</td>\n",
       "    </tr>\n",
       "    <tr>\n",
       "      <th>2</th>\n",
       "      <td>3</td>\n",
       "      <td>5</td>\n",
       "      <td>2015-07-31</td>\n",
       "      <td>8314</td>\n",
       "      <td>821</td>\n",
       "      <td>1</td>\n",
       "      <td>1</td>\n",
       "      <td>0</td>\n",
       "      <td>1</td>\n",
       "    </tr>\n",
       "    <tr>\n",
       "      <th>3</th>\n",
       "      <td>4</td>\n",
       "      <td>5</td>\n",
       "      <td>2015-07-31</td>\n",
       "      <td>13995</td>\n",
       "      <td>1498</td>\n",
       "      <td>1</td>\n",
       "      <td>1</td>\n",
       "      <td>0</td>\n",
       "      <td>1</td>\n",
       "    </tr>\n",
       "    <tr>\n",
       "      <th>4</th>\n",
       "      <td>5</td>\n",
       "      <td>5</td>\n",
       "      <td>2015-07-31</td>\n",
       "      <td>4822</td>\n",
       "      <td>559</td>\n",
       "      <td>1</td>\n",
       "      <td>1</td>\n",
       "      <td>0</td>\n",
       "      <td>1</td>\n",
       "    </tr>\n",
       "    <tr>\n",
       "      <th>5</th>\n",
       "      <td>6</td>\n",
       "      <td>5</td>\n",
       "      <td>2015-07-31</td>\n",
       "      <td>5651</td>\n",
       "      <td>589</td>\n",
       "      <td>1</td>\n",
       "      <td>1</td>\n",
       "      <td>0</td>\n",
       "      <td>1</td>\n",
       "    </tr>\n",
       "    <tr>\n",
       "      <th>6</th>\n",
       "      <td>7</td>\n",
       "      <td>5</td>\n",
       "      <td>2015-07-31</td>\n",
       "      <td>15344</td>\n",
       "      <td>1414</td>\n",
       "      <td>1</td>\n",
       "      <td>1</td>\n",
       "      <td>0</td>\n",
       "      <td>1</td>\n",
       "    </tr>\n",
       "    <tr>\n",
       "      <th>7</th>\n",
       "      <td>8</td>\n",
       "      <td>5</td>\n",
       "      <td>2015-07-31</td>\n",
       "      <td>8492</td>\n",
       "      <td>833</td>\n",
       "      <td>1</td>\n",
       "      <td>1</td>\n",
       "      <td>0</td>\n",
       "      <td>1</td>\n",
       "    </tr>\n",
       "    <tr>\n",
       "      <th>8</th>\n",
       "      <td>9</td>\n",
       "      <td>5</td>\n",
       "      <td>2015-07-31</td>\n",
       "      <td>8565</td>\n",
       "      <td>687</td>\n",
       "      <td>1</td>\n",
       "      <td>1</td>\n",
       "      <td>0</td>\n",
       "      <td>1</td>\n",
       "    </tr>\n",
       "    <tr>\n",
       "      <th>9</th>\n",
       "      <td>10</td>\n",
       "      <td>5</td>\n",
       "      <td>2015-07-31</td>\n",
       "      <td>7185</td>\n",
       "      <td>681</td>\n",
       "      <td>1</td>\n",
       "      <td>1</td>\n",
       "      <td>0</td>\n",
       "      <td>1</td>\n",
       "    </tr>\n",
       "  </tbody>\n",
       "</table>\n",
       "</div>"
      ],
      "text/plain": [
       "   Store  DayOfWeek        Date  Sales  Customers  Open  Promo StateHoliday  \\\n",
       "0      1          5  2015-07-31   5263        555     1      1            0   \n",
       "1      2          5  2015-07-31   6064        625     1      1            0   \n",
       "2      3          5  2015-07-31   8314        821     1      1            0   \n",
       "3      4          5  2015-07-31  13995       1498     1      1            0   \n",
       "4      5          5  2015-07-31   4822        559     1      1            0   \n",
       "5      6          5  2015-07-31   5651        589     1      1            0   \n",
       "6      7          5  2015-07-31  15344       1414     1      1            0   \n",
       "7      8          5  2015-07-31   8492        833     1      1            0   \n",
       "8      9          5  2015-07-31   8565        687     1      1            0   \n",
       "9     10          5  2015-07-31   7185        681     1      1            0   \n",
       "\n",
       "   SchoolHoliday  \n",
       "0              1  \n",
       "1              1  \n",
       "2              1  \n",
       "3              1  \n",
       "4              1  \n",
       "5              1  \n",
       "6              1  \n",
       "7              1  \n",
       "8              1  \n",
       "9              1  "
      ]
     },
     "execution_count": 7,
     "metadata": {},
     "output_type": "execute_result"
    }
   ],
   "source": [
    "sales_data.head(10)"
   ]
  },
  {
   "cell_type": "code",
   "execution_count": 8,
   "id": "5de7600e",
   "metadata": {
    "execution": {
     "iopub.execute_input": "2022-11-10T06:20:13.341879Z",
     "iopub.status.busy": "2022-11-10T06:20:13.341102Z",
     "iopub.status.idle": "2022-11-10T06:20:13.347163Z",
     "shell.execute_reply": "2022-11-10T06:20:13.346342Z"
    },
    "papermill": {
     "duration": 0.044257,
     "end_time": "2022-11-10T06:20:13.349285",
     "exception": false,
     "start_time": "2022-11-10T06:20:13.305028",
     "status": "completed"
    },
    "scrolled": true,
    "tags": []
   },
   "outputs": [
    {
     "data": {
      "text/plain": [
       "(1017209, 9)"
      ]
     },
     "execution_count": 8,
     "metadata": {},
     "output_type": "execute_result"
    }
   ],
   "source": [
    "sales_data.shape"
   ]
  },
  {
   "cell_type": "code",
   "execution_count": 9,
   "id": "236e9ca3",
   "metadata": {
    "execution": {
     "iopub.execute_input": "2022-11-10T06:20:13.421275Z",
     "iopub.status.busy": "2022-11-10T06:20:13.419842Z",
     "iopub.status.idle": "2022-11-10T06:20:13.536465Z",
     "shell.execute_reply": "2022-11-10T06:20:13.535427Z"
    },
    "papermill": {
     "duration": 0.15564,
     "end_time": "2022-11-10T06:20:13.539369",
     "exception": false,
     "start_time": "2022-11-10T06:20:13.383729",
     "status": "completed"
    },
    "tags": []
   },
   "outputs": [
    {
     "name": "stdout",
     "output_type": "stream",
     "text": [
      "<class 'pandas.core.frame.DataFrame'>\n",
      "RangeIndex: 1017209 entries, 0 to 1017208\n",
      "Data columns (total 9 columns):\n",
      " #   Column         Non-Null Count    Dtype \n",
      "---  ------         --------------    ----- \n",
      " 0   Store          1017209 non-null  int64 \n",
      " 1   DayOfWeek      1017209 non-null  int64 \n",
      " 2   Date           1017209 non-null  object\n",
      " 3   Sales          1017209 non-null  int64 \n",
      " 4   Customers      1017209 non-null  int64 \n",
      " 5   Open           1017209 non-null  int64 \n",
      " 6   Promo          1017209 non-null  int64 \n",
      " 7   StateHoliday   1017209 non-null  object\n",
      " 8   SchoolHoliday  1017209 non-null  int64 \n",
      "dtypes: int64(7), object(2)\n",
      "memory usage: 69.8+ MB\n"
     ]
    }
   ],
   "source": [
    "sales_data.info()"
   ]
  },
  {
   "cell_type": "code",
   "execution_count": 10,
   "id": "4621e74f",
   "metadata": {
    "execution": {
     "iopub.execute_input": "2022-11-10T06:20:13.611640Z",
     "iopub.status.busy": "2022-11-10T06:20:13.611198Z",
     "iopub.status.idle": "2022-11-10T06:20:13.749300Z",
     "shell.execute_reply": "2022-11-10T06:20:13.747806Z"
    },
    "papermill": {
     "duration": 0.177736,
     "end_time": "2022-11-10T06:20:13.752552",
     "exception": false,
     "start_time": "2022-11-10T06:20:13.574816",
     "status": "completed"
    },
    "tags": []
   },
   "outputs": [
    {
     "name": "stdout",
     "output_type": "stream",
     "text": [
      "2013-01-01\n",
      "2015-07-31\n"
     ]
    }
   ],
   "source": [
    "print(sales_data[\"Date\"].min())\n",
    "print(sales_data[\"Date\"].max())"
   ]
  },
  {
   "cell_type": "markdown",
   "id": "63c8791d",
   "metadata": {
    "papermill": {
     "duration": 0.034624,
     "end_time": "2022-11-10T06:20:13.822585",
     "exception": false,
     "start_time": "2022-11-10T06:20:13.787961",
     "status": "completed"
    },
    "tags": []
   },
   "source": [
    "---"
   ]
  },
  {
   "cell_type": "markdown",
   "id": "89668e8c",
   "metadata": {
    "papermill": {
     "duration": 0.034586,
     "end_time": "2022-11-10T06:20:13.891755",
     "exception": false,
     "start_time": "2022-11-10T06:20:13.857169",
     "status": "completed"
    },
    "tags": []
   },
   "source": [
    "<h1 style=\"background-color:#548984; color: #FFFFFF; padding: 15px;\">6. Merging of Data Sources</h1>"
   ]
  },
  {
   "cell_type": "markdown",
   "id": "e613a527",
   "metadata": {
    "papermill": {
     "duration": 0.034509,
     "end_time": "2022-11-10T06:20:13.962613",
     "exception": false,
     "start_time": "2022-11-10T06:20:13.928104",
     "status": "completed"
    },
    "tags": []
   },
   "source": [
    "Next we will merge both tables into one so we can more easily work with them. We will join the tables based on the shared Store column, which is a foreign key in the *sales_data* table and a primary key in the *stores_lookup* table, so we'll validate the merge based on this many-to-one relationship."
   ]
  },
  {
   "cell_type": "code",
   "execution_count": 11,
   "id": "95af6dae",
   "metadata": {
    "execution": {
     "iopub.execute_input": "2022-11-10T06:20:14.038869Z",
     "iopub.status.busy": "2022-11-10T06:20:14.038431Z",
     "iopub.status.idle": "2022-11-10T06:20:14.707305Z",
     "shell.execute_reply": "2022-11-10T06:20:14.706240Z"
    },
    "papermill": {
     "duration": 0.711965,
     "end_time": "2022-11-10T06:20:14.710265",
     "exception": false,
     "start_time": "2022-11-10T06:20:13.998300",
     "status": "completed"
    },
    "tags": []
   },
   "outputs": [],
   "source": [
    "merged_sales = sales_data.merge(stores_lookup, how='left', on=\"Store\", validate=\"many_to_one\")"
   ]
  },
  {
   "cell_type": "code",
   "execution_count": 12,
   "id": "0c402908",
   "metadata": {
    "execution": {
     "iopub.execute_input": "2022-11-10T06:20:14.782298Z",
     "iopub.status.busy": "2022-11-10T06:20:14.781802Z",
     "iopub.status.idle": "2022-11-10T06:20:14.812607Z",
     "shell.execute_reply": "2022-11-10T06:20:14.811243Z"
    },
    "papermill": {
     "duration": 0.069645,
     "end_time": "2022-11-10T06:20:14.815031",
     "exception": false,
     "start_time": "2022-11-10T06:20:14.745386",
     "status": "completed"
    },
    "tags": []
   },
   "outputs": [
    {
     "data": {
      "text/html": [
       "<div>\n",
       "<style scoped>\n",
       "    .dataframe tbody tr th:only-of-type {\n",
       "        vertical-align: middle;\n",
       "    }\n",
       "\n",
       "    .dataframe tbody tr th {\n",
       "        vertical-align: top;\n",
       "    }\n",
       "\n",
       "    .dataframe thead th {\n",
       "        text-align: right;\n",
       "    }\n",
       "</style>\n",
       "<table border=\"1\" class=\"dataframe\">\n",
       "  <thead>\n",
       "    <tr style=\"text-align: right;\">\n",
       "      <th></th>\n",
       "      <th>Store</th>\n",
       "      <th>DayOfWeek</th>\n",
       "      <th>Date</th>\n",
       "      <th>Sales</th>\n",
       "      <th>Customers</th>\n",
       "      <th>Open</th>\n",
       "      <th>Promo</th>\n",
       "      <th>StateHoliday</th>\n",
       "      <th>SchoolHoliday</th>\n",
       "      <th>StoreType</th>\n",
       "      <th>Assortment</th>\n",
       "      <th>CompetitionDistance</th>\n",
       "      <th>CompetitionOpenSinceMonth</th>\n",
       "      <th>CompetitionOpenSinceYear</th>\n",
       "      <th>Promo2</th>\n",
       "      <th>Promo2SinceWeek</th>\n",
       "      <th>Promo2SinceYear</th>\n",
       "      <th>PromoInterval</th>\n",
       "    </tr>\n",
       "  </thead>\n",
       "  <tbody>\n",
       "    <tr>\n",
       "      <th>0</th>\n",
       "      <td>1</td>\n",
       "      <td>5</td>\n",
       "      <td>2015-07-31</td>\n",
       "      <td>5263</td>\n",
       "      <td>555</td>\n",
       "      <td>1</td>\n",
       "      <td>1</td>\n",
       "      <td>0</td>\n",
       "      <td>1</td>\n",
       "      <td>c</td>\n",
       "      <td>a</td>\n",
       "      <td>1270.0</td>\n",
       "      <td>9.0</td>\n",
       "      <td>2008.0</td>\n",
       "      <td>0</td>\n",
       "      <td>NaN</td>\n",
       "      <td>NaN</td>\n",
       "      <td>NaN</td>\n",
       "    </tr>\n",
       "    <tr>\n",
       "      <th>1</th>\n",
       "      <td>2</td>\n",
       "      <td>5</td>\n",
       "      <td>2015-07-31</td>\n",
       "      <td>6064</td>\n",
       "      <td>625</td>\n",
       "      <td>1</td>\n",
       "      <td>1</td>\n",
       "      <td>0</td>\n",
       "      <td>1</td>\n",
       "      <td>a</td>\n",
       "      <td>a</td>\n",
       "      <td>570.0</td>\n",
       "      <td>11.0</td>\n",
       "      <td>2007.0</td>\n",
       "      <td>1</td>\n",
       "      <td>13.0</td>\n",
       "      <td>2010.0</td>\n",
       "      <td>Jan,Apr,Jul,Oct</td>\n",
       "    </tr>\n",
       "    <tr>\n",
       "      <th>2</th>\n",
       "      <td>3</td>\n",
       "      <td>5</td>\n",
       "      <td>2015-07-31</td>\n",
       "      <td>8314</td>\n",
       "      <td>821</td>\n",
       "      <td>1</td>\n",
       "      <td>1</td>\n",
       "      <td>0</td>\n",
       "      <td>1</td>\n",
       "      <td>a</td>\n",
       "      <td>a</td>\n",
       "      <td>14130.0</td>\n",
       "      <td>12.0</td>\n",
       "      <td>2006.0</td>\n",
       "      <td>1</td>\n",
       "      <td>14.0</td>\n",
       "      <td>2011.0</td>\n",
       "      <td>Jan,Apr,Jul,Oct</td>\n",
       "    </tr>\n",
       "    <tr>\n",
       "      <th>3</th>\n",
       "      <td>4</td>\n",
       "      <td>5</td>\n",
       "      <td>2015-07-31</td>\n",
       "      <td>13995</td>\n",
       "      <td>1498</td>\n",
       "      <td>1</td>\n",
       "      <td>1</td>\n",
       "      <td>0</td>\n",
       "      <td>1</td>\n",
       "      <td>c</td>\n",
       "      <td>c</td>\n",
       "      <td>620.0</td>\n",
       "      <td>9.0</td>\n",
       "      <td>2009.0</td>\n",
       "      <td>0</td>\n",
       "      <td>NaN</td>\n",
       "      <td>NaN</td>\n",
       "      <td>NaN</td>\n",
       "    </tr>\n",
       "    <tr>\n",
       "      <th>4</th>\n",
       "      <td>5</td>\n",
       "      <td>5</td>\n",
       "      <td>2015-07-31</td>\n",
       "      <td>4822</td>\n",
       "      <td>559</td>\n",
       "      <td>1</td>\n",
       "      <td>1</td>\n",
       "      <td>0</td>\n",
       "      <td>1</td>\n",
       "      <td>a</td>\n",
       "      <td>a</td>\n",
       "      <td>29910.0</td>\n",
       "      <td>4.0</td>\n",
       "      <td>2015.0</td>\n",
       "      <td>0</td>\n",
       "      <td>NaN</td>\n",
       "      <td>NaN</td>\n",
       "      <td>NaN</td>\n",
       "    </tr>\n",
       "    <tr>\n",
       "      <th>...</th>\n",
       "      <td>...</td>\n",
       "      <td>...</td>\n",
       "      <td>...</td>\n",
       "      <td>...</td>\n",
       "      <td>...</td>\n",
       "      <td>...</td>\n",
       "      <td>...</td>\n",
       "      <td>...</td>\n",
       "      <td>...</td>\n",
       "      <td>...</td>\n",
       "      <td>...</td>\n",
       "      <td>...</td>\n",
       "      <td>...</td>\n",
       "      <td>...</td>\n",
       "      <td>...</td>\n",
       "      <td>...</td>\n",
       "      <td>...</td>\n",
       "      <td>...</td>\n",
       "    </tr>\n",
       "    <tr>\n",
       "      <th>1017204</th>\n",
       "      <td>1111</td>\n",
       "      <td>2</td>\n",
       "      <td>2013-01-01</td>\n",
       "      <td>0</td>\n",
       "      <td>0</td>\n",
       "      <td>0</td>\n",
       "      <td>0</td>\n",
       "      <td>a</td>\n",
       "      <td>1</td>\n",
       "      <td>a</td>\n",
       "      <td>a</td>\n",
       "      <td>1900.0</td>\n",
       "      <td>6.0</td>\n",
       "      <td>2014.0</td>\n",
       "      <td>1</td>\n",
       "      <td>31.0</td>\n",
       "      <td>2013.0</td>\n",
       "      <td>Jan,Apr,Jul,Oct</td>\n",
       "    </tr>\n",
       "    <tr>\n",
       "      <th>1017205</th>\n",
       "      <td>1112</td>\n",
       "      <td>2</td>\n",
       "      <td>2013-01-01</td>\n",
       "      <td>0</td>\n",
       "      <td>0</td>\n",
       "      <td>0</td>\n",
       "      <td>0</td>\n",
       "      <td>a</td>\n",
       "      <td>1</td>\n",
       "      <td>c</td>\n",
       "      <td>c</td>\n",
       "      <td>1880.0</td>\n",
       "      <td>4.0</td>\n",
       "      <td>2006.0</td>\n",
       "      <td>0</td>\n",
       "      <td>NaN</td>\n",
       "      <td>NaN</td>\n",
       "      <td>NaN</td>\n",
       "    </tr>\n",
       "    <tr>\n",
       "      <th>1017206</th>\n",
       "      <td>1113</td>\n",
       "      <td>2</td>\n",
       "      <td>2013-01-01</td>\n",
       "      <td>0</td>\n",
       "      <td>0</td>\n",
       "      <td>0</td>\n",
       "      <td>0</td>\n",
       "      <td>a</td>\n",
       "      <td>1</td>\n",
       "      <td>a</td>\n",
       "      <td>c</td>\n",
       "      <td>9260.0</td>\n",
       "      <td>NaN</td>\n",
       "      <td>NaN</td>\n",
       "      <td>0</td>\n",
       "      <td>NaN</td>\n",
       "      <td>NaN</td>\n",
       "      <td>NaN</td>\n",
       "    </tr>\n",
       "    <tr>\n",
       "      <th>1017207</th>\n",
       "      <td>1114</td>\n",
       "      <td>2</td>\n",
       "      <td>2013-01-01</td>\n",
       "      <td>0</td>\n",
       "      <td>0</td>\n",
       "      <td>0</td>\n",
       "      <td>0</td>\n",
       "      <td>a</td>\n",
       "      <td>1</td>\n",
       "      <td>a</td>\n",
       "      <td>c</td>\n",
       "      <td>870.0</td>\n",
       "      <td>NaN</td>\n",
       "      <td>NaN</td>\n",
       "      <td>0</td>\n",
       "      <td>NaN</td>\n",
       "      <td>NaN</td>\n",
       "      <td>NaN</td>\n",
       "    </tr>\n",
       "    <tr>\n",
       "      <th>1017208</th>\n",
       "      <td>1115</td>\n",
       "      <td>2</td>\n",
       "      <td>2013-01-01</td>\n",
       "      <td>0</td>\n",
       "      <td>0</td>\n",
       "      <td>0</td>\n",
       "      <td>0</td>\n",
       "      <td>a</td>\n",
       "      <td>1</td>\n",
       "      <td>d</td>\n",
       "      <td>c</td>\n",
       "      <td>5350.0</td>\n",
       "      <td>NaN</td>\n",
       "      <td>NaN</td>\n",
       "      <td>1</td>\n",
       "      <td>22.0</td>\n",
       "      <td>2012.0</td>\n",
       "      <td>Mar,Jun,Sept,Dec</td>\n",
       "    </tr>\n",
       "  </tbody>\n",
       "</table>\n",
       "<p>1017209 rows × 18 columns</p>\n",
       "</div>"
      ],
      "text/plain": [
       "         Store  DayOfWeek        Date  Sales  Customers  Open  Promo  \\\n",
       "0            1          5  2015-07-31   5263        555     1      1   \n",
       "1            2          5  2015-07-31   6064        625     1      1   \n",
       "2            3          5  2015-07-31   8314        821     1      1   \n",
       "3            4          5  2015-07-31  13995       1498     1      1   \n",
       "4            5          5  2015-07-31   4822        559     1      1   \n",
       "...        ...        ...         ...    ...        ...   ...    ...   \n",
       "1017204   1111          2  2013-01-01      0          0     0      0   \n",
       "1017205   1112          2  2013-01-01      0          0     0      0   \n",
       "1017206   1113          2  2013-01-01      0          0     0      0   \n",
       "1017207   1114          2  2013-01-01      0          0     0      0   \n",
       "1017208   1115          2  2013-01-01      0          0     0      0   \n",
       "\n",
       "        StateHoliday  SchoolHoliday StoreType Assortment  CompetitionDistance  \\\n",
       "0                  0              1         c          a               1270.0   \n",
       "1                  0              1         a          a                570.0   \n",
       "2                  0              1         a          a              14130.0   \n",
       "3                  0              1         c          c                620.0   \n",
       "4                  0              1         a          a              29910.0   \n",
       "...              ...            ...       ...        ...                  ...   \n",
       "1017204            a              1         a          a               1900.0   \n",
       "1017205            a              1         c          c               1880.0   \n",
       "1017206            a              1         a          c               9260.0   \n",
       "1017207            a              1         a          c                870.0   \n",
       "1017208            a              1         d          c               5350.0   \n",
       "\n",
       "         CompetitionOpenSinceMonth  CompetitionOpenSinceYear  Promo2  \\\n",
       "0                              9.0                    2008.0       0   \n",
       "1                             11.0                    2007.0       1   \n",
       "2                             12.0                    2006.0       1   \n",
       "3                              9.0                    2009.0       0   \n",
       "4                              4.0                    2015.0       0   \n",
       "...                            ...                       ...     ...   \n",
       "1017204                        6.0                    2014.0       1   \n",
       "1017205                        4.0                    2006.0       0   \n",
       "1017206                        NaN                       NaN       0   \n",
       "1017207                        NaN                       NaN       0   \n",
       "1017208                        NaN                       NaN       1   \n",
       "\n",
       "         Promo2SinceWeek  Promo2SinceYear     PromoInterval  \n",
       "0                    NaN              NaN               NaN  \n",
       "1                   13.0           2010.0   Jan,Apr,Jul,Oct  \n",
       "2                   14.0           2011.0   Jan,Apr,Jul,Oct  \n",
       "3                    NaN              NaN               NaN  \n",
       "4                    NaN              NaN               NaN  \n",
       "...                  ...              ...               ...  \n",
       "1017204             31.0           2013.0   Jan,Apr,Jul,Oct  \n",
       "1017205              NaN              NaN               NaN  \n",
       "1017206              NaN              NaN               NaN  \n",
       "1017207              NaN              NaN               NaN  \n",
       "1017208             22.0           2012.0  Mar,Jun,Sept,Dec  \n",
       "\n",
       "[1017209 rows x 18 columns]"
      ]
     },
     "execution_count": 12,
     "metadata": {},
     "output_type": "execute_result"
    }
   ],
   "source": [
    "merged_sales"
   ]
  },
  {
   "cell_type": "markdown",
   "id": "e5655c69",
   "metadata": {
    "papermill": {
     "duration": 0.035496,
     "end_time": "2022-11-10T06:20:14.885858",
     "exception": false,
     "start_time": "2022-11-10T06:20:14.850362",
     "status": "completed"
    },
    "tags": []
   },
   "source": [
    "---"
   ]
  },
  {
   "cell_type": "markdown",
   "id": "70c952ab",
   "metadata": {
    "papermill": {
     "duration": 0.034445,
     "end_time": "2022-11-10T06:20:14.957029",
     "exception": false,
     "start_time": "2022-11-10T06:20:14.922584",
     "status": "completed"
    },
    "tags": []
   },
   "source": [
    "<h1 style=\"background-color:#548984; color: #FFFFFF; padding: 15px;\">7. Summary Statistics</h1>"
   ]
  },
  {
   "cell_type": "markdown",
   "id": "bc582e77",
   "metadata": {
    "papermill": {
     "duration": 0.034479,
     "end_time": "2022-11-10T06:20:15.026196",
     "exception": false,
     "start_time": "2022-11-10T06:20:14.991717",
     "status": "completed"
    },
    "tags": []
   },
   "source": [
    "Let's take a look at the summary statistics for our table."
   ]
  },
  {
   "cell_type": "code",
   "execution_count": 13,
   "id": "37d91395",
   "metadata": {
    "execution": {
     "iopub.execute_input": "2022-11-10T06:20:15.097902Z",
     "iopub.status.busy": "2022-11-10T06:20:15.097496Z",
     "iopub.status.idle": "2022-11-10T06:20:15.920311Z",
     "shell.execute_reply": "2022-11-10T06:20:15.919024Z"
    },
    "papermill": {
     "duration": 0.861978,
     "end_time": "2022-11-10T06:20:15.923031",
     "exception": false,
     "start_time": "2022-11-10T06:20:15.061053",
     "status": "completed"
    },
    "tags": []
   },
   "outputs": [
    {
     "data": {
      "text/html": [
       "<div>\n",
       "<style scoped>\n",
       "    .dataframe tbody tr th:only-of-type {\n",
       "        vertical-align: middle;\n",
       "    }\n",
       "\n",
       "    .dataframe tbody tr th {\n",
       "        vertical-align: top;\n",
       "    }\n",
       "\n",
       "    .dataframe thead th {\n",
       "        text-align: right;\n",
       "    }\n",
       "</style>\n",
       "<table border=\"1\" class=\"dataframe\">\n",
       "  <thead>\n",
       "    <tr style=\"text-align: right;\">\n",
       "      <th></th>\n",
       "      <th>Store</th>\n",
       "      <th>DayOfWeek</th>\n",
       "      <th>Sales</th>\n",
       "      <th>Customers</th>\n",
       "      <th>Open</th>\n",
       "      <th>Promo</th>\n",
       "      <th>SchoolHoliday</th>\n",
       "      <th>CompetitionDistance</th>\n",
       "      <th>CompetitionOpenSinceMonth</th>\n",
       "      <th>CompetitionOpenSinceYear</th>\n",
       "      <th>Promo2</th>\n",
       "      <th>Promo2SinceWeek</th>\n",
       "      <th>Promo2SinceYear</th>\n",
       "    </tr>\n",
       "  </thead>\n",
       "  <tbody>\n",
       "    <tr>\n",
       "      <th>count</th>\n",
       "      <td>1.017209e+06</td>\n",
       "      <td>1.017209e+06</td>\n",
       "      <td>1.017209e+06</td>\n",
       "      <td>1.017209e+06</td>\n",
       "      <td>1.017209e+06</td>\n",
       "      <td>1.017209e+06</td>\n",
       "      <td>1.017209e+06</td>\n",
       "      <td>1.014567e+06</td>\n",
       "      <td>693861.000000</td>\n",
       "      <td>693861.000000</td>\n",
       "      <td>1.017209e+06</td>\n",
       "      <td>509178.000000</td>\n",
       "      <td>509178.000000</td>\n",
       "    </tr>\n",
       "    <tr>\n",
       "      <th>mean</th>\n",
       "      <td>5.584297e+02</td>\n",
       "      <td>3.998341e+00</td>\n",
       "      <td>5.773819e+03</td>\n",
       "      <td>6.331459e+02</td>\n",
       "      <td>8.301067e-01</td>\n",
       "      <td>3.815145e-01</td>\n",
       "      <td>1.786467e-01</td>\n",
       "      <td>5.430086e+03</td>\n",
       "      <td>7.222866</td>\n",
       "      <td>2008.690228</td>\n",
       "      <td>5.005638e-01</td>\n",
       "      <td>23.269093</td>\n",
       "      <td>2011.752774</td>\n",
       "    </tr>\n",
       "    <tr>\n",
       "      <th>std</th>\n",
       "      <td>3.219087e+02</td>\n",
       "      <td>1.997391e+00</td>\n",
       "      <td>3.849926e+03</td>\n",
       "      <td>4.644117e+02</td>\n",
       "      <td>3.755392e-01</td>\n",
       "      <td>4.857586e-01</td>\n",
       "      <td>3.830564e-01</td>\n",
       "      <td>7.715324e+03</td>\n",
       "      <td>3.211832</td>\n",
       "      <td>5.992644</td>\n",
       "      <td>4.999999e-01</td>\n",
       "      <td>14.095973</td>\n",
       "      <td>1.662870</td>\n",
       "    </tr>\n",
       "    <tr>\n",
       "      <th>min</th>\n",
       "      <td>1.000000e+00</td>\n",
       "      <td>1.000000e+00</td>\n",
       "      <td>0.000000e+00</td>\n",
       "      <td>0.000000e+00</td>\n",
       "      <td>0.000000e+00</td>\n",
       "      <td>0.000000e+00</td>\n",
       "      <td>0.000000e+00</td>\n",
       "      <td>2.000000e+01</td>\n",
       "      <td>1.000000</td>\n",
       "      <td>1900.000000</td>\n",
       "      <td>0.000000e+00</td>\n",
       "      <td>1.000000</td>\n",
       "      <td>2009.000000</td>\n",
       "    </tr>\n",
       "    <tr>\n",
       "      <th>25%</th>\n",
       "      <td>2.800000e+02</td>\n",
       "      <td>2.000000e+00</td>\n",
       "      <td>3.727000e+03</td>\n",
       "      <td>4.050000e+02</td>\n",
       "      <td>1.000000e+00</td>\n",
       "      <td>0.000000e+00</td>\n",
       "      <td>0.000000e+00</td>\n",
       "      <td>7.100000e+02</td>\n",
       "      <td>4.000000</td>\n",
       "      <td>2006.000000</td>\n",
       "      <td>0.000000e+00</td>\n",
       "      <td>13.000000</td>\n",
       "      <td>2011.000000</td>\n",
       "    </tr>\n",
       "    <tr>\n",
       "      <th>50%</th>\n",
       "      <td>5.580000e+02</td>\n",
       "      <td>4.000000e+00</td>\n",
       "      <td>5.744000e+03</td>\n",
       "      <td>6.090000e+02</td>\n",
       "      <td>1.000000e+00</td>\n",
       "      <td>0.000000e+00</td>\n",
       "      <td>0.000000e+00</td>\n",
       "      <td>2.330000e+03</td>\n",
       "      <td>8.000000</td>\n",
       "      <td>2010.000000</td>\n",
       "      <td>1.000000e+00</td>\n",
       "      <td>22.000000</td>\n",
       "      <td>2012.000000</td>\n",
       "    </tr>\n",
       "    <tr>\n",
       "      <th>75%</th>\n",
       "      <td>8.380000e+02</td>\n",
       "      <td>6.000000e+00</td>\n",
       "      <td>7.856000e+03</td>\n",
       "      <td>8.370000e+02</td>\n",
       "      <td>1.000000e+00</td>\n",
       "      <td>1.000000e+00</td>\n",
       "      <td>0.000000e+00</td>\n",
       "      <td>6.890000e+03</td>\n",
       "      <td>10.000000</td>\n",
       "      <td>2013.000000</td>\n",
       "      <td>1.000000e+00</td>\n",
       "      <td>37.000000</td>\n",
       "      <td>2013.000000</td>\n",
       "    </tr>\n",
       "    <tr>\n",
       "      <th>max</th>\n",
       "      <td>1.115000e+03</td>\n",
       "      <td>7.000000e+00</td>\n",
       "      <td>4.155100e+04</td>\n",
       "      <td>7.388000e+03</td>\n",
       "      <td>1.000000e+00</td>\n",
       "      <td>1.000000e+00</td>\n",
       "      <td>1.000000e+00</td>\n",
       "      <td>7.586000e+04</td>\n",
       "      <td>12.000000</td>\n",
       "      <td>2015.000000</td>\n",
       "      <td>1.000000e+00</td>\n",
       "      <td>50.000000</td>\n",
       "      <td>2015.000000</td>\n",
       "    </tr>\n",
       "  </tbody>\n",
       "</table>\n",
       "</div>"
      ],
      "text/plain": [
       "              Store     DayOfWeek         Sales     Customers          Open  \\\n",
       "count  1.017209e+06  1.017209e+06  1.017209e+06  1.017209e+06  1.017209e+06   \n",
       "mean   5.584297e+02  3.998341e+00  5.773819e+03  6.331459e+02  8.301067e-01   \n",
       "std    3.219087e+02  1.997391e+00  3.849926e+03  4.644117e+02  3.755392e-01   \n",
       "min    1.000000e+00  1.000000e+00  0.000000e+00  0.000000e+00  0.000000e+00   \n",
       "25%    2.800000e+02  2.000000e+00  3.727000e+03  4.050000e+02  1.000000e+00   \n",
       "50%    5.580000e+02  4.000000e+00  5.744000e+03  6.090000e+02  1.000000e+00   \n",
       "75%    8.380000e+02  6.000000e+00  7.856000e+03  8.370000e+02  1.000000e+00   \n",
       "max    1.115000e+03  7.000000e+00  4.155100e+04  7.388000e+03  1.000000e+00   \n",
       "\n",
       "              Promo  SchoolHoliday  CompetitionDistance  \\\n",
       "count  1.017209e+06   1.017209e+06         1.014567e+06   \n",
       "mean   3.815145e-01   1.786467e-01         5.430086e+03   \n",
       "std    4.857586e-01   3.830564e-01         7.715324e+03   \n",
       "min    0.000000e+00   0.000000e+00         2.000000e+01   \n",
       "25%    0.000000e+00   0.000000e+00         7.100000e+02   \n",
       "50%    0.000000e+00   0.000000e+00         2.330000e+03   \n",
       "75%    1.000000e+00   0.000000e+00         6.890000e+03   \n",
       "max    1.000000e+00   1.000000e+00         7.586000e+04   \n",
       "\n",
       "       CompetitionOpenSinceMonth  CompetitionOpenSinceYear        Promo2  \\\n",
       "count              693861.000000             693861.000000  1.017209e+06   \n",
       "mean                    7.222866               2008.690228  5.005638e-01   \n",
       "std                     3.211832                  5.992644  4.999999e-01   \n",
       "min                     1.000000               1900.000000  0.000000e+00   \n",
       "25%                     4.000000               2006.000000  0.000000e+00   \n",
       "50%                     8.000000               2010.000000  1.000000e+00   \n",
       "75%                    10.000000               2013.000000  1.000000e+00   \n",
       "max                    12.000000               2015.000000  1.000000e+00   \n",
       "\n",
       "       Promo2SinceWeek  Promo2SinceYear  \n",
       "count    509178.000000    509178.000000  \n",
       "mean         23.269093      2011.752774  \n",
       "std          14.095973         1.662870  \n",
       "min           1.000000      2009.000000  \n",
       "25%          13.000000      2011.000000  \n",
       "50%          22.000000      2012.000000  \n",
       "75%          37.000000      2013.000000  \n",
       "max          50.000000      2015.000000  "
      ]
     },
     "execution_count": 13,
     "metadata": {},
     "output_type": "execute_result"
    }
   ],
   "source": [
    "merged_sales.describe()"
   ]
  },
  {
   "cell_type": "code",
   "execution_count": 14,
   "id": "839d8152",
   "metadata": {
    "execution": {
     "iopub.execute_input": "2022-11-10T06:20:15.996392Z",
     "iopub.status.busy": "2022-11-10T06:20:15.994990Z",
     "iopub.status.idle": "2022-11-10T06:20:16.088572Z",
     "shell.execute_reply": "2022-11-10T06:20:16.087276Z"
    },
    "papermill": {
     "duration": 0.133165,
     "end_time": "2022-11-10T06:20:16.091453",
     "exception": false,
     "start_time": "2022-11-10T06:20:15.958288",
     "status": "completed"
    },
    "tags": []
   },
   "outputs": [
    {
     "data": {
      "text/plain": [
       "DayOfWeek              0.001593\n",
       "Sales                  0.641460\n",
       "Customers              1.598650\n",
       "CompetitionDistance    2.928534\n",
       "dtype: float64"
      ]
     },
     "execution_count": 14,
     "metadata": {},
     "output_type": "execute_result"
    }
   ],
   "source": [
    "merged_sales[[\"DayOfWeek\", 'Sales', 'Customers', 'CompetitionDistance']].skew()"
   ]
  },
  {
   "cell_type": "code",
   "execution_count": 15,
   "id": "e4bd30ad",
   "metadata": {
    "execution": {
     "iopub.execute_input": "2022-11-10T06:20:16.165373Z",
     "iopub.status.busy": "2022-11-10T06:20:16.164493Z",
     "iopub.status.idle": "2022-11-10T06:20:16.252768Z",
     "shell.execute_reply": "2022-11-10T06:20:16.251344Z"
    },
    "papermill": {
     "duration": 0.128482,
     "end_time": "2022-11-10T06:20:16.256085",
     "exception": false,
     "start_time": "2022-11-10T06:20:16.127603",
     "status": "completed"
    },
    "tags": []
   },
   "outputs": [
    {
     "data": {
      "text/plain": [
       "DayOfWeek              -1.246873\n",
       "Sales                   1.778375\n",
       "Customers               7.091773\n",
       "CompetitionDistance    13.000022\n",
       "dtype: float64"
      ]
     },
     "execution_count": 15,
     "metadata": {},
     "output_type": "execute_result"
    }
   ],
   "source": [
    "merged_sales[[\"DayOfWeek\", 'Sales', 'Customers', 'CompetitionDistance']].kurtosis()"
   ]
  },
  {
   "cell_type": "code",
   "execution_count": 16,
   "id": "fe3de61e",
   "metadata": {
    "execution": {
     "iopub.execute_input": "2022-11-10T06:20:16.331436Z",
     "iopub.status.busy": "2022-11-10T06:20:16.330373Z",
     "iopub.status.idle": "2022-11-10T06:20:16.804419Z",
     "shell.execute_reply": "2022-11-10T06:20:16.803237Z"
    },
    "papermill": {
     "duration": 0.513696,
     "end_time": "2022-11-10T06:20:16.806949",
     "exception": false,
     "start_time": "2022-11-10T06:20:16.293253",
     "status": "completed"
    },
    "tags": []
   },
   "outputs": [
    {
     "data": {
      "image/png": "[encoded data removed]",
      "text/plain": [
       "<Figure size 1080x360 with 2 Axes>"
      ]
     },
     "metadata": {
      "needs_background": "light"
     },
     "output_type": "display_data"
    }
   ],
   "source": [
    "fig, axes = plt.subplots(nrows=1, ncols=2)\n",
    "\n",
    "merged_sales.hist(column='Sales', bins='sturges', ax=axes[0])\n",
    "merged_sales.hist(column='Customers', bins='sturges', ax=axes[1])\n",
    "\n",
    "fig.set_size_inches(15, 5)\n",
    "plt.show()  "
   ]
  },
  {
   "cell_type": "markdown",
   "id": "91e0e856",
   "metadata": {
    "papermill": {
     "duration": 0.035481,
     "end_time": "2022-11-10T06:20:16.878864",
     "exception": false,
     "start_time": "2022-11-10T06:20:16.843383",
     "status": "completed"
    },
    "tags": []
   },
   "source": [
    "Histograms of our *Sales* and *Customers* values show us a positive skew and high kurtosis. "
   ]
  },
  {
   "cell_type": "markdown",
   "id": "79baad65",
   "metadata": {
    "papermill": {
     "duration": 0.037198,
     "end_time": "2022-11-10T06:20:16.951873",
     "exception": false,
     "start_time": "2022-11-10T06:20:16.914675",
     "status": "completed"
    },
    "tags": []
   },
   "source": [
    "---"
   ]
  },
  {
   "cell_type": "markdown",
   "id": "b882c1d4",
   "metadata": {
    "papermill": {
     "duration": 0.036164,
     "end_time": "2022-11-10T06:20:17.024436",
     "exception": false,
     "start_time": "2022-11-10T06:20:16.988272",
     "status": "completed"
    },
    "tags": []
   },
   "source": [
    "Next we'll take a closer look at our statistics for our *Sales* column."
   ]
  },
  {
   "cell_type": "code",
   "execution_count": 17,
   "id": "868ee76b",
   "metadata": {
    "execution": {
     "iopub.execute_input": "2022-11-10T06:20:17.099968Z",
     "iopub.status.busy": "2022-11-10T06:20:17.099140Z",
     "iopub.status.idle": "2022-11-10T06:20:17.177496Z",
     "shell.execute_reply": "2022-11-10T06:20:17.176034Z"
    },
    "papermill": {
     "duration": 0.119377,
     "end_time": "2022-11-10T06:20:17.180453",
     "exception": false,
     "start_time": "2022-11-10T06:20:17.061076",
     "status": "completed"
    },
    "tags": []
   },
   "outputs": [
    {
     "name": "stdout",
     "output_type": "stream",
     "text": [
      "skew     0.64146\n",
      "kurtosis 1.778375\n",
      "count    1017209.000\n",
      "mean        5773.819\n",
      "std         3849.926\n",
      "min            0.000\n",
      "25%         3727.000\n",
      "50%         5744.000\n",
      "75%         7856.000\n",
      "max        41551.000\n",
      "Name: Sales, dtype: float64\n",
      "mode     0    0\n",
      "dtype: int64\n"
     ]
    }
   ],
   "source": [
    "print(\"skew     \" + str(round(merged_sales['Sales'].skew(),6)))\n",
    "print(\"kurtosis \" + str(round(merged_sales['Sales'].kurtosis(),6)))\n",
    "print(merged_sales['Sales'].describe().round(3))\n",
    "print(\"mode     \" + str(merged_sales['Sales'].mode()))\n"
   ]
  },
  {
   "cell_type": "markdown",
   "id": "ec51469d",
   "metadata": {
    "papermill": {
     "duration": 0.037446,
     "end_time": "2022-11-10T06:20:17.254887",
     "exception": false,
     "start_time": "2022-11-10T06:20:17.217441",
     "status": "completed"
    },
    "tags": []
   },
   "source": [
    "We can see our sales figures have a slightly positive **skew**, with the **mean** (5773.819) only slightly larger than the **median** (5744.000), suggesting most outliers are to the right of the mean. \n",
    "\n",
    "High **kurtosis** indicates it's leptokurtic with the likelihood of heavy tails and outliers that may be extreme. Considering our **min** and **max** values of 0 and 41,551 sales, we aren't surprised to see there may be some extreme outliers. \n",
    "\n",
    "The **max** value well above the **mean** of 5,773.819 and outside the **standard deviation** of 3849.926 helps us see how our mean ends up getting pulled slightly to the right for our positive **skew**. \n",
    "\n",
    "There is no **mode** as we don't have any stores recording the exact same number of sales on any days, which isn't surprising. "
   ]
  },
  {
   "cell_type": "markdown",
   "id": "bbbcb815",
   "metadata": {
    "papermill": {
     "duration": 0.037277,
     "end_time": "2022-11-10T06:20:17.329515",
     "exception": false,
     "start_time": "2022-11-10T06:20:17.292238",
     "status": "completed"
    },
    "tags": []
   },
   "source": [
    "---"
   ]
  },
  {
   "cell_type": "markdown",
   "id": "7c425873",
   "metadata": {
    "papermill": {
     "duration": 0.036591,
     "end_time": "2022-11-10T06:20:17.403401",
     "exception": false,
     "start_time": "2022-11-10T06:20:17.366810",
     "status": "completed"
    },
    "tags": []
   },
   "source": [
    "<h1 style=\"background-color:#548984; color: #FFFFFF; padding: 15px;\">8. Data cleaning</h1>"
   ]
  },
  {
   "cell_type": "markdown",
   "id": "961c4b1d",
   "metadata": {
    "papermill": {
     "duration": 0.036327,
     "end_time": "2022-11-10T06:20:17.477467",
     "exception": false,
     "start_time": "2022-11-10T06:20:17.441140",
     "status": "completed"
    },
    "tags": []
   },
   "source": [
    "<h2 style=\"background-color:#6dbcc5; color: #FFFFFF; padding: 8px;\">Datetime</h2>"
   ]
  },
  {
   "cell_type": "markdown",
   "id": "819bf361",
   "metadata": {
    "papermill": {
     "duration": 0.037974,
     "end_time": "2022-11-10T06:20:17.552375",
     "exception": false,
     "start_time": "2022-11-10T06:20:17.514401",
     "status": "completed"
    },
    "tags": []
   },
   "source": [
    "First we'll convert our *Date* column to datetime for easier filtering later on.\n",
    "\n",
    "With an .info() call we can confirm our Date column was successfully converted to datetime.\n",
    "\n",
    "We'll also expand our Date column into separate Month, Day of Month, and Year columns for easier filtering."
   ]
  },
  {
   "cell_type": "code",
   "execution_count": 18,
   "id": "ed1a8480",
   "metadata": {
    "execution": {
     "iopub.execute_input": "2022-11-10T06:20:17.628112Z",
     "iopub.status.busy": "2022-11-10T06:20:17.627487Z",
     "iopub.status.idle": "2022-11-10T06:20:17.802005Z",
     "shell.execute_reply": "2022-11-10T06:20:17.800731Z"
    },
    "papermill": {
     "duration": 0.215998,
     "end_time": "2022-11-10T06:20:17.804873",
     "exception": false,
     "start_time": "2022-11-10T06:20:17.588875",
     "status": "completed"
    },
    "tags": []
   },
   "outputs": [],
   "source": [
    "merged_sales['Date'] = pd.to_datetime(merged_sales['Date'], format=\"%Y-%m-%d\", errors='raise')\n"
   ]
  },
  {
   "cell_type": "code",
   "execution_count": 19,
   "id": "233e5737",
   "metadata": {
    "execution": {
     "iopub.execute_input": "2022-11-10T06:20:17.878959Z",
     "iopub.status.busy": "2022-11-10T06:20:17.878497Z",
     "iopub.status.idle": "2022-11-10T06:20:18.103437Z",
     "shell.execute_reply": "2022-11-10T06:20:18.102202Z"
    },
    "papermill": {
     "duration": 0.265655,
     "end_time": "2022-11-10T06:20:18.106761",
     "exception": false,
     "start_time": "2022-11-10T06:20:17.841106",
     "status": "completed"
    },
    "tags": []
   },
   "outputs": [
    {
     "name": "stdout",
     "output_type": "stream",
     "text": [
      "<class 'pandas.core.frame.DataFrame'>\n",
      "Int64Index: 1017209 entries, 0 to 1017208\n",
      "Data columns (total 18 columns):\n",
      " #   Column                     Non-Null Count    Dtype         \n",
      "---  ------                     --------------    -----         \n",
      " 0   Store                      1017209 non-null  int64         \n",
      " 1   DayOfWeek                  1017209 non-null  int64         \n",
      " 2   Date                       1017209 non-null  datetime64[ns]\n",
      " 3   Sales                      1017209 non-null  int64         \n",
      " 4   Customers                  1017209 non-null  int64         \n",
      " 5   Open                       1017209 non-null  int64         \n",
      " 6   Promo                      1017209 non-null  int64         \n",
      " 7   StateHoliday               1017209 non-null  object        \n",
      " 8   SchoolHoliday              1017209 non-null  int64         \n",
      " 9   StoreType                  1017209 non-null  object        \n",
      " 10  Assortment                 1017209 non-null  object        \n",
      " 11  CompetitionDistance        1014567 non-null  float64       \n",
      " 12  CompetitionOpenSinceMonth  693861 non-null   float64       \n",
      " 13  CompetitionOpenSinceYear   693861 non-null   float64       \n",
      " 14  Promo2                     1017209 non-null  int64         \n",
      " 15  Promo2SinceWeek            509178 non-null   float64       \n",
      " 16  Promo2SinceYear            509178 non-null   float64       \n",
      " 17  PromoInterval              509178 non-null   object        \n",
      "dtypes: datetime64[ns](1), float64(5), int64(8), object(4)\n",
      "memory usage: 147.5+ MB\n"
     ]
    }
   ],
   "source": [
    "merged_sales.info()"
   ]
  },
  {
   "cell_type": "code",
   "execution_count": 20,
   "id": "d2af91cf",
   "metadata": {
    "execution": {
     "iopub.execute_input": "2022-11-10T06:20:18.182746Z",
     "iopub.status.busy": "2022-11-10T06:20:18.182347Z",
     "iopub.status.idle": "2022-11-10T06:20:18.471833Z",
     "shell.execute_reply": "2022-11-10T06:20:18.470574Z"
    },
    "papermill": {
     "duration": 0.331332,
     "end_time": "2022-11-10T06:20:18.474727",
     "exception": false,
     "start_time": "2022-11-10T06:20:18.143395",
     "status": "completed"
    },
    "tags": []
   },
   "outputs": [],
   "source": [
    "merged_sales[\"Year\"] = merged_sales[\"Date\"].dt.year\n",
    "merged_sales[\"Month\"] = merged_sales[\"Date\"].dt.month\n",
    "merged_sales[\"DayOfMonth\"] = merged_sales[\"Date\"].dt.day"
   ]
  },
  {
   "cell_type": "markdown",
   "id": "41ba619a",
   "metadata": {
    "papermill": {
     "duration": 0.036678,
     "end_time": "2022-11-10T06:20:18.548530",
     "exception": false,
     "start_time": "2022-11-10T06:20:18.511852",
     "status": "completed"
    },
    "tags": []
   },
   "source": [
    "---"
   ]
  },
  {
   "cell_type": "markdown",
   "id": "aff9a2b5",
   "metadata": {
    "papermill": {
     "duration": 0.035478,
     "end_time": "2022-11-10T06:20:18.622395",
     "exception": false,
     "start_time": "2022-11-10T06:20:18.586917",
     "status": "completed"
    },
    "tags": []
   },
   "source": [
    "<h2 style=\"background-color:#6dbcc5; color: #FFFFFF; padding: 8px;\">Duplicates</h2>"
   ]
  },
  {
   "cell_type": "markdown",
   "id": "b4415cdd",
   "metadata": {
    "papermill": {
     "duration": 0.035326,
     "end_time": "2022-11-10T06:20:18.693770",
     "exception": false,
     "start_time": "2022-11-10T06:20:18.658444",
     "status": "completed"
    },
    "tags": []
   },
   "source": [
    "We'll do a quick check for and delete any rows that are complete duplicates of another row, as we should only have one entry for each store and date."
   ]
  },
  {
   "cell_type": "code",
   "execution_count": 21,
   "id": "2084a964",
   "metadata": {
    "execution": {
     "iopub.execute_input": "2022-11-10T06:20:18.767925Z",
     "iopub.status.busy": "2022-11-10T06:20:18.767547Z",
     "iopub.status.idle": "2022-11-10T06:20:19.791642Z",
     "shell.execute_reply": "2022-11-10T06:20:19.790187Z"
    },
    "papermill": {
     "duration": 1.064058,
     "end_time": "2022-11-10T06:20:19.794072",
     "exception": false,
     "start_time": "2022-11-10T06:20:18.730014",
     "status": "completed"
    },
    "tags": []
   },
   "outputs": [
    {
     "name": "stdout",
     "output_type": "stream",
     "text": [
      "Rows before dropping duplicates: 1017209\n",
      "Rows after dropping duplicates: 1017209\n"
     ]
    }
   ],
   "source": [
    "print(\"Rows before dropping duplicates: \" + str(merged_sales.shape[0]))\n",
    "merged_sales = merged_sales.drop_duplicates()\n",
    "print(\"Rows after dropping duplicates: \" + str(merged_sales.shape[0]))"
   ]
  },
  {
   "cell_type": "markdown",
   "id": "c9e7ad50",
   "metadata": {
    "papermill": {
     "duration": 0.037819,
     "end_time": "2022-11-10T06:20:19.868255",
     "exception": false,
     "start_time": "2022-11-10T06:20:19.830436",
     "status": "completed"
    },
    "tags": []
   },
   "source": [
    "The length of our table remains the same, looks like no duplicate rows were found!"
   ]
  },
  {
   "cell_type": "markdown",
   "id": "32802228",
   "metadata": {
    "papermill": {
     "duration": 0.037234,
     "end_time": "2022-11-10T06:20:19.943815",
     "exception": false,
     "start_time": "2022-11-10T06:20:19.906581",
     "status": "completed"
    },
    "tags": []
   },
   "source": [
    "---"
   ]
  },
  {
   "cell_type": "markdown",
   "id": "d17f5a7a",
   "metadata": {
    "papermill": {
     "duration": 0.035776,
     "end_time": "2022-11-10T06:20:20.016041",
     "exception": false,
     "start_time": "2022-11-10T06:20:19.980265",
     "status": "completed"
    },
    "tags": []
   },
   "source": [
    "<h2 style=\"background-color:#6dbcc5; color: #FFFFFF; padding: 8px;\">Text and Expected Values</h2>\n",
    "\n",
    "Next we'll check our four columns that contain strings to make sure we have no inappropriately entered data. Using str.strip() to remove any accidental leading or trailing spaces."
   ]
  },
  {
   "cell_type": "code",
   "execution_count": 22,
   "id": "ae390eb4",
   "metadata": {
    "execution": {
     "iopub.execute_input": "2022-11-10T06:20:20.090561Z",
     "iopub.status.busy": "2022-11-10T06:20:20.090052Z",
     "iopub.status.idle": "2022-11-10T06:20:21.296639Z",
     "shell.execute_reply": "2022-11-10T06:20:21.295210Z"
    },
    "papermill": {
     "duration": 1.247272,
     "end_time": "2022-11-10T06:20:21.299348",
     "exception": false,
     "start_time": "2022-11-10T06:20:20.052076",
     "status": "completed"
    },
    "tags": []
   },
   "outputs": [],
   "source": [
    "for col in merged_sales:\n",
    "    if merged_sales[col].dtype == object:\n",
    "        merged_sales[col] = merged_sales[col].str.strip()"
   ]
  },
  {
   "cell_type": "markdown",
   "id": "8b9502cc",
   "metadata": {
    "papermill": {
     "duration": 0.036507,
     "end_time": "2022-11-10T06:20:21.372261",
     "exception": false,
     "start_time": "2022-11-10T06:20:21.335754",
     "status": "completed"
    },
    "tags": []
   },
   "source": [
    "Next we'll look at value_counts for those columns and confirm only expected values are found. "
   ]
  },
  {
   "cell_type": "code",
   "execution_count": 23,
   "id": "fa3fae03",
   "metadata": {
    "execution": {
     "iopub.execute_input": "2022-11-10T06:20:21.452911Z",
     "iopub.status.busy": "2022-11-10T06:20:21.452482Z",
     "iopub.status.idle": "2022-11-10T06:20:21.669320Z",
     "shell.execute_reply": "2022-11-10T06:20:21.667295Z"
    },
    "papermill": {
     "duration": 0.264151,
     "end_time": "2022-11-10T06:20:21.673120",
     "exception": false,
     "start_time": "2022-11-10T06:20:21.408969",
     "status": "completed"
    },
    "tags": []
   },
   "outputs": [
    {
     "name": "stdout",
     "output_type": "stream",
     "text": [
      "0    986159\n",
      "a     20260\n",
      "b      6690\n",
      "c      4100\n",
      "Name: StateHoliday, dtype: int64\n",
      "a    551627\n",
      "d    312912\n",
      "c    136840\n",
      "b     15830\n",
      "Name: StoreType, dtype: int64\n",
      "a    537445\n",
      "c    471470\n",
      "b      8294\n",
      "Name: Assortment, dtype: int64\n",
      "Jan,Apr,Jul,Oct     293122\n",
      "Feb,May,Aug,Nov     118596\n",
      "Mar,Jun,Sept,Dec     97460\n",
      "Name: PromoInterval, dtype: int64\n"
     ]
    }
   ],
   "source": [
    "for col in merged_sales:\n",
    "    if merged_sales[col].dtype == object:\n",
    "        print(merged_sales[col].value_counts())"
   ]
  },
  {
   "cell_type": "markdown",
   "id": "30c42fd7",
   "metadata": {
    "papermill": {
     "duration": 0.03616,
     "end_time": "2022-11-10T06:20:21.746219",
     "exception": false,
     "start_time": "2022-11-10T06:20:21.710059",
     "status": "completed"
    },
    "tags": []
   },
   "source": [
    "Everything is looking as expected in our columns that contain text, and because each column only has 3-4 unique values we can see we don't need to worry about changing anything to lower, upper, or proper case. "
   ]
  },
  {
   "cell_type": "markdown",
   "id": "3657d584",
   "metadata": {
    "papermill": {
     "duration": 0.035528,
     "end_time": "2022-11-10T06:20:21.818249",
     "exception": false,
     "start_time": "2022-11-10T06:20:21.782721",
     "status": "completed"
    },
    "tags": []
   },
   "source": [
    "We'll also do a quick check of columns we expect to only have a few unique values or binary flags, such as DayOfWeek or Promo, to make sure there's nothing unexpected there."
   ]
  },
  {
   "cell_type": "code",
   "execution_count": 24,
   "id": "213067fa",
   "metadata": {
    "execution": {
     "iopub.execute_input": "2022-11-10T06:20:21.893712Z",
     "iopub.status.busy": "2022-11-10T06:20:21.893266Z",
     "iopub.status.idle": "2022-11-10T06:20:21.967840Z",
     "shell.execute_reply": "2022-11-10T06:20:21.966108Z"
    },
    "papermill": {
     "duration": 0.115156,
     "end_time": "2022-11-10T06:20:21.970717",
     "exception": false,
     "start_time": "2022-11-10T06:20:21.855561",
     "status": "completed"
    },
    "tags": []
   },
   "outputs": [
    {
     "name": "stdout",
     "output_type": "stream",
     "text": [
      "Open\n",
      "[0, 1]\n",
      "Promo\n",
      "[0, 1]\n",
      "Promo2\n",
      "[0, 1]\n",
      "SchoolHoliday\n",
      "[0, 1]\n",
      "DayOfWeek\n",
      "[1, 2, 3, 4, 5, 6, 7]\n",
      "CompetitionOpenSinceMonth\n",
      "[1.0, 2.0, 3.0, 4.0, 5.0, 6.0, 7.0, 8.0, 9.0, 10.0, 11.0, 12.0, nan]\n",
      "CompetitionOpenSinceYear\n",
      "[1900.0, 1961.0, 1990.0, 1994.0, 1995.0, 1998.0, 1999.0, 2000.0, 2001.0, 2002.0, 2003.0, 2004.0, 2005.0, 2006.0, 2007.0, 2008.0, 2009.0, 2010.0, 2011.0, 2012.0, 2013.0, 2014.0, 2015.0, nan]\n",
      "Promo2SinceWeek\n",
      "[nan, 1.0, 5.0, 6.0, 9.0, 10.0, 13.0, 14.0, 18.0, 22.0, 23.0, 26.0, 27.0, 28.0, 31.0, 35.0, 36.0, 37.0, 39.0, 40.0, 44.0, 45.0, 48.0, 49.0, 50.0]\n",
      "Promo2SinceYear\n",
      "[nan, 2009.0, 2010.0, 2011.0, 2012.0, 2013.0, 2014.0, 2015.0]\n"
     ]
    }
   ],
   "source": [
    "check_cols = [ 'Open', 'Promo', 'Promo2', 'SchoolHoliday',  'DayOfWeek', 'CompetitionOpenSinceMonth',  'CompetitionOpenSinceYear', 'Promo2SinceWeek', 'Promo2SinceYear']\n",
    "\n",
    "for col in check_cols:\n",
    "    print(col)\n",
    "    print(sorted(merged_sales[col].unique()))"
   ]
  },
  {
   "cell_type": "markdown",
   "id": "510acae6",
   "metadata": {
    "papermill": {
     "duration": 0.03668,
     "end_time": "2022-11-10T06:20:22.044791",
     "exception": false,
     "start_time": "2022-11-10T06:20:22.008111",
     "status": "completed"
    },
    "tags": []
   },
   "source": [
    "We see the relevant binary flags, day of weeks, week, month, and year numeric values we expect. \n",
    "\n",
    "Because the *CompetitionOpenSinceMonth, CompetitionOpenSinceYear, Promo2SinceWeek, and Promo2SinceYear* columns are only using whole numbers and they are a discrete value, we will change them from floats to integers.\n",
    "\n"
   ]
  },
  {
   "cell_type": "code",
   "execution_count": 25,
   "id": "ce1e21cd",
   "metadata": {
    "execution": {
     "iopub.execute_input": "2022-11-10T06:20:22.122444Z",
     "iopub.status.busy": "2022-11-10T06:20:22.122018Z",
     "iopub.status.idle": "2022-11-10T06:20:22.273031Z",
     "shell.execute_reply": "2022-11-10T06:20:22.271613Z"
    },
    "papermill": {
     "duration": 0.193941,
     "end_time": "2022-11-10T06:20:22.276430",
     "exception": false,
     "start_time": "2022-11-10T06:20:22.082489",
     "status": "completed"
    },
    "tags": []
   },
   "outputs": [],
   "source": [
    "merged_sales['CompetitionOpenSinceMonth'] = merged_sales['CompetitionOpenSinceMonth'].convert_dtypes()\n",
    "merged_sales['CompetitionOpenSinceYear'] = merged_sales['CompetitionOpenSinceYear'].convert_dtypes()\n",
    "merged_sales['Promo2SinceWeek'] = merged_sales['Promo2SinceWeek'].convert_dtypes()\n",
    "merged_sales['Promo2SinceYear'] = merged_sales['Promo2SinceYear'].convert_dtypes()"
   ]
  },
  {
   "cell_type": "code",
   "execution_count": 26,
   "id": "7fa12d93",
   "metadata": {
    "execution": {
     "iopub.execute_input": "2022-11-10T06:20:22.352912Z",
     "iopub.status.busy": "2022-11-10T06:20:22.351570Z",
     "iopub.status.idle": "2022-11-10T06:20:22.571434Z",
     "shell.execute_reply": "2022-11-10T06:20:22.570098Z"
    },
    "papermill": {
     "duration": 0.261294,
     "end_time": "2022-11-10T06:20:22.575142",
     "exception": false,
     "start_time": "2022-11-10T06:20:22.313848",
     "status": "completed"
    },
    "tags": []
   },
   "outputs": [
    {
     "name": "stdout",
     "output_type": "stream",
     "text": [
      "<class 'pandas.core.frame.DataFrame'>\n",
      "Int64Index: 1017209 entries, 0 to 1017208\n",
      "Data columns (total 21 columns):\n",
      " #   Column                     Non-Null Count    Dtype         \n",
      "---  ------                     --------------    -----         \n",
      " 0   Store                      1017209 non-null  int64         \n",
      " 1   DayOfWeek                  1017209 non-null  int64         \n",
      " 2   Date                       1017209 non-null  datetime64[ns]\n",
      " 3   Sales                      1017209 non-null  int64         \n",
      " 4   Customers                  1017209 non-null  int64         \n",
      " 5   Open                       1017209 non-null  int64         \n",
      " 6   Promo                      1017209 non-null  int64         \n",
      " 7   StateHoliday               1017209 non-null  object        \n",
      " 8   SchoolHoliday              1017209 non-null  int64         \n",
      " 9   StoreType                  1017209 non-null  object        \n",
      " 10  Assortment                 1017209 non-null  object        \n",
      " 11  CompetitionDistance        1014567 non-null  float64       \n",
      " 12  CompetitionOpenSinceMonth  693861 non-null   Int64         \n",
      " 13  CompetitionOpenSinceYear   693861 non-null   Int64         \n",
      " 14  Promo2                     1017209 non-null  int64         \n",
      " 15  Promo2SinceWeek            509178 non-null   Int64         \n",
      " 16  Promo2SinceYear            509178 non-null   Int64         \n",
      " 17  PromoInterval              509178 non-null   object        \n",
      " 18  Year                       1017209 non-null  int64         \n",
      " 19  Month                      1017209 non-null  int64         \n",
      " 20  DayOfMonth                 1017209 non-null  int64         \n",
      "dtypes: Int64(4), datetime64[ns](1), float64(1), int64(11), object(4)\n",
      "memory usage: 174.6+ MB\n"
     ]
    }
   ],
   "source": [
    "merged_sales.info()"
   ]
  },
  {
   "cell_type": "markdown",
   "id": "80881344",
   "metadata": {
    "papermill": {
     "duration": 0.037563,
     "end_time": "2022-11-10T06:20:22.651295",
     "exception": false,
     "start_time": "2022-11-10T06:20:22.613732",
     "status": "completed"
    },
    "tags": []
   },
   "source": [
    "Now we can see that *CompetitionDistance*, our only continuous value, is our only column with floats.\n"
   ]
  },
  {
   "cell_type": "markdown",
   "id": "f9af954c",
   "metadata": {
    "papermill": {
     "duration": 0.036503,
     "end_time": "2022-11-10T06:20:22.725114",
     "exception": false,
     "start_time": "2022-11-10T06:20:22.688611",
     "status": "completed"
    },
    "tags": []
   },
   "source": [
    "---"
   ]
  },
  {
   "cell_type": "markdown",
   "id": "0f884cdb",
   "metadata": {
    "papermill": {
     "duration": 0.037179,
     "end_time": "2022-11-10T06:20:22.801802",
     "exception": false,
     "start_time": "2022-11-10T06:20:22.764623",
     "status": "completed"
    },
    "tags": []
   },
   "source": [
    "<h2 style=\"background-color:#6dbcc5; color: #FFFFFF; padding: 8px;\">Removing Rows and Columns</h2>\n",
    "\n",
    "Below I look at entries for stores on days they were closed. \n",
    "\n",
    "For the purposes of our analysis I've chosen to drop these rows, as no sales are recorded on days stores are closed. The zero sales recorded for each of these rows lowers the average sales, and we can see this by comparing the mean *Sales* for all entries in our table to the mean *Sales* of only days that stores were open. If we filter for entries of stores that are closed we'll see a return of 172,817 rows, all of which record the expected 0 sales, lowering our mean *Sales* statistic. \n",
    "\n",
    "\n",
    "The potential information lost here is if we want to compare stores based on the number of days they are open or closed, but that is beyond the scope of our analysis for now. To avoid losing this information we will make a copy of our dataframe with only the days stores are open, to further be referred to as **sales**, rather than altering **merged_sales** in case we wish to access this data at a later time. "
   ]
  },
  {
   "cell_type": "code",
   "execution_count": 27,
   "id": "77a96397",
   "metadata": {
    "execution": {
     "iopub.execute_input": "2022-11-10T06:20:22.876489Z",
     "iopub.status.busy": "2022-11-10T06:20:22.876062Z",
     "iopub.status.idle": "2022-11-10T06:20:22.885021Z",
     "shell.execute_reply": "2022-11-10T06:20:22.883856Z"
    },
    "papermill": {
     "duration": 0.049346,
     "end_time": "2022-11-10T06:20:22.887738",
     "exception": false,
     "start_time": "2022-11-10T06:20:22.838392",
     "status": "completed"
    },
    "tags": []
   },
   "outputs": [
    {
     "data": {
      "text/plain": [
       "5773.818972305593"
      ]
     },
     "execution_count": 27,
     "metadata": {},
     "output_type": "execute_result"
    }
   ],
   "source": [
    "## mean sales including entries for days stores are closed\n",
    "merged_sales['Sales'].mean()"
   ]
  },
  {
   "cell_type": "code",
   "execution_count": 28,
   "id": "71246705",
   "metadata": {
    "execution": {
     "iopub.execute_input": "2022-11-10T06:20:22.964442Z",
     "iopub.status.busy": "2022-11-10T06:20:22.963750Z",
     "iopub.status.idle": "2022-11-10T06:20:22.985559Z",
     "shell.execute_reply": "2022-11-10T06:20:22.984255Z"
    },
    "papermill": {
     "duration": 0.063994,
     "end_time": "2022-11-10T06:20:22.988191",
     "exception": false,
     "start_time": "2022-11-10T06:20:22.924197",
     "status": "completed"
    },
    "tags": []
   },
   "outputs": [
    {
     "data": {
      "text/plain": [
       "6955.514290755952"
      ]
     },
     "execution_count": 28,
     "metadata": {},
     "output_type": "execute_result"
    }
   ],
   "source": [
    "## mean sales for only days stores are open\n",
    "merged_sales.loc[merged_sales['Open'] == 1, 'Sales'].mean()"
   ]
  },
  {
   "cell_type": "code",
   "execution_count": 29,
   "id": "2b7d6827",
   "metadata": {
    "execution": {
     "iopub.execute_input": "2022-11-10T06:20:23.065733Z",
     "iopub.status.busy": "2022-11-10T06:20:23.065276Z",
     "iopub.status.idle": "2022-11-10T06:20:23.116559Z",
     "shell.execute_reply": "2022-11-10T06:20:23.115167Z"
    },
    "papermill": {
     "duration": 0.092651,
     "end_time": "2022-11-10T06:20:23.119124",
     "exception": false,
     "start_time": "2022-11-10T06:20:23.026473",
     "status": "completed"
    },
    "tags": []
   },
   "outputs": [
    {
     "data": {
      "text/plain": [
       "Sales  Customers\n",
       "0      0            172817\n",
       "dtype: int64"
      ]
     },
     "execution_count": 29,
     "metadata": {},
     "output_type": "execute_result"
    }
   ],
   "source": [
    "## confirming all entries where the store is  marked as closed have 0 sales\n",
    "merged_sales.loc[merged_sales[\"Open\"] == 0, ['Sales', 'Customers']].value_counts()"
   ]
  },
  {
   "cell_type": "code",
   "execution_count": 30,
   "id": "eef82c7f",
   "metadata": {
    "execution": {
     "iopub.execute_input": "2022-11-10T06:20:23.198066Z",
     "iopub.status.busy": "2022-11-10T06:20:23.196686Z",
     "iopub.status.idle": "2022-11-10T06:20:23.499893Z",
     "shell.execute_reply": "2022-11-10T06:20:23.498568Z"
    },
    "papermill": {
     "duration": 0.34542,
     "end_time": "2022-11-10T06:20:23.502933",
     "exception": false,
     "start_time": "2022-11-10T06:20:23.157513",
     "status": "completed"
    },
    "tags": []
   },
   "outputs": [],
   "source": [
    "## creating new sales dataframe with only entries for days stores are open\n",
    "sales = merged_sales.drop(index=(merged_sales[merged_sales[\"Open\"] == 0]).index, axis=1)"
   ]
  },
  {
   "cell_type": "markdown",
   "id": "666412a0",
   "metadata": {
    "papermill": {
     "duration": 0.038316,
     "end_time": "2022-11-10T06:20:23.579313",
     "exception": false,
     "start_time": "2022-11-10T06:20:23.540997",
     "status": "completed"
    },
    "tags": []
   },
   "source": [
    "Now as we chose to delete any rows for days a store wasn't open, our *Open* column should only contain the value 1 now and is redundant, so we'll remove that. "
   ]
  },
  {
   "cell_type": "code",
   "execution_count": 31,
   "id": "432d5451",
   "metadata": {
    "execution": {
     "iopub.execute_input": "2022-11-10T06:20:23.657739Z",
     "iopub.status.busy": "2022-11-10T06:20:23.657288Z",
     "iopub.status.idle": "2022-11-10T06:20:23.674535Z",
     "shell.execute_reply": "2022-11-10T06:20:23.673247Z"
    },
    "papermill": {
     "duration": 0.058774,
     "end_time": "2022-11-10T06:20:23.676897",
     "exception": false,
     "start_time": "2022-11-10T06:20:23.618123",
     "status": "completed"
    },
    "tags": []
   },
   "outputs": [
    {
     "data": {
      "text/plain": [
       "1    844392\n",
       "Name: Open, dtype: int64"
      ]
     },
     "execution_count": 31,
     "metadata": {},
     "output_type": "execute_result"
    }
   ],
   "source": [
    "sales['Open'].value_counts()"
   ]
  },
  {
   "cell_type": "code",
   "execution_count": 32,
   "id": "6df567e0",
   "metadata": {
    "execution": {
     "iopub.execute_input": "2022-11-10T06:20:23.756650Z",
     "iopub.status.busy": "2022-11-10T06:20:23.755407Z",
     "iopub.status.idle": "2022-11-10T06:20:23.854300Z",
     "shell.execute_reply": "2022-11-10T06:20:23.853020Z"
    },
    "papermill": {
     "duration": 0.141987,
     "end_time": "2022-11-10T06:20:23.857045",
     "exception": false,
     "start_time": "2022-11-10T06:20:23.715058",
     "status": "completed"
    },
    "tags": []
   },
   "outputs": [],
   "source": [
    "sales.drop(columns=[\"Open\"], inplace=True)"
   ]
  },
  {
   "cell_type": "markdown",
   "id": "6d6e9040",
   "metadata": {
    "papermill": {
     "duration": 0.036718,
     "end_time": "2022-11-10T06:20:23.930868",
     "exception": false,
     "start_time": "2022-11-10T06:20:23.894150",
     "status": "completed"
    },
    "tags": []
   },
   "source": [
    "---"
   ]
  },
  {
   "cell_type": "markdown",
   "id": "d04d2c54",
   "metadata": {
    "papermill": {
     "duration": 0.038262,
     "end_time": "2022-11-10T06:20:24.007034",
     "exception": false,
     "start_time": "2022-11-10T06:20:23.968772",
     "status": "completed"
    },
    "tags": []
   },
   "source": [
    "<h2 style=\"background-color:#6dbcc5; color: #FFFFFF; padding: 8px;\">Outliers</h2>\n",
    "\n",
    "Next we'll take a look at any outliers we may need to treat."
   ]
  },
  {
   "cell_type": "code",
   "execution_count": 33,
   "id": "5b5d82f9",
   "metadata": {
    "execution": {
     "iopub.execute_input": "2022-11-10T06:20:24.083467Z",
     "iopub.status.busy": "2022-11-10T06:20:24.083005Z",
     "iopub.status.idle": "2022-11-10T06:20:24.987275Z",
     "shell.execute_reply": "2022-11-10T06:20:24.985980Z"
    },
    "papermill": {
     "duration": 0.945233,
     "end_time": "2022-11-10T06:20:24.989653",
     "exception": false,
     "start_time": "2022-11-10T06:20:24.044420",
     "status": "completed"
    },
    "tags": []
   },
   "outputs": [
    {
     "data": {
      "text/plain": [
       "Sales                     AxesSubplot(0.125,0.536818;0.352273x0.343182)\n",
       "Customers              AxesSubplot(0.547727,0.536818;0.352273x0.343182)\n",
       "CompetitionDistance          AxesSubplot(0.125,0.125;0.352273x0.343182)\n",
       "dtype: object"
      ]
     },
     "execution_count": 33,
     "metadata": {},
     "output_type": "execute_result"
    },
    {
     "data": {
      "image/png": "[encoded data removed]",
      "text/plain": [
       "<Figure size 1080x1080 with 4 Axes>"
      ]
     },
     "metadata": {
      "needs_background": "light"
     },
     "output_type": "display_data"
    }
   ],
   "source": [
    "sales.plot(y=['Sales', 'Customers', 'CompetitionDistance'], \n",
    "           kind='box', subplots=True, layout=(2,2), figsize=(15,15))"
   ]
  },
  {
   "cell_type": "markdown",
   "id": "ef1d7f95",
   "metadata": {
    "papermill": {
     "duration": 0.037717,
     "end_time": "2022-11-10T06:20:25.065464",
     "exception": false,
     "start_time": "2022-11-10T06:20:25.027747",
     "status": "completed"
    },
    "tags": []
   },
   "source": [
    "From the box plots above we can see that *Sales, Customers,* and *CompetitionDistance* all appear to have significant outliers, so we'll explore further by calculating and investigating the outliers for each one. \n",
    "\n"
   ]
  },
  {
   "cell_type": "markdown",
   "id": "e574a306",
   "metadata": {
    "papermill": {
     "duration": 0.037411,
     "end_time": "2022-11-10T06:20:25.142022",
     "exception": false,
     "start_time": "2022-11-10T06:20:25.104611",
     "status": "completed"
    },
    "tags": []
   },
   "source": [
    "---"
   ]
  },
  {
   "cell_type": "markdown",
   "id": "fd74395d",
   "metadata": {
    "papermill": {
     "duration": 0.039038,
     "end_time": "2022-11-10T06:20:25.218375",
     "exception": false,
     "start_time": "2022-11-10T06:20:25.179337",
     "status": "completed"
    },
    "tags": []
   },
   "source": [
    "<h2 style=\"background-color:#6dbcc5; color: #FFFFFF; padding: 8px;\">Sales Outliers</h2>"
   ]
  },
  {
   "cell_type": "markdown",
   "id": "4592bbff",
   "metadata": {
    "papermill": {
     "duration": 0.039385,
     "end_time": "2022-11-10T06:20:25.295095",
     "exception": false,
     "start_time": "2022-11-10T06:20:25.255710",
     "status": "completed"
    },
    "tags": []
   },
   "source": [
    "We will start with the *Sales* column."
   ]
  },
  {
   "cell_type": "code",
   "execution_count": 34,
   "id": "5b5fb408",
   "metadata": {
    "execution": {
     "iopub.execute_input": "2022-11-10T06:20:25.373197Z",
     "iopub.status.busy": "2022-11-10T06:20:25.372707Z",
     "iopub.status.idle": "2022-11-10T06:20:25.380504Z",
     "shell.execute_reply": "2022-11-10T06:20:25.379439Z"
    },
    "papermill": {
     "duration": 0.049811,
     "end_time": "2022-11-10T06:20:25.382972",
     "exception": false,
     "start_time": "2022-11-10T06:20:25.333161",
     "status": "completed"
    },
    "tags": []
   },
   "outputs": [],
   "source": [
    "def calculate_outlier(df,column): ## function for calculating outliers\n",
    "    Q3 = df[column].quantile(0.75)\n",
    "    Q1 = df[column].quantile(0.25)\n",
    "    IQR = Q3 - Q1\n",
    "    lower = Q1 - 1.5 * IQR\n",
    "    upper = Q3 + 1.5 * IQR\n",
    "    percent_outliers = round(((df[df[column] > upper].shape[0]) + (df[df[column] < lower].shape[0])) / df.shape[0] * 100, 2)\n",
    "    return lower, upper, percent_outliers"
   ]
  },
  {
   "cell_type": "code",
   "execution_count": 35,
   "id": "ad19747e",
   "metadata": {
    "execution": {
     "iopub.execute_input": "2022-11-10T06:20:25.462947Z",
     "iopub.status.busy": "2022-11-10T06:20:25.462539Z",
     "iopub.status.idle": "2022-11-10T06:20:25.515218Z",
     "shell.execute_reply": "2022-11-10T06:20:25.514283Z"
    },
    "papermill": {
     "duration": 0.096732,
     "end_time": "2022-11-10T06:20:25.519203",
     "exception": false,
     "start_time": "2022-11-10T06:20:25.422471",
     "status": "completed"
    },
    "tags": []
   },
   "outputs": [
    {
     "name": "stdout",
     "output_type": "stream",
     "text": [
      "lower band = -392.5\n",
      "upper band = 13611.5\n",
      "percentage of sales that are outliers = 3.64%\n"
     ]
    }
   ],
   "source": [
    "col = 'Sales'\n",
    "lower_sales, upper_sales, percent_outliers_sales = calculate_outlier(sales, col)\n",
    "\n",
    "print(\"lower band = \" + str(lower_sales))\n",
    "print(\"upper band = \" + str(upper_sales))\n",
    "print(\"percentage of sales that are outliers = \" + str(percent_outliers_sales) + \"%\")"
   ]
  },
  {
   "cell_type": "markdown",
   "id": "ce6bfcf1",
   "metadata": {
    "papermill": {
     "duration": 0.038869,
     "end_time": "2022-11-10T06:20:25.597709",
     "exception": false,
     "start_time": "2022-11-10T06:20:25.558840",
     "status": "completed"
    },
    "tags": []
   },
   "source": [
    "We know from our summary statistics that there aren't any sales below 0, so we'll just look at the upper outliers that we've calculated for the *Sales* column."
   ]
  },
  {
   "cell_type": "code",
   "execution_count": 36,
   "id": "77aa58aa",
   "metadata": {
    "execution": {
     "iopub.execute_input": "2022-11-10T06:20:25.677542Z",
     "iopub.status.busy": "2022-11-10T06:20:25.676247Z",
     "iopub.status.idle": "2022-11-10T06:20:25.728339Z",
     "shell.execute_reply": "2022-11-10T06:20:25.726871Z"
    },
    "papermill": {
     "duration": 0.095405,
     "end_time": "2022-11-10T06:20:25.731169",
     "exception": false,
     "start_time": "2022-11-10T06:20:25.635764",
     "status": "completed"
    },
    "tags": []
   },
   "outputs": [
    {
     "data": {
      "text/html": [
       "<div>\n",
       "<style scoped>\n",
       "    .dataframe tbody tr th:only-of-type {\n",
       "        vertical-align: middle;\n",
       "    }\n",
       "\n",
       "    .dataframe tbody tr th {\n",
       "        vertical-align: top;\n",
       "    }\n",
       "\n",
       "    .dataframe thead th {\n",
       "        text-align: right;\n",
       "    }\n",
       "</style>\n",
       "<table border=\"1\" class=\"dataframe\">\n",
       "  <thead>\n",
       "    <tr style=\"text-align: right;\">\n",
       "      <th></th>\n",
       "      <th>Store</th>\n",
       "      <th>DayOfWeek</th>\n",
       "      <th>Date</th>\n",
       "      <th>Sales</th>\n",
       "      <th>Customers</th>\n",
       "      <th>Promo</th>\n",
       "      <th>StateHoliday</th>\n",
       "      <th>SchoolHoliday</th>\n",
       "      <th>StoreType</th>\n",
       "      <th>Assortment</th>\n",
       "      <th>CompetitionDistance</th>\n",
       "      <th>CompetitionOpenSinceMonth</th>\n",
       "      <th>CompetitionOpenSinceYear</th>\n",
       "      <th>Promo2</th>\n",
       "      <th>Promo2SinceWeek</th>\n",
       "      <th>Promo2SinceYear</th>\n",
       "      <th>PromoInterval</th>\n",
       "      <th>Year</th>\n",
       "      <th>Month</th>\n",
       "      <th>DayOfMonth</th>\n",
       "    </tr>\n",
       "  </thead>\n",
       "  <tbody>\n",
       "    <tr>\n",
       "      <th>3</th>\n",
       "      <td>4</td>\n",
       "      <td>5</td>\n",
       "      <td>2015-07-31</td>\n",
       "      <td>13995</td>\n",
       "      <td>1498</td>\n",
       "      <td>1</td>\n",
       "      <td>0</td>\n",
       "      <td>1</td>\n",
       "      <td>c</td>\n",
       "      <td>c</td>\n",
       "      <td>620.0</td>\n",
       "      <td>9</td>\n",
       "      <td>2009</td>\n",
       "      <td>0</td>\n",
       "      <td>&lt;NA&gt;</td>\n",
       "      <td>&lt;NA&gt;</td>\n",
       "      <td>NaN</td>\n",
       "      <td>2015</td>\n",
       "      <td>7</td>\n",
       "      <td>31</td>\n",
       "    </tr>\n",
       "    <tr>\n",
       "      <th>6</th>\n",
       "      <td>7</td>\n",
       "      <td>5</td>\n",
       "      <td>2015-07-31</td>\n",
       "      <td>15344</td>\n",
       "      <td>1414</td>\n",
       "      <td>1</td>\n",
       "      <td>0</td>\n",
       "      <td>1</td>\n",
       "      <td>a</td>\n",
       "      <td>c</td>\n",
       "      <td>24000.0</td>\n",
       "      <td>4</td>\n",
       "      <td>2013</td>\n",
       "      <td>0</td>\n",
       "      <td>&lt;NA&gt;</td>\n",
       "      <td>&lt;NA&gt;</td>\n",
       "      <td>NaN</td>\n",
       "      <td>2015</td>\n",
       "      <td>7</td>\n",
       "      <td>31</td>\n",
       "    </tr>\n",
       "    <tr>\n",
       "      <th>23</th>\n",
       "      <td>24</td>\n",
       "      <td>5</td>\n",
       "      <td>2015-07-31</td>\n",
       "      <td>14190</td>\n",
       "      <td>1082</td>\n",
       "      <td>1</td>\n",
       "      <td>0</td>\n",
       "      <td>1</td>\n",
       "      <td>a</td>\n",
       "      <td>c</td>\n",
       "      <td>4590.0</td>\n",
       "      <td>3</td>\n",
       "      <td>2000</td>\n",
       "      <td>1</td>\n",
       "      <td>40</td>\n",
       "      <td>2011</td>\n",
       "      <td>Jan,Apr,Jul,Oct</td>\n",
       "      <td>2015</td>\n",
       "      <td>7</td>\n",
       "      <td>31</td>\n",
       "    </tr>\n",
       "    <tr>\n",
       "      <th>24</th>\n",
       "      <td>25</td>\n",
       "      <td>5</td>\n",
       "      <td>2015-07-31</td>\n",
       "      <td>14180</td>\n",
       "      <td>1586</td>\n",
       "      <td>1</td>\n",
       "      <td>0</td>\n",
       "      <td>1</td>\n",
       "      <td>c</td>\n",
       "      <td>a</td>\n",
       "      <td>430.0</td>\n",
       "      <td>4</td>\n",
       "      <td>2003</td>\n",
       "      <td>0</td>\n",
       "      <td>&lt;NA&gt;</td>\n",
       "      <td>&lt;NA&gt;</td>\n",
       "      <td>NaN</td>\n",
       "      <td>2015</td>\n",
       "      <td>7</td>\n",
       "      <td>31</td>\n",
       "    </tr>\n",
       "    <tr>\n",
       "      <th>83</th>\n",
       "      <td>84</td>\n",
       "      <td>5</td>\n",
       "      <td>2015-07-31</td>\n",
       "      <td>14949</td>\n",
       "      <td>1439</td>\n",
       "      <td>1</td>\n",
       "      <td>0</td>\n",
       "      <td>1</td>\n",
       "      <td>a</td>\n",
       "      <td>c</td>\n",
       "      <td>11810.0</td>\n",
       "      <td>8</td>\n",
       "      <td>2014</td>\n",
       "      <td>0</td>\n",
       "      <td>&lt;NA&gt;</td>\n",
       "      <td>&lt;NA&gt;</td>\n",
       "      <td>NaN</td>\n",
       "      <td>2015</td>\n",
       "      <td>7</td>\n",
       "      <td>31</td>\n",
       "    </tr>\n",
       "    <tr>\n",
       "      <th>...</th>\n",
       "      <td>...</td>\n",
       "      <td>...</td>\n",
       "      <td>...</td>\n",
       "      <td>...</td>\n",
       "      <td>...</td>\n",
       "      <td>...</td>\n",
       "      <td>...</td>\n",
       "      <td>...</td>\n",
       "      <td>...</td>\n",
       "      <td>...</td>\n",
       "      <td>...</td>\n",
       "      <td>...</td>\n",
       "      <td>...</td>\n",
       "      <td>...</td>\n",
       "      <td>...</td>\n",
       "      <td>...</td>\n",
       "      <td>...</td>\n",
       "      <td>...</td>\n",
       "      <td>...</td>\n",
       "      <td>...</td>\n",
       "    </tr>\n",
       "    <tr>\n",
       "      <th>1015796</th>\n",
       "      <td>817</td>\n",
       "      <td>3</td>\n",
       "      <td>2013-01-02</td>\n",
       "      <td>25357</td>\n",
       "      <td>3462</td>\n",
       "      <td>0</td>\n",
       "      <td>0</td>\n",
       "      <td>1</td>\n",
       "      <td>a</td>\n",
       "      <td>a</td>\n",
       "      <td>140.0</td>\n",
       "      <td>3</td>\n",
       "      <td>2006</td>\n",
       "      <td>0</td>\n",
       "      <td>&lt;NA&gt;</td>\n",
       "      <td>&lt;NA&gt;</td>\n",
       "      <td>NaN</td>\n",
       "      <td>2013</td>\n",
       "      <td>1</td>\n",
       "      <td>2</td>\n",
       "    </tr>\n",
       "    <tr>\n",
       "      <th>1015821</th>\n",
       "      <td>842</td>\n",
       "      <td>3</td>\n",
       "      <td>2013-01-02</td>\n",
       "      <td>20355</td>\n",
       "      <td>1257</td>\n",
       "      <td>0</td>\n",
       "      <td>0</td>\n",
       "      <td>1</td>\n",
       "      <td>d</td>\n",
       "      <td>c</td>\n",
       "      <td>1200.0</td>\n",
       "      <td>11</td>\n",
       "      <td>2007</td>\n",
       "      <td>0</td>\n",
       "      <td>&lt;NA&gt;</td>\n",
       "      <td>&lt;NA&gt;</td>\n",
       "      <td>NaN</td>\n",
       "      <td>2013</td>\n",
       "      <td>1</td>\n",
       "      <td>2</td>\n",
       "    </tr>\n",
       "    <tr>\n",
       "      <th>1016012</th>\n",
       "      <td>1033</td>\n",
       "      <td>3</td>\n",
       "      <td>2013-01-02</td>\n",
       "      <td>13811</td>\n",
       "      <td>1408</td>\n",
       "      <td>0</td>\n",
       "      <td>0</td>\n",
       "      <td>1</td>\n",
       "      <td>a</td>\n",
       "      <td>a</td>\n",
       "      <td>7680.0</td>\n",
       "      <td>3</td>\n",
       "      <td>2006</td>\n",
       "      <td>0</td>\n",
       "      <td>&lt;NA&gt;</td>\n",
       "      <td>&lt;NA&gt;</td>\n",
       "      <td>NaN</td>\n",
       "      <td>2013</td>\n",
       "      <td>1</td>\n",
       "      <td>2</td>\n",
       "    </tr>\n",
       "    <tr>\n",
       "      <th>1016093</th>\n",
       "      <td>1114</td>\n",
       "      <td>3</td>\n",
       "      <td>2013-01-02</td>\n",
       "      <td>20642</td>\n",
       "      <td>3401</td>\n",
       "      <td>0</td>\n",
       "      <td>0</td>\n",
       "      <td>1</td>\n",
       "      <td>a</td>\n",
       "      <td>c</td>\n",
       "      <td>870.0</td>\n",
       "      <td>&lt;NA&gt;</td>\n",
       "      <td>&lt;NA&gt;</td>\n",
       "      <td>0</td>\n",
       "      <td>&lt;NA&gt;</td>\n",
       "      <td>&lt;NA&gt;</td>\n",
       "      <td>NaN</td>\n",
       "      <td>2013</td>\n",
       "      <td>1</td>\n",
       "      <td>2</td>\n",
       "    </tr>\n",
       "    <tr>\n",
       "      <th>1016356</th>\n",
       "      <td>262</td>\n",
       "      <td>2</td>\n",
       "      <td>2013-01-01</td>\n",
       "      <td>17267</td>\n",
       "      <td>2875</td>\n",
       "      <td>0</td>\n",
       "      <td>a</td>\n",
       "      <td>1</td>\n",
       "      <td>b</td>\n",
       "      <td>a</td>\n",
       "      <td>1180.0</td>\n",
       "      <td>5</td>\n",
       "      <td>2013</td>\n",
       "      <td>0</td>\n",
       "      <td>&lt;NA&gt;</td>\n",
       "      <td>&lt;NA&gt;</td>\n",
       "      <td>NaN</td>\n",
       "      <td>2013</td>\n",
       "      <td>1</td>\n",
       "      <td>1</td>\n",
       "    </tr>\n",
       "  </tbody>\n",
       "</table>\n",
       "<p>30769 rows × 20 columns</p>\n",
       "</div>"
      ],
      "text/plain": [
       "         Store  DayOfWeek       Date  Sales  Customers  Promo StateHoliday  \\\n",
       "3            4          5 2015-07-31  13995       1498      1            0   \n",
       "6            7          5 2015-07-31  15344       1414      1            0   \n",
       "23          24          5 2015-07-31  14190       1082      1            0   \n",
       "24          25          5 2015-07-31  14180       1586      1            0   \n",
       "83          84          5 2015-07-31  14949       1439      1            0   \n",
       "...        ...        ...        ...    ...        ...    ...          ...   \n",
       "1015796    817          3 2013-01-02  25357       3462      0            0   \n",
       "1015821    842          3 2013-01-02  20355       1257      0            0   \n",
       "1016012   1033          3 2013-01-02  13811       1408      0            0   \n",
       "1016093   1114          3 2013-01-02  20642       3401      0            0   \n",
       "1016356    262          2 2013-01-01  17267       2875      0            a   \n",
       "\n",
       "         SchoolHoliday StoreType Assortment  CompetitionDistance  \\\n",
       "3                    1         c          c                620.0   \n",
       "6                    1         a          c              24000.0   \n",
       "23                   1         a          c               4590.0   \n",
       "24                   1         c          a                430.0   \n",
       "83                   1         a          c              11810.0   \n",
       "...                ...       ...        ...                  ...   \n",
       "1015796              1         a          a                140.0   \n",
       "1015821              1         d          c               1200.0   \n",
       "1016012              1         a          a               7680.0   \n",
       "1016093              1         a          c                870.0   \n",
       "1016356              1         b          a               1180.0   \n",
       "\n",
       "         CompetitionOpenSinceMonth  CompetitionOpenSinceYear  Promo2  \\\n",
       "3                                9                      2009       0   \n",
       "6                                4                      2013       0   \n",
       "23                               3                      2000       1   \n",
       "24                               4                      2003       0   \n",
       "83                               8                      2014       0   \n",
       "...                            ...                       ...     ...   \n",
       "1015796                          3                      2006       0   \n",
       "1015821                         11                      2007       0   \n",
       "1016012                          3                      2006       0   \n",
       "1016093                       <NA>                      <NA>       0   \n",
       "1016356                          5                      2013       0   \n",
       "\n",
       "         Promo2SinceWeek  Promo2SinceYear    PromoInterval  Year  Month  \\\n",
       "3                   <NA>             <NA>              NaN  2015      7   \n",
       "6                   <NA>             <NA>              NaN  2015      7   \n",
       "23                    40             2011  Jan,Apr,Jul,Oct  2015      7   \n",
       "24                  <NA>             <NA>              NaN  2015      7   \n",
       "83                  <NA>             <NA>              NaN  2015      7   \n",
       "...                  ...              ...              ...   ...    ...   \n",
       "1015796             <NA>             <NA>              NaN  2013      1   \n",
       "1015821             <NA>             <NA>              NaN  2013      1   \n",
       "1016012             <NA>             <NA>              NaN  2013      1   \n",
       "1016093             <NA>             <NA>              NaN  2013      1   \n",
       "1016356             <NA>             <NA>              NaN  2013      1   \n",
       "\n",
       "         DayOfMonth  \n",
       "3                31  \n",
       "6                31  \n",
       "23               31  \n",
       "24               31  \n",
       "83               31  \n",
       "...             ...  \n",
       "1015796           2  \n",
       "1015821           2  \n",
       "1016012           2  \n",
       "1016093           2  \n",
       "1016356           1  \n",
       "\n",
       "[30769 rows x 20 columns]"
      ]
     },
     "execution_count": 36,
     "metadata": {},
     "output_type": "execute_result"
    }
   ],
   "source": [
    "sales[sales[col] > upper_sales]"
   ]
  },
  {
   "cell_type": "markdown",
   "id": "bf086625",
   "metadata": {
    "papermill": {
     "duration": 0.037996,
     "end_time": "2022-11-10T06:20:25.807483",
     "exception": false,
     "start_time": "2022-11-10T06:20:25.769487",
     "status": "completed"
    },
    "tags": []
   },
   "source": [
    "While 30,769 is a lot of values, we can see from our calculte_outlier function that these outliers only account for 3.64% of all our sales values.\n",
    "\n",
    "We'll look further to see if we see any trends with the outliers based on Month or Type of Store."
   ]
  },
  {
   "cell_type": "code",
   "execution_count": 37,
   "id": "1defd5f8",
   "metadata": {
    "execution": {
     "iopub.execute_input": "2022-11-10T06:20:25.954932Z",
     "iopub.status.busy": "2022-11-10T06:20:25.954456Z",
     "iopub.status.idle": "2022-11-10T06:20:26.161070Z",
     "shell.execute_reply": "2022-11-10T06:20:26.159901Z"
    },
    "papermill": {
     "duration": 0.318222,
     "end_time": "2022-11-10T06:20:26.163654",
     "exception": false,
     "start_time": "2022-11-10T06:20:25.845432",
     "status": "completed"
    },
    "tags": []
   },
   "outputs": [
    {
     "data": {
      "image/png": "[encoded data removed]",
      "text/plain": [
       "<Figure size 720x360 with 1 Axes>"
      ]
     },
     "metadata": {
      "needs_background": "light"
     },
     "output_type": "display_data"
    }
   ],
   "source": [
    "sales_outliers_by_month = pd.pivot_table((sales.loc[sales[col] > upper_sales]), index='Month', values='Sales', aggfunc='count')\n",
    "\n",
    "sales_outliers_by_month.plot(y='Sales', kind='bar', figsize=(10,5), title=\"# of Sales Outlier Entries by Month\")\n",
    "plt.legend(loc='upper right', bbox_to_anchor=(1.2, 1.1))\n",
    "plt.show()"
   ]
  },
  {
   "cell_type": "code",
   "execution_count": 38,
   "id": "8a662bf1",
   "metadata": {
    "execution": {
     "iopub.execute_input": "2022-11-10T06:20:26.246624Z",
     "iopub.status.busy": "2022-11-10T06:20:26.246213Z",
     "iopub.status.idle": "2022-11-10T06:20:26.426778Z",
     "shell.execute_reply": "2022-11-10T06:20:26.425414Z"
    },
    "papermill": {
     "duration": 0.224033,
     "end_time": "2022-11-10T06:20:26.429404",
     "exception": false,
     "start_time": "2022-11-10T06:20:26.205371",
     "status": "completed"
    },
    "tags": []
   },
   "outputs": [
    {
     "data": {
      "image/png": "[encoded data removed]",
      "text/plain": [
       "<Figure size 432x432 with 1 Axes>"
      ]
     },
     "metadata": {
      "needs_background": "light"
     },
     "output_type": "display_data"
    }
   ],
   "source": [
    "sales_outliers_by_stype = pd.pivot_table((sales.loc[sales[col] > upper_sales]), index='StoreType', values='Sales', aggfunc='count')\n",
    "\n",
    "sales_outliers_by_stype.plot(y='Sales', kind='bar', figsize=(6,6), \n",
    "                             title=\"# of Sales Outlier Entries by Store Type\", \n",
    "                             color=['blue','red','green','orange'])\n",
    "plt.legend(loc='upper right', bbox_to_anchor=(1.2, 1.1))\n",
    "plt.show()"
   ]
  },
  {
   "cell_type": "markdown",
   "id": "b5688811",
   "metadata": {
    "papermill": {
     "duration": 0.039259,
     "end_time": "2022-11-10T06:20:26.508034",
     "exception": false,
     "start_time": "2022-11-10T06:20:26.468775",
     "status": "completed"
    },
    "tags": []
   },
   "source": [
    "When we look at the *Sales* outliers by month, we see the most represented month is December at 17.33%, which is unsurprising given the Christmas holidays. However, when we look at the outliers by *Store Type* we see that the 61.71% majority are coming from Type A stores, while Type B, C, D are more equally represented at 11-15%. This suggests that Type A stores may be the best performers in regards to outstanding sales days, and is worth looking into further. \n",
    "\n",
    "Below we will treat our *Sales* outliers by imputing them with our upper range value we calculated earlier, 13611.5, rounded up to 13612 as our *Sales* column is a measure of discrete values using whole numbers. As these outliers represent exceptionally high sales day, they are intended to be high numbers, but we would like to treat the outliers to limit their influence on any future modelling. As such imputing with our upper range value feels more appropriate than using our mean *Sales* value. \n",
    "\n",
    "We also save this a new dataframe going forward, to further be referenced to as **sales_treated**, so that we can preserve our **sales** dataframe with the outliers intact, should we wish to investigate them further."
   ]
  },
  {
   "cell_type": "code",
   "execution_count": 39,
   "id": "6dfe550e",
   "metadata": {
    "execution": {
     "iopub.execute_input": "2022-11-10T06:20:26.591279Z",
     "iopub.status.busy": "2022-11-10T06:20:26.590786Z",
     "iopub.status.idle": "2022-11-10T06:20:26.649684Z",
     "shell.execute_reply": "2022-11-10T06:20:26.648453Z"
    },
    "papermill": {
     "duration": 0.104,
     "end_time": "2022-11-10T06:20:26.652718",
     "exception": false,
     "start_time": "2022-11-10T06:20:26.548718",
     "status": "completed"
    },
    "tags": []
   },
   "outputs": [],
   "source": [
    "sales_treated = sales.copy()"
   ]
  },
  {
   "cell_type": "code",
   "execution_count": 40,
   "id": "1a5e21be",
   "metadata": {
    "execution": {
     "iopub.execute_input": "2022-11-10T06:20:26.733624Z",
     "iopub.status.busy": "2022-11-10T06:20:26.733168Z",
     "iopub.status.idle": "2022-11-10T06:20:26.747265Z",
     "shell.execute_reply": "2022-11-10T06:20:26.746126Z"
    },
    "papermill": {
     "duration": 0.058285,
     "end_time": "2022-11-10T06:20:26.750309",
     "exception": false,
     "start_time": "2022-11-10T06:20:26.692024",
     "status": "completed"
    },
    "tags": []
   },
   "outputs": [],
   "source": [
    "sales_treated.loc[sales_treated[col] > upper_sales, 'Sales'] = 13612"
   ]
  },
  {
   "cell_type": "code",
   "execution_count": 41,
   "id": "3ce11d05",
   "metadata": {
    "execution": {
     "iopub.execute_input": "2022-11-10T06:20:26.831934Z",
     "iopub.status.busy": "2022-11-10T06:20:26.831549Z",
     "iopub.status.idle": "2022-11-10T06:20:26.846890Z",
     "shell.execute_reply": "2022-11-10T06:20:26.845694Z"
    },
    "papermill": {
     "duration": 0.058665,
     "end_time": "2022-11-10T06:20:26.849396",
     "exception": false,
     "start_time": "2022-11-10T06:20:26.790731",
     "status": "completed"
    },
    "tags": []
   },
   "outputs": [
    {
     "data": {
      "text/html": [
       "<div>\n",
       "<style scoped>\n",
       "    .dataframe tbody tr th:only-of-type {\n",
       "        vertical-align: middle;\n",
       "    }\n",
       "\n",
       "    .dataframe tbody tr th {\n",
       "        vertical-align: top;\n",
       "    }\n",
       "\n",
       "    .dataframe thead th {\n",
       "        text-align: right;\n",
       "    }\n",
       "</style>\n",
       "<table border=\"1\" class=\"dataframe\">\n",
       "  <thead>\n",
       "    <tr style=\"text-align: right;\">\n",
       "      <th></th>\n",
       "      <th>Store</th>\n",
       "      <th>DayOfWeek</th>\n",
       "      <th>Date</th>\n",
       "      <th>Sales</th>\n",
       "      <th>Customers</th>\n",
       "      <th>Promo</th>\n",
       "      <th>StateHoliday</th>\n",
       "      <th>SchoolHoliday</th>\n",
       "      <th>StoreType</th>\n",
       "      <th>Assortment</th>\n",
       "      <th>CompetitionDistance</th>\n",
       "      <th>CompetitionOpenSinceMonth</th>\n",
       "      <th>CompetitionOpenSinceYear</th>\n",
       "      <th>Promo2</th>\n",
       "      <th>Promo2SinceWeek</th>\n",
       "      <th>Promo2SinceYear</th>\n",
       "      <th>PromoInterval</th>\n",
       "      <th>Year</th>\n",
       "      <th>Month</th>\n",
       "      <th>DayOfMonth</th>\n",
       "    </tr>\n",
       "  </thead>\n",
       "  <tbody>\n",
       "  </tbody>\n",
       "</table>\n",
       "</div>"
      ],
      "text/plain": [
       "Empty DataFrame\n",
       "Columns: [Store, DayOfWeek, Date, Sales, Customers, Promo, StateHoliday, SchoolHoliday, StoreType, Assortment, CompetitionDistance, CompetitionOpenSinceMonth, CompetitionOpenSinceYear, Promo2, Promo2SinceWeek, Promo2SinceYear, PromoInterval, Year, Month, DayOfMonth]\n",
       "Index: []"
      ]
     },
     "execution_count": 41,
     "metadata": {},
     "output_type": "execute_result"
    }
   ],
   "source": [
    "sales_treated[sales_treated['Sales'] > 13612] ## double-checking our imputation worked"
   ]
  },
  {
   "cell_type": "markdown",
   "id": "12e453df",
   "metadata": {
    "papermill": {
     "duration": 0.03913,
     "end_time": "2022-11-10T06:20:26.928627",
     "exception": false,
     "start_time": "2022-11-10T06:20:26.889497",
     "status": "completed"
    },
    "tags": []
   },
   "source": [
    "---"
   ]
  },
  {
   "cell_type": "markdown",
   "id": "290bc224",
   "metadata": {
    "papermill": {
     "duration": 0.039031,
     "end_time": "2022-11-10T06:20:27.007662",
     "exception": false,
     "start_time": "2022-11-10T06:20:26.968631",
     "status": "completed"
    },
    "tags": []
   },
   "source": [
    "<h2 style=\"background-color:#6dbcc5; color: #FFFFFF; padding: 8px;\">Customer Outliers</h2>\n",
    "\n",
    "Next we'll calculate and investigate our *Customer* outliers."
   ]
  },
  {
   "cell_type": "code",
   "execution_count": 42,
   "id": "3238fe4e",
   "metadata": {
    "execution": {
     "iopub.execute_input": "2022-11-10T06:20:27.088261Z",
     "iopub.status.busy": "2022-11-10T06:20:27.087558Z",
     "iopub.status.idle": "2022-11-10T06:20:27.145061Z",
     "shell.execute_reply": "2022-11-10T06:20:27.143644Z"
    },
    "papermill": {
     "duration": 0.100913,
     "end_time": "2022-11-10T06:20:27.147762",
     "exception": false,
     "start_time": "2022-11-10T06:20:27.046849",
     "status": "completed"
    },
    "tags": []
   },
   "outputs": [
    {
     "name": "stdout",
     "output_type": "stream",
     "text": [
      "-42.0, 1454.0, 4.84%\n"
     ]
    }
   ],
   "source": [
    "col = 'Customers'\n",
    "lower_cust, upper_cust, percent_outliers_cust = calculate_outlier(sales_treated, col)\n",
    "\n",
    "print(str(lower_cust) + \", \" + str(upper_cust) +\", \" + str(percent_outliers_cust) + \"%\")"
   ]
  },
  {
   "cell_type": "markdown",
   "id": "05e3342c",
   "metadata": {
    "papermill": {
     "duration": 0.039102,
     "end_time": "2022-11-10T06:20:27.227015",
     "exception": false,
     "start_time": "2022-11-10T06:20:27.187913",
     "status": "completed"
    },
    "tags": []
   },
   "source": [
    "Similar to *Sales*, we know from our summary statistics that we don't have any *Customer* values below 0, so we'll just look at our upper range value."
   ]
  },
  {
   "cell_type": "code",
   "execution_count": 43,
   "id": "cc7af16a",
   "metadata": {
    "execution": {
     "iopub.execute_input": "2022-11-10T06:20:27.309774Z",
     "iopub.status.busy": "2022-11-10T06:20:27.308612Z",
     "iopub.status.idle": "2022-11-10T06:20:27.364025Z",
     "shell.execute_reply": "2022-11-10T06:20:27.362933Z"
    },
    "papermill": {
     "duration": 0.100024,
     "end_time": "2022-11-10T06:20:27.366856",
     "exception": false,
     "start_time": "2022-11-10T06:20:27.266832",
     "status": "completed"
    },
    "tags": []
   },
   "outputs": [
    {
     "data": {
      "text/html": [
       "<div>\n",
       "<style scoped>\n",
       "    .dataframe tbody tr th:only-of-type {\n",
       "        vertical-align: middle;\n",
       "    }\n",
       "\n",
       "    .dataframe tbody tr th {\n",
       "        vertical-align: top;\n",
       "    }\n",
       "\n",
       "    .dataframe thead th {\n",
       "        text-align: right;\n",
       "    }\n",
       "</style>\n",
       "<table border=\"1\" class=\"dataframe\">\n",
       "  <thead>\n",
       "    <tr style=\"text-align: right;\">\n",
       "      <th></th>\n",
       "      <th>Store</th>\n",
       "      <th>DayOfWeek</th>\n",
       "      <th>Date</th>\n",
       "      <th>Sales</th>\n",
       "      <th>Customers</th>\n",
       "      <th>Promo</th>\n",
       "      <th>StateHoliday</th>\n",
       "      <th>SchoolHoliday</th>\n",
       "      <th>StoreType</th>\n",
       "      <th>Assortment</th>\n",
       "      <th>CompetitionDistance</th>\n",
       "      <th>CompetitionOpenSinceMonth</th>\n",
       "      <th>CompetitionOpenSinceYear</th>\n",
       "      <th>Promo2</th>\n",
       "      <th>Promo2SinceWeek</th>\n",
       "      <th>Promo2SinceYear</th>\n",
       "      <th>PromoInterval</th>\n",
       "      <th>Year</th>\n",
       "      <th>Month</th>\n",
       "      <th>DayOfMonth</th>\n",
       "    </tr>\n",
       "  </thead>\n",
       "  <tbody>\n",
       "    <tr>\n",
       "      <th>3</th>\n",
       "      <td>4</td>\n",
       "      <td>5</td>\n",
       "      <td>2015-07-31</td>\n",
       "      <td>13612</td>\n",
       "      <td>1498</td>\n",
       "      <td>1</td>\n",
       "      <td>0</td>\n",
       "      <td>1</td>\n",
       "      <td>c</td>\n",
       "      <td>c</td>\n",
       "      <td>620.0</td>\n",
       "      <td>9</td>\n",
       "      <td>2009</td>\n",
       "      <td>0</td>\n",
       "      <td>&lt;NA&gt;</td>\n",
       "      <td>&lt;NA&gt;</td>\n",
       "      <td>NaN</td>\n",
       "      <td>2015</td>\n",
       "      <td>7</td>\n",
       "      <td>31</td>\n",
       "    </tr>\n",
       "    <tr>\n",
       "      <th>24</th>\n",
       "      <td>25</td>\n",
       "      <td>5</td>\n",
       "      <td>2015-07-31</td>\n",
       "      <td>13612</td>\n",
       "      <td>1586</td>\n",
       "      <td>1</td>\n",
       "      <td>0</td>\n",
       "      <td>1</td>\n",
       "      <td>c</td>\n",
       "      <td>a</td>\n",
       "      <td>430.0</td>\n",
       "      <td>4</td>\n",
       "      <td>2003</td>\n",
       "      <td>0</td>\n",
       "      <td>&lt;NA&gt;</td>\n",
       "      <td>&lt;NA&gt;</td>\n",
       "      <td>NaN</td>\n",
       "      <td>2015</td>\n",
       "      <td>7</td>\n",
       "      <td>31</td>\n",
       "    </tr>\n",
       "    <tr>\n",
       "      <th>124</th>\n",
       "      <td>125</td>\n",
       "      <td>5</td>\n",
       "      <td>2015-07-31</td>\n",
       "      <td>13612</td>\n",
       "      <td>2041</td>\n",
       "      <td>1</td>\n",
       "      <td>0</td>\n",
       "      <td>1</td>\n",
       "      <td>a</td>\n",
       "      <td>a</td>\n",
       "      <td>760.0</td>\n",
       "      <td>12</td>\n",
       "      <td>2005</td>\n",
       "      <td>0</td>\n",
       "      <td>&lt;NA&gt;</td>\n",
       "      <td>&lt;NA&gt;</td>\n",
       "      <td>NaN</td>\n",
       "      <td>2015</td>\n",
       "      <td>7</td>\n",
       "      <td>31</td>\n",
       "    </tr>\n",
       "    <tr>\n",
       "      <th>210</th>\n",
       "      <td>211</td>\n",
       "      <td>5</td>\n",
       "      <td>2015-07-31</td>\n",
       "      <td>13612</td>\n",
       "      <td>1659</td>\n",
       "      <td>1</td>\n",
       "      <td>0</td>\n",
       "      <td>1</td>\n",
       "      <td>a</td>\n",
       "      <td>c</td>\n",
       "      <td>350.0</td>\n",
       "      <td>11</td>\n",
       "      <td>2006</td>\n",
       "      <td>0</td>\n",
       "      <td>&lt;NA&gt;</td>\n",
       "      <td>&lt;NA&gt;</td>\n",
       "      <td>NaN</td>\n",
       "      <td>2015</td>\n",
       "      <td>7</td>\n",
       "      <td>31</td>\n",
       "    </tr>\n",
       "    <tr>\n",
       "      <th>250</th>\n",
       "      <td>251</td>\n",
       "      <td>5</td>\n",
       "      <td>2015-07-31</td>\n",
       "      <td>13612</td>\n",
       "      <td>2508</td>\n",
       "      <td>1</td>\n",
       "      <td>0</td>\n",
       "      <td>1</td>\n",
       "      <td>a</td>\n",
       "      <td>c</td>\n",
       "      <td>340.0</td>\n",
       "      <td>&lt;NA&gt;</td>\n",
       "      <td>&lt;NA&gt;</td>\n",
       "      <td>0</td>\n",
       "      <td>&lt;NA&gt;</td>\n",
       "      <td>&lt;NA&gt;</td>\n",
       "      <td>NaN</td>\n",
       "      <td>2015</td>\n",
       "      <td>7</td>\n",
       "      <td>31</td>\n",
       "    </tr>\n",
       "    <tr>\n",
       "      <th>...</th>\n",
       "      <td>...</td>\n",
       "      <td>...</td>\n",
       "      <td>...</td>\n",
       "      <td>...</td>\n",
       "      <td>...</td>\n",
       "      <td>...</td>\n",
       "      <td>...</td>\n",
       "      <td>...</td>\n",
       "      <td>...</td>\n",
       "      <td>...</td>\n",
       "      <td>...</td>\n",
       "      <td>...</td>\n",
       "      <td>...</td>\n",
       "      <td>...</td>\n",
       "      <td>...</td>\n",
       "      <td>...</td>\n",
       "      <td>...</td>\n",
       "      <td>...</td>\n",
       "      <td>...</td>\n",
       "      <td>...</td>\n",
       "    </tr>\n",
       "    <tr>\n",
       "      <th>1016093</th>\n",
       "      <td>1114</td>\n",
       "      <td>3</td>\n",
       "      <td>2013-01-02</td>\n",
       "      <td>13612</td>\n",
       "      <td>3401</td>\n",
       "      <td>0</td>\n",
       "      <td>0</td>\n",
       "      <td>1</td>\n",
       "      <td>a</td>\n",
       "      <td>c</td>\n",
       "      <td>870.0</td>\n",
       "      <td>&lt;NA&gt;</td>\n",
       "      <td>&lt;NA&gt;</td>\n",
       "      <td>0</td>\n",
       "      <td>&lt;NA&gt;</td>\n",
       "      <td>&lt;NA&gt;</td>\n",
       "      <td>NaN</td>\n",
       "      <td>2013</td>\n",
       "      <td>1</td>\n",
       "      <td>2</td>\n",
       "    </tr>\n",
       "    <tr>\n",
       "      <th>1016356</th>\n",
       "      <td>262</td>\n",
       "      <td>2</td>\n",
       "      <td>2013-01-01</td>\n",
       "      <td>13612</td>\n",
       "      <td>2875</td>\n",
       "      <td>0</td>\n",
       "      <td>a</td>\n",
       "      <td>1</td>\n",
       "      <td>b</td>\n",
       "      <td>a</td>\n",
       "      <td>1180.0</td>\n",
       "      <td>5</td>\n",
       "      <td>2013</td>\n",
       "      <td>0</td>\n",
       "      <td>&lt;NA&gt;</td>\n",
       "      <td>&lt;NA&gt;</td>\n",
       "      <td>NaN</td>\n",
       "      <td>2013</td>\n",
       "      <td>1</td>\n",
       "      <td>1</td>\n",
       "    </tr>\n",
       "    <tr>\n",
       "      <th>1016517</th>\n",
       "      <td>423</td>\n",
       "      <td>2</td>\n",
       "      <td>2013-01-01</td>\n",
       "      <td>9643</td>\n",
       "      <td>1751</td>\n",
       "      <td>0</td>\n",
       "      <td>a</td>\n",
       "      <td>1</td>\n",
       "      <td>b</td>\n",
       "      <td>a</td>\n",
       "      <td>1270.0</td>\n",
       "      <td>5</td>\n",
       "      <td>2014</td>\n",
       "      <td>0</td>\n",
       "      <td>&lt;NA&gt;</td>\n",
       "      <td>&lt;NA&gt;</td>\n",
       "      <td>NaN</td>\n",
       "      <td>2013</td>\n",
       "      <td>1</td>\n",
       "      <td>1</td>\n",
       "    </tr>\n",
       "    <tr>\n",
       "      <th>1016656</th>\n",
       "      <td>562</td>\n",
       "      <td>2</td>\n",
       "      <td>2013-01-01</td>\n",
       "      <td>8498</td>\n",
       "      <td>1675</td>\n",
       "      <td>0</td>\n",
       "      <td>a</td>\n",
       "      <td>1</td>\n",
       "      <td>b</td>\n",
       "      <td>c</td>\n",
       "      <td>1210.0</td>\n",
       "      <td>&lt;NA&gt;</td>\n",
       "      <td>&lt;NA&gt;</td>\n",
       "      <td>0</td>\n",
       "      <td>&lt;NA&gt;</td>\n",
       "      <td>&lt;NA&gt;</td>\n",
       "      <td>NaN</td>\n",
       "      <td>2013</td>\n",
       "      <td>1</td>\n",
       "      <td>1</td>\n",
       "    </tr>\n",
       "    <tr>\n",
       "      <th>1016827</th>\n",
       "      <td>733</td>\n",
       "      <td>2</td>\n",
       "      <td>2013-01-01</td>\n",
       "      <td>10765</td>\n",
       "      <td>2377</td>\n",
       "      <td>0</td>\n",
       "      <td>a</td>\n",
       "      <td>1</td>\n",
       "      <td>b</td>\n",
       "      <td>b</td>\n",
       "      <td>860.0</td>\n",
       "      <td>10</td>\n",
       "      <td>1999</td>\n",
       "      <td>0</td>\n",
       "      <td>&lt;NA&gt;</td>\n",
       "      <td>&lt;NA&gt;</td>\n",
       "      <td>NaN</td>\n",
       "      <td>2013</td>\n",
       "      <td>1</td>\n",
       "      <td>1</td>\n",
       "    </tr>\n",
       "  </tbody>\n",
       "</table>\n",
       "<p>40853 rows × 20 columns</p>\n",
       "</div>"
      ],
      "text/plain": [
       "         Store  DayOfWeek       Date  Sales  Customers  Promo StateHoliday  \\\n",
       "3            4          5 2015-07-31  13612       1498      1            0   \n",
       "24          25          5 2015-07-31  13612       1586      1            0   \n",
       "124        125          5 2015-07-31  13612       2041      1            0   \n",
       "210        211          5 2015-07-31  13612       1659      1            0   \n",
       "250        251          5 2015-07-31  13612       2508      1            0   \n",
       "...        ...        ...        ...    ...        ...    ...          ...   \n",
       "1016093   1114          3 2013-01-02  13612       3401      0            0   \n",
       "1016356    262          2 2013-01-01  13612       2875      0            a   \n",
       "1016517    423          2 2013-01-01   9643       1751      0            a   \n",
       "1016656    562          2 2013-01-01   8498       1675      0            a   \n",
       "1016827    733          2 2013-01-01  10765       2377      0            a   \n",
       "\n",
       "         SchoolHoliday StoreType Assortment  CompetitionDistance  \\\n",
       "3                    1         c          c                620.0   \n",
       "24                   1         c          a                430.0   \n",
       "124                  1         a          a                760.0   \n",
       "210                  1         a          c                350.0   \n",
       "250                  1         a          c                340.0   \n",
       "...                ...       ...        ...                  ...   \n",
       "1016093              1         a          c                870.0   \n",
       "1016356              1         b          a               1180.0   \n",
       "1016517              1         b          a               1270.0   \n",
       "1016656              1         b          c               1210.0   \n",
       "1016827              1         b          b                860.0   \n",
       "\n",
       "         CompetitionOpenSinceMonth  CompetitionOpenSinceYear  Promo2  \\\n",
       "3                                9                      2009       0   \n",
       "24                               4                      2003       0   \n",
       "124                             12                      2005       0   \n",
       "210                             11                      2006       0   \n",
       "250                           <NA>                      <NA>       0   \n",
       "...                            ...                       ...     ...   \n",
       "1016093                       <NA>                      <NA>       0   \n",
       "1016356                          5                      2013       0   \n",
       "1016517                          5                      2014       0   \n",
       "1016656                       <NA>                      <NA>       0   \n",
       "1016827                         10                      1999       0   \n",
       "\n",
       "         Promo2SinceWeek  Promo2SinceYear PromoInterval  Year  Month  \\\n",
       "3                   <NA>             <NA>           NaN  2015      7   \n",
       "24                  <NA>             <NA>           NaN  2015      7   \n",
       "124                 <NA>             <NA>           NaN  2015      7   \n",
       "210                 <NA>             <NA>           NaN  2015      7   \n",
       "250                 <NA>             <NA>           NaN  2015      7   \n",
       "...                  ...              ...           ...   ...    ...   \n",
       "1016093             <NA>             <NA>           NaN  2013      1   \n",
       "1016356             <NA>             <NA>           NaN  2013      1   \n",
       "1016517             <NA>             <NA>           NaN  2013      1   \n",
       "1016656             <NA>             <NA>           NaN  2013      1   \n",
       "1016827             <NA>             <NA>           NaN  2013      1   \n",
       "\n",
       "         DayOfMonth  \n",
       "3                31  \n",
       "24               31  \n",
       "124              31  \n",
       "210              31  \n",
       "250              31  \n",
       "...             ...  \n",
       "1016093           2  \n",
       "1016356           1  \n",
       "1016517           1  \n",
       "1016656           1  \n",
       "1016827           1  \n",
       "\n",
       "[40853 rows x 20 columns]"
      ]
     },
     "execution_count": 43,
     "metadata": {},
     "output_type": "execute_result"
    }
   ],
   "source": [
    "sales_treated[sales_treated['Customers'] > upper_cust]"
   ]
  },
  {
   "cell_type": "markdown",
   "id": "47eff055",
   "metadata": {
    "papermill": {
     "duration": 0.039772,
     "end_time": "2022-11-10T06:20:27.447353",
     "exception": false,
     "start_time": "2022-11-10T06:20:27.407581",
     "status": "completed"
    },
    "tags": []
   },
   "source": [
    "We Can see right away that several of these entries have a *Sales* value of 13,612, which we know to be our newly imputed upper range value for *Sales* outliers. We expect a high correlation between *Customers* driving *Sales*, so we'll check to see how much crossover we have between our *Sales* and *Customers* outliers. "
   ]
  },
  {
   "cell_type": "code",
   "execution_count": 44,
   "id": "b6b2c7c7",
   "metadata": {
    "execution": {
     "iopub.execute_input": "2022-11-10T06:20:27.530725Z",
     "iopub.status.busy": "2022-11-10T06:20:27.529490Z",
     "iopub.status.idle": "2022-11-10T06:20:27.577724Z",
     "shell.execute_reply": "2022-11-10T06:20:27.576424Z"
    },
    "papermill": {
     "duration": 0.093172,
     "end_time": "2022-11-10T06:20:27.580368",
     "exception": false,
     "start_time": "2022-11-10T06:20:27.487196",
     "status": "completed"
    },
    "tags": []
   },
   "outputs": [
    {
     "data": {
      "text/html": [
       "<div>\n",
       "<style scoped>\n",
       "    .dataframe tbody tr th:only-of-type {\n",
       "        vertical-align: middle;\n",
       "    }\n",
       "\n",
       "    .dataframe tbody tr th {\n",
       "        vertical-align: top;\n",
       "    }\n",
       "\n",
       "    .dataframe thead th {\n",
       "        text-align: right;\n",
       "    }\n",
       "</style>\n",
       "<table border=\"1\" class=\"dataframe\">\n",
       "  <thead>\n",
       "    <tr style=\"text-align: right;\">\n",
       "      <th></th>\n",
       "      <th>Store</th>\n",
       "      <th>DayOfWeek</th>\n",
       "      <th>Date</th>\n",
       "      <th>Sales</th>\n",
       "      <th>Customers</th>\n",
       "      <th>Promo</th>\n",
       "      <th>StateHoliday</th>\n",
       "      <th>SchoolHoliday</th>\n",
       "      <th>StoreType</th>\n",
       "      <th>Assortment</th>\n",
       "      <th>CompetitionDistance</th>\n",
       "      <th>CompetitionOpenSinceMonth</th>\n",
       "      <th>CompetitionOpenSinceYear</th>\n",
       "      <th>Promo2</th>\n",
       "      <th>Promo2SinceWeek</th>\n",
       "      <th>Promo2SinceYear</th>\n",
       "      <th>PromoInterval</th>\n",
       "      <th>Year</th>\n",
       "      <th>Month</th>\n",
       "      <th>DayOfMonth</th>\n",
       "    </tr>\n",
       "  </thead>\n",
       "  <tbody>\n",
       "    <tr>\n",
       "      <th>3</th>\n",
       "      <td>4</td>\n",
       "      <td>5</td>\n",
       "      <td>2015-07-31</td>\n",
       "      <td>13612</td>\n",
       "      <td>1498</td>\n",
       "      <td>1</td>\n",
       "      <td>0</td>\n",
       "      <td>1</td>\n",
       "      <td>c</td>\n",
       "      <td>c</td>\n",
       "      <td>620.0</td>\n",
       "      <td>9</td>\n",
       "      <td>2009</td>\n",
       "      <td>0</td>\n",
       "      <td>&lt;NA&gt;</td>\n",
       "      <td>&lt;NA&gt;</td>\n",
       "      <td>NaN</td>\n",
       "      <td>2015</td>\n",
       "      <td>7</td>\n",
       "      <td>31</td>\n",
       "    </tr>\n",
       "    <tr>\n",
       "      <th>24</th>\n",
       "      <td>25</td>\n",
       "      <td>5</td>\n",
       "      <td>2015-07-31</td>\n",
       "      <td>13612</td>\n",
       "      <td>1586</td>\n",
       "      <td>1</td>\n",
       "      <td>0</td>\n",
       "      <td>1</td>\n",
       "      <td>c</td>\n",
       "      <td>a</td>\n",
       "      <td>430.0</td>\n",
       "      <td>4</td>\n",
       "      <td>2003</td>\n",
       "      <td>0</td>\n",
       "      <td>&lt;NA&gt;</td>\n",
       "      <td>&lt;NA&gt;</td>\n",
       "      <td>NaN</td>\n",
       "      <td>2015</td>\n",
       "      <td>7</td>\n",
       "      <td>31</td>\n",
       "    </tr>\n",
       "    <tr>\n",
       "      <th>124</th>\n",
       "      <td>125</td>\n",
       "      <td>5</td>\n",
       "      <td>2015-07-31</td>\n",
       "      <td>13612</td>\n",
       "      <td>2041</td>\n",
       "      <td>1</td>\n",
       "      <td>0</td>\n",
       "      <td>1</td>\n",
       "      <td>a</td>\n",
       "      <td>a</td>\n",
       "      <td>760.0</td>\n",
       "      <td>12</td>\n",
       "      <td>2005</td>\n",
       "      <td>0</td>\n",
       "      <td>&lt;NA&gt;</td>\n",
       "      <td>&lt;NA&gt;</td>\n",
       "      <td>NaN</td>\n",
       "      <td>2015</td>\n",
       "      <td>7</td>\n",
       "      <td>31</td>\n",
       "    </tr>\n",
       "    <tr>\n",
       "      <th>210</th>\n",
       "      <td>211</td>\n",
       "      <td>5</td>\n",
       "      <td>2015-07-31</td>\n",
       "      <td>13612</td>\n",
       "      <td>1659</td>\n",
       "      <td>1</td>\n",
       "      <td>0</td>\n",
       "      <td>1</td>\n",
       "      <td>a</td>\n",
       "      <td>c</td>\n",
       "      <td>350.0</td>\n",
       "      <td>11</td>\n",
       "      <td>2006</td>\n",
       "      <td>0</td>\n",
       "      <td>&lt;NA&gt;</td>\n",
       "      <td>&lt;NA&gt;</td>\n",
       "      <td>NaN</td>\n",
       "      <td>2015</td>\n",
       "      <td>7</td>\n",
       "      <td>31</td>\n",
       "    </tr>\n",
       "    <tr>\n",
       "      <th>250</th>\n",
       "      <td>251</td>\n",
       "      <td>5</td>\n",
       "      <td>2015-07-31</td>\n",
       "      <td>13612</td>\n",
       "      <td>2508</td>\n",
       "      <td>1</td>\n",
       "      <td>0</td>\n",
       "      <td>1</td>\n",
       "      <td>a</td>\n",
       "      <td>c</td>\n",
       "      <td>340.0</td>\n",
       "      <td>&lt;NA&gt;</td>\n",
       "      <td>&lt;NA&gt;</td>\n",
       "      <td>0</td>\n",
       "      <td>&lt;NA&gt;</td>\n",
       "      <td>&lt;NA&gt;</td>\n",
       "      <td>NaN</td>\n",
       "      <td>2015</td>\n",
       "      <td>7</td>\n",
       "      <td>31</td>\n",
       "    </tr>\n",
       "    <tr>\n",
       "      <th>...</th>\n",
       "      <td>...</td>\n",
       "      <td>...</td>\n",
       "      <td>...</td>\n",
       "      <td>...</td>\n",
       "      <td>...</td>\n",
       "      <td>...</td>\n",
       "      <td>...</td>\n",
       "      <td>...</td>\n",
       "      <td>...</td>\n",
       "      <td>...</td>\n",
       "      <td>...</td>\n",
       "      <td>...</td>\n",
       "      <td>...</td>\n",
       "      <td>...</td>\n",
       "      <td>...</td>\n",
       "      <td>...</td>\n",
       "      <td>...</td>\n",
       "      <td>...</td>\n",
       "      <td>...</td>\n",
       "      <td>...</td>\n",
       "    </tr>\n",
       "    <tr>\n",
       "      <th>1015735</th>\n",
       "      <td>756</td>\n",
       "      <td>3</td>\n",
       "      <td>2013-01-02</td>\n",
       "      <td>13612</td>\n",
       "      <td>2465</td>\n",
       "      <td>0</td>\n",
       "      <td>0</td>\n",
       "      <td>1</td>\n",
       "      <td>a</td>\n",
       "      <td>c</td>\n",
       "      <td>50.0</td>\n",
       "      <td>&lt;NA&gt;</td>\n",
       "      <td>&lt;NA&gt;</td>\n",
       "      <td>1</td>\n",
       "      <td>40</td>\n",
       "      <td>2011</td>\n",
       "      <td>Jan,Apr,Jul,Oct</td>\n",
       "      <td>2013</td>\n",
       "      <td>1</td>\n",
       "      <td>2</td>\n",
       "    </tr>\n",
       "    <tr>\n",
       "      <th>1015767</th>\n",
       "      <td>788</td>\n",
       "      <td>3</td>\n",
       "      <td>2013-01-02</td>\n",
       "      <td>13612</td>\n",
       "      <td>1791</td>\n",
       "      <td>0</td>\n",
       "      <td>0</td>\n",
       "      <td>1</td>\n",
       "      <td>a</td>\n",
       "      <td>c</td>\n",
       "      <td>1530.0</td>\n",
       "      <td>3</td>\n",
       "      <td>2013</td>\n",
       "      <td>0</td>\n",
       "      <td>&lt;NA&gt;</td>\n",
       "      <td>&lt;NA&gt;</td>\n",
       "      <td>NaN</td>\n",
       "      <td>2013</td>\n",
       "      <td>1</td>\n",
       "      <td>2</td>\n",
       "    </tr>\n",
       "    <tr>\n",
       "      <th>1015796</th>\n",
       "      <td>817</td>\n",
       "      <td>3</td>\n",
       "      <td>2013-01-02</td>\n",
       "      <td>13612</td>\n",
       "      <td>3462</td>\n",
       "      <td>0</td>\n",
       "      <td>0</td>\n",
       "      <td>1</td>\n",
       "      <td>a</td>\n",
       "      <td>a</td>\n",
       "      <td>140.0</td>\n",
       "      <td>3</td>\n",
       "      <td>2006</td>\n",
       "      <td>0</td>\n",
       "      <td>&lt;NA&gt;</td>\n",
       "      <td>&lt;NA&gt;</td>\n",
       "      <td>NaN</td>\n",
       "      <td>2013</td>\n",
       "      <td>1</td>\n",
       "      <td>2</td>\n",
       "    </tr>\n",
       "    <tr>\n",
       "      <th>1016093</th>\n",
       "      <td>1114</td>\n",
       "      <td>3</td>\n",
       "      <td>2013-01-02</td>\n",
       "      <td>13612</td>\n",
       "      <td>3401</td>\n",
       "      <td>0</td>\n",
       "      <td>0</td>\n",
       "      <td>1</td>\n",
       "      <td>a</td>\n",
       "      <td>c</td>\n",
       "      <td>870.0</td>\n",
       "      <td>&lt;NA&gt;</td>\n",
       "      <td>&lt;NA&gt;</td>\n",
       "      <td>0</td>\n",
       "      <td>&lt;NA&gt;</td>\n",
       "      <td>&lt;NA&gt;</td>\n",
       "      <td>NaN</td>\n",
       "      <td>2013</td>\n",
       "      <td>1</td>\n",
       "      <td>2</td>\n",
       "    </tr>\n",
       "    <tr>\n",
       "      <th>1016356</th>\n",
       "      <td>262</td>\n",
       "      <td>2</td>\n",
       "      <td>2013-01-01</td>\n",
       "      <td>13612</td>\n",
       "      <td>2875</td>\n",
       "      <td>0</td>\n",
       "      <td>a</td>\n",
       "      <td>1</td>\n",
       "      <td>b</td>\n",
       "      <td>a</td>\n",
       "      <td>1180.0</td>\n",
       "      <td>5</td>\n",
       "      <td>2013</td>\n",
       "      <td>0</td>\n",
       "      <td>&lt;NA&gt;</td>\n",
       "      <td>&lt;NA&gt;</td>\n",
       "      <td>NaN</td>\n",
       "      <td>2013</td>\n",
       "      <td>1</td>\n",
       "      <td>1</td>\n",
       "    </tr>\n",
       "  </tbody>\n",
       "</table>\n",
       "<p>21420 rows × 20 columns</p>\n",
       "</div>"
      ],
      "text/plain": [
       "         Store  DayOfWeek       Date  Sales  Customers  Promo StateHoliday  \\\n",
       "3            4          5 2015-07-31  13612       1498      1            0   \n",
       "24          25          5 2015-07-31  13612       1586      1            0   \n",
       "124        125          5 2015-07-31  13612       2041      1            0   \n",
       "210        211          5 2015-07-31  13612       1659      1            0   \n",
       "250        251          5 2015-07-31  13612       2508      1            0   \n",
       "...        ...        ...        ...    ...        ...    ...          ...   \n",
       "1015735    756          3 2013-01-02  13612       2465      0            0   \n",
       "1015767    788          3 2013-01-02  13612       1791      0            0   \n",
       "1015796    817          3 2013-01-02  13612       3462      0            0   \n",
       "1016093   1114          3 2013-01-02  13612       3401      0            0   \n",
       "1016356    262          2 2013-01-01  13612       2875      0            a   \n",
       "\n",
       "         SchoolHoliday StoreType Assortment  CompetitionDistance  \\\n",
       "3                    1         c          c                620.0   \n",
       "24                   1         c          a                430.0   \n",
       "124                  1         a          a                760.0   \n",
       "210                  1         a          c                350.0   \n",
       "250                  1         a          c                340.0   \n",
       "...                ...       ...        ...                  ...   \n",
       "1015735              1         a          c                 50.0   \n",
       "1015767              1         a          c               1530.0   \n",
       "1015796              1         a          a                140.0   \n",
       "1016093              1         a          c                870.0   \n",
       "1016356              1         b          a               1180.0   \n",
       "\n",
       "         CompetitionOpenSinceMonth  CompetitionOpenSinceYear  Promo2  \\\n",
       "3                                9                      2009       0   \n",
       "24                               4                      2003       0   \n",
       "124                             12                      2005       0   \n",
       "210                             11                      2006       0   \n",
       "250                           <NA>                      <NA>       0   \n",
       "...                            ...                       ...     ...   \n",
       "1015735                       <NA>                      <NA>       1   \n",
       "1015767                          3                      2013       0   \n",
       "1015796                          3                      2006       0   \n",
       "1016093                       <NA>                      <NA>       0   \n",
       "1016356                          5                      2013       0   \n",
       "\n",
       "         Promo2SinceWeek  Promo2SinceYear    PromoInterval  Year  Month  \\\n",
       "3                   <NA>             <NA>              NaN  2015      7   \n",
       "24                  <NA>             <NA>              NaN  2015      7   \n",
       "124                 <NA>             <NA>              NaN  2015      7   \n",
       "210                 <NA>             <NA>              NaN  2015      7   \n",
       "250                 <NA>             <NA>              NaN  2015      7   \n",
       "...                  ...              ...              ...   ...    ...   \n",
       "1015735               40             2011  Jan,Apr,Jul,Oct  2013      1   \n",
       "1015767             <NA>             <NA>              NaN  2013      1   \n",
       "1015796             <NA>             <NA>              NaN  2013      1   \n",
       "1016093             <NA>             <NA>              NaN  2013      1   \n",
       "1016356             <NA>             <NA>              NaN  2013      1   \n",
       "\n",
       "         DayOfMonth  \n",
       "3                31  \n",
       "24               31  \n",
       "124              31  \n",
       "210              31  \n",
       "250              31  \n",
       "...             ...  \n",
       "1015735           2  \n",
       "1015767           2  \n",
       "1015796           2  \n",
       "1016093           2  \n",
       "1016356           1  \n",
       "\n",
       "[21420 rows x 20 columns]"
      ]
     },
     "execution_count": 44,
     "metadata": {},
     "output_type": "execute_result"
    }
   ],
   "source": [
    "sales_treated[(sales_treated['Customers'] > upper_cust) & (sales_treated['Sales'] == 13612)]"
   ]
  },
  {
   "cell_type": "markdown",
   "id": "e0899b08",
   "metadata": {
    "papermill": {
     "duration": 0.040035,
     "end_time": "2022-11-10T06:20:27.661770",
     "exception": false,
     "start_time": "2022-11-10T06:20:27.621735",
     "status": "completed"
    },
    "tags": []
   },
   "source": [
    "We can see a crossover of 21,420 rows, or approximately 52% of our *Customer* outlier entries are also *Sales* outlier entries.\n",
    "\n",
    "We will also investigate how these *Customer* outliers break down by *Month* and *StoreType* just as we did with our *Sales* outliers. "
   ]
  },
  {
   "cell_type": "code",
   "execution_count": 45,
   "id": "01b7dec7",
   "metadata": {
    "execution": {
     "iopub.execute_input": "2022-11-10T06:20:27.746923Z",
     "iopub.status.busy": "2022-11-10T06:20:27.745823Z",
     "iopub.status.idle": "2022-11-10T06:20:27.952906Z",
     "shell.execute_reply": "2022-11-10T06:20:27.951264Z"
    },
    "papermill": {
     "duration": 0.252646,
     "end_time": "2022-11-10T06:20:27.955871",
     "exception": false,
     "start_time": "2022-11-10T06:20:27.703225",
     "status": "completed"
    },
    "tags": []
   },
   "outputs": [
    {
     "data": {
      "image/png": "[encoded data removed]",
      "text/plain": [
       "<Figure size 720x360 with 1 Axes>"
      ]
     },
     "metadata": {
      "needs_background": "light"
     },
     "output_type": "display_data"
    }
   ],
   "source": [
    "cust_outliers_by_month = pd.pivot_table((sales_treated.loc[sales_treated[col] > upper_cust]), index='Month', values='Customers', aggfunc='count')\n",
    "\n",
    "cust_outliers_by_month.plot(y='Customers', kind='bar', figsize=(10,5), title=\"# of Customer Outlier Entries by Month\")\n",
    "plt.legend(loc='upper right', bbox_to_anchor=(1.2, 1.1))\n",
    "plt.show()"
   ]
  },
  {
   "cell_type": "code",
   "execution_count": 46,
   "id": "4293652a",
   "metadata": {
    "execution": {
     "iopub.execute_input": "2022-11-10T06:20:28.040987Z",
     "iopub.status.busy": "2022-11-10T06:20:28.040585Z",
     "iopub.status.idle": "2022-11-10T06:20:28.217009Z",
     "shell.execute_reply": "2022-11-10T06:20:28.215657Z"
    },
    "papermill": {
     "duration": 0.221709,
     "end_time": "2022-11-10T06:20:28.220170",
     "exception": false,
     "start_time": "2022-11-10T06:20:27.998461",
     "status": "completed"
    },
    "tags": []
   },
   "outputs": [
    {
     "data": {
      "image/png": "[encoded data removed]",
      "text/plain": [
       "<Figure size 432x432 with 1 Axes>"
      ]
     },
     "metadata": {
      "needs_background": "light"
     },
     "output_type": "display_data"
    }
   ],
   "source": [
    "cust_outliers_by_stype = pd.pivot_table((sales_treated.loc[sales_treated[col] > upper_cust]), index='StoreType', values='Customers', aggfunc='count')\n",
    "\n",
    "cust_outliers_by_stype.plot(y='Customers', kind='bar', figsize=(6,6), \n",
    "                             title=\"# of Customer Outlier Entries by Store Type\", \n",
    "                             color=['blue','red','green','orange'])\n",
    "plt.legend(loc='upper right', bbox_to_anchor=(1.2, 1.1))\n",
    "plt.show()"
   ]
  },
  {
   "cell_type": "markdown",
   "id": "3fa61194",
   "metadata": {
    "papermill": {
     "duration": 0.040593,
     "end_time": "2022-11-10T06:20:28.302610",
     "exception": false,
     "start_time": "2022-11-10T06:20:28.262017",
     "status": "completed"
    },
    "tags": []
   },
   "source": [
    "December is our most represented month for *Customer* outliers, similar to our *Sales* outliers, but it's percentage of outliers is less than we saw with our *Sales*. \n",
    "\n",
    "We also see store Type A with the strongest showing when we break down the outliers by store type. Much like the *Sales* outliers Type A stores represent a strong 60%+ of the outliers. Surprisingly, Type D stores represent a tiny 1.02% of these *Customer* outliers, where as they represented the second largest percentage of *Sales* outliers at 15.29%. Further investigation into the number of items bought (*Sales*) per transaction (*Customer*) may prove insightful. \n",
    "\n",
    "Similar to our *Sales* outliers, we will also limit our *Customer* outliers to our calculated upper range, by imputing them to 1,454, so as to limit their influence but also indicate that they're meant to be high numbers."
   ]
  },
  {
   "cell_type": "code",
   "execution_count": 47,
   "id": "30139372",
   "metadata": {
    "execution": {
     "iopub.execute_input": "2022-11-10T06:20:28.387892Z",
     "iopub.status.busy": "2022-11-10T06:20:28.386925Z",
     "iopub.status.idle": "2022-11-10T06:20:28.404395Z",
     "shell.execute_reply": "2022-11-10T06:20:28.403304Z"
    },
    "papermill": {
     "duration": 0.06309,
     "end_time": "2022-11-10T06:20:28.407461",
     "exception": false,
     "start_time": "2022-11-10T06:20:28.344371",
     "status": "completed"
    },
    "tags": []
   },
   "outputs": [],
   "source": [
    "sales_treated.loc[sales_treated['Customers'] > upper_cust, 'Customers'] = 1454"
   ]
  },
  {
   "cell_type": "code",
   "execution_count": 48,
   "id": "d5b54ba2",
   "metadata": {
    "execution": {
     "iopub.execute_input": "2022-11-10T06:20:28.496093Z",
     "iopub.status.busy": "2022-11-10T06:20:28.495245Z",
     "iopub.status.idle": "2022-11-10T06:20:28.506168Z",
     "shell.execute_reply": "2022-11-10T06:20:28.504913Z"
    },
    "papermill": {
     "duration": 0.056563,
     "end_time": "2022-11-10T06:20:28.508853",
     "exception": false,
     "start_time": "2022-11-10T06:20:28.452290",
     "status": "completed"
    },
    "tags": []
   },
   "outputs": [
    {
     "data": {
      "text/plain": [
       "Series([], Name: Customers, dtype: int64)"
      ]
     },
     "execution_count": 48,
     "metadata": {},
     "output_type": "execute_result"
    }
   ],
   "source": [
    "sales_treated.loc[sales_treated['Customers'] > upper_cust, 'Customers']"
   ]
  },
  {
   "cell_type": "markdown",
   "id": "5f876026",
   "metadata": {
    "papermill": {
     "duration": 0.041843,
     "end_time": "2022-11-10T06:20:28.592998",
     "exception": false,
     "start_time": "2022-11-10T06:20:28.551155",
     "status": "completed"
    },
    "tags": []
   },
   "source": [
    "For the sake of brevity and the purpose of this assignment, we will leave the CompetitionDistance outliers untreated for now, as we won't be using them to answer the remaining questions asked of this assignment.\n"
   ]
  },
  {
   "cell_type": "markdown",
   "id": "a1b290cf",
   "metadata": {
    "papermill": {
     "duration": 0.041008,
     "end_time": "2022-11-10T06:20:28.675981",
     "exception": false,
     "start_time": "2022-11-10T06:20:28.634973",
     "status": "completed"
    },
    "tags": []
   },
   "source": [
    "---"
   ]
  },
  {
   "cell_type": "markdown",
   "id": "62316d4e",
   "metadata": {
    "papermill": {
     "duration": 0.041145,
     "end_time": "2022-11-10T06:20:28.760065",
     "exception": false,
     "start_time": "2022-11-10T06:20:28.718920",
     "status": "completed"
    },
    "tags": []
   },
   "source": [
    "<h2 style=\"background-color:#6dbcc5; color: #FFFFFF; padding: 8px;\">Missing Values</h2>\n",
    "\n",
    "Next we'll take a look at missing values. We'll start by assessing how many we have and where."
   ]
  },
  {
   "cell_type": "code",
   "execution_count": 49,
   "id": "2c4c9ae0",
   "metadata": {
    "execution": {
     "iopub.execute_input": "2022-11-10T06:20:28.847748Z",
     "iopub.status.busy": "2022-11-10T06:20:28.847353Z",
     "iopub.status.idle": "2022-11-10T06:20:29.019560Z",
     "shell.execute_reply": "2022-11-10T06:20:29.018269Z"
    },
    "papermill": {
     "duration": 0.219966,
     "end_time": "2022-11-10T06:20:29.022134",
     "exception": false,
     "start_time": "2022-11-10T06:20:28.802168",
     "status": "completed"
    },
    "tags": []
   },
   "outputs": [
    {
     "data": {
      "text/plain": [
       "Store                             0\n",
       "DayOfWeek                         0\n",
       "Date                              0\n",
       "Sales                             0\n",
       "Customers                         0\n",
       "Promo                             0\n",
       "StateHoliday                      0\n",
       "SchoolHoliday                     0\n",
       "StoreType                         0\n",
       "Assortment                        0\n",
       "CompetitionDistance            2186\n",
       "CompetitionOpenSinceMonth    268619\n",
       "CompetitionOpenSinceYear     268619\n",
       "Promo2                            0\n",
       "Promo2SinceWeek              423307\n",
       "Promo2SinceYear              423307\n",
       "PromoInterval                423307\n",
       "Year                              0\n",
       "Month                             0\n",
       "DayOfMonth                        0\n",
       "dtype: int64"
      ]
     },
     "execution_count": 49,
     "metadata": {},
     "output_type": "execute_result"
    }
   ],
   "source": [
    "sales_treated.isna().sum()"
   ]
  },
  {
   "cell_type": "code",
   "execution_count": 50,
   "id": "98811566",
   "metadata": {
    "execution": {
     "iopub.execute_input": "2022-11-10T06:20:29.107845Z",
     "iopub.status.busy": "2022-11-10T06:20:29.107387Z",
     "iopub.status.idle": "2022-11-10T06:20:29.281038Z",
     "shell.execute_reply": "2022-11-10T06:20:29.279788Z"
    },
    "papermill": {
     "duration": 0.218982,
     "end_time": "2022-11-10T06:20:29.283533",
     "exception": false,
     "start_time": "2022-11-10T06:20:29.064551",
     "status": "completed"
    },
    "tags": []
   },
   "outputs": [
    {
     "data": {
      "text/plain": [
       "Store                         0.00\n",
       "DayOfWeek                     0.00\n",
       "Date                          0.00\n",
       "Sales                         0.00\n",
       "Customers                     0.00\n",
       "Promo                         0.00\n",
       "StateHoliday                  0.00\n",
       "SchoolHoliday                 0.00\n",
       "StoreType                     0.00\n",
       "Assortment                    0.00\n",
       "CompetitionDistance           0.26\n",
       "CompetitionOpenSinceMonth    31.81\n",
       "CompetitionOpenSinceYear     31.81\n",
       "Promo2                        0.00\n",
       "Promo2SinceWeek              50.13\n",
       "Promo2SinceYear              50.13\n",
       "PromoInterval                50.13\n",
       "Year                          0.00\n",
       "Month                         0.00\n",
       "DayOfMonth                    0.00\n",
       "dtype: float64"
      ]
     },
     "execution_count": 50,
     "metadata": {},
     "output_type": "execute_result"
    }
   ],
   "source": [
    "(sales_treated.isna().sum() * 100 / sales_treated.shape[0]).round(2)   ## missing values as a % of all values in the column"
   ]
  },
  {
   "cell_type": "markdown",
   "id": "f5192325",
   "metadata": {
    "papermill": {
     "duration": 0.042643,
     "end_time": "2022-11-10T06:20:29.369380",
     "exception": false,
     "start_time": "2022-11-10T06:20:29.326737",
     "status": "completed"
    },
    "tags": []
   },
   "source": [
    "While we see a rather high 50% missing values rate for *Promo2SinceWeek* and *Promo2SinceYear* we can check and see if these all just correspond to stores that aren't running Promo2, and hence would not be expected to have valid data for these columns."
   ]
  },
  {
   "cell_type": "code",
   "execution_count": 51,
   "id": "dc635059",
   "metadata": {
    "execution": {
     "iopub.execute_input": "2022-11-10T06:20:29.453995Z",
     "iopub.status.busy": "2022-11-10T06:20:29.453565Z",
     "iopub.status.idle": "2022-11-10T06:20:29.566802Z",
     "shell.execute_reply": "2022-11-10T06:20:29.564686Z"
    },
    "papermill": {
     "duration": 0.159027,
     "end_time": "2022-11-10T06:20:29.569855",
     "exception": false,
     "start_time": "2022-11-10T06:20:29.410828",
     "status": "completed"
    },
    "tags": []
   },
   "outputs": [
    {
     "name": "stdout",
     "output_type": "stream",
     "text": [
      "423307\n",
      "423307\n",
      "423307\n"
     ]
    }
   ],
   "source": [
    "print(sales_treated[sales_treated['Promo2'] == 0].shape[0])\n",
    "print(sales_treated['Promo2SinceWeek'].isna().sum())\n",
    "print(sales_treated['Promo2SinceYear'].isna().sum())"
   ]
  },
  {
   "cell_type": "markdown",
   "id": "10d53087",
   "metadata": {
    "papermill": {
     "duration": 0.041883,
     "end_time": "2022-11-10T06:20:29.653304",
     "exception": false,
     "start_time": "2022-11-10T06:20:29.611421",
     "status": "completed"
    },
    "tags": []
   },
   "source": [
    "As the number of entries with missing *Promo2SinceWeek* and *Promo2SinceYear* values corresponds with the number of entries where the store isn't participating in Promo2, we can rest assured that the lack of data here is appropriate. \n"
   ]
  },
  {
   "cell_type": "markdown",
   "id": "2a7672c2",
   "metadata": {
    "papermill": {
     "duration": 0.041806,
     "end_time": "2022-11-10T06:20:29.737287",
     "exception": false,
     "start_time": "2022-11-10T06:20:29.695481",
     "status": "completed"
    },
    "tags": []
   },
   "source": [
    "---"
   ]
  },
  {
   "cell_type": "markdown",
   "id": "eb6865a4",
   "metadata": {
    "papermill": {
     "duration": 0.042103,
     "end_time": "2022-11-10T06:20:29.821188",
     "exception": false,
     "start_time": "2022-11-10T06:20:29.779085",
     "status": "completed"
    },
    "tags": []
   },
   "source": [
    "The other area we see missing data is in relation to competition stores, mostly in the two columns relating when the nearest competitor store opened, and to much lesser extent in *CompetitionDistance*\n",
    "\n",
    "\n",
    "The *CompetitionDistance* values may be used for analyzing how stores perform based on how close their competition is, and as such missing values could skew such analysis. 0 would be an inappropriate replacement for these null values as it would indicate that the competition stores are incredibly close. As such we'll look to replace these missing values with the mean *CompetitionDistance* based on the *StoreType*."
   ]
  },
  {
   "cell_type": "code",
   "execution_count": 52,
   "id": "67560416",
   "metadata": {
    "execution": {
     "iopub.execute_input": "2022-11-10T06:20:29.907086Z",
     "iopub.status.busy": "2022-11-10T06:20:29.906133Z",
     "iopub.status.idle": "2022-11-10T06:20:29.919140Z",
     "shell.execute_reply": "2022-11-10T06:20:29.917639Z"
    },
    "papermill": {
     "duration": 0.059791,
     "end_time": "2022-11-10T06:20:29.922396",
     "exception": false,
     "start_time": "2022-11-10T06:20:29.862605",
     "status": "completed"
    },
    "tags": []
   },
   "outputs": [
    {
     "name": "stdout",
     "output_type": "stream",
     "text": [
      "The mean Compeition Distance for stores of type A is 5123.1\n",
      "The mean Compeition Distance for stores of type B is 1060.6\n",
      "The mean Compeition Distance for stores of type C is 3522.6\n",
      "The mean Compeition Distance for stores of type D is 6913.1\n"
     ]
    }
   ],
   "source": [
    "mean_type_a = round(stores_lookup.loc[(stores_lookup['StoreType'] == 'a'), 'CompetitionDistance'].mean(), 1)\n",
    "mean_type_b = round(stores_lookup.loc[(stores_lookup['StoreType'] == 'b'), 'CompetitionDistance'].mean(), 1)\n",
    "mean_type_c = round(stores_lookup.loc[(stores_lookup['StoreType'] == 'c'), 'CompetitionDistance'].mean(), 1)\n",
    "mean_type_d = round(stores_lookup.loc[(stores_lookup['StoreType'] == 'd'), 'CompetitionDistance'].mean(), 1)\n",
    "\n",
    "print(\"The mean Compeition Distance for stores of type A is \" + str(mean_type_a))\n",
    "print(\"The mean Compeition Distance for stores of type B is \" + str(mean_type_b))\n",
    "print(\"The mean Compeition Distance for stores of type C is \" + str(mean_type_c))\n",
    "print(\"The mean Compeition Distance for stores of type D is \" + str(mean_type_d))\n"
   ]
  },
  {
   "cell_type": "code",
   "execution_count": 53,
   "id": "09c5750f",
   "metadata": {
    "execution": {
     "iopub.execute_input": "2022-11-10T06:20:30.010213Z",
     "iopub.status.busy": "2022-11-10T06:20:30.009703Z",
     "iopub.status.idle": "2022-11-10T06:20:31.769914Z",
     "shell.execute_reply": "2022-11-10T06:20:31.768506Z"
    },
    "papermill": {
     "duration": 1.808114,
     "end_time": "2022-11-10T06:20:31.772720",
     "exception": false,
     "start_time": "2022-11-10T06:20:29.964606",
     "status": "completed"
    },
    "tags": []
   },
   "outputs": [],
   "source": [
    "sales_treated.loc[sales_treated['StoreType'] == 'a'] = sales_treated.loc[sales_treated['StoreType'] == 'a'].fillna(value={\"CompetitionDistance\" : mean_type_a})\n",
    "sales_treated.loc[sales_treated['StoreType'] == 'b'] = sales_treated.loc[sales_treated['StoreType'] == 'b'].fillna(value={\"CompetitionDistance\" : mean_type_b}) \n",
    "sales_treated.loc[sales_treated['StoreType'] == 'c'] = sales_treated.loc[sales_treated['StoreType'] == 'c'].fillna(value={\"CompetitionDistance\" : mean_type_c}) \n",
    "sales_treated.loc[sales_treated['StoreType'] == 'd'] = sales_treated.loc[sales_treated['StoreType'] == 'd'].fillna(value={\"CompetitionDistance\" : mean_type_d}) "
   ]
  },
  {
   "cell_type": "code",
   "execution_count": 54,
   "id": "3d609277",
   "metadata": {
    "execution": {
     "iopub.execute_input": "2022-11-10T06:20:31.858263Z",
     "iopub.status.busy": "2022-11-10T06:20:31.857799Z",
     "iopub.status.idle": "2022-11-10T06:20:32.035513Z",
     "shell.execute_reply": "2022-11-10T06:20:32.034262Z"
    },
    "papermill": {
     "duration": 0.223598,
     "end_time": "2022-11-10T06:20:32.038208",
     "exception": false,
     "start_time": "2022-11-10T06:20:31.814610",
     "status": "completed"
    },
    "scrolled": true,
    "tags": []
   },
   "outputs": [
    {
     "data": {
      "text/plain": [
       "Store                             0\n",
       "DayOfWeek                         0\n",
       "Date                              0\n",
       "Sales                             0\n",
       "Customers                         0\n",
       "Promo                             0\n",
       "StateHoliday                      0\n",
       "SchoolHoliday                     0\n",
       "StoreType                         0\n",
       "Assortment                        0\n",
       "CompetitionDistance               0\n",
       "CompetitionOpenSinceMonth    268619\n",
       "CompetitionOpenSinceYear     268619\n",
       "Promo2                            0\n",
       "Promo2SinceWeek              423307\n",
       "Promo2SinceYear              423307\n",
       "PromoInterval                423307\n",
       "Year                              0\n",
       "Month                             0\n",
       "DayOfMonth                        0\n",
       "dtype: int64"
      ]
     },
     "execution_count": 54,
     "metadata": {},
     "output_type": "execute_result"
    }
   ],
   "source": [
    "sales_treated.isna().sum()"
   ]
  },
  {
   "cell_type": "markdown",
   "id": "af64f7c0",
   "metadata": {
    "papermill": {
     "duration": 0.04275,
     "end_time": "2022-11-10T06:20:32.122789",
     "exception": false,
     "start_time": "2022-11-10T06:20:32.080039",
     "status": "completed"
    },
    "tags": []
   },
   "source": [
    "Next we will replace the null values in our *PromoInterval* column. As this column contains strings listing the months the Promo2 starts anew, we will replace the missing values with a string 'NA' for Not Applicable. "
   ]
  },
  {
   "cell_type": "code",
   "execution_count": 55,
   "id": "21d4dad5",
   "metadata": {
    "execution": {
     "iopub.execute_input": "2022-11-10T06:20:32.208337Z",
     "iopub.status.busy": "2022-11-10T06:20:32.207886Z",
     "iopub.status.idle": "2022-11-10T06:20:32.283243Z",
     "shell.execute_reply": "2022-11-10T06:20:32.281865Z"
    },
    "papermill": {
     "duration": 0.121334,
     "end_time": "2022-11-10T06:20:32.286206",
     "exception": false,
     "start_time": "2022-11-10T06:20:32.164872",
     "status": "completed"
    },
    "tags": []
   },
   "outputs": [],
   "source": [
    "sales_treated.loc[sales_treated['PromoInterval'].isna(), 'PromoInterval'] = \"NA\""
   ]
  },
  {
   "cell_type": "code",
   "execution_count": 56,
   "id": "f2d98bb1",
   "metadata": {
    "execution": {
     "iopub.execute_input": "2022-11-10T06:20:32.371979Z",
     "iopub.status.busy": "2022-11-10T06:20:32.371557Z",
     "iopub.status.idle": "2022-11-10T06:20:32.415573Z",
     "shell.execute_reply": "2022-11-10T06:20:32.414437Z"
    },
    "papermill": {
     "duration": 0.089764,
     "end_time": "2022-11-10T06:20:32.418025",
     "exception": false,
     "start_time": "2022-11-10T06:20:32.328261",
     "status": "completed"
    },
    "scrolled": true,
    "tags": []
   },
   "outputs": [
    {
     "data": {
      "text/plain": [
       "NA                  423307\n",
       "Jan,Apr,Jul,Oct     242411\n",
       "Feb,May,Aug,Nov      98005\n",
       "Mar,Jun,Sept,Dec     80669\n",
       "Name: PromoInterval, dtype: int64"
      ]
     },
     "execution_count": 56,
     "metadata": {},
     "output_type": "execute_result"
    }
   ],
   "source": [
    "sales_treated['PromoInterval'].value_counts()"
   ]
  },
  {
   "cell_type": "markdown",
   "id": "1fc6024e",
   "metadata": {
    "papermill": {
     "duration": 0.057085,
     "end_time": "2022-11-10T06:20:32.531026",
     "exception": false,
     "start_time": "2022-11-10T06:20:32.473941",
     "status": "completed"
    },
    "tags": []
   },
   "source": [
    "For the missing values in *'CompetitionOpenSinceYear'* & *'Promo2SinceYear'* it would be inappropriate to replace them with zeros, as further calculations with the years in that column could lead to values suggesting a competition store has been open 2022 years. As such, we'll impute these missing values with the current year, so if calculations are done to find how long the nearest competition store has been open since these instances of no competition store nearby will return zero years. \n",
    "\n",
    "In the same manner we will impute the missing values in *'CompetitionOpenSinceMonth'* with the current month, and *'Promo2SinceWeek'* with the current week."
   ]
  },
  {
   "cell_type": "code",
   "execution_count": 57,
   "id": "c4206bdb",
   "metadata": {
    "execution": {
     "iopub.execute_input": "2022-11-10T06:20:32.628052Z",
     "iopub.status.busy": "2022-11-10T06:20:32.627650Z",
     "iopub.status.idle": "2022-11-10T06:20:32.676893Z",
     "shell.execute_reply": "2022-11-10T06:20:32.675383Z"
    },
    "papermill": {
     "duration": 0.098651,
     "end_time": "2022-11-10T06:20:32.679978",
     "exception": false,
     "start_time": "2022-11-10T06:20:32.581327",
     "status": "completed"
    },
    "tags": []
   },
   "outputs": [],
   "source": [
    "sales_treated.loc[sales_treated['CompetitionOpenSinceYear'].isna(), 'CompetitionOpenSinceYear'] = dt.datetime.now().year\n",
    "\n",
    "sales_treated.loc[sales_treated['Promo2SinceYear'].isna(), 'Promo2SinceYear'] = dt.datetime.now().year\n",
    "\n",
    "sales_treated.loc[sales_treated['CompetitionOpenSinceMonth'].isna(), 'CompetitionOpenSinceMonth'] = dt.datetime.now().month\n",
    "\n",
    "sales_treated.loc[sales_treated['Promo2SinceWeek'].isna(), 'Promo2SinceWeek'] = dt.datetime.now().isocalendar()[1]"
   ]
  },
  {
   "cell_type": "markdown",
   "id": "e8411eb9",
   "metadata": {
    "papermill": {
     "duration": 0.046011,
     "end_time": "2022-11-10T06:20:32.769408",
     "exception": false,
     "start_time": "2022-11-10T06:20:32.723397",
     "status": "completed"
    },
    "tags": []
   },
   "source": [
    "Now we'll double check our count of missing values again to confirm our changes worked."
   ]
  },
  {
   "cell_type": "code",
   "execution_count": 58,
   "id": "9515f316",
   "metadata": {
    "execution": {
     "iopub.execute_input": "2022-11-10T06:20:32.861127Z",
     "iopub.status.busy": "2022-11-10T06:20:32.860707Z",
     "iopub.status.idle": "2022-11-10T06:20:33.040243Z",
     "shell.execute_reply": "2022-11-10T06:20:33.039030Z"
    },
    "papermill": {
     "duration": 0.228048,
     "end_time": "2022-11-10T06:20:33.042942",
     "exception": false,
     "start_time": "2022-11-10T06:20:32.814894",
     "status": "completed"
    },
    "tags": []
   },
   "outputs": [
    {
     "data": {
      "text/plain": [
       "Store                        0\n",
       "DayOfWeek                    0\n",
       "Date                         0\n",
       "Sales                        0\n",
       "Customers                    0\n",
       "Promo                        0\n",
       "StateHoliday                 0\n",
       "SchoolHoliday                0\n",
       "StoreType                    0\n",
       "Assortment                   0\n",
       "CompetitionDistance          0\n",
       "CompetitionOpenSinceMonth    0\n",
       "CompetitionOpenSinceYear     0\n",
       "Promo2                       0\n",
       "Promo2SinceWeek              0\n",
       "Promo2SinceYear              0\n",
       "PromoInterval                0\n",
       "Year                         0\n",
       "Month                        0\n",
       "DayOfMonth                   0\n",
       "dtype: int64"
      ]
     },
     "execution_count": 58,
     "metadata": {},
     "output_type": "execute_result"
    }
   ],
   "source": [
    "sales_treated.isna().sum()"
   ]
  },
  {
   "cell_type": "markdown",
   "id": "ae3edb7a",
   "metadata": {
    "papermill": {
     "duration": 0.044681,
     "end_time": "2022-11-10T06:20:33.132489",
     "exception": false,
     "start_time": "2022-11-10T06:20:33.087808",
     "status": "completed"
    },
    "tags": []
   },
   "source": [
    "---"
   ]
  },
  {
   "cell_type": "markdown",
   "id": "27289e9f",
   "metadata": {
    "papermill": {
     "duration": 0.043835,
     "end_time": "2022-11-10T06:20:33.219508",
     "exception": false,
     "start_time": "2022-11-10T06:20:33.175673",
     "status": "completed"
    },
    "tags": []
   },
   "source": [
    "<h2 style=\"background-color:#6dbcc5; color: #FFFFFF; padding: 8px;\">Adding an UPT Column</h2>\n",
    "\n",
    "Based on our investigation of *Sales* and *Costumers* outliers, particularly how they're represented by different store types, I thought it would be worthwhile to add a calculated column to give us some insight into the relationship between *Customers* and *Sales* for each store and day."
   ]
  },
  {
   "cell_type": "code",
   "execution_count": 59,
   "id": "381d0c99",
   "metadata": {
    "execution": {
     "iopub.execute_input": "2022-11-10T06:20:33.311899Z",
     "iopub.status.busy": "2022-11-10T06:20:33.310557Z",
     "iopub.status.idle": "2022-11-10T06:20:33.327964Z",
     "shell.execute_reply": "2022-11-10T06:20:33.326598Z"
    },
    "papermill": {
     "duration": 0.066507,
     "end_time": "2022-11-10T06:20:33.330705",
     "exception": false,
     "start_time": "2022-11-10T06:20:33.264198",
     "status": "completed"
    },
    "tags": []
   },
   "outputs": [
    {
     "data": {
      "text/plain": [
       "False    844338\n",
       "True         54\n",
       "dtype: int64"
      ]
     },
     "execution_count": 59,
     "metadata": {},
     "output_type": "execute_result"
    }
   ],
   "source": [
    "(sales_treated['Customers'] >= sales_treated['Sales']).value_counts()"
   ]
  },
  {
   "cell_type": "markdown",
   "id": "be8d7066",
   "metadata": {
    "papermill": {
     "duration": 0.043839,
     "end_time": "2022-11-10T06:20:33.420839",
     "exception": false,
     "start_time": "2022-11-10T06:20:33.377000",
     "status": "completed"
    },
    "tags": []
   },
   "source": [
    "We can see that for almost all entries we have in our dataframe, the number of *Sales* at a given store is greater than the number of *Customers*. Suggesting that the *Customers* value is derived by how many transactions there are at a store, and the *Sales* value is indicative of how many individual items are sold. Thus we can calculate the average number of items sold for each transaction as Units Per Transaction (UPT). \n",
    "\n",
    "First we'll quickly investigate the 54 rows where there aren't more *Sales* than *Customers*."
   ]
  },
  {
   "cell_type": "code",
   "execution_count": 60,
   "id": "5e5c3547",
   "metadata": {
    "execution": {
     "iopub.execute_input": "2022-11-10T06:20:33.510452Z",
     "iopub.status.busy": "2022-11-10T06:20:33.509646Z",
     "iopub.status.idle": "2022-11-10T06:20:33.561923Z",
     "shell.execute_reply": "2022-11-10T06:20:33.560712Z"
    },
    "papermill": {
     "duration": 0.102067,
     "end_time": "2022-11-10T06:20:33.564991",
     "exception": false,
     "start_time": "2022-11-10T06:20:33.462924",
     "status": "completed"
    },
    "tags": []
   },
   "outputs": [
    {
     "data": {
      "text/html": [
       "<div>\n",
       "<style scoped>\n",
       "    .dataframe tbody tr th:only-of-type {\n",
       "        vertical-align: middle;\n",
       "    }\n",
       "\n",
       "    .dataframe tbody tr th {\n",
       "        vertical-align: top;\n",
       "    }\n",
       "\n",
       "    .dataframe thead th {\n",
       "        text-align: right;\n",
       "    }\n",
       "</style>\n",
       "<table border=\"1\" class=\"dataframe\">\n",
       "  <thead>\n",
       "    <tr style=\"text-align: right;\">\n",
       "      <th></th>\n",
       "      <th>Store</th>\n",
       "      <th>DayOfWeek</th>\n",
       "      <th>Date</th>\n",
       "      <th>Sales</th>\n",
       "      <th>Customers</th>\n",
       "      <th>Promo</th>\n",
       "      <th>StateHoliday</th>\n",
       "      <th>SchoolHoliday</th>\n",
       "      <th>StoreType</th>\n",
       "      <th>Assortment</th>\n",
       "      <th>CompetitionDistance</th>\n",
       "      <th>CompetitionOpenSinceMonth</th>\n",
       "      <th>CompetitionOpenSinceYear</th>\n",
       "      <th>Promo2</th>\n",
       "      <th>Promo2SinceWeek</th>\n",
       "      <th>Promo2SinceYear</th>\n",
       "      <th>PromoInterval</th>\n",
       "      <th>Year</th>\n",
       "      <th>Month</th>\n",
       "      <th>DayOfMonth</th>\n",
       "    </tr>\n",
       "  </thead>\n",
       "  <tbody>\n",
       "    <tr>\n",
       "      <th>86825</th>\n",
       "      <td>971</td>\n",
       "      <td>5</td>\n",
       "      <td>2015-05-15</td>\n",
       "      <td>0</td>\n",
       "      <td>0</td>\n",
       "      <td>0</td>\n",
       "      <td>0</td>\n",
       "      <td>1</td>\n",
       "      <td>c</td>\n",
       "      <td>a</td>\n",
       "      <td>1140.0</td>\n",
       "      <td>5</td>\n",
       "      <td>2011</td>\n",
       "      <td>1</td>\n",
       "      <td>14</td>\n",
       "      <td>2012</td>\n",
       "      <td>Mar,Jun,Sept,Dec</td>\n",
       "      <td>2015</td>\n",
       "      <td>5</td>\n",
       "      <td>15</td>\n",
       "    </tr>\n",
       "    <tr>\n",
       "      <th>142278</th>\n",
       "      <td>674</td>\n",
       "      <td>4</td>\n",
       "      <td>2015-03-26</td>\n",
       "      <td>0</td>\n",
       "      <td>0</td>\n",
       "      <td>0</td>\n",
       "      <td>0</td>\n",
       "      <td>0</td>\n",
       "      <td>a</td>\n",
       "      <td>a</td>\n",
       "      <td>2640.0</td>\n",
       "      <td>12</td>\n",
       "      <td>2005</td>\n",
       "      <td>1</td>\n",
       "      <td>31</td>\n",
       "      <td>2013</td>\n",
       "      <td>Feb,May,Aug,Nov</td>\n",
       "      <td>2015</td>\n",
       "      <td>3</td>\n",
       "      <td>26</td>\n",
       "    </tr>\n",
       "    <tr>\n",
       "      <th>196938</th>\n",
       "      <td>699</td>\n",
       "      <td>4</td>\n",
       "      <td>2015-02-05</td>\n",
       "      <td>0</td>\n",
       "      <td>0</td>\n",
       "      <td>1</td>\n",
       "      <td>0</td>\n",
       "      <td>0</td>\n",
       "      <td>a</td>\n",
       "      <td>a</td>\n",
       "      <td>180.0</td>\n",
       "      <td>11</td>\n",
       "      <td>2022</td>\n",
       "      <td>1</td>\n",
       "      <td>5</td>\n",
       "      <td>2013</td>\n",
       "      <td>Jan,Apr,Jul,Oct</td>\n",
       "      <td>2015</td>\n",
       "      <td>2</td>\n",
       "      <td>5</td>\n",
       "    </tr>\n",
       "    <tr>\n",
       "      <th>322053</th>\n",
       "      <td>708</td>\n",
       "      <td>3</td>\n",
       "      <td>2014-10-01</td>\n",
       "      <td>0</td>\n",
       "      <td>0</td>\n",
       "      <td>1</td>\n",
       "      <td>0</td>\n",
       "      <td>0</td>\n",
       "      <td>c</td>\n",
       "      <td>c</td>\n",
       "      <td>11470.0</td>\n",
       "      <td>10</td>\n",
       "      <td>2009</td>\n",
       "      <td>1</td>\n",
       "      <td>18</td>\n",
       "      <td>2014</td>\n",
       "      <td>Jan,Apr,Jul,Oct</td>\n",
       "      <td>2014</td>\n",
       "      <td>10</td>\n",
       "      <td>1</td>\n",
       "    </tr>\n",
       "    <tr>\n",
       "      <th>330176</th>\n",
       "      <td>357</td>\n",
       "      <td>1</td>\n",
       "      <td>2014-09-22</td>\n",
       "      <td>0</td>\n",
       "      <td>0</td>\n",
       "      <td>0</td>\n",
       "      <td>0</td>\n",
       "      <td>0</td>\n",
       "      <td>a</td>\n",
       "      <td>a</td>\n",
       "      <td>2060.0</td>\n",
       "      <td>10</td>\n",
       "      <td>2008</td>\n",
       "      <td>0</td>\n",
       "      <td>45</td>\n",
       "      <td>2022</td>\n",
       "      <td>NA</td>\n",
       "      <td>2014</td>\n",
       "      <td>9</td>\n",
       "      <td>22</td>\n",
       "    </tr>\n",
       "    <tr>\n",
       "      <th>340348</th>\n",
       "      <td>227</td>\n",
       "      <td>4</td>\n",
       "      <td>2014-09-11</td>\n",
       "      <td>0</td>\n",
       "      <td>0</td>\n",
       "      <td>0</td>\n",
       "      <td>0</td>\n",
       "      <td>0</td>\n",
       "      <td>a</td>\n",
       "      <td>a</td>\n",
       "      <td>2370.0</td>\n",
       "      <td>11</td>\n",
       "      <td>2022</td>\n",
       "      <td>0</td>\n",
       "      <td>45</td>\n",
       "      <td>2022</td>\n",
       "      <td>NA</td>\n",
       "      <td>2014</td>\n",
       "      <td>9</td>\n",
       "      <td>11</td>\n",
       "    </tr>\n",
       "    <tr>\n",
       "      <th>340860</th>\n",
       "      <td>835</td>\n",
       "      <td>4</td>\n",
       "      <td>2014-09-11</td>\n",
       "      <td>0</td>\n",
       "      <td>0</td>\n",
       "      <td>0</td>\n",
       "      <td>0</td>\n",
       "      <td>0</td>\n",
       "      <td>a</td>\n",
       "      <td>a</td>\n",
       "      <td>2890.0</td>\n",
       "      <td>12</td>\n",
       "      <td>2007</td>\n",
       "      <td>1</td>\n",
       "      <td>10</td>\n",
       "      <td>2014</td>\n",
       "      <td>Mar,Jun,Sept,Dec</td>\n",
       "      <td>2014</td>\n",
       "      <td>9</td>\n",
       "      <td>11</td>\n",
       "    </tr>\n",
       "    <tr>\n",
       "      <th>341795</th>\n",
       "      <td>835</td>\n",
       "      <td>3</td>\n",
       "      <td>2014-09-10</td>\n",
       "      <td>0</td>\n",
       "      <td>0</td>\n",
       "      <td>0</td>\n",
       "      <td>0</td>\n",
       "      <td>0</td>\n",
       "      <td>a</td>\n",
       "      <td>a</td>\n",
       "      <td>2890.0</td>\n",
       "      <td>12</td>\n",
       "      <td>2007</td>\n",
       "      <td>1</td>\n",
       "      <td>10</td>\n",
       "      <td>2014</td>\n",
       "      <td>Mar,Jun,Sept,Dec</td>\n",
       "      <td>2014</td>\n",
       "      <td>9</td>\n",
       "      <td>10</td>\n",
       "    </tr>\n",
       "    <tr>\n",
       "      <th>346232</th>\n",
       "      <td>548</td>\n",
       "      <td>5</td>\n",
       "      <td>2014-09-05</td>\n",
       "      <td>0</td>\n",
       "      <td>0</td>\n",
       "      <td>1</td>\n",
       "      <td>0</td>\n",
       "      <td>1</td>\n",
       "      <td>d</td>\n",
       "      <td>c</td>\n",
       "      <td>3760.0</td>\n",
       "      <td>2</td>\n",
       "      <td>2009</td>\n",
       "      <td>0</td>\n",
       "      <td>45</td>\n",
       "      <td>2022</td>\n",
       "      <td>NA</td>\n",
       "      <td>2014</td>\n",
       "      <td>9</td>\n",
       "      <td>5</td>\n",
       "    </tr>\n",
       "    <tr>\n",
       "      <th>346734</th>\n",
       "      <td>28</td>\n",
       "      <td>4</td>\n",
       "      <td>2014-09-04</td>\n",
       "      <td>0</td>\n",
       "      <td>0</td>\n",
       "      <td>1</td>\n",
       "      <td>0</td>\n",
       "      <td>0</td>\n",
       "      <td>a</td>\n",
       "      <td>a</td>\n",
       "      <td>1200.0</td>\n",
       "      <td>10</td>\n",
       "      <td>2014</td>\n",
       "      <td>1</td>\n",
       "      <td>6</td>\n",
       "      <td>2015</td>\n",
       "      <td>Mar,Jun,Sept,Dec</td>\n",
       "      <td>2014</td>\n",
       "      <td>9</td>\n",
       "      <td>4</td>\n",
       "    </tr>\n",
       "    <tr>\n",
       "      <th>347669</th>\n",
       "      <td>28</td>\n",
       "      <td>3</td>\n",
       "      <td>2014-09-03</td>\n",
       "      <td>0</td>\n",
       "      <td>0</td>\n",
       "      <td>1</td>\n",
       "      <td>0</td>\n",
       "      <td>1</td>\n",
       "      <td>a</td>\n",
       "      <td>a</td>\n",
       "      <td>1200.0</td>\n",
       "      <td>10</td>\n",
       "      <td>2014</td>\n",
       "      <td>1</td>\n",
       "      <td>6</td>\n",
       "      <td>2015</td>\n",
       "      <td>Mar,Jun,Sept,Dec</td>\n",
       "      <td>2014</td>\n",
       "      <td>9</td>\n",
       "      <td>3</td>\n",
       "    </tr>\n",
       "    <tr>\n",
       "      <th>348604</th>\n",
       "      <td>28</td>\n",
       "      <td>2</td>\n",
       "      <td>2014-09-02</td>\n",
       "      <td>0</td>\n",
       "      <td>0</td>\n",
       "      <td>1</td>\n",
       "      <td>0</td>\n",
       "      <td>1</td>\n",
       "      <td>a</td>\n",
       "      <td>a</td>\n",
       "      <td>1200.0</td>\n",
       "      <td>10</td>\n",
       "      <td>2014</td>\n",
       "      <td>1</td>\n",
       "      <td>6</td>\n",
       "      <td>2015</td>\n",
       "      <td>Mar,Jun,Sept,Dec</td>\n",
       "      <td>2014</td>\n",
       "      <td>9</td>\n",
       "      <td>2</td>\n",
       "    </tr>\n",
       "    <tr>\n",
       "      <th>386065</th>\n",
       "      <td>102</td>\n",
       "      <td>4</td>\n",
       "      <td>2014-07-24</td>\n",
       "      <td>0</td>\n",
       "      <td>0</td>\n",
       "      <td>0</td>\n",
       "      <td>0</td>\n",
       "      <td>1</td>\n",
       "      <td>a</td>\n",
       "      <td>a</td>\n",
       "      <td>150.0</td>\n",
       "      <td>12</td>\n",
       "      <td>2007</td>\n",
       "      <td>1</td>\n",
       "      <td>10</td>\n",
       "      <td>2014</td>\n",
       "      <td>Mar,Jun,Sept,Dec</td>\n",
       "      <td>2014</td>\n",
       "      <td>7</td>\n",
       "      <td>24</td>\n",
       "    </tr>\n",
       "    <tr>\n",
       "      <th>386173</th>\n",
       "      <td>238</td>\n",
       "      <td>4</td>\n",
       "      <td>2014-07-24</td>\n",
       "      <td>0</td>\n",
       "      <td>0</td>\n",
       "      <td>0</td>\n",
       "      <td>0</td>\n",
       "      <td>1</td>\n",
       "      <td>a</td>\n",
       "      <td>a</td>\n",
       "      <td>320.0</td>\n",
       "      <td>11</td>\n",
       "      <td>2022</td>\n",
       "      <td>1</td>\n",
       "      <td>45</td>\n",
       "      <td>2009</td>\n",
       "      <td>Feb,May,Aug,Nov</td>\n",
       "      <td>2014</td>\n",
       "      <td>7</td>\n",
       "      <td>24</td>\n",
       "    </tr>\n",
       "    <tr>\n",
       "      <th>386227</th>\n",
       "      <td>303</td>\n",
       "      <td>4</td>\n",
       "      <td>2014-07-24</td>\n",
       "      <td>0</td>\n",
       "      <td>0</td>\n",
       "      <td>0</td>\n",
       "      <td>0</td>\n",
       "      <td>1</td>\n",
       "      <td>a</td>\n",
       "      <td>a</td>\n",
       "      <td>15430.0</td>\n",
       "      <td>11</td>\n",
       "      <td>2012</td>\n",
       "      <td>1</td>\n",
       "      <td>18</td>\n",
       "      <td>2011</td>\n",
       "      <td>Feb,May,Aug,Nov</td>\n",
       "      <td>2014</td>\n",
       "      <td>7</td>\n",
       "      <td>24</td>\n",
       "    </tr>\n",
       "    <tr>\n",
       "      <th>386304</th>\n",
       "      <td>387</td>\n",
       "      <td>4</td>\n",
       "      <td>2014-07-24</td>\n",
       "      <td>0</td>\n",
       "      <td>0</td>\n",
       "      <td>0</td>\n",
       "      <td>0</td>\n",
       "      <td>1</td>\n",
       "      <td>c</td>\n",
       "      <td>a</td>\n",
       "      <td>210.0</td>\n",
       "      <td>11</td>\n",
       "      <td>2022</td>\n",
       "      <td>1</td>\n",
       "      <td>36</td>\n",
       "      <td>2013</td>\n",
       "      <td>Mar,Jun,Sept,Dec</td>\n",
       "      <td>2014</td>\n",
       "      <td>7</td>\n",
       "      <td>24</td>\n",
       "    </tr>\n",
       "    <tr>\n",
       "      <th>387652</th>\n",
       "      <td>882</td>\n",
       "      <td>3</td>\n",
       "      <td>2014-07-23</td>\n",
       "      <td>0</td>\n",
       "      <td>0</td>\n",
       "      <td>0</td>\n",
       "      <td>0</td>\n",
       "      <td>1</td>\n",
       "      <td>a</td>\n",
       "      <td>a</td>\n",
       "      <td>30.0</td>\n",
       "      <td>4</td>\n",
       "      <td>2013</td>\n",
       "      <td>0</td>\n",
       "      <td>45</td>\n",
       "      <td>2022</td>\n",
       "      <td>NA</td>\n",
       "      <td>2014</td>\n",
       "      <td>7</td>\n",
       "      <td>23</td>\n",
       "    </tr>\n",
       "    <tr>\n",
       "      <th>387656</th>\n",
       "      <td>887</td>\n",
       "      <td>3</td>\n",
       "      <td>2014-07-23</td>\n",
       "      <td>0</td>\n",
       "      <td>0</td>\n",
       "      <td>0</td>\n",
       "      <td>0</td>\n",
       "      <td>0</td>\n",
       "      <td>d</td>\n",
       "      <td>a</td>\n",
       "      <td>19700.0</td>\n",
       "      <td>11</td>\n",
       "      <td>2022</td>\n",
       "      <td>1</td>\n",
       "      <td>37</td>\n",
       "      <td>2009</td>\n",
       "      <td>Jan,Apr,Jul,Oct</td>\n",
       "      <td>2014</td>\n",
       "      <td>7</td>\n",
       "      <td>23</td>\n",
       "    </tr>\n",
       "    <tr>\n",
       "      <th>397285</th>\n",
       "      <td>102</td>\n",
       "      <td>6</td>\n",
       "      <td>2014-07-12</td>\n",
       "      <td>0</td>\n",
       "      <td>0</td>\n",
       "      <td>0</td>\n",
       "      <td>0</td>\n",
       "      <td>0</td>\n",
       "      <td>a</td>\n",
       "      <td>a</td>\n",
       "      <td>150.0</td>\n",
       "      <td>12</td>\n",
       "      <td>2007</td>\n",
       "      <td>1</td>\n",
       "      <td>10</td>\n",
       "      <td>2014</td>\n",
       "      <td>Mar,Jun,Sept,Dec</td>\n",
       "      <td>2014</td>\n",
       "      <td>7</td>\n",
       "      <td>12</td>\n",
       "    </tr>\n",
       "    <tr>\n",
       "      <th>406384</th>\n",
       "      <td>925</td>\n",
       "      <td>4</td>\n",
       "      <td>2014-07-03</td>\n",
       "      <td>0</td>\n",
       "      <td>0</td>\n",
       "      <td>1</td>\n",
       "      <td>0</td>\n",
       "      <td>0</td>\n",
       "      <td>c</td>\n",
       "      <td>a</td>\n",
       "      <td>470.0</td>\n",
       "      <td>3</td>\n",
       "      <td>2007</td>\n",
       "      <td>1</td>\n",
       "      <td>1</td>\n",
       "      <td>2012</td>\n",
       "      <td>Jan,Apr,Jul,Oct</td>\n",
       "      <td>2014</td>\n",
       "      <td>7</td>\n",
       "      <td>3</td>\n",
       "    </tr>\n",
       "    <tr>\n",
       "      <th>407532</th>\n",
       "      <td>57</td>\n",
       "      <td>2</td>\n",
       "      <td>2014-07-01</td>\n",
       "      <td>0</td>\n",
       "      <td>0</td>\n",
       "      <td>1</td>\n",
       "      <td>0</td>\n",
       "      <td>0</td>\n",
       "      <td>d</td>\n",
       "      <td>c</td>\n",
       "      <td>420.0</td>\n",
       "      <td>6</td>\n",
       "      <td>2014</td>\n",
       "      <td>0</td>\n",
       "      <td>45</td>\n",
       "      <td>2022</td>\n",
       "      <td>NA</td>\n",
       "      <td>2014</td>\n",
       "      <td>7</td>\n",
       "      <td>1</td>\n",
       "    </tr>\n",
       "    <tr>\n",
       "      <th>437311</th>\n",
       "      <td>1017</td>\n",
       "      <td>4</td>\n",
       "      <td>2014-06-05</td>\n",
       "      <td>0</td>\n",
       "      <td>0</td>\n",
       "      <td>1</td>\n",
       "      <td>0</td>\n",
       "      <td>0</td>\n",
       "      <td>c</td>\n",
       "      <td>a</td>\n",
       "      <td>110.0</td>\n",
       "      <td>11</td>\n",
       "      <td>2008</td>\n",
       "      <td>0</td>\n",
       "      <td>45</td>\n",
       "      <td>2022</td>\n",
       "      <td>NA</td>\n",
       "      <td>2014</td>\n",
       "      <td>6</td>\n",
       "      <td>5</td>\n",
       "    </tr>\n",
       "    <tr>\n",
       "      <th>438426</th>\n",
       "      <td>1017</td>\n",
       "      <td>3</td>\n",
       "      <td>2014-06-04</td>\n",
       "      <td>0</td>\n",
       "      <td>0</td>\n",
       "      <td>1</td>\n",
       "      <td>0</td>\n",
       "      <td>0</td>\n",
       "      <td>c</td>\n",
       "      <td>a</td>\n",
       "      <td>110.0</td>\n",
       "      <td>11</td>\n",
       "      <td>2008</td>\n",
       "      <td>0</td>\n",
       "      <td>45</td>\n",
       "      <td>2022</td>\n",
       "      <td>NA</td>\n",
       "      <td>2014</td>\n",
       "      <td>6</td>\n",
       "      <td>4</td>\n",
       "    </tr>\n",
       "    <tr>\n",
       "      <th>477534</th>\n",
       "      <td>1100</td>\n",
       "      <td>3</td>\n",
       "      <td>2014-04-30</td>\n",
       "      <td>0</td>\n",
       "      <td>0</td>\n",
       "      <td>1</td>\n",
       "      <td>0</td>\n",
       "      <td>0</td>\n",
       "      <td>a</td>\n",
       "      <td>a</td>\n",
       "      <td>540.0</td>\n",
       "      <td>11</td>\n",
       "      <td>2022</td>\n",
       "      <td>1</td>\n",
       "      <td>14</td>\n",
       "      <td>2011</td>\n",
       "      <td>Jan,Apr,Jul,Oct</td>\n",
       "      <td>2014</td>\n",
       "      <td>4</td>\n",
       "      <td>30</td>\n",
       "    </tr>\n",
       "    <tr>\n",
       "      <th>478649</th>\n",
       "      <td>1100</td>\n",
       "      <td>2</td>\n",
       "      <td>2014-04-29</td>\n",
       "      <td>0</td>\n",
       "      <td>3</td>\n",
       "      <td>1</td>\n",
       "      <td>0</td>\n",
       "      <td>0</td>\n",
       "      <td>a</td>\n",
       "      <td>a</td>\n",
       "      <td>540.0</td>\n",
       "      <td>11</td>\n",
       "      <td>2022</td>\n",
       "      <td>1</td>\n",
       "      <td>14</td>\n",
       "      <td>2011</td>\n",
       "      <td>Jan,Apr,Jul,Oct</td>\n",
       "      <td>2014</td>\n",
       "      <td>4</td>\n",
       "      <td>29</td>\n",
       "    </tr>\n",
       "    <tr>\n",
       "      <th>506085</th>\n",
       "      <td>661</td>\n",
       "      <td>5</td>\n",
       "      <td>2014-04-04</td>\n",
       "      <td>0</td>\n",
       "      <td>0</td>\n",
       "      <td>1</td>\n",
       "      <td>0</td>\n",
       "      <td>0</td>\n",
       "      <td>d</td>\n",
       "      <td>c</td>\n",
       "      <td>2140.0</td>\n",
       "      <td>7</td>\n",
       "      <td>2013</td>\n",
       "      <td>0</td>\n",
       "      <td>45</td>\n",
       "      <td>2022</td>\n",
       "      <td>NA</td>\n",
       "      <td>2014</td>\n",
       "      <td>4</td>\n",
       "      <td>4</td>\n",
       "    </tr>\n",
       "    <tr>\n",
       "      <th>512964</th>\n",
       "      <td>850</td>\n",
       "      <td>6</td>\n",
       "      <td>2014-03-29</td>\n",
       "      <td>0</td>\n",
       "      <td>0</td>\n",
       "      <td>0</td>\n",
       "      <td>0</td>\n",
       "      <td>0</td>\n",
       "      <td>d</td>\n",
       "      <td>a</td>\n",
       "      <td>1120.0</td>\n",
       "      <td>5</td>\n",
       "      <td>2007</td>\n",
       "      <td>1</td>\n",
       "      <td>31</td>\n",
       "      <td>2013</td>\n",
       "      <td>Jan,Apr,Jul,Oct</td>\n",
       "      <td>2014</td>\n",
       "      <td>3</td>\n",
       "      <td>29</td>\n",
       "    </tr>\n",
       "    <tr>\n",
       "      <th>525365</th>\n",
       "      <td>986</td>\n",
       "      <td>2</td>\n",
       "      <td>2014-03-18</td>\n",
       "      <td>0</td>\n",
       "      <td>0</td>\n",
       "      <td>1</td>\n",
       "      <td>0</td>\n",
       "      <td>0</td>\n",
       "      <td>a</td>\n",
       "      <td>a</td>\n",
       "      <td>620.0</td>\n",
       "      <td>10</td>\n",
       "      <td>2014</td>\n",
       "      <td>1</td>\n",
       "      <td>18</td>\n",
       "      <td>2014</td>\n",
       "      <td>Feb,May,Aug,Nov</td>\n",
       "      <td>2014</td>\n",
       "      <td>3</td>\n",
       "      <td>18</td>\n",
       "    </tr>\n",
       "    <tr>\n",
       "      <th>531396</th>\n",
       "      <td>327</td>\n",
       "      <td>3</td>\n",
       "      <td>2014-03-12</td>\n",
       "      <td>0</td>\n",
       "      <td>0</td>\n",
       "      <td>0</td>\n",
       "      <td>0</td>\n",
       "      <td>0</td>\n",
       "      <td>c</td>\n",
       "      <td>c</td>\n",
       "      <td>1390.0</td>\n",
       "      <td>12</td>\n",
       "      <td>2004</td>\n",
       "      <td>0</td>\n",
       "      <td>45</td>\n",
       "      <td>2022</td>\n",
       "      <td>NA</td>\n",
       "      <td>2014</td>\n",
       "      <td>3</td>\n",
       "      <td>12</td>\n",
       "    </tr>\n",
       "    <tr>\n",
       "      <th>561199</th>\n",
       "      <td>25</td>\n",
       "      <td>4</td>\n",
       "      <td>2014-02-13</td>\n",
       "      <td>0</td>\n",
       "      <td>0</td>\n",
       "      <td>0</td>\n",
       "      <td>0</td>\n",
       "      <td>0</td>\n",
       "      <td>c</td>\n",
       "      <td>a</td>\n",
       "      <td>430.0</td>\n",
       "      <td>4</td>\n",
       "      <td>2003</td>\n",
       "      <td>0</td>\n",
       "      <td>45</td>\n",
       "      <td>2022</td>\n",
       "      <td>NA</td>\n",
       "      <td>2014</td>\n",
       "      <td>2</td>\n",
       "      <td>13</td>\n",
       "    </tr>\n",
       "    <tr>\n",
       "      <th>562314</th>\n",
       "      <td>25</td>\n",
       "      <td>3</td>\n",
       "      <td>2014-02-12</td>\n",
       "      <td>0</td>\n",
       "      <td>0</td>\n",
       "      <td>0</td>\n",
       "      <td>0</td>\n",
       "      <td>0</td>\n",
       "      <td>c</td>\n",
       "      <td>a</td>\n",
       "      <td>430.0</td>\n",
       "      <td>4</td>\n",
       "      <td>2003</td>\n",
       "      <td>0</td>\n",
       "      <td>45</td>\n",
       "      <td>2022</td>\n",
       "      <td>NA</td>\n",
       "      <td>2014</td>\n",
       "      <td>2</td>\n",
       "      <td>12</td>\n",
       "    </tr>\n",
       "    <tr>\n",
       "      <th>582982</th>\n",
       "      <td>623</td>\n",
       "      <td>6</td>\n",
       "      <td>2014-01-25</td>\n",
       "      <td>0</td>\n",
       "      <td>0</td>\n",
       "      <td>0</td>\n",
       "      <td>0</td>\n",
       "      <td>0</td>\n",
       "      <td>a</td>\n",
       "      <td>a</td>\n",
       "      <td>4080.0</td>\n",
       "      <td>3</td>\n",
       "      <td>2011</td>\n",
       "      <td>1</td>\n",
       "      <td>13</td>\n",
       "      <td>2010</td>\n",
       "      <td>Jan,Apr,Jul,Oct</td>\n",
       "      <td>2014</td>\n",
       "      <td>1</td>\n",
       "      <td>25</td>\n",
       "    </tr>\n",
       "    <tr>\n",
       "      <th>584097</th>\n",
       "      <td>623</td>\n",
       "      <td>5</td>\n",
       "      <td>2014-01-24</td>\n",
       "      <td>0</td>\n",
       "      <td>0</td>\n",
       "      <td>1</td>\n",
       "      <td>0</td>\n",
       "      <td>0</td>\n",
       "      <td>a</td>\n",
       "      <td>a</td>\n",
       "      <td>4080.0</td>\n",
       "      <td>3</td>\n",
       "      <td>2011</td>\n",
       "      <td>1</td>\n",
       "      <td>13</td>\n",
       "      <td>2010</td>\n",
       "      <td>Jan,Apr,Jul,Oct</td>\n",
       "      <td>2014</td>\n",
       "      <td>1</td>\n",
       "      <td>24</td>\n",
       "    </tr>\n",
       "    <tr>\n",
       "      <th>591147</th>\n",
       "      <td>983</td>\n",
       "      <td>6</td>\n",
       "      <td>2014-01-18</td>\n",
       "      <td>0</td>\n",
       "      <td>0</td>\n",
       "      <td>0</td>\n",
       "      <td>0</td>\n",
       "      <td>0</td>\n",
       "      <td>a</td>\n",
       "      <td>a</td>\n",
       "      <td>40.0</td>\n",
       "      <td>3</td>\n",
       "      <td>2014</td>\n",
       "      <td>1</td>\n",
       "      <td>1</td>\n",
       "      <td>2014</td>\n",
       "      <td>Jan,Apr,Jul,Oct</td>\n",
       "      <td>2014</td>\n",
       "      <td>1</td>\n",
       "      <td>18</td>\n",
       "    </tr>\n",
       "    <tr>\n",
       "      <th>592262</th>\n",
       "      <td>983</td>\n",
       "      <td>5</td>\n",
       "      <td>2014-01-17</td>\n",
       "      <td>0</td>\n",
       "      <td>0</td>\n",
       "      <td>0</td>\n",
       "      <td>0</td>\n",
       "      <td>0</td>\n",
       "      <td>a</td>\n",
       "      <td>a</td>\n",
       "      <td>40.0</td>\n",
       "      <td>3</td>\n",
       "      <td>2014</td>\n",
       "      <td>1</td>\n",
       "      <td>1</td>\n",
       "      <td>2014</td>\n",
       "      <td>Jan,Apr,Jul,Oct</td>\n",
       "      <td>2014</td>\n",
       "      <td>1</td>\n",
       "      <td>17</td>\n",
       "    </tr>\n",
       "    <tr>\n",
       "      <th>744697</th>\n",
       "      <td>663</td>\n",
       "      <td>1</td>\n",
       "      <td>2013-09-02</td>\n",
       "      <td>0</td>\n",
       "      <td>0</td>\n",
       "      <td>0</td>\n",
       "      <td>0</td>\n",
       "      <td>1</td>\n",
       "      <td>a</td>\n",
       "      <td>c</td>\n",
       "      <td>7860.0</td>\n",
       "      <td>5</td>\n",
       "      <td>2005</td>\n",
       "      <td>0</td>\n",
       "      <td>45</td>\n",
       "      <td>2022</td>\n",
       "      <td>NA</td>\n",
       "      <td>2013</td>\n",
       "      <td>9</td>\n",
       "      <td>2</td>\n",
       "    </tr>\n",
       "    <tr>\n",
       "      <th>750000</th>\n",
       "      <td>391</td>\n",
       "      <td>3</td>\n",
       "      <td>2013-08-28</td>\n",
       "      <td>0</td>\n",
       "      <td>0</td>\n",
       "      <td>1</td>\n",
       "      <td>0</td>\n",
       "      <td>1</td>\n",
       "      <td>a</td>\n",
       "      <td>a</td>\n",
       "      <td>460.0</td>\n",
       "      <td>11</td>\n",
       "      <td>2014</td>\n",
       "      <td>1</td>\n",
       "      <td>31</td>\n",
       "      <td>2013</td>\n",
       "      <td>Feb,May,Aug,Nov</td>\n",
       "      <td>2013</td>\n",
       "      <td>8</td>\n",
       "      <td>28</td>\n",
       "    </tr>\n",
       "    <tr>\n",
       "      <th>772836</th>\n",
       "      <td>927</td>\n",
       "      <td>4</td>\n",
       "      <td>2013-08-08</td>\n",
       "      <td>0</td>\n",
       "      <td>0</td>\n",
       "      <td>0</td>\n",
       "      <td>0</td>\n",
       "      <td>1</td>\n",
       "      <td>a</td>\n",
       "      <td>a</td>\n",
       "      <td>480.0</td>\n",
       "      <td>11</td>\n",
       "      <td>2022</td>\n",
       "      <td>0</td>\n",
       "      <td>45</td>\n",
       "      <td>2022</td>\n",
       "      <td>NA</td>\n",
       "      <td>2013</td>\n",
       "      <td>8</td>\n",
       "      <td>8</td>\n",
       "    </tr>\n",
       "    <tr>\n",
       "      <th>805283</th>\n",
       "      <td>1039</td>\n",
       "      <td>3</td>\n",
       "      <td>2013-07-10</td>\n",
       "      <td>0</td>\n",
       "      <td>0</td>\n",
       "      <td>0</td>\n",
       "      <td>0</td>\n",
       "      <td>0</td>\n",
       "      <td>a</td>\n",
       "      <td>c</td>\n",
       "      <td>70.0</td>\n",
       "      <td>6</td>\n",
       "      <td>1990</td>\n",
       "      <td>1</td>\n",
       "      <td>22</td>\n",
       "      <td>2012</td>\n",
       "      <td>Mar,Jun,Sept,Dec</td>\n",
       "      <td>2013</td>\n",
       "      <td>7</td>\n",
       "      <td>10</td>\n",
       "    </tr>\n",
       "    <tr>\n",
       "      <th>806398</th>\n",
       "      <td>1039</td>\n",
       "      <td>2</td>\n",
       "      <td>2013-07-09</td>\n",
       "      <td>0</td>\n",
       "      <td>0</td>\n",
       "      <td>0</td>\n",
       "      <td>0</td>\n",
       "      <td>0</td>\n",
       "      <td>a</td>\n",
       "      <td>c</td>\n",
       "      <td>70.0</td>\n",
       "      <td>6</td>\n",
       "      <td>1990</td>\n",
       "      <td>1</td>\n",
       "      <td>22</td>\n",
       "      <td>2012</td>\n",
       "      <td>Mar,Jun,Sept,Dec</td>\n",
       "      <td>2013</td>\n",
       "      <td>7</td>\n",
       "      <td>9</td>\n",
       "    </tr>\n",
       "    <tr>\n",
       "      <th>817174</th>\n",
       "      <td>665</td>\n",
       "      <td>6</td>\n",
       "      <td>2013-06-29</td>\n",
       "      <td>0</td>\n",
       "      <td>0</td>\n",
       "      <td>0</td>\n",
       "      <td>0</td>\n",
       "      <td>0</td>\n",
       "      <td>a</td>\n",
       "      <td>a</td>\n",
       "      <td>90.0</td>\n",
       "      <td>12</td>\n",
       "      <td>2012</td>\n",
       "      <td>1</td>\n",
       "      <td>14</td>\n",
       "      <td>2011</td>\n",
       "      <td>Jan,Apr,Jul,Oct</td>\n",
       "      <td>2013</td>\n",
       "      <td>6</td>\n",
       "      <td>29</td>\n",
       "    </tr>\n",
       "    <tr>\n",
       "      <th>818289</th>\n",
       "      <td>665</td>\n",
       "      <td>5</td>\n",
       "      <td>2013-06-28</td>\n",
       "      <td>0</td>\n",
       "      <td>0</td>\n",
       "      <td>0</td>\n",
       "      <td>0</td>\n",
       "      <td>0</td>\n",
       "      <td>a</td>\n",
       "      <td>a</td>\n",
       "      <td>90.0</td>\n",
       "      <td>12</td>\n",
       "      <td>2012</td>\n",
       "      <td>1</td>\n",
       "      <td>14</td>\n",
       "      <td>2011</td>\n",
       "      <td>Jan,Apr,Jul,Oct</td>\n",
       "      <td>2013</td>\n",
       "      <td>6</td>\n",
       "      <td>28</td>\n",
       "    </tr>\n",
       "    <tr>\n",
       "      <th>843969</th>\n",
       "      <td>700</td>\n",
       "      <td>3</td>\n",
       "      <td>2013-06-05</td>\n",
       "      <td>0</td>\n",
       "      <td>0</td>\n",
       "      <td>1</td>\n",
       "      <td>0</td>\n",
       "      <td>0</td>\n",
       "      <td>a</td>\n",
       "      <td>c</td>\n",
       "      <td>830.0</td>\n",
       "      <td>11</td>\n",
       "      <td>2022</td>\n",
       "      <td>1</td>\n",
       "      <td>27</td>\n",
       "      <td>2013</td>\n",
       "      <td>Jan,Apr,Jul,Oct</td>\n",
       "      <td>2013</td>\n",
       "      <td>6</td>\n",
       "      <td>5</td>\n",
       "    </tr>\n",
       "    <tr>\n",
       "      <th>872940</th>\n",
       "      <td>681</td>\n",
       "      <td>5</td>\n",
       "      <td>2013-05-10</td>\n",
       "      <td>0</td>\n",
       "      <td>0</td>\n",
       "      <td>0</td>\n",
       "      <td>0</td>\n",
       "      <td>0</td>\n",
       "      <td>a</td>\n",
       "      <td>c</td>\n",
       "      <td>620.0</td>\n",
       "      <td>11</td>\n",
       "      <td>2022</td>\n",
       "      <td>1</td>\n",
       "      <td>1</td>\n",
       "      <td>2014</td>\n",
       "      <td>Mar,Jun,Sept,Dec</td>\n",
       "      <td>2013</td>\n",
       "      <td>5</td>\n",
       "      <td>10</td>\n",
       "    </tr>\n",
       "    <tr>\n",
       "      <th>874853</th>\n",
       "      <td>364</td>\n",
       "      <td>3</td>\n",
       "      <td>2013-05-08</td>\n",
       "      <td>0</td>\n",
       "      <td>0</td>\n",
       "      <td>0</td>\n",
       "      <td>0</td>\n",
       "      <td>0</td>\n",
       "      <td>a</td>\n",
       "      <td>c</td>\n",
       "      <td>13620.0</td>\n",
       "      <td>11</td>\n",
       "      <td>2022</td>\n",
       "      <td>1</td>\n",
       "      <td>10</td>\n",
       "      <td>2014</td>\n",
       "      <td>Mar,Jun,Sept,Dec</td>\n",
       "      <td>2013</td>\n",
       "      <td>5</td>\n",
       "      <td>8</td>\n",
       "    </tr>\n",
       "    <tr>\n",
       "      <th>875968</th>\n",
       "      <td>364</td>\n",
       "      <td>2</td>\n",
       "      <td>2013-05-07</td>\n",
       "      <td>0</td>\n",
       "      <td>0</td>\n",
       "      <td>0</td>\n",
       "      <td>0</td>\n",
       "      <td>0</td>\n",
       "      <td>a</td>\n",
       "      <td>c</td>\n",
       "      <td>13620.0</td>\n",
       "      <td>11</td>\n",
       "      <td>2022</td>\n",
       "      <td>1</td>\n",
       "      <td>10</td>\n",
       "      <td>2014</td>\n",
       "      <td>Mar,Jun,Sept,Dec</td>\n",
       "      <td>2013</td>\n",
       "      <td>5</td>\n",
       "      <td>7</td>\n",
       "    </tr>\n",
       "    <tr>\n",
       "      <th>885113</th>\n",
       "      <td>589</td>\n",
       "      <td>1</td>\n",
       "      <td>2013-04-29</td>\n",
       "      <td>0</td>\n",
       "      <td>0</td>\n",
       "      <td>1</td>\n",
       "      <td>0</td>\n",
       "      <td>0</td>\n",
       "      <td>a</td>\n",
       "      <td>c</td>\n",
       "      <td>360.0</td>\n",
       "      <td>11</td>\n",
       "      <td>2022</td>\n",
       "      <td>1</td>\n",
       "      <td>18</td>\n",
       "      <td>2013</td>\n",
       "      <td>Feb,May,Aug,Nov</td>\n",
       "      <td>2013</td>\n",
       "      <td>4</td>\n",
       "      <td>29</td>\n",
       "    </tr>\n",
       "    <tr>\n",
       "      <th>889932</th>\n",
       "      <td>948</td>\n",
       "      <td>4</td>\n",
       "      <td>2013-04-25</td>\n",
       "      <td>0</td>\n",
       "      <td>5</td>\n",
       "      <td>1</td>\n",
       "      <td>0</td>\n",
       "      <td>0</td>\n",
       "      <td>b</td>\n",
       "      <td>b</td>\n",
       "      <td>1430.0</td>\n",
       "      <td>11</td>\n",
       "      <td>2022</td>\n",
       "      <td>0</td>\n",
       "      <td>45</td>\n",
       "      <td>2022</td>\n",
       "      <td>NA</td>\n",
       "      <td>2013</td>\n",
       "      <td>4</td>\n",
       "      <td>25</td>\n",
       "    </tr>\n",
       "    <tr>\n",
       "      <th>933937</th>\n",
       "      <td>353</td>\n",
       "      <td>6</td>\n",
       "      <td>2013-03-16</td>\n",
       "      <td>0</td>\n",
       "      <td>0</td>\n",
       "      <td>0</td>\n",
       "      <td>0</td>\n",
       "      <td>0</td>\n",
       "      <td>b</td>\n",
       "      <td>b</td>\n",
       "      <td>900.0</td>\n",
       "      <td>11</td>\n",
       "      <td>2022</td>\n",
       "      <td>1</td>\n",
       "      <td>14</td>\n",
       "      <td>2013</td>\n",
       "      <td>Feb,May,Aug,Nov</td>\n",
       "      <td>2013</td>\n",
       "      <td>3</td>\n",
       "      <td>16</td>\n",
       "    </tr>\n",
       "    <tr>\n",
       "      <th>975098</th>\n",
       "      <td>259</td>\n",
       "      <td>4</td>\n",
       "      <td>2013-02-07</td>\n",
       "      <td>0</td>\n",
       "      <td>0</td>\n",
       "      <td>1</td>\n",
       "      <td>0</td>\n",
       "      <td>0</td>\n",
       "      <td>b</td>\n",
       "      <td>b</td>\n",
       "      <td>210.0</td>\n",
       "      <td>11</td>\n",
       "      <td>2022</td>\n",
       "      <td>0</td>\n",
       "      <td>45</td>\n",
       "      <td>2022</td>\n",
       "      <td>NA</td>\n",
       "      <td>2013</td>\n",
       "      <td>2</td>\n",
       "      <td>7</td>\n",
       "    </tr>\n",
       "    <tr>\n",
       "      <th>982983</th>\n",
       "      <td>339</td>\n",
       "      <td>4</td>\n",
       "      <td>2013-01-31</td>\n",
       "      <td>0</td>\n",
       "      <td>0</td>\n",
       "      <td>0</td>\n",
       "      <td>0</td>\n",
       "      <td>0</td>\n",
       "      <td>a</td>\n",
       "      <td>c</td>\n",
       "      <td>2280.0</td>\n",
       "      <td>11</td>\n",
       "      <td>2022</td>\n",
       "      <td>1</td>\n",
       "      <td>10</td>\n",
       "      <td>2013</td>\n",
       "      <td>Mar,Jun,Sept,Dec</td>\n",
       "      <td>2013</td>\n",
       "      <td>1</td>\n",
       "      <td>31</td>\n",
       "    </tr>\n",
       "    <tr>\n",
       "      <th>984098</th>\n",
       "      <td>339</td>\n",
       "      <td>3</td>\n",
       "      <td>2013-01-30</td>\n",
       "      <td>0</td>\n",
       "      <td>0</td>\n",
       "      <td>0</td>\n",
       "      <td>0</td>\n",
       "      <td>0</td>\n",
       "      <td>a</td>\n",
       "      <td>c</td>\n",
       "      <td>2280.0</td>\n",
       "      <td>11</td>\n",
       "      <td>2022</td>\n",
       "      <td>1</td>\n",
       "      <td>10</td>\n",
       "      <td>2013</td>\n",
       "      <td>Mar,Jun,Sept,Dec</td>\n",
       "      <td>2013</td>\n",
       "      <td>1</td>\n",
       "      <td>30</td>\n",
       "    </tr>\n",
       "    <tr>\n",
       "      <th>990681</th>\n",
       "      <td>232</td>\n",
       "      <td>4</td>\n",
       "      <td>2013-01-24</td>\n",
       "      <td>0</td>\n",
       "      <td>0</td>\n",
       "      <td>1</td>\n",
       "      <td>0</td>\n",
       "      <td>0</td>\n",
       "      <td>c</td>\n",
       "      <td>c</td>\n",
       "      <td>13570.0</td>\n",
       "      <td>5</td>\n",
       "      <td>2010</td>\n",
       "      <td>1</td>\n",
       "      <td>10</td>\n",
       "      <td>2013</td>\n",
       "      <td>Mar,Jun,Sept,Dec</td>\n",
       "      <td>2013</td>\n",
       "      <td>1</td>\n",
       "      <td>24</td>\n",
       "    </tr>\n",
       "    <tr>\n",
       "      <th>999016</th>\n",
       "      <td>762</td>\n",
       "      <td>4</td>\n",
       "      <td>2013-01-17</td>\n",
       "      <td>0</td>\n",
       "      <td>0</td>\n",
       "      <td>0</td>\n",
       "      <td>0</td>\n",
       "      <td>0</td>\n",
       "      <td>d</td>\n",
       "      <td>c</td>\n",
       "      <td>1280.0</td>\n",
       "      <td>11</td>\n",
       "      <td>2022</td>\n",
       "      <td>1</td>\n",
       "      <td>10</td>\n",
       "      <td>2013</td>\n",
       "      <td>Mar,Jun,Sept,Dec</td>\n",
       "      <td>2013</td>\n",
       "      <td>1</td>\n",
       "      <td>17</td>\n",
       "    </tr>\n",
       "  </tbody>\n",
       "</table>\n",
       "</div>"
      ],
      "text/plain": [
       "        Store  DayOfWeek       Date  Sales  Customers  Promo StateHoliday  \\\n",
       "86825     971          5 2015-05-15      0          0      0            0   \n",
       "142278    674          4 2015-03-26      0          0      0            0   \n",
       "196938    699          4 2015-02-05      0          0      1            0   \n",
       "322053    708          3 2014-10-01      0          0      1            0   \n",
       "330176    357          1 2014-09-22      0          0      0            0   \n",
       "340348    227          4 2014-09-11      0          0      0            0   \n",
       "340860    835          4 2014-09-11      0          0      0            0   \n",
       "341795    835          3 2014-09-10      0          0      0            0   \n",
       "346232    548          5 2014-09-05      0          0      1            0   \n",
       "346734     28          4 2014-09-04      0          0      1            0   \n",
       "347669     28          3 2014-09-03      0          0      1            0   \n",
       "348604     28          2 2014-09-02      0          0      1            0   \n",
       "386065    102          4 2014-07-24      0          0      0            0   \n",
       "386173    238          4 2014-07-24      0          0      0            0   \n",
       "386227    303          4 2014-07-24      0          0      0            0   \n",
       "386304    387          4 2014-07-24      0          0      0            0   \n",
       "387652    882          3 2014-07-23      0          0      0            0   \n",
       "387656    887          3 2014-07-23      0          0      0            0   \n",
       "397285    102          6 2014-07-12      0          0      0            0   \n",
       "406384    925          4 2014-07-03      0          0      1            0   \n",
       "407532     57          2 2014-07-01      0          0      1            0   \n",
       "437311   1017          4 2014-06-05      0          0      1            0   \n",
       "438426   1017          3 2014-06-04      0          0      1            0   \n",
       "477534   1100          3 2014-04-30      0          0      1            0   \n",
       "478649   1100          2 2014-04-29      0          3      1            0   \n",
       "506085    661          5 2014-04-04      0          0      1            0   \n",
       "512964    850          6 2014-03-29      0          0      0            0   \n",
       "525365    986          2 2014-03-18      0          0      1            0   \n",
       "531396    327          3 2014-03-12      0          0      0            0   \n",
       "561199     25          4 2014-02-13      0          0      0            0   \n",
       "562314     25          3 2014-02-12      0          0      0            0   \n",
       "582982    623          6 2014-01-25      0          0      0            0   \n",
       "584097    623          5 2014-01-24      0          0      1            0   \n",
       "591147    983          6 2014-01-18      0          0      0            0   \n",
       "592262    983          5 2014-01-17      0          0      0            0   \n",
       "744697    663          1 2013-09-02      0          0      0            0   \n",
       "750000    391          3 2013-08-28      0          0      1            0   \n",
       "772836    927          4 2013-08-08      0          0      0            0   \n",
       "805283   1039          3 2013-07-10      0          0      0            0   \n",
       "806398   1039          2 2013-07-09      0          0      0            0   \n",
       "817174    665          6 2013-06-29      0          0      0            0   \n",
       "818289    665          5 2013-06-28      0          0      0            0   \n",
       "843969    700          3 2013-06-05      0          0      1            0   \n",
       "872940    681          5 2013-05-10      0          0      0            0   \n",
       "874853    364          3 2013-05-08      0          0      0            0   \n",
       "875968    364          2 2013-05-07      0          0      0            0   \n",
       "885113    589          1 2013-04-29      0          0      1            0   \n",
       "889932    948          4 2013-04-25      0          5      1            0   \n",
       "933937    353          6 2013-03-16      0          0      0            0   \n",
       "975098    259          4 2013-02-07      0          0      1            0   \n",
       "982983    339          4 2013-01-31      0          0      0            0   \n",
       "984098    339          3 2013-01-30      0          0      0            0   \n",
       "990681    232          4 2013-01-24      0          0      1            0   \n",
       "999016    762          4 2013-01-17      0          0      0            0   \n",
       "\n",
       "        SchoolHoliday StoreType Assortment  CompetitionDistance  \\\n",
       "86825               1         c          a               1140.0   \n",
       "142278              0         a          a               2640.0   \n",
       "196938              0         a          a                180.0   \n",
       "322053              0         c          c              11470.0   \n",
       "330176              0         a          a               2060.0   \n",
       "340348              0         a          a               2370.0   \n",
       "340860              0         a          a               2890.0   \n",
       "341795              0         a          a               2890.0   \n",
       "346232              1         d          c               3760.0   \n",
       "346734              0         a          a               1200.0   \n",
       "347669              1         a          a               1200.0   \n",
       "348604              1         a          a               1200.0   \n",
       "386065              1         a          a                150.0   \n",
       "386173              1         a          a                320.0   \n",
       "386227              1         a          a              15430.0   \n",
       "386304              1         c          a                210.0   \n",
       "387652              1         a          a                 30.0   \n",
       "387656              0         d          a              19700.0   \n",
       "397285              0         a          a                150.0   \n",
       "406384              0         c          a                470.0   \n",
       "407532              0         d          c                420.0   \n",
       "437311              0         c          a                110.0   \n",
       "438426              0         c          a                110.0   \n",
       "477534              0         a          a                540.0   \n",
       "478649              0         a          a                540.0   \n",
       "506085              0         d          c               2140.0   \n",
       "512964              0         d          a               1120.0   \n",
       "525365              0         a          a                620.0   \n",
       "531396              0         c          c               1390.0   \n",
       "561199              0         c          a                430.0   \n",
       "562314              0         c          a                430.0   \n",
       "582982              0         a          a               4080.0   \n",
       "584097              0         a          a               4080.0   \n",
       "591147              0         a          a                 40.0   \n",
       "592262              0         a          a                 40.0   \n",
       "744697              1         a          c               7860.0   \n",
       "750000              1         a          a                460.0   \n",
       "772836              1         a          a                480.0   \n",
       "805283              0         a          c                 70.0   \n",
       "806398              0         a          c                 70.0   \n",
       "817174              0         a          a                 90.0   \n",
       "818289              0         a          a                 90.0   \n",
       "843969              0         a          c                830.0   \n",
       "872940              0         a          c                620.0   \n",
       "874853              0         a          c              13620.0   \n",
       "875968              0         a          c              13620.0   \n",
       "885113              0         a          c                360.0   \n",
       "889932              0         b          b               1430.0   \n",
       "933937              0         b          b                900.0   \n",
       "975098              0         b          b                210.0   \n",
       "982983              0         a          c               2280.0   \n",
       "984098              0         a          c               2280.0   \n",
       "990681              0         c          c              13570.0   \n",
       "999016              0         d          c               1280.0   \n",
       "\n",
       "        CompetitionOpenSinceMonth  CompetitionOpenSinceYear  Promo2  \\\n",
       "86825                           5                      2011       1   \n",
       "142278                         12                      2005       1   \n",
       "196938                         11                      2022       1   \n",
       "322053                         10                      2009       1   \n",
       "330176                         10                      2008       0   \n",
       "340348                         11                      2022       0   \n",
       "340860                         12                      2007       1   \n",
       "341795                         12                      2007       1   \n",
       "346232                          2                      2009       0   \n",
       "346734                         10                      2014       1   \n",
       "347669                         10                      2014       1   \n",
       "348604                         10                      2014       1   \n",
       "386065                         12                      2007       1   \n",
       "386173                         11                      2022       1   \n",
       "386227                         11                      2012       1   \n",
       "386304                         11                      2022       1   \n",
       "387652                          4                      2013       0   \n",
       "387656                         11                      2022       1   \n",
       "397285                         12                      2007       1   \n",
       "406384                          3                      2007       1   \n",
       "407532                          6                      2014       0   \n",
       "437311                         11                      2008       0   \n",
       "438426                         11                      2008       0   \n",
       "477534                         11                      2022       1   \n",
       "478649                         11                      2022       1   \n",
       "506085                          7                      2013       0   \n",
       "512964                          5                      2007       1   \n",
       "525365                         10                      2014       1   \n",
       "531396                         12                      2004       0   \n",
       "561199                          4                      2003       0   \n",
       "562314                          4                      2003       0   \n",
       "582982                          3                      2011       1   \n",
       "584097                          3                      2011       1   \n",
       "591147                          3                      2014       1   \n",
       "592262                          3                      2014       1   \n",
       "744697                          5                      2005       0   \n",
       "750000                         11                      2014       1   \n",
       "772836                         11                      2022       0   \n",
       "805283                          6                      1990       1   \n",
       "806398                          6                      1990       1   \n",
       "817174                         12                      2012       1   \n",
       "818289                         12                      2012       1   \n",
       "843969                         11                      2022       1   \n",
       "872940                         11                      2022       1   \n",
       "874853                         11                      2022       1   \n",
       "875968                         11                      2022       1   \n",
       "885113                         11                      2022       1   \n",
       "889932                         11                      2022       0   \n",
       "933937                         11                      2022       1   \n",
       "975098                         11                      2022       0   \n",
       "982983                         11                      2022       1   \n",
       "984098                         11                      2022       1   \n",
       "990681                          5                      2010       1   \n",
       "999016                         11                      2022       1   \n",
       "\n",
       "        Promo2SinceWeek  Promo2SinceYear     PromoInterval  Year  Month  \\\n",
       "86825                14             2012  Mar,Jun,Sept,Dec  2015      5   \n",
       "142278               31             2013   Feb,May,Aug,Nov  2015      3   \n",
       "196938                5             2013   Jan,Apr,Jul,Oct  2015      2   \n",
       "322053               18             2014   Jan,Apr,Jul,Oct  2014     10   \n",
       "330176               45             2022                NA  2014      9   \n",
       "340348               45             2022                NA  2014      9   \n",
       "340860               10             2014  Mar,Jun,Sept,Dec  2014      9   \n",
       "341795               10             2014  Mar,Jun,Sept,Dec  2014      9   \n",
       "346232               45             2022                NA  2014      9   \n",
       "346734                6             2015  Mar,Jun,Sept,Dec  2014      9   \n",
       "347669                6             2015  Mar,Jun,Sept,Dec  2014      9   \n",
       "348604                6             2015  Mar,Jun,Sept,Dec  2014      9   \n",
       "386065               10             2014  Mar,Jun,Sept,Dec  2014      7   \n",
       "386173               45             2009   Feb,May,Aug,Nov  2014      7   \n",
       "386227               18             2011   Feb,May,Aug,Nov  2014      7   \n",
       "386304               36             2013  Mar,Jun,Sept,Dec  2014      7   \n",
       "387652               45             2022                NA  2014      7   \n",
       "387656               37             2009   Jan,Apr,Jul,Oct  2014      7   \n",
       "397285               10             2014  Mar,Jun,Sept,Dec  2014      7   \n",
       "406384                1             2012   Jan,Apr,Jul,Oct  2014      7   \n",
       "407532               45             2022                NA  2014      7   \n",
       "437311               45             2022                NA  2014      6   \n",
       "438426               45             2022                NA  2014      6   \n",
       "477534               14             2011   Jan,Apr,Jul,Oct  2014      4   \n",
       "478649               14             2011   Jan,Apr,Jul,Oct  2014      4   \n",
       "506085               45             2022                NA  2014      4   \n",
       "512964               31             2013   Jan,Apr,Jul,Oct  2014      3   \n",
       "525365               18             2014   Feb,May,Aug,Nov  2014      3   \n",
       "531396               45             2022                NA  2014      3   \n",
       "561199               45             2022                NA  2014      2   \n",
       "562314               45             2022                NA  2014      2   \n",
       "582982               13             2010   Jan,Apr,Jul,Oct  2014      1   \n",
       "584097               13             2010   Jan,Apr,Jul,Oct  2014      1   \n",
       "591147                1             2014   Jan,Apr,Jul,Oct  2014      1   \n",
       "592262                1             2014   Jan,Apr,Jul,Oct  2014      1   \n",
       "744697               45             2022                NA  2013      9   \n",
       "750000               31             2013   Feb,May,Aug,Nov  2013      8   \n",
       "772836               45             2022                NA  2013      8   \n",
       "805283               22             2012  Mar,Jun,Sept,Dec  2013      7   \n",
       "806398               22             2012  Mar,Jun,Sept,Dec  2013      7   \n",
       "817174               14             2011   Jan,Apr,Jul,Oct  2013      6   \n",
       "818289               14             2011   Jan,Apr,Jul,Oct  2013      6   \n",
       "843969               27             2013   Jan,Apr,Jul,Oct  2013      6   \n",
       "872940                1             2014  Mar,Jun,Sept,Dec  2013      5   \n",
       "874853               10             2014  Mar,Jun,Sept,Dec  2013      5   \n",
       "875968               10             2014  Mar,Jun,Sept,Dec  2013      5   \n",
       "885113               18             2013   Feb,May,Aug,Nov  2013      4   \n",
       "889932               45             2022                NA  2013      4   \n",
       "933937               14             2013   Feb,May,Aug,Nov  2013      3   \n",
       "975098               45             2022                NA  2013      2   \n",
       "982983               10             2013  Mar,Jun,Sept,Dec  2013      1   \n",
       "984098               10             2013  Mar,Jun,Sept,Dec  2013      1   \n",
       "990681               10             2013  Mar,Jun,Sept,Dec  2013      1   \n",
       "999016               10             2013  Mar,Jun,Sept,Dec  2013      1   \n",
       "\n",
       "        DayOfMonth  \n",
       "86825           15  \n",
       "142278          26  \n",
       "196938           5  \n",
       "322053           1  \n",
       "330176          22  \n",
       "340348          11  \n",
       "340860          11  \n",
       "341795          10  \n",
       "346232           5  \n",
       "346734           4  \n",
       "347669           3  \n",
       "348604           2  \n",
       "386065          24  \n",
       "386173          24  \n",
       "386227          24  \n",
       "386304          24  \n",
       "387652          23  \n",
       "387656          23  \n",
       "397285          12  \n",
       "406384           3  \n",
       "407532           1  \n",
       "437311           5  \n",
       "438426           4  \n",
       "477534          30  \n",
       "478649          29  \n",
       "506085           4  \n",
       "512964          29  \n",
       "525365          18  \n",
       "531396          12  \n",
       "561199          13  \n",
       "562314          12  \n",
       "582982          25  \n",
       "584097          24  \n",
       "591147          18  \n",
       "592262          17  \n",
       "744697           2  \n",
       "750000          28  \n",
       "772836           8  \n",
       "805283          10  \n",
       "806398           9  \n",
       "817174          29  \n",
       "818289          28  \n",
       "843969           5  \n",
       "872940          10  \n",
       "874853           8  \n",
       "875968           7  \n",
       "885113          29  \n",
       "889932          25  \n",
       "933937          16  \n",
       "975098           7  \n",
       "982983          31  \n",
       "984098          30  \n",
       "990681          24  \n",
       "999016          17  "
      ]
     },
     "execution_count": 60,
     "metadata": {},
     "output_type": "execute_result"
    }
   ],
   "source": [
    "sales_treated[sales_treated['Customers'] >= sales_treated['Sales']]"
   ]
  },
  {
   "cell_type": "markdown",
   "id": "77b5113f",
   "metadata": {
    "papermill": {
     "duration": 0.047022,
     "end_time": "2022-11-10T06:20:33.658705",
     "exception": false,
     "start_time": "2022-11-10T06:20:33.611683",
     "status": "completed"
    },
    "tags": []
   },
   "source": [
    "We can see the majority of these days are entries with both zero *Sales* and zero *Customers* recorded. This seems odd for a day that the store is open. A quick check of **merged_sales**, which still has the *Open* column, gives us the same results and assures us that the stores are indeed marked as open on these days.\n"
   ]
  },
  {
   "cell_type": "markdown",
   "id": "58425a84",
   "metadata": {
    "papermill": {
     "duration": 0.046242,
     "end_time": "2022-11-10T06:20:33.752318",
     "exception": false,
     "start_time": "2022-11-10T06:20:33.706076",
     "status": "completed"
    },
    "tags": []
   },
   "source": [
    "\n",
    "```\n",
    "merged_sales[(merged_sales['Customers'] >= merged_sales['Sales']) & merged_sales['Open'] == 1]\n",
    "```"
   ]
  },
  {
   "cell_type": "markdown",
   "id": "b8bb65aa",
   "metadata": {
    "papermill": {
     "duration": 0.043883,
     "end_time": "2022-11-10T06:20:33.840237",
     "exception": false,
     "start_time": "2022-11-10T06:20:33.796354",
     "status": "completed"
    },
    "tags": []
   },
   "source": [
    "I can only speculate as to why we have entries for stores that are open but aren't recording any sales, perhaps a stocktake day? Let's also look at the cases that aren't zero *Sales* and zero *Customers*."
   ]
  },
  {
   "cell_type": "code",
   "execution_count": 61,
   "id": "e48a9b83",
   "metadata": {
    "execution": {
     "iopub.execute_input": "2022-11-10T06:20:33.930439Z",
     "iopub.status.busy": "2022-11-10T06:20:33.929678Z",
     "iopub.status.idle": "2022-11-10T06:20:33.953998Z",
     "shell.execute_reply": "2022-11-10T06:20:33.952329Z"
    },
    "papermill": {
     "duration": 0.07279,
     "end_time": "2022-11-10T06:20:33.956739",
     "exception": false,
     "start_time": "2022-11-10T06:20:33.883949",
     "status": "completed"
    },
    "tags": []
   },
   "outputs": [
    {
     "data": {
      "text/html": [
       "<div>\n",
       "<style scoped>\n",
       "    .dataframe tbody tr th:only-of-type {\n",
       "        vertical-align: middle;\n",
       "    }\n",
       "\n",
       "    .dataframe tbody tr th {\n",
       "        vertical-align: top;\n",
       "    }\n",
       "\n",
       "    .dataframe thead th {\n",
       "        text-align: right;\n",
       "    }\n",
       "</style>\n",
       "<table border=\"1\" class=\"dataframe\">\n",
       "  <thead>\n",
       "    <tr style=\"text-align: right;\">\n",
       "      <th></th>\n",
       "      <th>Store</th>\n",
       "      <th>DayOfWeek</th>\n",
       "      <th>Date</th>\n",
       "      <th>Sales</th>\n",
       "      <th>Customers</th>\n",
       "      <th>Promo</th>\n",
       "      <th>StateHoliday</th>\n",
       "      <th>SchoolHoliday</th>\n",
       "      <th>StoreType</th>\n",
       "      <th>Assortment</th>\n",
       "      <th>CompetitionDistance</th>\n",
       "      <th>CompetitionOpenSinceMonth</th>\n",
       "      <th>CompetitionOpenSinceYear</th>\n",
       "      <th>Promo2</th>\n",
       "      <th>Promo2SinceWeek</th>\n",
       "      <th>Promo2SinceYear</th>\n",
       "      <th>PromoInterval</th>\n",
       "      <th>Year</th>\n",
       "      <th>Month</th>\n",
       "      <th>DayOfMonth</th>\n",
       "    </tr>\n",
       "  </thead>\n",
       "  <tbody>\n",
       "    <tr>\n",
       "      <th>478649</th>\n",
       "      <td>1100</td>\n",
       "      <td>2</td>\n",
       "      <td>2014-04-29</td>\n",
       "      <td>0</td>\n",
       "      <td>3</td>\n",
       "      <td>1</td>\n",
       "      <td>0</td>\n",
       "      <td>0</td>\n",
       "      <td>a</td>\n",
       "      <td>a</td>\n",
       "      <td>540.0</td>\n",
       "      <td>11</td>\n",
       "      <td>2022</td>\n",
       "      <td>1</td>\n",
       "      <td>14</td>\n",
       "      <td>2011</td>\n",
       "      <td>Jan,Apr,Jul,Oct</td>\n",
       "      <td>2014</td>\n",
       "      <td>4</td>\n",
       "      <td>29</td>\n",
       "    </tr>\n",
       "    <tr>\n",
       "      <th>889932</th>\n",
       "      <td>948</td>\n",
       "      <td>4</td>\n",
       "      <td>2013-04-25</td>\n",
       "      <td>0</td>\n",
       "      <td>5</td>\n",
       "      <td>1</td>\n",
       "      <td>0</td>\n",
       "      <td>0</td>\n",
       "      <td>b</td>\n",
       "      <td>b</td>\n",
       "      <td>1430.0</td>\n",
       "      <td>11</td>\n",
       "      <td>2022</td>\n",
       "      <td>0</td>\n",
       "      <td>45</td>\n",
       "      <td>2022</td>\n",
       "      <td>NA</td>\n",
       "      <td>2013</td>\n",
       "      <td>4</td>\n",
       "      <td>25</td>\n",
       "    </tr>\n",
       "  </tbody>\n",
       "</table>\n",
       "</div>"
      ],
      "text/plain": [
       "        Store  DayOfWeek       Date  Sales  Customers  Promo StateHoliday  \\\n",
       "478649   1100          2 2014-04-29      0          3      1            0   \n",
       "889932    948          4 2013-04-25      0          5      1            0   \n",
       "\n",
       "        SchoolHoliday StoreType Assortment  CompetitionDistance  \\\n",
       "478649              0         a          a                540.0   \n",
       "889932              0         b          b               1430.0   \n",
       "\n",
       "        CompetitionOpenSinceMonth  CompetitionOpenSinceYear  Promo2  \\\n",
       "478649                         11                      2022       1   \n",
       "889932                         11                      2022       0   \n",
       "\n",
       "        Promo2SinceWeek  Promo2SinceYear    PromoInterval  Year  Month  \\\n",
       "478649               14             2011  Jan,Apr,Jul,Oct  2014      4   \n",
       "889932               45             2022               NA  2013      4   \n",
       "\n",
       "        DayOfMonth  \n",
       "478649          29  \n",
       "889932          25  "
      ]
     },
     "execution_count": 61,
     "metadata": {},
     "output_type": "execute_result"
    }
   ],
   "source": [
    "sales_treated[sales_treated['Customers'] > sales_treated['Sales']]"
   ]
  },
  {
   "cell_type": "markdown",
   "id": "7b30fb48",
   "metadata": {
    "papermill": {
     "duration": 0.045517,
     "end_time": "2022-11-10T06:20:34.048934",
     "exception": false,
     "start_time": "2022-11-10T06:20:34.003417",
     "status": "completed"
    },
    "tags": []
   },
   "source": [
    "I'm unsure of why we have two days with zero *Sales* and a small handful of *Customers*. As I have no explanation for these 2 days, nor the 52 other open days with zero *Sales* and *Customers*, I don't feel comfortable deleting them. \n",
    "\n",
    "This does pose a small problem for calculating our average UPT, however. As such we will create our UPT column by dividing the day's *Sales* by the days *Customers* to find the average Units Per Transaction for each day and store. The resulting 52 null values will be imputed with a zero to reflect the zero *Sales* for those entries."
   ]
  },
  {
   "cell_type": "code",
   "execution_count": 62,
   "id": "8c220041",
   "metadata": {
    "execution": {
     "iopub.execute_input": "2022-11-10T06:20:34.140045Z",
     "iopub.status.busy": "2022-11-10T06:20:34.139570Z",
     "iopub.status.idle": "2022-11-10T06:20:34.150079Z",
     "shell.execute_reply": "2022-11-10T06:20:34.148738Z"
    },
    "papermill": {
     "duration": 0.059587,
     "end_time": "2022-11-10T06:20:34.152721",
     "exception": false,
     "start_time": "2022-11-10T06:20:34.093134",
     "status": "completed"
    },
    "tags": []
   },
   "outputs": [],
   "source": [
    "sales_treated['UPT'] = sales_treated['Sales'] / sales_treated['Customers']"
   ]
  },
  {
   "cell_type": "code",
   "execution_count": 63,
   "id": "44661dc1",
   "metadata": {
    "execution": {
     "iopub.execute_input": "2022-11-10T06:20:34.247071Z",
     "iopub.status.busy": "2022-11-10T06:20:34.246188Z",
     "iopub.status.idle": "2022-11-10T06:20:34.257018Z",
     "shell.execute_reply": "2022-11-10T06:20:34.255432Z"
    },
    "papermill": {
     "duration": 0.061807,
     "end_time": "2022-11-10T06:20:34.259571",
     "exception": false,
     "start_time": "2022-11-10T06:20:34.197764",
     "status": "completed"
    },
    "tags": []
   },
   "outputs": [
    {
     "data": {
      "text/plain": [
       "52"
      ]
     },
     "execution_count": 63,
     "metadata": {},
     "output_type": "execute_result"
    }
   ],
   "source": [
    "sales_treated['UPT'].isna().sum()"
   ]
  },
  {
   "cell_type": "code",
   "execution_count": 64,
   "id": "bfcb013c",
   "metadata": {
    "execution": {
     "iopub.execute_input": "2022-11-10T06:20:34.353962Z",
     "iopub.status.busy": "2022-11-10T06:20:34.353492Z",
     "iopub.status.idle": "2022-11-10T06:20:34.365937Z",
     "shell.execute_reply": "2022-11-10T06:20:34.364505Z"
    },
    "papermill": {
     "duration": 0.064292,
     "end_time": "2022-11-10T06:20:34.368870",
     "exception": false,
     "start_time": "2022-11-10T06:20:34.304578",
     "status": "completed"
    },
    "tags": []
   },
   "outputs": [],
   "source": [
    "sales_treated.loc[sales_treated['UPT'].isna(), 'UPT'] = 0"
   ]
  },
  {
   "cell_type": "code",
   "execution_count": 65,
   "id": "8e484e90",
   "metadata": {
    "execution": {
     "iopub.execute_input": "2022-11-10T06:20:34.466406Z",
     "iopub.status.busy": "2022-11-10T06:20:34.465610Z",
     "iopub.status.idle": "2022-11-10T06:20:34.474735Z",
     "shell.execute_reply": "2022-11-10T06:20:34.473625Z"
    },
    "papermill": {
     "duration": 0.060701,
     "end_time": "2022-11-10T06:20:34.477240",
     "exception": false,
     "start_time": "2022-11-10T06:20:34.416539",
     "status": "completed"
    },
    "tags": []
   },
   "outputs": [
    {
     "data": {
      "text/plain": [
       "0"
      ]
     },
     "execution_count": 65,
     "metadata": {},
     "output_type": "execute_result"
    }
   ],
   "source": [
    "sales_treated['UPT'].isna().sum()"
   ]
  },
  {
   "cell_type": "markdown",
   "id": "5372fa59",
   "metadata": {
    "papermill": {
     "duration": 0.056165,
     "end_time": "2022-11-10T06:20:34.579948",
     "exception": false,
     "start_time": "2022-11-10T06:20:34.523783",
     "status": "completed"
    },
    "tags": []
   },
   "source": [
    "We'll also add this *UPT* column to our **sales** table which still contains our *Sales* and *Customers* outliers, so we can explore the *UPT* with the outliers as well."
   ]
  },
  {
   "cell_type": "code",
   "execution_count": 66,
   "id": "4da6daac",
   "metadata": {
    "execution": {
     "iopub.execute_input": "2022-11-10T06:20:34.714927Z",
     "iopub.status.busy": "2022-11-10T06:20:34.713839Z",
     "iopub.status.idle": "2022-11-10T06:20:34.731303Z",
     "shell.execute_reply": "2022-11-10T06:20:34.730155Z"
    },
    "papermill": {
     "duration": 0.083419,
     "end_time": "2022-11-10T06:20:34.734716",
     "exception": false,
     "start_time": "2022-11-10T06:20:34.651297",
     "status": "completed"
    },
    "tags": []
   },
   "outputs": [],
   "source": [
    "sales['UPT'] = sales['Sales'] / sales['Customers']\n",
    "sales.loc[sales['UPT'].isna(), 'UPT'] = 0"
   ]
  },
  {
   "cell_type": "markdown",
   "id": "05d3ef59",
   "metadata": {
    "papermill": {
     "duration": 0.057835,
     "end_time": "2022-11-10T06:20:34.843959",
     "exception": false,
     "start_time": "2022-11-10T06:20:34.786124",
     "status": "completed"
    },
    "tags": []
   },
   "source": [
    "---"
   ]
  },
  {
   "cell_type": "markdown",
   "id": "c7ed65db",
   "metadata": {
    "papermill": {
     "duration": 0.050999,
     "end_time": "2022-11-10T06:20:34.944378",
     "exception": false,
     "start_time": "2022-11-10T06:20:34.893379",
     "status": "completed"
    },
    "tags": []
   },
   "source": [
    "<h2 style=\"background-color:#6dbcc5; color: #FFFFFF; padding: 8px;\">Review of Summary Statistics Post Cleaning</h2>\n",
    "\n",
    "Let's quickly review some of our summary statistics now that we've cleaned our data a bit. We can look at the summary statistics for **sales** to see them as they were before treating outliers and imputing for missing data, and compare them to the **sales_treated** summary statistics to see how they've changed."
   ]
  },
  {
   "cell_type": "code",
   "execution_count": 67,
   "id": "8a602e2d",
   "metadata": {
    "execution": {
     "iopub.execute_input": "2022-11-10T06:20:35.045549Z",
     "iopub.status.busy": "2022-11-10T06:20:35.044694Z",
     "iopub.status.idle": "2022-11-10T06:20:35.209769Z",
     "shell.execute_reply": "2022-11-10T06:20:35.208736Z"
    },
    "papermill": {
     "duration": 0.216809,
     "end_time": "2022-11-10T06:20:35.212446",
     "exception": false,
     "start_time": "2022-11-10T06:20:34.995637",
     "status": "completed"
    },
    "tags": []
   },
   "outputs": [
    {
     "data": {
      "text/html": [
       "<div>\n",
       "<style scoped>\n",
       "    .dataframe tbody tr th:only-of-type {\n",
       "        vertical-align: middle;\n",
       "    }\n",
       "\n",
       "    .dataframe tbody tr th {\n",
       "        vertical-align: top;\n",
       "    }\n",
       "\n",
       "    .dataframe thead th {\n",
       "        text-align: right;\n",
       "    }\n",
       "</style>\n",
       "<table border=\"1\" class=\"dataframe\">\n",
       "  <thead>\n",
       "    <tr style=\"text-align: right;\">\n",
       "      <th></th>\n",
       "      <th>Sales</th>\n",
       "      <th>Customers</th>\n",
       "      <th>CompetitionDistance</th>\n",
       "    </tr>\n",
       "  </thead>\n",
       "  <tbody>\n",
       "    <tr>\n",
       "      <th>count</th>\n",
       "      <td>1.017209e+06</td>\n",
       "      <td>1.017209e+06</td>\n",
       "      <td>1.014567e+06</td>\n",
       "    </tr>\n",
       "    <tr>\n",
       "      <th>mean</th>\n",
       "      <td>5.773819e+03</td>\n",
       "      <td>6.331459e+02</td>\n",
       "      <td>5.430086e+03</td>\n",
       "    </tr>\n",
       "    <tr>\n",
       "      <th>std</th>\n",
       "      <td>3.849926e+03</td>\n",
       "      <td>4.644117e+02</td>\n",
       "      <td>7.715324e+03</td>\n",
       "    </tr>\n",
       "    <tr>\n",
       "      <th>min</th>\n",
       "      <td>0.000000e+00</td>\n",
       "      <td>0.000000e+00</td>\n",
       "      <td>2.000000e+01</td>\n",
       "    </tr>\n",
       "    <tr>\n",
       "      <th>25%</th>\n",
       "      <td>3.727000e+03</td>\n",
       "      <td>4.050000e+02</td>\n",
       "      <td>7.100000e+02</td>\n",
       "    </tr>\n",
       "    <tr>\n",
       "      <th>50%</th>\n",
       "      <td>5.744000e+03</td>\n",
       "      <td>6.090000e+02</td>\n",
       "      <td>2.330000e+03</td>\n",
       "    </tr>\n",
       "    <tr>\n",
       "      <th>75%</th>\n",
       "      <td>7.856000e+03</td>\n",
       "      <td>8.370000e+02</td>\n",
       "      <td>6.890000e+03</td>\n",
       "    </tr>\n",
       "    <tr>\n",
       "      <th>max</th>\n",
       "      <td>4.155100e+04</td>\n",
       "      <td>7.388000e+03</td>\n",
       "      <td>7.586000e+04</td>\n",
       "    </tr>\n",
       "  </tbody>\n",
       "</table>\n",
       "</div>"
      ],
      "text/plain": [
       "              Sales     Customers  CompetitionDistance\n",
       "count  1.017209e+06  1.017209e+06         1.014567e+06\n",
       "mean   5.773819e+03  6.331459e+02         5.430086e+03\n",
       "std    3.849926e+03  4.644117e+02         7.715324e+03\n",
       "min    0.000000e+00  0.000000e+00         2.000000e+01\n",
       "25%    3.727000e+03  4.050000e+02         7.100000e+02\n",
       "50%    5.744000e+03  6.090000e+02         2.330000e+03\n",
       "75%    7.856000e+03  8.370000e+02         6.890000e+03\n",
       "max    4.155100e+04  7.388000e+03         7.586000e+04"
      ]
     },
     "execution_count": 67,
     "metadata": {},
     "output_type": "execute_result"
    }
   ],
   "source": [
    "merged_sales[['Sales', 'Customers', 'CompetitionDistance']].describe() ## BEFORE cleaning"
   ]
  },
  {
   "cell_type": "code",
   "execution_count": 68,
   "id": "cd6bb7dc",
   "metadata": {
    "execution": {
     "iopub.execute_input": "2022-11-10T06:20:35.315528Z",
     "iopub.status.busy": "2022-11-10T06:20:35.314384Z",
     "iopub.status.idle": "2022-11-10T06:20:35.494027Z",
     "shell.execute_reply": "2022-11-10T06:20:35.492322Z"
    },
    "papermill": {
     "duration": 0.233899,
     "end_time": "2022-11-10T06:20:35.497635",
     "exception": false,
     "start_time": "2022-11-10T06:20:35.263736",
     "status": "completed"
    },
    "tags": []
   },
   "outputs": [
    {
     "data": {
      "text/html": [
       "<div>\n",
       "<style scoped>\n",
       "    .dataframe tbody tr th:only-of-type {\n",
       "        vertical-align: middle;\n",
       "    }\n",
       "\n",
       "    .dataframe tbody tr th {\n",
       "        vertical-align: top;\n",
       "    }\n",
       "\n",
       "    .dataframe thead th {\n",
       "        text-align: right;\n",
       "    }\n",
       "</style>\n",
       "<table border=\"1\" class=\"dataframe\">\n",
       "  <thead>\n",
       "    <tr style=\"text-align: right;\">\n",
       "      <th></th>\n",
       "      <th>Sales</th>\n",
       "      <th>Customers</th>\n",
       "      <th>CompetitionDistance</th>\n",
       "      <th>UPT</th>\n",
       "    </tr>\n",
       "  </thead>\n",
       "  <tbody>\n",
       "    <tr>\n",
       "      <th>count</th>\n",
       "      <td>844392.000000</td>\n",
       "      <td>844392.000000</td>\n",
       "      <td>844392.000000</td>\n",
       "      <td>844392.000000</td>\n",
       "    </tr>\n",
       "    <tr>\n",
       "      <th>mean</th>\n",
       "      <td>6840.659923</td>\n",
       "      <td>734.787972</td>\n",
       "      <td>5460.084731</td>\n",
       "      <td>9.535935</td>\n",
       "    </tr>\n",
       "    <tr>\n",
       "      <th>std</th>\n",
       "      <td>2717.364981</td>\n",
       "      <td>296.171183</td>\n",
       "      <td>7799.553804</td>\n",
       "      <td>2.103304</td>\n",
       "    </tr>\n",
       "    <tr>\n",
       "      <th>min</th>\n",
       "      <td>0.000000</td>\n",
       "      <td>0.000000</td>\n",
       "      <td>20.000000</td>\n",
       "      <td>0.000000</td>\n",
       "    </tr>\n",
       "    <tr>\n",
       "      <th>25%</th>\n",
       "      <td>4859.000000</td>\n",
       "      <td>519.000000</td>\n",
       "      <td>710.000000</td>\n",
       "      <td>7.996429</td>\n",
       "    </tr>\n",
       "    <tr>\n",
       "      <th>50%</th>\n",
       "      <td>6369.000000</td>\n",
       "      <td>676.000000</td>\n",
       "      <td>2330.000000</td>\n",
       "      <td>9.361761</td>\n",
       "    </tr>\n",
       "    <tr>\n",
       "      <th>75%</th>\n",
       "      <td>8360.000000</td>\n",
       "      <td>893.000000</td>\n",
       "      <td>6900.000000</td>\n",
       "      <td>10.864260</td>\n",
       "    </tr>\n",
       "    <tr>\n",
       "      <th>max</th>\n",
       "      <td>13612.000000</td>\n",
       "      <td>1454.000000</td>\n",
       "      <td>75860.000000</td>\n",
       "      <td>52.153257</td>\n",
       "    </tr>\n",
       "  </tbody>\n",
       "</table>\n",
       "</div>"
      ],
      "text/plain": [
       "               Sales      Customers  CompetitionDistance            UPT\n",
       "count  844392.000000  844392.000000        844392.000000  844392.000000\n",
       "mean     6840.659923     734.787972          5460.084731       9.535935\n",
       "std      2717.364981     296.171183          7799.553804       2.103304\n",
       "min         0.000000       0.000000            20.000000       0.000000\n",
       "25%      4859.000000     519.000000           710.000000       7.996429\n",
       "50%      6369.000000     676.000000          2330.000000       9.361761\n",
       "75%      8360.000000     893.000000          6900.000000      10.864260\n",
       "max     13612.000000    1454.000000         75860.000000      52.153257"
      ]
     },
     "execution_count": 68,
     "metadata": {},
     "output_type": "execute_result"
    }
   ],
   "source": [
    "sales_treated[['Sales', 'Customers', 'CompetitionDistance', 'UPT']].describe() ## AFTER cleaning"
   ]
  },
  {
   "cell_type": "markdown",
   "id": "93dec491",
   "metadata": {
    "papermill": {
     "duration": 0.048564,
     "end_time": "2022-11-10T06:20:35.598441",
     "exception": false,
     "start_time": "2022-11-10T06:20:35.549877",
     "status": "completed"
    },
    "tags": []
   },
   "source": [
    "We can see that the cleaning has narrowed our standard deviation for *Sales* and *Customers*, as well as raising the mean after removing the entries for closed stores."
   ]
  },
  {
   "cell_type": "code",
   "execution_count": 69,
   "id": "0c1c0541",
   "metadata": {
    "execution": {
     "iopub.execute_input": "2022-11-10T06:20:35.693168Z",
     "iopub.status.busy": "2022-11-10T06:20:35.692712Z",
     "iopub.status.idle": "2022-11-10T06:20:35.762065Z",
     "shell.execute_reply": "2022-11-10T06:20:35.760734Z"
    },
    "papermill": {
     "duration": 0.11924,
     "end_time": "2022-11-10T06:20:35.764857",
     "exception": false,
     "start_time": "2022-11-10T06:20:35.645617",
     "status": "completed"
    },
    "tags": []
   },
   "outputs": [
    {
     "data": {
      "text/plain": [
       "Sales                  0.641460\n",
       "Customers              1.598650\n",
       "CompetitionDistance    2.928534\n",
       "dtype: float64"
      ]
     },
     "execution_count": 69,
     "metadata": {},
     "output_type": "execute_result"
    }
   ],
   "source": [
    "merged_sales[['Sales', 'Customers', 'CompetitionDistance']].skew() ## BEFORE cleaning"
   ]
  },
  {
   "cell_type": "code",
   "execution_count": 70,
   "id": "18de340f",
   "metadata": {
    "execution": {
     "iopub.execute_input": "2022-11-10T06:20:35.915128Z",
     "iopub.status.busy": "2022-11-10T06:20:35.914699Z",
     "iopub.status.idle": "2022-11-10T06:20:35.976428Z",
     "shell.execute_reply": "2022-11-10T06:20:35.975254Z"
    },
    "papermill": {
     "duration": 0.168466,
     "end_time": "2022-11-10T06:20:35.979007",
     "exception": false,
     "start_time": "2022-11-10T06:20:35.810541",
     "status": "completed"
    },
    "tags": []
   },
   "outputs": [
    {
     "data": {
      "text/plain": [
       "Sales                  0.717438\n",
       "Customers              0.803485\n",
       "CompetitionDistance    2.977905\n",
       "UPT                    0.560278\n",
       "dtype: float64"
      ]
     },
     "execution_count": 70,
     "metadata": {},
     "output_type": "execute_result"
    }
   ],
   "source": [
    "sales_treated[['Sales', 'Customers', 'CompetitionDistance', 'UPT']].skew() ## AFTER cleaning"
   ]
  },
  {
   "cell_type": "code",
   "execution_count": 71,
   "id": "85b1ad41",
   "metadata": {
    "execution": {
     "iopub.execute_input": "2022-11-10T06:20:36.074729Z",
     "iopub.status.busy": "2022-11-10T06:20:36.074329Z",
     "iopub.status.idle": "2022-11-10T06:20:36.146218Z",
     "shell.execute_reply": "2022-11-10T06:20:36.145007Z"
    },
    "papermill": {
     "duration": 0.122341,
     "end_time": "2022-11-10T06:20:36.148946",
     "exception": false,
     "start_time": "2022-11-10T06:20:36.026605",
     "status": "completed"
    },
    "tags": []
   },
   "outputs": [
    {
     "data": {
      "text/plain": [
       "Sales                   1.778375\n",
       "Customers               7.091773\n",
       "CompetitionDistance    13.000022\n",
       "dtype: float64"
      ]
     },
     "execution_count": 71,
     "metadata": {},
     "output_type": "execute_result"
    }
   ],
   "source": [
    "merged_sales[['Sales', 'Customers', 'CompetitionDistance']].kurtosis() ## BEFORE cleaning"
   ]
  },
  {
   "cell_type": "code",
   "execution_count": 72,
   "id": "689358a7",
   "metadata": {
    "execution": {
     "iopub.execute_input": "2022-11-10T06:20:36.244093Z",
     "iopub.status.busy": "2022-11-10T06:20:36.242955Z",
     "iopub.status.idle": "2022-11-10T06:20:36.300961Z",
     "shell.execute_reply": "2022-11-10T06:20:36.299384Z"
    },
    "papermill": {
     "duration": 0.109234,
     "end_time": "2022-11-10T06:20:36.303790",
     "exception": false,
     "start_time": "2022-11-10T06:20:36.194556",
     "status": "completed"
    },
    "tags": []
   },
   "outputs": [
    {
     "data": {
      "text/plain": [
       "Sales                   0.057682\n",
       "Customers               0.102116\n",
       "CompetitionDistance    13.450813\n",
       "UPT                     1.124173\n",
       "dtype: float64"
      ]
     },
     "execution_count": 72,
     "metadata": {},
     "output_type": "execute_result"
    }
   ],
   "source": [
    "sales_treated[['Sales', 'Customers', 'CompetitionDistance', 'UPT']].kurtosis() ## AFTER cleaning"
   ]
  },
  {
   "cell_type": "code",
   "execution_count": 73,
   "id": "988d7226",
   "metadata": {
    "execution": {
     "iopub.execute_input": "2022-11-10T06:20:36.398584Z",
     "iopub.status.busy": "2022-11-10T06:20:36.398104Z",
     "iopub.status.idle": "2022-11-10T06:20:36.795959Z",
     "shell.execute_reply": "2022-11-10T06:20:36.795062Z"
    },
    "papermill": {
     "duration": 0.447753,
     "end_time": "2022-11-10T06:20:36.798074",
     "exception": false,
     "start_time": "2022-11-10T06:20:36.350321",
     "status": "completed"
    },
    "tags": []
   },
   "outputs": [
    {
     "data": {
      "image/png": "[encoded data removed]",
      "text/plain": [
       "<Figure size 1080x360 with 2 Axes>"
      ]
     },
     "metadata": {
      "needs_background": "light"
     },
     "output_type": "display_data"
    }
   ],
   "source": [
    "fig, axes = plt.subplots(nrows=1, ncols=2)\n",
    "\n",
    "sales_treated.hist(column='Sales', bins='sturges', ax=axes[0])\n",
    "sales_treated.hist(column='Customers', bins='sturges', ax=axes[1])\n",
    "fig.set_size_inches(15, 5)\n",
    "plt.show()"
   ]
  },
  {
   "cell_type": "markdown",
   "id": "14382105",
   "metadata": {
    "papermill": {
     "duration": 0.052288,
     "end_time": "2022-11-10T06:20:36.897389",
     "exception": false,
     "start_time": "2022-11-10T06:20:36.845101",
     "status": "completed"
    },
    "tags": []
   },
   "source": [
    "Histograms of our *Sales* and *Customers* values shows us a slight positive skew, which changed a little after our cleaning, and we see a more significant change in kurtosis being lowered. We also see the effect of imputing our outliers with our upper range limit on the right side of either histogram. \n",
    "\n",
    "Using Sturges' Rule to calculate our bin size, as we did with our pre-data cleaning histograms, we now get results that are looking far closer to a standard normalization. \n"
   ]
  },
  {
   "cell_type": "markdown",
   "id": "31e98ddb",
   "metadata": {
    "papermill": {
     "duration": 0.046069,
     "end_time": "2022-11-10T06:20:36.991783",
     "exception": false,
     "start_time": "2022-11-10T06:20:36.945714",
     "status": "completed"
    },
    "tags": []
   },
   "source": [
    "---"
   ]
  },
  {
   "cell_type": "markdown",
   "id": "1260bbf2",
   "metadata": {
    "papermill": {
     "duration": 0.045201,
     "end_time": "2022-11-10T06:20:37.083595",
     "exception": false,
     "start_time": "2022-11-10T06:20:37.038394",
     "status": "completed"
    },
    "tags": []
   },
   "source": [
    "<h1 style=\"background-color:#548984; color: #FFFFFF; padding: 15px;\">9.  Exploratory Insights</h1>"
   ]
  },
  {
   "cell_type": "markdown",
   "id": "bf890fca",
   "metadata": {
    "papermill": {
     "duration": 0.047026,
     "end_time": "2022-11-10T06:20:37.175965",
     "exception": false,
     "start_time": "2022-11-10T06:20:37.128939",
     "status": "completed"
    },
    "tags": []
   },
   "source": [
    "Let's explore how stores perform in *Sales* by month, based on *Assortment* type. We know that *Assortment* type A offers a \"basic\" assortment of merchandise, Type B offers and \"extra\" assortment, and type C offers an \"extended\" assortment.\n",
    "\n",
    "Because our data ranges from Jan. 1, 2013 - July 31, 2015, we will exclude the 2015 data for now so as we are only looking at a complete years' worth of numbers."
   ]
  },
  {
   "cell_type": "code",
   "execution_count": 74,
   "id": "35d23d5d",
   "metadata": {
    "execution": {
     "iopub.execute_input": "2022-11-10T06:20:37.269734Z",
     "iopub.status.busy": "2022-11-10T06:20:37.269314Z",
     "iopub.status.idle": "2022-11-10T06:20:37.537026Z",
     "shell.execute_reply": "2022-11-10T06:20:37.535791Z"
    },
    "papermill": {
     "duration": 0.316993,
     "end_time": "2022-11-10T06:20:37.539479",
     "exception": false,
     "start_time": "2022-11-10T06:20:37.222486",
     "status": "completed"
    },
    "tags": []
   },
   "outputs": [
    {
     "data": {
      "text/html": [
       "<div>\n",
       "<style scoped>\n",
       "    .dataframe tbody tr th:only-of-type {\n",
       "        vertical-align: middle;\n",
       "    }\n",
       "\n",
       "    .dataframe tbody tr th {\n",
       "        vertical-align: top;\n",
       "    }\n",
       "\n",
       "    .dataframe thead th {\n",
       "        text-align: right;\n",
       "    }\n",
       "</style>\n",
       "<table border=\"1\" class=\"dataframe\">\n",
       "  <thead>\n",
       "    <tr style=\"text-align: right;\">\n",
       "      <th>Assortment</th>\n",
       "      <th>a</th>\n",
       "      <th>b</th>\n",
       "      <th>c</th>\n",
       "    </tr>\n",
       "    <tr>\n",
       "      <th>Month</th>\n",
       "      <th></th>\n",
       "      <th></th>\n",
       "      <th></th>\n",
       "    </tr>\n",
       "  </thead>\n",
       "  <tbody>\n",
       "    <tr>\n",
       "      <th>1</th>\n",
       "      <td>188100262</td>\n",
       "      <td>3754636</td>\n",
       "      <td>171893846</td>\n",
       "    </tr>\n",
       "    <tr>\n",
       "      <th>2</th>\n",
       "      <td>178031925</td>\n",
       "      <td>3710558</td>\n",
       "      <td>164191126</td>\n",
       "    </tr>\n",
       "    <tr>\n",
       "      <th>3</th>\n",
       "      <td>198172555</td>\n",
       "      <td>4173361</td>\n",
       "      <td>185276735</td>\n",
       "    </tr>\n",
       "    <tr>\n",
       "      <th>4</th>\n",
       "      <td>191177863</td>\n",
       "      <td>4233401</td>\n",
       "      <td>176759688</td>\n",
       "    </tr>\n",
       "    <tr>\n",
       "      <th>5</th>\n",
       "      <td>191082283</td>\n",
       "      <td>4691504</td>\n",
       "      <td>178547553</td>\n",
       "    </tr>\n",
       "    <tr>\n",
       "      <th>6</th>\n",
       "      <td>185757989</td>\n",
       "      <td>4503724</td>\n",
       "      <td>174429599</td>\n",
       "    </tr>\n",
       "    <tr>\n",
       "      <th>7</th>\n",
       "      <td>188440724</td>\n",
       "      <td>4338877</td>\n",
       "      <td>184388970</td>\n",
       "    </tr>\n",
       "    <tr>\n",
       "      <th>8</th>\n",
       "      <td>175000464</td>\n",
       "      <td>4111225</td>\n",
       "      <td>178291640</td>\n",
       "    </tr>\n",
       "    <tr>\n",
       "      <th>9</th>\n",
       "      <td>168298236</td>\n",
       "      <td>4127263</td>\n",
       "      <td>165868274</td>\n",
       "    </tr>\n",
       "    <tr>\n",
       "      <th>10</th>\n",
       "      <td>173794666</td>\n",
       "      <td>4427807</td>\n",
       "      <td>169542336</td>\n",
       "    </tr>\n",
       "    <tr>\n",
       "      <th>11</th>\n",
       "      <td>180521975</td>\n",
       "      <td>4489868</td>\n",
       "      <td>178945019</td>\n",
       "    </tr>\n",
       "    <tr>\n",
       "      <th>12</th>\n",
       "      <td>205095239</td>\n",
       "      <td>4839992</td>\n",
       "      <td>204907502</td>\n",
       "    </tr>\n",
       "  </tbody>\n",
       "</table>\n",
       "</div>"
      ],
      "text/plain": [
       "Assortment          a        b          c\n",
       "Month                                    \n",
       "1           188100262  3754636  171893846\n",
       "2           178031925  3710558  164191126\n",
       "3           198172555  4173361  185276735\n",
       "4           191177863  4233401  176759688\n",
       "5           191082283  4691504  178547553\n",
       "6           185757989  4503724  174429599\n",
       "7           188440724  4338877  184388970\n",
       "8           175000464  4111225  178291640\n",
       "9           168298236  4127263  165868274\n",
       "10          173794666  4427807  169542336\n",
       "11          180521975  4489868  178945019\n",
       "12          205095239  4839992  204907502"
      ]
     },
     "execution_count": 74,
     "metadata": {},
     "output_type": "execute_result"
    }
   ],
   "source": [
    "assortment_pivot_total_sales = pd.pivot_table((sales_treated[sales_treated['Year'] < 2015]), ## Excluding 2015 data\n",
    "               index='Month', values='Sales', columns='Assortment', aggfunc=np.sum)\n",
    "assortment_pivot_total_sales"
   ]
  },
  {
   "cell_type": "code",
   "execution_count": 75,
   "id": "6e4e77d9",
   "metadata": {
    "execution": {
     "iopub.execute_input": "2022-11-10T06:20:37.633252Z",
     "iopub.status.busy": "2022-11-10T06:20:37.632854Z",
     "iopub.status.idle": "2022-11-10T06:20:37.840278Z",
     "shell.execute_reply": "2022-11-10T06:20:37.839078Z"
    },
    "papermill": {
     "duration": 0.25833,
     "end_time": "2022-11-10T06:20:37.843393",
     "exception": false,
     "start_time": "2022-11-10T06:20:37.585063",
     "status": "completed"
    },
    "tags": []
   },
   "outputs": [
    {
     "data": {
      "image/png": "[encoded data removed]",
      "text/plain": [
       "<Figure size 504x576 with 1 Axes>"
      ]
     },
     "metadata": {
      "needs_background": "light"
     },
     "output_type": "display_data"
    }
   ],
   "source": [
    "assortment_pivot_total_sales.plot(kind='line', title='Total Sales by Month and Store Assortment', figsize=(7,8), grid=True)\n",
    "plt.show()"
   ]
  },
  {
   "cell_type": "markdown",
   "id": "e763c484",
   "metadata": {
    "papermill": {
     "duration": 0.046071,
     "end_time": "2022-11-10T06:20:37.936473",
     "exception": false,
     "start_time": "2022-11-10T06:20:37.890402",
     "status": "completed"
    },
    "tags": []
   },
   "source": [
    "A quick look at *Sales* by volume of total sales shows that stores of *Assortment* types A and C have significantly more volume than type B stores. Type B stores stay fairly consistent in total *Sales* volume across all months, with minor upticks during mid-year and end year. Type A and C stores can be seen to follow very similar trends in terms of *Sales* volume.\n",
    "\n",
    "A quick look at how many stores we have of each *Assortment* type will show us significantly less stores of Assortment type B, which accounts for the significantly lower volume of *Sales*."
   ]
  },
  {
   "cell_type": "code",
   "execution_count": 76,
   "id": "8e231c1e",
   "metadata": {
    "execution": {
     "iopub.execute_input": "2022-11-10T06:20:38.033388Z",
     "iopub.status.busy": "2022-11-10T06:20:38.032575Z",
     "iopub.status.idle": "2022-11-10T06:20:38.244314Z",
     "shell.execute_reply": "2022-11-10T06:20:38.243023Z"
    },
    "papermill": {
     "duration": 0.263772,
     "end_time": "2022-11-10T06:20:38.246852",
     "exception": false,
     "start_time": "2022-11-10T06:20:37.983080",
     "status": "completed"
    },
    "tags": []
   },
   "outputs": [
    {
     "data": {
      "text/html": [
       "<div>\n",
       "<style scoped>\n",
       "    .dataframe tbody tr th:only-of-type {\n",
       "        vertical-align: middle;\n",
       "    }\n",
       "\n",
       "    .dataframe tbody tr th {\n",
       "        vertical-align: top;\n",
       "    }\n",
       "\n",
       "    .dataframe thead th {\n",
       "        text-align: right;\n",
       "    }\n",
       "</style>\n",
       "<table border=\"1\" class=\"dataframe\">\n",
       "  <thead>\n",
       "    <tr style=\"text-align: right;\">\n",
       "      <th></th>\n",
       "      <th>Store</th>\n",
       "    </tr>\n",
       "    <tr>\n",
       "      <th>Assortment</th>\n",
       "      <th></th>\n",
       "    </tr>\n",
       "  </thead>\n",
       "  <tbody>\n",
       "    <tr>\n",
       "      <th>a</th>\n",
       "      <td>340968</td>\n",
       "    </tr>\n",
       "    <tr>\n",
       "      <th>b</th>\n",
       "      <td>6304</td>\n",
       "    </tr>\n",
       "    <tr>\n",
       "      <th>c</th>\n",
       "      <td>301088</td>\n",
       "    </tr>\n",
       "  </tbody>\n",
       "</table>\n",
       "</div>"
      ],
      "text/plain": [
       "             Store\n",
       "Assortment        \n",
       "a           340968\n",
       "b             6304\n",
       "c           301088"
      ]
     },
     "execution_count": 76,
     "metadata": {},
     "output_type": "execute_result"
    }
   ],
   "source": [
    "pd.pivot_table((sales_treated[sales_treated['Year'] < 2015]), index='Assortment', values='Store', aggfunc='count')"
   ]
  },
  {
   "cell_type": "markdown",
   "id": "cb2f1ccd",
   "metadata": {
    "papermill": {
     "duration": 0.046538,
     "end_time": "2022-11-10T06:20:38.341468",
     "exception": false,
     "start_time": "2022-11-10T06:20:38.294930",
     "status": "completed"
    },
    "tags": []
   },
   "source": [
    "Due to the vast differences in total *Sales* volume based on *Assortment* type, lets also look at the average number of *Sales*.\n",
    "\n",
    "(Note: We could include our 2015 data since we're calculating the mean *Sales* now, but for the sake of consistency when comparing it with the total *Sales* we will continue to use the same 2013-2014 data.)"
   ]
  },
  {
   "cell_type": "code",
   "execution_count": 77,
   "id": "616c4412",
   "metadata": {
    "execution": {
     "iopub.execute_input": "2022-11-10T06:20:38.440090Z",
     "iopub.status.busy": "2022-11-10T06:20:38.439662Z",
     "iopub.status.idle": "2022-11-10T06:20:38.695988Z",
     "shell.execute_reply": "2022-11-10T06:20:38.694515Z"
    },
    "papermill": {
     "duration": 0.310129,
     "end_time": "2022-11-10T06:20:38.698782",
     "exception": false,
     "start_time": "2022-11-10T06:20:38.388653",
     "status": "completed"
    },
    "tags": []
   },
   "outputs": [
    {
     "data": {
      "text/html": [
       "<div>\n",
       "<style scoped>\n",
       "    .dataframe tbody tr th:only-of-type {\n",
       "        vertical-align: middle;\n",
       "    }\n",
       "\n",
       "    .dataframe tbody tr th {\n",
       "        vertical-align: top;\n",
       "    }\n",
       "\n",
       "    .dataframe thead th {\n",
       "        text-align: right;\n",
       "    }\n",
       "</style>\n",
       "<table border=\"1\" class=\"dataframe\">\n",
       "  <thead>\n",
       "    <tr style=\"text-align: right;\">\n",
       "      <th>Assortment</th>\n",
       "      <th>a</th>\n",
       "      <th>b</th>\n",
       "      <th>c</th>\n",
       "    </tr>\n",
       "    <tr>\n",
       "      <th>Month</th>\n",
       "      <th></th>\n",
       "      <th></th>\n",
       "      <th></th>\n",
       "    </tr>\n",
       "  </thead>\n",
       "  <tbody>\n",
       "    <tr>\n",
       "      <th>1</th>\n",
       "      <td>6136.639110</td>\n",
       "      <td>6940.177449</td>\n",
       "      <td>6514.338348</td>\n",
       "    </tr>\n",
       "    <tr>\n",
       "      <th>2</th>\n",
       "      <td>6256.393204</td>\n",
       "      <td>7603.602459</td>\n",
       "      <td>6692.936817</td>\n",
       "    </tr>\n",
       "    <tr>\n",
       "      <th>3</th>\n",
       "      <td>6559.181644</td>\n",
       "      <td>7979.657744</td>\n",
       "      <td>7081.361222</td>\n",
       "    </tr>\n",
       "    <tr>\n",
       "      <th>4</th>\n",
       "      <td>6569.460259</td>\n",
       "      <td>8048.290875</td>\n",
       "      <td>7021.796687</td>\n",
       "    </tr>\n",
       "    <tr>\n",
       "      <th>5</th>\n",
       "      <td>6654.673086</td>\n",
       "      <td>8407.713262</td>\n",
       "      <td>7155.927738</td>\n",
       "    </tr>\n",
       "    <tr>\n",
       "      <th>6</th>\n",
       "      <td>6484.604796</td>\n",
       "      <td>8340.229630</td>\n",
       "      <td>6986.406016</td>\n",
       "    </tr>\n",
       "    <tr>\n",
       "      <th>7</th>\n",
       "      <td>6539.447668</td>\n",
       "      <td>8233.163188</td>\n",
       "      <td>7076.641465</td>\n",
       "    </tr>\n",
       "    <tr>\n",
       "      <th>8</th>\n",
       "      <td>6180.267834</td>\n",
       "      <td>7801.185958</td>\n",
       "      <td>6972.688307</td>\n",
       "    </tr>\n",
       "    <tr>\n",
       "      <th>9</th>\n",
       "      <td>6176.988769</td>\n",
       "      <td>8092.672549</td>\n",
       "      <td>6749.746643</td>\n",
       "    </tr>\n",
       "    <tr>\n",
       "      <th>10</th>\n",
       "      <td>6266.935886</td>\n",
       "      <td>8401.910816</td>\n",
       "      <td>6772.753406</td>\n",
       "    </tr>\n",
       "    <tr>\n",
       "      <th>11</th>\n",
       "      <td>6736.145938</td>\n",
       "      <td>8803.662745</td>\n",
       "      <td>7427.570106</td>\n",
       "    </tr>\n",
       "    <tr>\n",
       "      <th>12</th>\n",
       "      <td>7805.123835</td>\n",
       "      <td>9184.045541</td>\n",
       "      <td>8686.570096</td>\n",
       "    </tr>\n",
       "  </tbody>\n",
       "</table>\n",
       "</div>"
      ],
      "text/plain": [
       "Assortment            a            b            c\n",
       "Month                                            \n",
       "1           6136.639110  6940.177449  6514.338348\n",
       "2           6256.393204  7603.602459  6692.936817\n",
       "3           6559.181644  7979.657744  7081.361222\n",
       "4           6569.460259  8048.290875  7021.796687\n",
       "5           6654.673086  8407.713262  7155.927738\n",
       "6           6484.604796  8340.229630  6986.406016\n",
       "7           6539.447668  8233.163188  7076.641465\n",
       "8           6180.267834  7801.185958  6972.688307\n",
       "9           6176.988769  8092.672549  6749.746643\n",
       "10          6266.935886  8401.910816  6772.753406\n",
       "11          6736.145938  8803.662745  7427.570106\n",
       "12          7805.123835  9184.045541  8686.570096"
      ]
     },
     "execution_count": 77,
     "metadata": {},
     "output_type": "execute_result"
    }
   ],
   "source": [
    "assortment_pivot_avg_sales = pd.pivot_table((sales_treated[sales_treated['Year'] < 2015]), index='Month', values='Sales', columns='Assortment', aggfunc=np.mean)\n",
    "assortment_pivot_avg_sales"
   ]
  },
  {
   "cell_type": "code",
   "execution_count": 78,
   "id": "12447570",
   "metadata": {
    "execution": {
     "iopub.execute_input": "2022-11-10T06:20:38.796683Z",
     "iopub.status.busy": "2022-11-10T06:20:38.796278Z",
     "iopub.status.idle": "2022-11-10T06:20:38.981915Z",
     "shell.execute_reply": "2022-11-10T06:20:38.980964Z"
    },
    "papermill": {
     "duration": 0.236461,
     "end_time": "2022-11-10T06:20:38.984261",
     "exception": false,
     "start_time": "2022-11-10T06:20:38.747800",
     "status": "completed"
    },
    "tags": []
   },
   "outputs": [
    {
     "data": {
      "image/png": "[encoded data removed]",
      "text/plain": [
       "<Figure size 504x360 with 1 Axes>"
      ]
     },
     "metadata": {
      "needs_background": "light"
     },
     "output_type": "display_data"
    }
   ],
   "source": [
    "assortment_pivot_avg_sales.plot(kind='line', title='Average Sales by Month and Store Assortment', figsize=(7,5), grid=True)\n",
    "plt.show()"
   ]
  },
  {
   "cell_type": "markdown",
   "id": "95079b80",
   "metadata": {
    "papermill": {
     "duration": 0.047622,
     "end_time": "2022-11-10T06:20:39.080298",
     "exception": false,
     "start_time": "2022-11-10T06:20:39.032676",
     "status": "completed"
    },
    "tags": []
   },
   "source": [
    "Look at average *Sales* by store *Assortment* type we can see that stores of type B actually perform quite well when compared to types A and C, despite there being significantly less type B stores! Types A and C continue to follow very similar trends for *Sales*, but Type C stores consistently outperform type A stores. \n",
    "\n",
    "Let's also take a look at how our UPT metric compares across stores of different *Assortment* types.\n",
    "\n",
    "(Note: Because we included a UPT metric for our table that still has our extremely high *Sales* outliers, we will plot that too, to compare.)"
   ]
  },
  {
   "cell_type": "code",
   "execution_count": 79,
   "id": "054fc779",
   "metadata": {
    "execution": {
     "iopub.execute_input": "2022-11-10T06:20:39.176878Z",
     "iopub.status.busy": "2022-11-10T06:20:39.176456Z",
     "iopub.status.idle": "2022-11-10T06:20:40.172650Z",
     "shell.execute_reply": "2022-11-10T06:20:40.171260Z"
    },
    "papermill": {
     "duration": 1.047886,
     "end_time": "2022-11-10T06:20:40.175653",
     "exception": false,
     "start_time": "2022-11-10T06:20:39.127767",
     "status": "completed"
    },
    "tags": []
   },
   "outputs": [
    {
     "data": {
      "image/png": "[encoded data removed]",
      "text/plain": [
       "<Figure size 1080x360 with 2 Axes>"
      ]
     },
     "metadata": {
      "needs_background": "light"
     },
     "output_type": "display_data"
    }
   ],
   "source": [
    "assortment_pivot_avg_UPT = pd.pivot_table((sales_treated[sales_treated['Year'] < 2015]), \n",
    "                                     index='Month', values='UPT', columns='Assortment', aggfunc=np.mean)\n",
    "assortment_pivot_avg_UPT_outliers = pd.pivot_table((sales[sales['Year'] < 2015]), \n",
    "                                     index='Month', values='UPT', columns='Assortment', aggfunc=np.mean)\n",
    "\n",
    "fig, axes = plt.subplots(nrows=1, ncols=2)\n",
    "\n",
    "assortment_pivot_avg_UPT.plot(kind='line', title='Average UPT by Month and Store Assortment (no outliers)', figsize=(7,5), grid=True, ax=axes[0])\n",
    "assortment_pivot_avg_UPT_outliers.plot(kind='line', title='Average UPT by Month and Store Assortment (outliers incl.)', figsize=(7,5), grid=True, ax=axes[1])\n",
    "fig.set_size_inches(15, 5)\n",
    "plt.show()"
   ]
  },
  {
   "cell_type": "markdown",
   "id": "b70cd2f2",
   "metadata": {
    "papermill": {
     "duration": 0.048179,
     "end_time": "2022-11-10T06:20:40.273306",
     "exception": false,
     "start_time": "2022-11-10T06:20:40.225127",
     "status": "completed"
    },
    "tags": []
   },
   "source": [
    "We can see stores of *Assortment* type C are our best performers for UPT. Comparing UPT with and without outliers treated, we can see that with the outliers treated we can more clearly see upward and downward trends, whereas with outliers included these trends look less impactful. "
   ]
  },
  {
   "cell_type": "markdown",
   "id": "ce674db1",
   "metadata": {
    "papermill": {
     "duration": 0.048632,
     "end_time": "2022-11-10T06:20:40.370233",
     "exception": false,
     "start_time": "2022-11-10T06:20:40.321601",
     "status": "completed"
    },
    "tags": []
   },
   "source": [
    "---"
   ]
  },
  {
   "cell_type": "markdown",
   "id": "9f921b52",
   "metadata": {
    "papermill": {
     "duration": 0.047919,
     "end_time": "2022-11-10T06:20:40.466818",
     "exception": false,
     "start_time": "2022-11-10T06:20:40.418899",
     "status": "completed"
    },
    "tags": []
   },
   "source": [
    "Exploring out *Sales* and *Customers* outliers prompted us to create out UPT metric when comparing them by *StoreType*, so let's explore *Sales* and *UPT* by month and *StoreType* as well. \n",
    "\n",
    "Let's start with a look at how many stores of each *StoreType* we have."
   ]
  },
  {
   "cell_type": "code",
   "execution_count": 80,
   "id": "8892d0cd",
   "metadata": {
    "execution": {
     "iopub.execute_input": "2022-11-10T06:20:40.566684Z",
     "iopub.status.busy": "2022-11-10T06:20:40.566247Z",
     "iopub.status.idle": "2022-11-10T06:20:40.770858Z",
     "shell.execute_reply": "2022-11-10T06:20:40.769491Z"
    },
    "papermill": {
     "duration": 0.258067,
     "end_time": "2022-11-10T06:20:40.773715",
     "exception": false,
     "start_time": "2022-11-10T06:20:40.515648",
     "status": "completed"
    },
    "tags": []
   },
   "outputs": [
    {
     "data": {
      "text/html": [
       "<div>\n",
       "<style scoped>\n",
       "    .dataframe tbody tr th:only-of-type {\n",
       "        vertical-align: middle;\n",
       "    }\n",
       "\n",
       "    .dataframe tbody tr th {\n",
       "        vertical-align: top;\n",
       "    }\n",
       "\n",
       "    .dataframe thead th {\n",
       "        text-align: right;\n",
       "    }\n",
       "</style>\n",
       "<table border=\"1\" class=\"dataframe\">\n",
       "  <thead>\n",
       "    <tr style=\"text-align: right;\">\n",
       "      <th></th>\n",
       "      <th>Store</th>\n",
       "    </tr>\n",
       "    <tr>\n",
       "      <th>StoreType</th>\n",
       "      <th></th>\n",
       "    </tr>\n",
       "  </thead>\n",
       "  <tbody>\n",
       "    <tr>\n",
       "      <th>a</th>\n",
       "      <td>351476</td>\n",
       "    </tr>\n",
       "    <tr>\n",
       "      <th>b</th>\n",
       "      <td>11959</td>\n",
       "    </tr>\n",
       "    <tr>\n",
       "      <th>c</th>\n",
       "      <td>87079</td>\n",
       "    </tr>\n",
       "    <tr>\n",
       "      <th>d</th>\n",
       "      <td>197846</td>\n",
       "    </tr>\n",
       "  </tbody>\n",
       "</table>\n",
       "</div>"
      ],
      "text/plain": [
       "            Store\n",
       "StoreType        \n",
       "a          351476\n",
       "b           11959\n",
       "c           87079\n",
       "d          197846"
      ]
     },
     "execution_count": 80,
     "metadata": {},
     "output_type": "execute_result"
    }
   ],
   "source": [
    "pd.pivot_table((sales_treated[sales_treated['Year'] < 2015]), index='StoreType', values='Store', aggfunc='count')"
   ]
  },
  {
   "cell_type": "markdown",
   "id": "63b9136f",
   "metadata": {
    "papermill": {
     "duration": 0.048492,
     "end_time": "2022-11-10T06:20:40.871050",
     "exception": false,
     "start_time": "2022-11-10T06:20:40.822558",
     "status": "completed"
    },
    "tags": []
   },
   "source": [
    "Next let's look at average *Sales* per month, broken down by *StoreType*."
   ]
  },
  {
   "cell_type": "code",
   "execution_count": 81,
   "id": "500e1f71",
   "metadata": {
    "execution": {
     "iopub.execute_input": "2022-11-10T06:20:40.970783Z",
     "iopub.status.busy": "2022-11-10T06:20:40.970342Z",
     "iopub.status.idle": "2022-11-10T06:20:41.213406Z",
     "shell.execute_reply": "2022-11-10T06:20:41.212027Z"
    },
    "papermill": {
     "duration": 0.295814,
     "end_time": "2022-11-10T06:20:41.216047",
     "exception": false,
     "start_time": "2022-11-10T06:20:40.920233",
     "status": "completed"
    },
    "tags": []
   },
   "outputs": [
    {
     "data": {
      "text/html": [
       "<div>\n",
       "<style scoped>\n",
       "    .dataframe tbody tr th:only-of-type {\n",
       "        vertical-align: middle;\n",
       "    }\n",
       "\n",
       "    .dataframe tbody tr th {\n",
       "        vertical-align: top;\n",
       "    }\n",
       "\n",
       "    .dataframe thead th {\n",
       "        text-align: right;\n",
       "    }\n",
       "</style>\n",
       "<table border=\"1\" class=\"dataframe\">\n",
       "  <thead>\n",
       "    <tr style=\"text-align: right;\">\n",
       "      <th>StoreType</th>\n",
       "      <th>a</th>\n",
       "      <th>b</th>\n",
       "      <th>c</th>\n",
       "      <th>d</th>\n",
       "    </tr>\n",
       "    <tr>\n",
       "      <th>Month</th>\n",
       "      <th></th>\n",
       "      <th></th>\n",
       "      <th></th>\n",
       "      <th></th>\n",
       "    </tr>\n",
       "  </thead>\n",
       "  <tbody>\n",
       "    <tr>\n",
       "      <th>1</th>\n",
       "      <td>6340.939457</td>\n",
       "      <td>8336.488072</td>\n",
       "      <td>6325.695836</td>\n",
       "      <td>6159.515050</td>\n",
       "    </tr>\n",
       "    <tr>\n",
       "      <th>2</th>\n",
       "      <td>6481.948327</td>\n",
       "      <td>8839.864537</td>\n",
       "      <td>6476.370302</td>\n",
       "      <td>6314.299544</td>\n",
       "    </tr>\n",
       "    <tr>\n",
       "      <th>3</th>\n",
       "      <td>6781.173209</td>\n",
       "      <td>9106.575911</td>\n",
       "      <td>6847.562350</td>\n",
       "      <td>6723.579013</td>\n",
       "    </tr>\n",
       "    <tr>\n",
       "      <th>4</th>\n",
       "      <td>6794.130360</td>\n",
       "      <td>9133.661885</td>\n",
       "      <td>6779.331581</td>\n",
       "      <td>6657.805468</td>\n",
       "    </tr>\n",
       "    <tr>\n",
       "      <th>5</th>\n",
       "      <td>6840.385002</td>\n",
       "      <td>9350.734115</td>\n",
       "      <td>6917.847151</td>\n",
       "      <td>6857.707885</td>\n",
       "    </tr>\n",
       "    <tr>\n",
       "      <th>6</th>\n",
       "      <td>6695.761585</td>\n",
       "      <td>9321.768687</td>\n",
       "      <td>6667.874042</td>\n",
       "      <td>6677.662636</td>\n",
       "    </tr>\n",
       "    <tr>\n",
       "      <th>7</th>\n",
       "      <td>6810.202874</td>\n",
       "      <td>9081.286555</td>\n",
       "      <td>6711.115334</td>\n",
       "      <td>6709.382984</td>\n",
       "    </tr>\n",
       "    <tr>\n",
       "      <th>8</th>\n",
       "      <td>6533.024121</td>\n",
       "      <td>8773.740958</td>\n",
       "      <td>6575.015995</td>\n",
       "      <td>6491.047891</td>\n",
       "    </tr>\n",
       "    <tr>\n",
       "      <th>9</th>\n",
       "      <td>6451.144734</td>\n",
       "      <td>8957.519192</td>\n",
       "      <td>6428.605156</td>\n",
       "      <td>6348.017432</td>\n",
       "    </tr>\n",
       "    <tr>\n",
       "      <th>10</th>\n",
       "      <td>6503.911678</td>\n",
       "      <td>9194.587488</td>\n",
       "      <td>6537.462481</td>\n",
       "      <td>6388.625455</td>\n",
       "    </tr>\n",
       "    <tr>\n",
       "      <th>11</th>\n",
       "      <td>7026.628471</td>\n",
       "      <td>9544.331313</td>\n",
       "      <td>7169.819236</td>\n",
       "      <td>6979.515297</td>\n",
       "    </tr>\n",
       "    <tr>\n",
       "      <th>12</th>\n",
       "      <td>8083.028648</td>\n",
       "      <td>9857.778104</td>\n",
       "      <td>8532.518545</td>\n",
       "      <td>8255.774947</td>\n",
       "    </tr>\n",
       "  </tbody>\n",
       "</table>\n",
       "</div>"
      ],
      "text/plain": [
       "StoreType            a            b            c            d\n",
       "Month                                                        \n",
       "1          6340.939457  8336.488072  6325.695836  6159.515050\n",
       "2          6481.948327  8839.864537  6476.370302  6314.299544\n",
       "3          6781.173209  9106.575911  6847.562350  6723.579013\n",
       "4          6794.130360  9133.661885  6779.331581  6657.805468\n",
       "5          6840.385002  9350.734115  6917.847151  6857.707885\n",
       "6          6695.761585  9321.768687  6667.874042  6677.662636\n",
       "7          6810.202874  9081.286555  6711.115334  6709.382984\n",
       "8          6533.024121  8773.740958  6575.015995  6491.047891\n",
       "9          6451.144734  8957.519192  6428.605156  6348.017432\n",
       "10         6503.911678  9194.587488  6537.462481  6388.625455\n",
       "11         7026.628471  9544.331313  7169.819236  6979.515297\n",
       "12         8083.028648  9857.778104  8532.518545  8255.774947"
      ]
     },
     "execution_count": 81,
     "metadata": {},
     "output_type": "execute_result"
    }
   ],
   "source": [
    "stype_pivot_avg_sales = pd.pivot_table((sales_treated[sales_treated['Year'] < 2015]), ## Excluding 2015 data\n",
    "               index='Month', values='Sales', columns='StoreType', aggfunc=np.mean)\n",
    "stype_pivot_avg_sales"
   ]
  },
  {
   "cell_type": "code",
   "execution_count": 82,
   "id": "0c659dc7",
   "metadata": {
    "execution": {
     "iopub.execute_input": "2022-11-10T06:20:41.317126Z",
     "iopub.status.busy": "2022-11-10T06:20:41.316694Z",
     "iopub.status.idle": "2022-11-10T06:20:41.532069Z",
     "shell.execute_reply": "2022-11-10T06:20:41.530894Z"
    },
    "papermill": {
     "duration": 0.268973,
     "end_time": "2022-11-10T06:20:41.534534",
     "exception": false,
     "start_time": "2022-11-10T06:20:41.265561",
     "status": "completed"
    },
    "tags": []
   },
   "outputs": [
    {
     "data": {
      "image/png": "[encoded data removed]",
      "text/plain": [
       "<Figure size 504x360 with 1 Axes>"
      ]
     },
     "metadata": {
      "needs_background": "light"
     },
     "output_type": "display_data"
    }
   ],
   "source": [
    "stype_pivot_avg_sales.plot(kind='line', title='Average Sales by Month and Store Type', figsize=(7,5), grid=True)\n",
    "plt.show()"
   ]
  },
  {
   "cell_type": "markdown",
   "id": "8625f239",
   "metadata": {
    "papermill": {
     "duration": 0.051627,
     "end_time": "2022-11-10T06:20:41.636579",
     "exception": false,
     "start_time": "2022-11-10T06:20:41.584952",
     "status": "completed"
    },
    "tags": []
   },
   "source": [
    "We can see that stores of type A, C, and D closely follow very similar trends, whereas stores of type B significantly outperform them when it comes to the average number of *Sales*.\n",
    "\n",
    "Now let's see how UPT compares across Store Types."
   ]
  },
  {
   "cell_type": "code",
   "execution_count": 83,
   "id": "700fea15",
   "metadata": {
    "execution": {
     "iopub.execute_input": "2022-11-10T06:20:41.737950Z",
     "iopub.status.busy": "2022-11-10T06:20:41.737484Z",
     "iopub.status.idle": "2022-11-10T06:20:42.567672Z",
     "shell.execute_reply": "2022-11-10T06:20:42.566550Z"
    },
    "papermill": {
     "duration": 0.884215,
     "end_time": "2022-11-10T06:20:42.570302",
     "exception": false,
     "start_time": "2022-11-10T06:20:41.686087",
     "status": "completed"
    },
    "tags": []
   },
   "outputs": [
    {
     "data": {
      "image/png": "[encoded data removed]",
      "text/plain": [
       "<Figure size 1080x360 with 2 Axes>"
      ]
     },
     "metadata": {
      "needs_background": "light"
     },
     "output_type": "display_data"
    }
   ],
   "source": [
    "stype_pivot_avg_UPT = pd.pivot_table((sales_treated[sales_treated['Year'] < 2015]), \n",
    "                                     index='Month', values='UPT', columns='StoreType', aggfunc=np.mean)\n",
    "stype_pivot_avg_UPT_outliers = pd.pivot_table((sales[sales['Year'] < 2015]), \n",
    "                                     index='Month', values='UPT', columns='StoreType', aggfunc=np.mean)\n",
    "\n",
    "fig, axes = plt.subplots(nrows=1, ncols=2)\n",
    "\n",
    "stype_pivot_avg_UPT.plot(kind='line', title='Average UPT by Month and Store Type (no outliers)', figsize=(7,5), grid=True, ax=axes[0])\n",
    "stype_pivot_avg_UPT_outliers.plot(kind='line', title='Average UPT by Month and Store Type (outliers incl.)', figsize=(7,5), grid=True, ax=axes[1])\n",
    "fig.set_size_inches(15, 5)\n",
    "plt.show()"
   ]
  },
  {
   "cell_type": "markdown",
   "id": "e9b8109d",
   "metadata": {
    "papermill": {
     "duration": 0.059306,
     "end_time": "2022-11-10T06:20:42.682394",
     "exception": false,
     "start_time": "2022-11-10T06:20:42.623088",
     "status": "completed"
    },
    "tags": []
   },
   "source": [
    "Similar to our look at UPT across stores of different Assortment types, we can see that treating the outliers leaves us with a graph that more clearly shows changes in the trend of monthly sales. As we look at average *UPT* by *StoreType*, we see that while they follow similar trends, store of *StoreType* D see customers purchasing approximately 3 more items per purchase on average than at a type A or C store, and approximately 6 more items per purchase on average than customers at type B stores. \n",
    "\n",
    "\n",
    "It seems customers of type B stores buy less items per purchase on average, but overall type B stores see more sales. It would reason that type B stores must see more customers on average to account for high average sales. \n",
    "\n",
    "Below we look at total customers and average customers by month. We know of the different store types that there are the fewest stores of type B, so we aren't surprised to see them at the bottom of the Total Customers chart. However, if we look at average customers by store type we see that they average far more customers than the other store types."
   ]
  },
  {
   "cell_type": "code",
   "execution_count": 84,
   "id": "d7769c07",
   "metadata": {
    "execution": {
     "iopub.execute_input": "2022-11-10T06:20:42.788692Z",
     "iopub.status.busy": "2022-11-10T06:20:42.788279Z",
     "iopub.status.idle": "2022-11-10T06:20:43.655116Z",
     "shell.execute_reply": "2022-11-10T06:20:43.653619Z"
    },
    "papermill": {
     "duration": 0.923182,
     "end_time": "2022-11-10T06:20:43.658072",
     "exception": false,
     "start_time": "2022-11-10T06:20:42.734890",
     "status": "completed"
    },
    "tags": []
   },
   "outputs": [
    {
     "data": {
      "image/png": "[encoded data removed]",
      "text/plain": [
       "<Figure size 1080x360 with 2 Axes>"
      ]
     },
     "metadata": {
      "needs_background": "light"
     },
     "output_type": "display_data"
    }
   ],
   "source": [
    "stype_pivot_total_cust = pd.pivot_table((sales_treated[sales_treated['Year'] < 2015]), index='Month', columns='StoreType', values='Customers', aggfunc='count')\n",
    "stype_pivot_avg_cust = pd.pivot_table((sales_treated[sales_treated['Year'] < 2015]), index='Month', columns='StoreType', values='Customers', aggfunc=np.mean)\n",
    "\n",
    "fig, axes = plt.subplots(nrows=1, ncols=2)\n",
    "\n",
    "stype_pivot_total_cust.plot(kind='line', title='Total Customers by Month and Store Type', figsize=(7,5), grid=True, ax=axes[0])\n",
    "stype_pivot_avg_cust.plot(kind='line', title='Average Customers by Month and Store Type', figsize=(7,5), grid=True, ax=axes[1])\n",
    "fig.set_size_inches(15, 5)\n",
    "plt.show()"
   ]
  },
  {
   "cell_type": "markdown",
   "id": "42c69ed8",
   "metadata": {
    "papermill": {
     "duration": 0.054277,
     "end_time": "2022-11-10T06:20:43.763900",
     "exception": false,
     "start_time": "2022-11-10T06:20:43.709623",
     "status": "completed"
    },
    "tags": []
   },
   "source": [
    "To understand a bit more about our different *Store Types*, let's also quickly see how they compare in relation to the *Competition Distance*."
   ]
  },
  {
   "cell_type": "code",
   "execution_count": 85,
   "id": "4e5c753a",
   "metadata": {
    "execution": {
     "iopub.execute_input": "2022-11-10T06:20:43.869279Z",
     "iopub.status.busy": "2022-11-10T06:20:43.868821Z",
     "iopub.status.idle": "2022-11-10T06:20:44.215045Z",
     "shell.execute_reply": "2022-11-10T06:20:44.213414Z"
    },
    "papermill": {
     "duration": 0.403808,
     "end_time": "2022-11-10T06:20:44.219323",
     "exception": false,
     "start_time": "2022-11-10T06:20:43.815515",
     "status": "completed"
    },
    "tags": []
   },
   "outputs": [
    {
     "data": {
      "image/png": "[encoded data removed]",
      "text/plain": [
       "<Figure size 432x288 with 1 Axes>"
      ]
     },
     "metadata": {
      "needs_background": "light"
     },
     "output_type": "display_data"
    }
   ],
   "source": [
    "stype_pivot_avg_compdist = pd.pivot_table((sales_treated[sales_treated['Year'] < 2015]),\n",
    "                                         index='StoreType', values='CompetitionDistance', aggfunc=np.mean)\n",
    "\n",
    "stype_pivot_avg_compdist.plot(kind='bar', rot=0)\n",
    "plt.show()"
   ]
  },
  {
   "cell_type": "markdown",
   "id": "75117cce",
   "metadata": {
    "papermill": {
     "duration": 0.051738,
     "end_time": "2022-11-10T06:20:44.323776",
     "exception": false,
     "start_time": "2022-11-10T06:20:44.272038",
     "status": "completed"
    },
    "tags": []
   },
   "source": [
    "Stores of *Store Type* B are significantly closer to their nearest competitor store, on average. This might suggest the Type B stores are most often in dense urban shopping areas. Perhaps with many other stores available in closer proximity, customers are less likely but multiple items at the store when they can more easily purchase additional items at other nearby stores. Let's see if there's any correlation between *CompetitionDistance* and *UPT*."
   ]
  },
  {
   "cell_type": "code",
   "execution_count": 86,
   "id": "66e71390",
   "metadata": {
    "execution": {
     "iopub.execute_input": "2022-11-10T06:20:44.429615Z",
     "iopub.status.busy": "2022-11-10T06:20:44.428578Z",
     "iopub.status.idle": "2022-11-10T06:20:46.372717Z",
     "shell.execute_reply": "2022-11-10T06:20:46.371459Z"
    },
    "papermill": {
     "duration": 1.999886,
     "end_time": "2022-11-10T06:20:46.375443",
     "exception": false,
     "start_time": "2022-11-10T06:20:44.375557",
     "status": "completed"
    },
    "tags": []
   },
   "outputs": [
    {
     "data": {
      "image/png": "[encoded data removed]",
      "text/plain": [
       "<Figure size 576x432 with 1 Axes>"
      ]
     },
     "metadata": {
      "needs_background": "light"
     },
     "output_type": "display_data"
    }
   ],
   "source": [
    "sales_treated.plot(x='CompetitionDistance', y='UPT', kind='scatter', figsize=(8,6))\n",
    "plt.show()"
   ]
  },
  {
   "cell_type": "markdown",
   "id": "ac0059e1",
   "metadata": {
    "papermill": {
     "duration": 0.052399,
     "end_time": "2022-11-10T06:20:46.481733",
     "exception": false,
     "start_time": "2022-11-10T06:20:46.429334",
     "status": "completed"
    },
    "tags": []
   },
   "source": [
    "We don't see a strong positive or negative correlation between *CompetitionDistance* and *UPT* on our scatter plot, but we do see what look to be outliers in our UPT metric."
   ]
  },
  {
   "cell_type": "code",
   "execution_count": 87,
   "id": "8b69ff54",
   "metadata": {
    "execution": {
     "iopub.execute_input": "2022-11-10T06:20:46.587737Z",
     "iopub.status.busy": "2022-11-10T06:20:46.587335Z",
     "iopub.status.idle": "2022-11-10T06:20:48.696064Z",
     "shell.execute_reply": "2022-11-10T06:20:48.695130Z"
    },
    "papermill": {
     "duration": 2.165546,
     "end_time": "2022-11-10T06:20:48.699612",
     "exception": false,
     "start_time": "2022-11-10T06:20:46.534066",
     "status": "completed"
    },
    "tags": []
   },
   "outputs": [
    {
     "data": {
      "image/png": "[encoded data removed]",
      "text/plain": [
       "<Figure size 1080x576 with 2 Axes>"
      ]
     },
     "metadata": {
      "needs_background": "light"
     },
     "output_type": "display_data"
    }
   ],
   "source": [
    "corr = sales_treated.corr()\n",
    "\n",
    "plt.figure(figsize = (15,8))\n",
    "sns.heatmap(corr, xticklabels=corr.columns, yticklabels=corr.columns, center=0, cmap=\"YlGnBu\", annot=True)\n",
    "plt.show()"
   ]
  },
  {
   "cell_type": "markdown",
   "id": "c38bf973",
   "metadata": {
    "papermill": {
     "duration": 0.056276,
     "end_time": "2022-11-10T06:20:48.814242",
     "exception": false,
     "start_time": "2022-11-10T06:20:48.757966",
     "status": "completed"
    },
    "tags": []
   },
   "source": [
    "Looking at the correlation calculations above we don't see any meaningful correlations with *CompetitionDistance*. The notable correlations are a strong positive correlation between *Customers* and *Sales*, which isn't surprising. In addition, we see a smaller but positive correlation between *Promo* and *Sales*."
   ]
  },
  {
   "cell_type": "markdown",
   "id": "4aea2990",
   "metadata": {
    "papermill": {
     "duration": 0.053919,
     "end_time": "2022-11-10T06:20:48.923039",
     "exception": false,
     "start_time": "2022-11-10T06:20:48.869120",
     "status": "completed"
    },
    "tags": []
   },
   "source": [
    "---"
   ]
  },
  {
   "cell_type": "markdown",
   "id": "86b14340",
   "metadata": {
    "papermill": {
     "duration": 0.056103,
     "end_time": "2022-11-10T06:20:49.034245",
     "exception": false,
     "start_time": "2022-11-10T06:20:48.978142",
     "status": "completed"
    },
    "tags": []
   },
   "source": [
    "<h1 style=\"background-color:#548984; color: #FFFFFF; padding: 15px;\">10. Conclusion</h1>"
   ]
  },
  {
   "cell_type": "markdown",
   "id": "32387b2d",
   "metadata": {
    "papermill": {
     "duration": 0.057398,
     "end_time": "2022-11-10T06:20:49.147857",
     "exception": false,
     "start_time": "2022-11-10T06:20:49.090459",
     "status": "completed"
    },
    "tags": []
   },
   "source": [
    "When looking at key performance indicators across store **Assortments** and **Store Types** we see they follow similar monthly trends, but numbers can vary by Assortment and Store Type.\n",
    "\n",
    "When looking at store **Assortment** we found that stores of Assortment Type B represent a small share of total sales, which isn’t surprising considering less than 1% of stores are of the Type B assortment. However, when looking at average monthly sales we see the Assortment Type B stores out performing types A and C by a large margin. Looking at the number of units sold per transaction, UPT, we see Assortment Type A and C stores performing better than Type B.\n",
    "\n",
    "A similar investigation into sales by **Store Type** also saw noticeable differences between Store Type B and Store Types A, C, and D. Again, Type B is the least common Store Type, representing only 1.8% of stores sampled from 2013-2014. And yet, similar to Assortment Type B, Store Type B also vastly outperforms other Store Types when looking at average monthly sales. Following the similarities, it also lags to the bottom when we compare UPT amongst Store Types. \n",
    "\n",
    "In trying to further investigate that difference between average sales and average UPT for Store Type B, we looked at average customers by Store Type and found Type B to be well ahead of the others. This suggests that Type B stores on average have more customers visit, but they buy a smaller number of items. In looking at the average distance of the nearest competitor by store type we found that Type B stores were far closer to their nearest competitor store on average. This lead us to hypothesize that Type B stores may be concentrated in dense urban areas that see more foot traffic. \n",
    "\n",
    "Further along that line of investigation, we looked for any correlations with competition distance, but *found no strong correlations*. Looking at correlations across our complete data set we only found the expected strong correlation between Customers and Sales, and smaller correlations between Promo and Sales. \n",
    "\n",
    "We conclude that well Store Type B and store Assortment B represent a very small sample of the stores, they *significantly outperform other store types and assortments in average sales*, despite a lower UPT, and see a *high volume of customers*. It could be worthwhile investigating expanding into more Type B Stores and Assortments. \n"
   ]
  },
  {
   "cell_type": "markdown",
   "id": "80fb2deb",
   "metadata": {
    "papermill": {
     "duration": 0.055535,
     "end_time": "2022-11-10T06:20:49.258265",
     "exception": false,
     "start_time": "2022-11-10T06:20:49.202730",
     "status": "completed"
    },
    "tags": []
   },
   "source": [
    "---"
   ]
  },
  {
   "cell_type": "markdown",
   "id": "05ac4a98",
   "metadata": {
    "papermill": {
     "duration": 0.054409,
     "end_time": "2022-11-10T06:20:49.367997",
     "exception": false,
     "start_time": "2022-11-10T06:20:49.313588",
     "status": "completed"
    },
    "tags": []
   },
   "source": [
    "<h1 style=\"background-color:#548984; color: #FFFFFF; padding: 15px;\">References</h1>"
   ]
  },
  {
   "cell_type": "markdown",
   "id": "77125193",
   "metadata": {
    "papermill": {
     "duration": 0.05656,
     "end_time": "2022-11-10T06:20:49.479157",
     "exception": false,
     "start_time": "2022-11-10T06:20:49.422597",
     "status": "completed"
    },
    "tags": []
   },
   "source": [
    "Rossmann Store Sales, 2015. *Forecast sales using store, promotion, and competitor data*. Kaggle. [https://www.kaggle.com/competitions/rossmann-store-sales/](https://www.kaggle.com/competitions/rossmann-store-sales/) (30/06/22)."
   ]
  }
 ],
 "metadata": {
  "kernelspec": {
   "display_name": "Python 3",
   "language": "python",
   "name": "python3"
  },
  "language_info": {
   "codemirror_mode": {
    "name": "ipython",
    "version": 3
   },
   "file_extension": ".py",
   "mimetype": "text/x-python",
   "name": "python",
   "nbconvert_exporter": "python",
   "pygments_lexer": "ipython3",
   "version": "3.7.12"
  },
  "papermill": {
   "default_parameters": {},
   "duration": 50.858914,
   "end_time": "2022-11-10T06:20:50.457721",
   "environment_variables": {},
   "exception": null,
   "input_path": "__notebook__.ipynb",
   "output_path": "__notebook__.ipynb",
   "parameters": {},
   "start_time": "2022-11-10T06:19:59.598807",
   "version": "2.3.4"
  }
 },
 "nbformat": 4,
 "nbformat_minor": 5
}
