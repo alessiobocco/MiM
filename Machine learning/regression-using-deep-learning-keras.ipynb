{
 "cells": [
  {
   "cell_type": "code",
   "execution_count": 1,
   "id": "339c24d2",
   "metadata": {
    "_cell_guid": "b1076dfc-b9ad-4769-8c92-a6c4dae69d19",
    "_uuid": "8f2839f25d086af736a60e9eeb907d3b93b6e0e5",
    "execution": {
     "iopub.execute_input": "2022-09-29T09:23:52.445839Z",
     "iopub.status.busy": "2022-09-29T09:23:52.445029Z",
     "iopub.status.idle": "2022-09-29T09:23:52.458125Z",
     "shell.execute_reply": "2022-09-29T09:23:52.457298Z"
    },
    "papermill": {
     "duration": 0.038483,
     "end_time": "2022-09-29T09:23:52.460675",
     "exception": false,
     "start_time": "2022-09-29T09:23:52.422192",
     "status": "completed"
    },
    "tags": []
   },
   "outputs": [
    {
     "name": "stdout",
     "output_type": "stream",
     "text": [
      "/kaggle/input/rossmann-store-sales/sample_submission.csv\n",
      "/kaggle/input/rossmann-store-sales/store.csv\n",
      "/kaggle/input/rossmann-store-sales/train.csv\n",
      "/kaggle/input/rossmann-store-sales/test.csv\n"
     ]
    }
   ],
   "source": [
    "# This Python 3 environment comes with many helpful analytics libraries installed\n",
    "# It is defined by the kaggle/python Docker image: https://github.com/kaggle/docker-python\n",
    "# For example, here's several helpful packages to load\n",
    "\n",
    "import numpy as np # linear algebra\n",
    "import pandas as pd # data processing, CSV file I/O (e.g. pd.read_csv)\n",
    "\n",
    "# Input data files are available in the read-only \"../input/\" directory\n",
    "# For example, running this (by clicking run or pressing Shift+Enter) will list all files under the input directory\n",
    "\n",
    "import os\n",
    "for dirname, _, filenames in os.walk('/kaggle/input'):\n",
    "    for filename in filenames:\n",
    "        print(os.path.join(dirname, filename))\n",
    "\n",
    "# You can write up to 20GB to the current directory (/kaggle/working/) that gets preserved as output when you create a version using \"Save & Run All\" \n",
    "# You can also write temporary files to /kaggle/temp/, but they won't be saved outside of the current session"
   ]
  },
  {
   "cell_type": "code",
   "execution_count": 2,
   "id": "1abc90cd",
   "metadata": {
    "execution": {
     "iopub.execute_input": "2022-09-29T09:23:52.495890Z",
     "iopub.status.busy": "2022-09-29T09:23:52.495070Z",
     "iopub.status.idle": "2022-09-29T09:23:53.569926Z",
     "shell.execute_reply": "2022-09-29T09:23:53.568797Z"
    },
    "papermill": {
     "duration": 1.094372,
     "end_time": "2022-09-29T09:23:53.572681",
     "exception": false,
     "start_time": "2022-09-29T09:23:52.478309",
     "status": "completed"
    },
    "tags": []
   },
   "outputs": [],
   "source": [
    "import matplotlib.pyplot as plt\n",
    "import seaborn as sns\n",
    "%matplotlib inline"
   ]
  },
  {
   "cell_type": "code",
   "execution_count": 3,
   "id": "f92f2270",
   "metadata": {
    "execution": {
     "iopub.execute_input": "2022-09-29T09:23:53.605980Z",
     "iopub.status.busy": "2022-09-29T09:23:53.605274Z",
     "iopub.status.idle": "2022-09-29T09:23:54.822673Z",
     "shell.execute_reply": "2022-09-29T09:23:54.820434Z"
    },
    "papermill": {
     "duration": 1.237798,
     "end_time": "2022-09-29T09:23:54.826345",
     "exception": false,
     "start_time": "2022-09-29T09:23:53.588547",
     "status": "completed"
    },
    "tags": []
   },
   "outputs": [
    {
     "name": "stderr",
     "output_type": "stream",
     "text": [
      "/opt/conda/lib/python3.7/site-packages/IPython/core/interactiveshell.py:3552: DtypeWarning: Columns (7) have mixed types.Specify dtype option on import or set low_memory=False.\n",
      "  exec(code_obj, self.user_global_ns, self.user_ns)\n"
     ]
    }
   ],
   "source": [
    "import pandas as pd\n",
    "df = pd.read_csv(\"../input/rossmann-store-sales/train.csv\")"
   ]
  },
  {
   "cell_type": "code",
   "execution_count": 4,
   "id": "3d089353",
   "metadata": {
    "execution": {
     "iopub.execute_input": "2022-09-29T09:23:54.859259Z",
     "iopub.status.busy": "2022-09-29T09:23:54.858846Z",
     "iopub.status.idle": "2022-09-29T09:23:54.864839Z",
     "shell.execute_reply": "2022-09-29T09:23:54.863834Z"
    },
    "papermill": {
     "duration": 0.02509,
     "end_time": "2022-09-29T09:23:54.867370",
     "exception": false,
     "start_time": "2022-09-29T09:23:54.842280",
     "status": "completed"
    },
    "tags": []
   },
   "outputs": [
    {
     "name": "stdout",
     "output_type": "stream",
     "text": [
      "Shape of the Dataset: (1017209, 9)\n"
     ]
    }
   ],
   "source": [
    "print(\"Shape of the Dataset:\",df.shape)"
   ]
  },
  {
   "cell_type": "code",
   "execution_count": 5,
   "id": "2e29fd57",
   "metadata": {
    "execution": {
     "iopub.execute_input": "2022-09-29T09:23:54.900087Z",
     "iopub.status.busy": "2022-09-29T09:23:54.899657Z",
     "iopub.status.idle": "2022-09-29T09:23:54.923587Z",
     "shell.execute_reply": "2022-09-29T09:23:54.922619Z"
    },
    "papermill": {
     "duration": 0.043196,
     "end_time": "2022-09-29T09:23:54.925886",
     "exception": false,
     "start_time": "2022-09-29T09:23:54.882690",
     "status": "completed"
    },
    "tags": []
   },
   "outputs": [
    {
     "data": {
      "text/html": [
       "<div>\n",
       "<style scoped>\n",
       "    .dataframe tbody tr th:only-of-type {\n",
       "        vertical-align: middle;\n",
       "    }\n",
       "\n",
       "    .dataframe tbody tr th {\n",
       "        vertical-align: top;\n",
       "    }\n",
       "\n",
       "    .dataframe thead th {\n",
       "        text-align: right;\n",
       "    }\n",
       "</style>\n",
       "<table border=\"1\" class=\"dataframe\">\n",
       "  <thead>\n",
       "    <tr style=\"text-align: right;\">\n",
       "      <th></th>\n",
       "      <th>Store</th>\n",
       "      <th>DayOfWeek</th>\n",
       "      <th>Date</th>\n",
       "      <th>Sales</th>\n",
       "      <th>Customers</th>\n",
       "      <th>Open</th>\n",
       "      <th>Promo</th>\n",
       "      <th>StateHoliday</th>\n",
       "      <th>SchoolHoliday</th>\n",
       "    </tr>\n",
       "  </thead>\n",
       "  <tbody>\n",
       "    <tr>\n",
       "      <th>0</th>\n",
       "      <td>1</td>\n",
       "      <td>5</td>\n",
       "      <td>2015-07-31</td>\n",
       "      <td>5263</td>\n",
       "      <td>555</td>\n",
       "      <td>1</td>\n",
       "      <td>1</td>\n",
       "      <td>0</td>\n",
       "      <td>1</td>\n",
       "    </tr>\n",
       "    <tr>\n",
       "      <th>1</th>\n",
       "      <td>2</td>\n",
       "      <td>5</td>\n",
       "      <td>2015-07-31</td>\n",
       "      <td>6064</td>\n",
       "      <td>625</td>\n",
       "      <td>1</td>\n",
       "      <td>1</td>\n",
       "      <td>0</td>\n",
       "      <td>1</td>\n",
       "    </tr>\n",
       "    <tr>\n",
       "      <th>2</th>\n",
       "      <td>3</td>\n",
       "      <td>5</td>\n",
       "      <td>2015-07-31</td>\n",
       "      <td>8314</td>\n",
       "      <td>821</td>\n",
       "      <td>1</td>\n",
       "      <td>1</td>\n",
       "      <td>0</td>\n",
       "      <td>1</td>\n",
       "    </tr>\n",
       "    <tr>\n",
       "      <th>3</th>\n",
       "      <td>4</td>\n",
       "      <td>5</td>\n",
       "      <td>2015-07-31</td>\n",
       "      <td>13995</td>\n",
       "      <td>1498</td>\n",
       "      <td>1</td>\n",
       "      <td>1</td>\n",
       "      <td>0</td>\n",
       "      <td>1</td>\n",
       "    </tr>\n",
       "    <tr>\n",
       "      <th>4</th>\n",
       "      <td>5</td>\n",
       "      <td>5</td>\n",
       "      <td>2015-07-31</td>\n",
       "      <td>4822</td>\n",
       "      <td>559</td>\n",
       "      <td>1</td>\n",
       "      <td>1</td>\n",
       "      <td>0</td>\n",
       "      <td>1</td>\n",
       "    </tr>\n",
       "  </tbody>\n",
       "</table>\n",
       "</div>"
      ],
      "text/plain": [
       "   Store  DayOfWeek        Date  Sales  Customers  Open  Promo StateHoliday  \\\n",
       "0      1          5  2015-07-31   5263        555     1      1            0   \n",
       "1      2          5  2015-07-31   6064        625     1      1            0   \n",
       "2      3          5  2015-07-31   8314        821     1      1            0   \n",
       "3      4          5  2015-07-31  13995       1498     1      1            0   \n",
       "4      5          5  2015-07-31   4822        559     1      1            0   \n",
       "\n",
       "   SchoolHoliday  \n",
       "0              1  \n",
       "1              1  \n",
       "2              1  \n",
       "3              1  \n",
       "4              1  "
      ]
     },
     "execution_count": 5,
     "metadata": {},
     "output_type": "execute_result"
    }
   ],
   "source": [
    "df.head(5)"
   ]
  },
  {
   "cell_type": "code",
   "execution_count": 6,
   "id": "ddb4f423",
   "metadata": {
    "execution": {
     "iopub.execute_input": "2022-09-29T09:23:54.958515Z",
     "iopub.status.busy": "2022-09-29T09:23:54.958087Z",
     "iopub.status.idle": "2022-09-29T09:23:54.974066Z",
     "shell.execute_reply": "2022-09-29T09:23:54.972362Z"
    },
    "papermill": {
     "duration": 0.035001,
     "end_time": "2022-09-29T09:23:54.976386",
     "exception": false,
     "start_time": "2022-09-29T09:23:54.941385",
     "status": "completed"
    },
    "tags": []
   },
   "outputs": [
    {
     "name": "stdout",
     "output_type": "stream",
     "text": [
      "Shape of the Dataset: (1115, 10)\n"
     ]
    }
   ],
   "source": [
    "store = pd.read_csv(\"../input/rossmann-store-sales/store.csv\")\n",
    "print(\"Shape of the Dataset:\",store.shape)"
   ]
  },
  {
   "cell_type": "code",
   "execution_count": 7,
   "id": "b6daf248",
   "metadata": {
    "execution": {
     "iopub.execute_input": "2022-09-29T09:23:55.010295Z",
     "iopub.status.busy": "2022-09-29T09:23:55.009078Z",
     "iopub.status.idle": "2022-09-29T09:23:55.027266Z",
     "shell.execute_reply": "2022-09-29T09:23:55.026445Z"
    },
    "papermill": {
     "duration": 0.038002,
     "end_time": "2022-09-29T09:23:55.030048",
     "exception": false,
     "start_time": "2022-09-29T09:23:54.992046",
     "status": "completed"
    },
    "tags": []
   },
   "outputs": [
    {
     "data": {
      "text/html": [
       "<div>\n",
       "<style scoped>\n",
       "    .dataframe tbody tr th:only-of-type {\n",
       "        vertical-align: middle;\n",
       "    }\n",
       "\n",
       "    .dataframe tbody tr th {\n",
       "        vertical-align: top;\n",
       "    }\n",
       "\n",
       "    .dataframe thead th {\n",
       "        text-align: right;\n",
       "    }\n",
       "</style>\n",
       "<table border=\"1\" class=\"dataframe\">\n",
       "  <thead>\n",
       "    <tr style=\"text-align: right;\">\n",
       "      <th></th>\n",
       "      <th>Store</th>\n",
       "      <th>StoreType</th>\n",
       "      <th>Assortment</th>\n",
       "      <th>CompetitionDistance</th>\n",
       "      <th>CompetitionOpenSinceMonth</th>\n",
       "      <th>CompetitionOpenSinceYear</th>\n",
       "      <th>Promo2</th>\n",
       "      <th>Promo2SinceWeek</th>\n",
       "      <th>Promo2SinceYear</th>\n",
       "      <th>PromoInterval</th>\n",
       "    </tr>\n",
       "  </thead>\n",
       "  <tbody>\n",
       "    <tr>\n",
       "      <th>0</th>\n",
       "      <td>1</td>\n",
       "      <td>c</td>\n",
       "      <td>a</td>\n",
       "      <td>1270.0</td>\n",
       "      <td>9.0</td>\n",
       "      <td>2008.0</td>\n",
       "      <td>0</td>\n",
       "      <td>NaN</td>\n",
       "      <td>NaN</td>\n",
       "      <td>NaN</td>\n",
       "    </tr>\n",
       "    <tr>\n",
       "      <th>1</th>\n",
       "      <td>2</td>\n",
       "      <td>a</td>\n",
       "      <td>a</td>\n",
       "      <td>570.0</td>\n",
       "      <td>11.0</td>\n",
       "      <td>2007.0</td>\n",
       "      <td>1</td>\n",
       "      <td>13.0</td>\n",
       "      <td>2010.0</td>\n",
       "      <td>Jan,Apr,Jul,Oct</td>\n",
       "    </tr>\n",
       "    <tr>\n",
       "      <th>2</th>\n",
       "      <td>3</td>\n",
       "      <td>a</td>\n",
       "      <td>a</td>\n",
       "      <td>14130.0</td>\n",
       "      <td>12.0</td>\n",
       "      <td>2006.0</td>\n",
       "      <td>1</td>\n",
       "      <td>14.0</td>\n",
       "      <td>2011.0</td>\n",
       "      <td>Jan,Apr,Jul,Oct</td>\n",
       "    </tr>\n",
       "    <tr>\n",
       "      <th>3</th>\n",
       "      <td>4</td>\n",
       "      <td>c</td>\n",
       "      <td>c</td>\n",
       "      <td>620.0</td>\n",
       "      <td>9.0</td>\n",
       "      <td>2009.0</td>\n",
       "      <td>0</td>\n",
       "      <td>NaN</td>\n",
       "      <td>NaN</td>\n",
       "      <td>NaN</td>\n",
       "    </tr>\n",
       "    <tr>\n",
       "      <th>4</th>\n",
       "      <td>5</td>\n",
       "      <td>a</td>\n",
       "      <td>a</td>\n",
       "      <td>29910.0</td>\n",
       "      <td>4.0</td>\n",
       "      <td>2015.0</td>\n",
       "      <td>0</td>\n",
       "      <td>NaN</td>\n",
       "      <td>NaN</td>\n",
       "      <td>NaN</td>\n",
       "    </tr>\n",
       "  </tbody>\n",
       "</table>\n",
       "</div>"
      ],
      "text/plain": [
       "   Store StoreType Assortment  CompetitionDistance  CompetitionOpenSinceMonth  \\\n",
       "0      1         c          a               1270.0                        9.0   \n",
       "1      2         a          a                570.0                       11.0   \n",
       "2      3         a          a              14130.0                       12.0   \n",
       "3      4         c          c                620.0                        9.0   \n",
       "4      5         a          a              29910.0                        4.0   \n",
       "\n",
       "   CompetitionOpenSinceYear  Promo2  Promo2SinceWeek  Promo2SinceYear  \\\n",
       "0                    2008.0       0              NaN              NaN   \n",
       "1                    2007.0       1             13.0           2010.0   \n",
       "2                    2006.0       1             14.0           2011.0   \n",
       "3                    2009.0       0              NaN              NaN   \n",
       "4                    2015.0       0              NaN              NaN   \n",
       "\n",
       "     PromoInterval  \n",
       "0              NaN  \n",
       "1  Jan,Apr,Jul,Oct  \n",
       "2  Jan,Apr,Jul,Oct  \n",
       "3              NaN  \n",
       "4              NaN  "
      ]
     },
     "execution_count": 7,
     "metadata": {},
     "output_type": "execute_result"
    }
   ],
   "source": [
    "store.head(5)"
   ]
  },
  {
   "cell_type": "code",
   "execution_count": 8,
   "id": "a93c2cfe",
   "metadata": {
    "execution": {
     "iopub.execute_input": "2022-09-29T09:23:55.064306Z",
     "iopub.status.busy": "2022-09-29T09:23:55.063881Z",
     "iopub.status.idle": "2022-09-29T09:23:55.858590Z",
     "shell.execute_reply": "2022-09-29T09:23:55.857274Z"
    },
    "papermill": {
     "duration": 0.814853,
     "end_time": "2022-09-29T09:23:55.861318",
     "exception": false,
     "start_time": "2022-09-29T09:23:55.046465",
     "status": "completed"
    },
    "tags": []
   },
   "outputs": [
    {
     "name": "stdout",
     "output_type": "stream",
     "text": [
      "(1017209, 18)\n"
     ]
    }
   ],
   "source": [
    "df_new = df.merge(store,on=[\"Store\"], how=\"inner\")\n",
    "print(df_new.shape)\n"
   ]
  },
  {
   "cell_type": "code",
   "execution_count": 9,
   "id": "4cc3479a",
   "metadata": {
    "execution": {
     "iopub.execute_input": "2022-09-29T09:23:55.895627Z",
     "iopub.status.busy": "2022-09-29T09:23:55.895135Z",
     "iopub.status.idle": "2022-09-29T09:23:55.982680Z",
     "shell.execute_reply": "2022-09-29T09:23:55.981392Z"
    },
    "papermill": {
     "duration": 0.107621,
     "end_time": "2022-09-29T09:23:55.985354",
     "exception": false,
     "start_time": "2022-09-29T09:23:55.877733",
     "status": "completed"
    },
    "tags": []
   },
   "outputs": [
    {
     "name": "stdout",
     "output_type": "stream",
     "text": [
      "Distinct number of Stores : 1115\n",
      "Distinct number of Days : 942\n",
      "Average daily sales of all stores :  5773.82\n"
     ]
    }
   ],
   "source": [
    "print(\"Distinct number of Stores :\", len(df_new[\"Store\"].unique()))\n",
    "print(\"Distinct number of Days :\", len(df_new[\"Date\"].unique()))\n",
    "print(\"Average daily sales of all stores : \",round(df_new[\"Sales\"].mean(),2))"
   ]
  },
  {
   "cell_type": "code",
   "execution_count": 10,
   "id": "318a6e25",
   "metadata": {
    "execution": {
     "iopub.execute_input": "2022-09-29T09:23:56.020038Z",
     "iopub.status.busy": "2022-09-29T09:23:56.018640Z",
     "iopub.status.idle": "2022-09-29T09:23:56.028031Z",
     "shell.execute_reply": "2022-09-29T09:23:56.026815Z"
    },
    "papermill": {
     "duration": 0.029294,
     "end_time": "2022-09-29T09:23:56.030619",
     "exception": false,
     "start_time": "2022-09-29T09:23:56.001325",
     "status": "completed"
    },
    "tags": []
   },
   "outputs": [
    {
     "data": {
      "text/plain": [
       "Store                          int64\n",
       "DayOfWeek                      int64\n",
       "Date                          object\n",
       "Sales                          int64\n",
       "Customers                      int64\n",
       "Open                           int64\n",
       "Promo                          int64\n",
       "StateHoliday                  object\n",
       "SchoolHoliday                  int64\n",
       "StoreType                     object\n",
       "Assortment                    object\n",
       "CompetitionDistance          float64\n",
       "CompetitionOpenSinceMonth    float64\n",
       "CompetitionOpenSinceYear     float64\n",
       "Promo2                         int64\n",
       "Promo2SinceWeek              float64\n",
       "Promo2SinceYear              float64\n",
       "PromoInterval                 object\n",
       "dtype: object"
      ]
     },
     "execution_count": 10,
     "metadata": {},
     "output_type": "execute_result"
    }
   ],
   "source": [
    "df_new.dtypes"
   ]
  },
  {
   "cell_type": "code",
   "execution_count": 11,
   "id": "1bac16b0",
   "metadata": {
    "execution": {
     "iopub.execute_input": "2022-09-29T09:23:56.064754Z",
     "iopub.status.busy": "2022-09-29T09:23:56.064335Z",
     "iopub.status.idle": "2022-09-29T09:23:56.083745Z",
     "shell.execute_reply": "2022-09-29T09:23:56.082651Z"
    },
    "papermill": {
     "duration": 0.039291,
     "end_time": "2022-09-29T09:23:56.086093",
     "exception": false,
     "start_time": "2022-09-29T09:23:56.046802",
     "status": "completed"
    },
    "tags": []
   },
   "outputs": [
    {
     "data": {
      "text/plain": [
       "5    145845\n",
       "4    145845\n",
       "3    145665\n",
       "2    145664\n",
       "1    144730\n",
       "7    144730\n",
       "6    144730\n",
       "Name: DayOfWeek, dtype: int64"
      ]
     },
     "execution_count": 11,
     "metadata": {},
     "output_type": "execute_result"
    }
   ],
   "source": [
    "df_new[\"DayOfWeek\"].value_counts()"
   ]
  },
  {
   "cell_type": "markdown",
   "id": "cc274a07",
   "metadata": {
    "papermill": {
     "duration": 0.015992,
     "end_time": "2022-09-29T09:23:56.118276",
     "exception": false,
     "start_time": "2022-09-29T09:23:56.102284",
     "status": "completed"
    },
    "tags": []
   },
   "source": [
    "**Extract All the date Features**"
   ]
  },
  {
   "cell_type": "code",
   "execution_count": 12,
   "id": "7a06e56d",
   "metadata": {
    "execution": {
     "iopub.execute_input": "2022-09-29T09:23:56.152679Z",
     "iopub.status.busy": "2022-09-29T09:23:56.152290Z",
     "iopub.status.idle": "2022-09-29T09:23:57.049214Z",
     "shell.execute_reply": "2022-09-29T09:23:57.047959Z"
    },
    "papermill": {
     "duration": 0.917429,
     "end_time": "2022-09-29T09:23:57.051908",
     "exception": false,
     "start_time": "2022-09-29T09:23:56.134479",
     "status": "completed"
    },
    "tags": []
   },
   "outputs": [
    {
     "name": "stderr",
     "output_type": "stream",
     "text": [
      "/opt/conda/lib/python3.7/site-packages/ipykernel_launcher.py:6: FutureWarning: Series.dt.weekofyear and Series.dt.week have been deprecated.  Please use Series.dt.isocalendar().week instead.\n",
      "  \n"
     ]
    }
   ],
   "source": [
    "df_new['Date'] = pd.to_datetime(df_new['Date'], infer_datetime_format=True)\n",
    "df_new[\"Month\"] = df_new[\"Date\"].dt.month\n",
    "df_new[\"Quarter\"] = df_new[\"Date\"].dt.quarter\n",
    "df_new[\"Year\"] = df_new[\"Date\"].dt.year\n",
    "df_new[\"Day\"] = df_new[\"Date\"].dt.day\n",
    "df_new[\"Week\"] = df_new[\"Date\"].dt.week\n"
   ]
  },
  {
   "cell_type": "code",
   "execution_count": 13,
   "id": "d763adb3",
   "metadata": {
    "execution": {
     "iopub.execute_input": "2022-09-29T09:23:57.087070Z",
     "iopub.status.busy": "2022-09-29T09:23:57.086246Z",
     "iopub.status.idle": "2022-09-29T09:23:57.307171Z",
     "shell.execute_reply": "2022-09-29T09:23:57.306099Z"
    },
    "papermill": {
     "duration": 0.241519,
     "end_time": "2022-09-29T09:23:57.310006",
     "exception": false,
     "start_time": "2022-09-29T09:23:57.068487",
     "status": "completed"
    },
    "tags": []
   },
   "outputs": [],
   "source": [
    "df_new[\"Season\"] = np.where(df_new[\"Month\"].isin([3,4,5]),\"Spring\",np.where(df_new[\"Month\"].isin([6,7,8]),\"Summer\",np.where(df_new[\"Month\"].isin([9,10,11]),\"Fall\",np.where(df_new[\"Month\"].isin([12,1,2]),\"Winter\",\"None\"))))\n"
   ]
  },
  {
   "cell_type": "markdown",
   "id": "7c2cbb7f",
   "metadata": {
    "papermill": {
     "duration": 0.016101,
     "end_time": "2022-09-29T09:23:57.342563",
     "exception": false,
     "start_time": "2022-09-29T09:23:57.326462",
     "status": "completed"
    },
    "tags": []
   },
   "source": [
    "**Using the head command to view (only) the data and the newly engineered features**"
   ]
  },
  {
   "cell_type": "code",
   "execution_count": 14,
   "id": "ccd9e780",
   "metadata": {
    "execution": {
     "iopub.execute_input": "2022-09-29T09:23:57.377929Z",
     "iopub.status.busy": "2022-09-29T09:23:57.376778Z",
     "iopub.status.idle": "2022-09-29T09:23:57.716189Z",
     "shell.execute_reply": "2022-09-29T09:23:57.714831Z"
    },
    "papermill": {
     "duration": 0.360543,
     "end_time": "2022-09-29T09:23:57.719624",
     "exception": false,
     "start_time": "2022-09-29T09:23:57.359081",
     "status": "completed"
    },
    "tags": []
   },
   "outputs": [
    {
     "name": "stdout",
     "output_type": "stream",
     "text": [
      "        Date  Year  Month  Day  Week  Quarter  Season\n",
      "0 2015-07-31  2015      7   31    31        3  Summer\n",
      "1 2015-07-30  2015      7   30    31        3  Summer\n",
      "2 2015-07-29  2015      7   29    31        3  Summer\n",
      "3 2015-07-28  2015      7   28    31        3  Summer\n",
      "4 2015-07-27  2015      7   27    31        3  Summer\n"
     ]
    }
   ],
   "source": [
    "print(df_new[[\"Date\",\"Year\",\"Month\",\"Day\",\"Week\",\"Quarter\",\"Season\"]].head())"
   ]
  },
  {
   "cell_type": "markdown",
   "id": "8f367a4a",
   "metadata": {
    "papermill": {
     "duration": 0.017636,
     "end_time": "2022-09-29T09:23:57.754548",
     "exception": false,
     "start_time": "2022-09-29T09:23:57.736912",
     "status": "completed"
    },
    "tags": []
   },
   "source": [
    "**visualizing**"
   ]
  },
  {
   "cell_type": "code",
   "execution_count": 15,
   "id": "d12bcef8",
   "metadata": {
    "execution": {
     "iopub.execute_input": "2022-09-29T09:23:57.791453Z",
     "iopub.status.busy": "2022-09-29T09:23:57.790597Z",
     "iopub.status.idle": "2022-09-29T09:23:58.081540Z",
     "shell.execute_reply": "2022-09-29T09:23:58.080667Z"
    },
    "papermill": {
     "duration": 0.313071,
     "end_time": "2022-09-29T09:23:58.085120",
     "exception": false,
     "start_time": "2022-09-29T09:23:57.772049",
     "status": "completed"
    },
    "tags": []
   },
   "outputs": [
    {
     "data": {
      "image/png": "[encoded data removed]",
      "text/plain": [
       "<Figure size 720x360 with 1 Axes>"
      ]
     },
     "metadata": {
      "needs_background": "light"
     },
     "output_type": "display_data"
    }
   ],
   "source": [
    "#Create a histogram to study the Daily Sales for the stores\n",
    "plt.figure(figsize=(10,5))\n",
    "plt.grid()\n",
    "plt.hist(df_new[\"Sales\"])\n",
    "plt.title(\"Histogram for Store Sales\")\n",
    "plt.xlabel(\"bins\")\n",
    "plt.xlabel(\"Frequency\")\n",
    "plt.show()"
   ]
  },
  {
   "cell_type": "code",
   "execution_count": 16,
   "id": "1bce2ba4",
   "metadata": {
    "execution": {
     "iopub.execute_input": "2022-09-29T09:23:58.129163Z",
     "iopub.status.busy": "2022-09-29T09:23:58.128733Z",
     "iopub.status.idle": "2022-09-29T09:24:02.333237Z",
     "shell.execute_reply": "2022-09-29T09:24:02.332306Z"
    },
    "papermill": {
     "duration": 4.226038,
     "end_time": "2022-09-29T09:24:02.335686",
     "exception": false,
     "start_time": "2022-09-29T09:23:58.109648",
     "status": "completed"
    },
    "tags": []
   },
   "outputs": [
    {
     "data": {
      "image/png": "[encoded data removed]",
      "text/plain": [
       "<Figure size 720x360 with 1 Axes>"
      ]
     },
     "metadata": {
      "needs_background": "light"
     },
     "output_type": "display_data"
    }
   ],
   "source": [
    "plt.figure(figsize=(10,5))\n",
    "plt.grid()\n",
    "sns.kdeplot(df_new[\"Sales\"], fill=True)\n",
    "plt.title(\"Histogram for Store Sales\")\n",
    "plt.xlabel(\"bins\")\n",
    "plt.xlabel(\"Frequency\")\n",
    "plt.show()"
   ]
  },
  {
   "cell_type": "markdown",
   "id": "f3087ba7",
   "metadata": {
    "papermill": {
     "duration": 0.016946,
     "end_time": "2022-09-29T09:24:02.370060",
     "exception": false,
     "start_time": "2022-09-29T09:24:02.353114",
     "status": "completed"
    },
    "tags": []
   },
   "source": [
    "**Exploring Numeric Columns**\n",
    "\n",
    "* Use the histogram function provided by the Pandas object"
   ]
  },
  {
   "cell_type": "code",
   "execution_count": 17,
   "id": "27ed63b0",
   "metadata": {
    "execution": {
     "iopub.execute_input": "2022-09-29T09:24:02.406549Z",
     "iopub.status.busy": "2022-09-29T09:24:02.406134Z",
     "iopub.status.idle": "2022-09-29T09:24:05.464864Z",
     "shell.execute_reply": "2022-09-29T09:24:05.463862Z"
    },
    "papermill": {
     "duration": 3.079757,
     "end_time": "2022-09-29T09:24:05.467094",
     "exception": false,
     "start_time": "2022-09-29T09:24:02.387337",
     "status": "completed"
    },
    "tags": []
   },
   "outputs": [
    {
     "data": {
      "image/png": "[encoded data removed]",
      "text/plain": [
       "<Figure size 1440x720 with 20 Axes>"
      ]
     },
     "metadata": {
      "needs_background": "light"
     },
     "output_type": "display_data"
    }
   ],
   "source": [
    "df_new.hist(figsize=(20,10))\n",
    "plt.show()"
   ]
  },
  {
   "cell_type": "markdown",
   "id": "1122bfb2",
   "metadata": {
    "papermill": {
     "duration": 0.018146,
     "end_time": "2022-09-29T09:24:05.503873",
     "exception": false,
     "start_time": "2022-09-29T09:24:05.485727",
     "status": "completed"
    },
    "tags": []
   },
   "source": [
    "**Missing values**"
   ]
  },
  {
   "cell_type": "code",
   "execution_count": 18,
   "id": "5211f373",
   "metadata": {
    "execution": {
     "iopub.execute_input": "2022-09-29T09:24:05.542850Z",
     "iopub.status.busy": "2022-09-29T09:24:05.542371Z",
     "iopub.status.idle": "2022-09-29T09:24:05.793834Z",
     "shell.execute_reply": "2022-09-29T09:24:05.792800Z"
    },
    "papermill": {
     "duration": 0.273911,
     "end_time": "2022-09-29T09:24:05.796290",
     "exception": false,
     "start_time": "2022-09-29T09:24:05.522379",
     "status": "completed"
    },
    "tags": []
   },
   "outputs": [
    {
     "name": "stdout",
     "output_type": "stream",
     "text": [
      "Missing values in  Store is -      0.0\n",
      "Missing values in  DayOfWeek is -      0.0\n",
      "Missing values in  Date is -      0.0\n",
      "Missing values in  Sales is -      0.0\n",
      "Missing values in  Customers is -      0.0\n",
      "Missing values in  Open is -      0.0\n",
      "Missing values in  Promo is -      0.0\n",
      "Missing values in  StateHoliday is -      0.0\n",
      "Missing values in  SchoolHoliday is -      0.0\n",
      "Missing values in  StoreType is -      0.0\n",
      "Missing values in  Assortment is -      0.0\n",
      "Missing values in  CompetitionDistance is -      0.25973030124586\n",
      "Missing values in  CompetitionOpenSinceMonth is -      31.787764363075826\n",
      "Missing values in  CompetitionOpenSinceYear is -      31.787764363075826\n",
      "Missing values in  Promo2 is -      0.0\n",
      "Missing values in  Promo2SinceWeek is -      49.94362023930186\n",
      "Missing values in  Promo2SinceYear is -      49.94362023930186\n",
      "Missing values in  PromoInterval is -      49.94362023930186\n",
      "Missing values in  Month is -      0.0\n",
      "Missing values in  Quarter is -      0.0\n",
      "Missing values in  Year is -      0.0\n",
      "Missing values in  Day is -      0.0\n",
      "Missing values in  Week is -      0.0\n",
      "Missing values in  Season is -      0.0\n"
     ]
    }
   ],
   "source": [
    "for i in df_new.columns:\n",
    "    print(\"Missing values in \",i, \"is -\",  \"    \"  ,df_new[i].isnull().sum()/df_new.shape[0] * 100)"
   ]
  },
  {
   "cell_type": "markdown",
   "id": "26e49643",
   "metadata": {
    "papermill": {
     "duration": 0.017941,
     "end_time": "2022-09-29T09:24:05.832679",
     "exception": false,
     "start_time": "2022-09-29T09:24:05.814738",
     "status": "completed"
    },
    "tags": []
   },
   "source": [
    "**Imputation with Mode values**"
   ]
  },
  {
   "cell_type": "code",
   "execution_count": 19,
   "id": "25898e8f",
   "metadata": {
    "execution": {
     "iopub.execute_input": "2022-09-29T09:24:05.872272Z",
     "iopub.status.busy": "2022-09-29T09:24:05.871466Z",
     "iopub.status.idle": "2022-09-29T09:24:05.904177Z",
     "shell.execute_reply": "2022-09-29T09:24:05.903052Z"
    },
    "papermill": {
     "duration": 0.056204,
     "end_time": "2022-09-29T09:24:05.907150",
     "exception": false,
     "start_time": "2022-09-29T09:24:05.850946",
     "status": "completed"
    },
    "tags": []
   },
   "outputs": [],
   "source": [
    "df_new[\"CompetitionDistance\"]=df_new[\"CompetitionDistance\"].fillna(df_new[\"CompetitionDistance\"].mode()[0])"
   ]
  },
  {
   "cell_type": "markdown",
   "id": "3c85a17a",
   "metadata": {
    "papermill": {
     "duration": 0.018006,
     "end_time": "2022-09-29T09:24:05.944311",
     "exception": false,
     "start_time": "2022-09-29T09:24:05.926305",
     "status": "completed"
    },
    "tags": []
   },
   "source": [
    "**Double check if we still see nulls for the column**"
   ]
  },
  {
   "cell_type": "code",
   "execution_count": 20,
   "id": "85994571",
   "metadata": {
    "execution": {
     "iopub.execute_input": "2022-09-29T09:24:05.983480Z",
     "iopub.status.busy": "2022-09-29T09:24:05.982497Z",
     "iopub.status.idle": "2022-09-29T09:24:05.992270Z",
     "shell.execute_reply": "2022-09-29T09:24:05.991179Z"
    },
    "papermill": {
     "duration": 0.031921,
     "end_time": "2022-09-29T09:24:05.994535",
     "exception": false,
     "start_time": "2022-09-29T09:24:05.962614",
     "status": "completed"
    },
    "tags": []
   },
   "outputs": [
    {
     "data": {
      "text/plain": [
       "0.0"
      ]
     },
     "execution_count": 20,
     "metadata": {},
     "output_type": "execute_result"
    }
   ],
   "source": [
    "df_new[\"CompetitionDistance\"].isnull().sum()/df_new.shape[0] * 100"
   ]
  },
  {
   "cell_type": "markdown",
   "id": "536f20f2",
   "metadata": {
    "papermill": {
     "duration": 0.018149,
     "end_time": "2022-09-29T09:24:06.031249",
     "exception": false,
     "start_time": "2022-09-29T09:24:06.013100",
     "status": "completed"
    },
    "tags": []
   },
   "source": [
    "**Understanding the Categorical Features**"
   ]
  },
  {
   "cell_type": "code",
   "execution_count": 21,
   "id": "016914b5",
   "metadata": {
    "execution": {
     "iopub.execute_input": "2022-09-29T09:24:06.071609Z",
     "iopub.status.busy": "2022-09-29T09:24:06.070861Z",
     "iopub.status.idle": "2022-09-29T09:24:22.597490Z",
     "shell.execute_reply": "2022-09-29T09:24:22.596363Z"
    },
    "papermill": {
     "duration": 16.54986,
     "end_time": "2022-09-29T09:24:22.600015",
     "exception": false,
     "start_time": "2022-09-29T09:24:06.050155",
     "status": "completed"
    },
    "tags": []
   },
   "outputs": [
    {
     "data": {
      "image/png": "[encoded data removed]",
      "text/plain": [
       "<Figure size 432x288 with 1 Axes>"
      ]
     },
     "metadata": {
      "needs_background": "light"
     },
     "output_type": "display_data"
    }
   ],
   "source": [
    "#Create the bar plot for Average Sales across different Seasons\n",
    "ax = sns.barplot(x=\"Season\", y=\"Sales\", data=df_new)"
   ]
  },
  {
   "cell_type": "code",
   "execution_count": 22,
   "id": "43630bc5",
   "metadata": {
    "execution": {
     "iopub.execute_input": "2022-09-29T09:24:22.638931Z",
     "iopub.status.busy": "2022-09-29T09:24:22.638514Z",
     "iopub.status.idle": "2022-09-29T09:24:44.941125Z",
     "shell.execute_reply": "2022-09-29T09:24:44.940291Z"
    },
    "papermill": {
     "duration": 22.324834,
     "end_time": "2022-09-29T09:24:44.943540",
     "exception": false,
     "start_time": "2022-09-29T09:24:22.618706",
     "status": "completed"
    },
    "tags": []
   },
   "outputs": [
    {
     "data": {
      "image/png": "[encoded data removed]",
      "text/plain": [
       "<Figure size 432x288 with 1 Axes>"
      ]
     },
     "metadata": {
      "needs_background": "light"
     },
     "output_type": "display_data"
    }
   ],
   "source": [
    "#Create the bar plot for Average Sales across different Assortments\n",
    "ax = sns.barplot(x=\"Assortment\", y=\"Sales\", data=df_new)"
   ]
  },
  {
   "cell_type": "code",
   "execution_count": 23,
   "id": "d6bb7027",
   "metadata": {
    "execution": {
     "iopub.execute_input": "2022-09-29T09:24:44.988136Z",
     "iopub.status.busy": "2022-09-29T09:24:44.987460Z",
     "iopub.status.idle": "2022-09-29T09:25:04.908898Z",
     "shell.execute_reply": "2022-09-29T09:25:04.907963Z"
    },
    "papermill": {
     "duration": 19.946869,
     "end_time": "2022-09-29T09:25:04.911442",
     "exception": false,
     "start_time": "2022-09-29T09:24:44.964573",
     "status": "completed"
    },
    "tags": []
   },
   "outputs": [
    {
     "data": {
      "image/png": "[encoded data removed]",
      "text/plain": [
       "<Figure size 432x288 with 1 Axes>"
      ]
     },
     "metadata": {
      "needs_background": "light"
     },
     "output_type": "display_data"
    }
   ],
   "source": [
    "#Create the bar plot for Average Sales across different Store Types\n",
    "ax = sns.barplot(x=\"StoreType\", y=\"Sales\", data=df_new)\n"
   ]
  },
  {
   "cell_type": "code",
   "execution_count": 24,
   "id": "e716a6b2",
   "metadata": {
    "execution": {
     "iopub.execute_input": "2022-09-29T09:25:04.956678Z",
     "iopub.status.busy": "2022-09-29T09:25:04.955720Z",
     "iopub.status.idle": "2022-09-29T09:25:19.854136Z",
     "shell.execute_reply": "2022-09-29T09:25:19.853328Z"
    },
    "papermill": {
     "duration": 14.92369,
     "end_time": "2022-09-29T09:25:19.856425",
     "exception": false,
     "start_time": "2022-09-29T09:25:04.932735",
     "status": "completed"
    },
    "tags": []
   },
   "outputs": [
    {
     "data": {
      "image/png": "[encoded data removed]",
      "text/plain": [
       "<Figure size 432x288 with 1 Axes>"
      ]
     },
     "metadata": {
      "needs_background": "light"
     },
     "output_type": "display_data"
    }
   ],
   "source": [
    "ax = sns.barplot(x=\"Season\", y=\"Sales\", data=df_new,estimator=np.size)\n"
   ]
  },
  {
   "cell_type": "code",
   "execution_count": 25,
   "id": "b8ca2ab1",
   "metadata": {
    "execution": {
     "iopub.execute_input": "2022-09-29T09:25:19.897728Z",
     "iopub.status.busy": "2022-09-29T09:25:19.897050Z",
     "iopub.status.idle": "2022-09-29T09:25:37.423713Z",
     "shell.execute_reply": "2022-09-29T09:25:37.422541Z"
    },
    "papermill": {
     "duration": 17.550418,
     "end_time": "2022-09-29T09:25:37.426424",
     "exception": false,
     "start_time": "2022-09-29T09:25:19.876006",
     "status": "completed"
    },
    "tags": []
   },
   "outputs": [
    {
     "data": {
      "image/png": "[encoded data removed]",
      "text/plain": [
       "<Figure size 432x288 with 1 Axes>"
      ]
     },
     "metadata": {
      "needs_background": "light"
     },
     "output_type": "display_data"
    }
   ],
   "source": [
    "ax = sns.barplot(x=\"Assortment\", y=\"Sales\", data=df_new,estimator=np.size)"
   ]
  },
  {
   "cell_type": "code",
   "execution_count": 26,
   "id": "e6921128",
   "metadata": {
    "execution": {
     "iopub.execute_input": "2022-09-29T09:25:37.467797Z",
     "iopub.status.busy": "2022-09-29T09:25:37.467359Z",
     "iopub.status.idle": "2022-09-29T09:25:53.428020Z",
     "shell.execute_reply": "2022-09-29T09:25:53.426842Z"
    },
    "papermill": {
     "duration": 15.984791,
     "end_time": "2022-09-29T09:25:53.430935",
     "exception": false,
     "start_time": "2022-09-29T09:25:37.446144",
     "status": "completed"
    },
    "tags": []
   },
   "outputs": [
    {
     "data": {
      "image/png": "[encoded data removed]",
      "text/plain": [
       "<Figure size 432x288 with 1 Axes>"
      ]
     },
     "metadata": {
      "needs_background": "light"
     },
     "output_type": "display_data"
    }
   ],
   "source": [
    "ax = sns.barplot(x=\"StoreType\", y=\"Sales\", data=df_new,estimator=np.size)"
   ]
  },
  {
   "cell_type": "markdown",
   "id": "0875adbb",
   "metadata": {
    "papermill": {
     "duration": 0.019552,
     "end_time": "2022-09-29T09:25:53.470696",
     "exception": false,
     "start_time": "2022-09-29T09:25:53.451144",
     "status": "completed"
    },
    "tags": []
   },
   "source": [
    "**Data Engineering**\n",
    "\n",
    "* #Define a variable for each type of feature"
   ]
  },
  {
   "cell_type": "code",
   "execution_count": 27,
   "id": "63bd1330",
   "metadata": {
    "execution": {
     "iopub.execute_input": "2022-09-29T09:25:53.512432Z",
     "iopub.status.busy": "2022-09-29T09:25:53.511749Z",
     "iopub.status.idle": "2022-09-29T09:25:53.653667Z",
     "shell.execute_reply": "2022-09-29T09:25:53.652653Z"
    },
    "papermill": {
     "duration": 0.165968,
     "end_time": "2022-09-29T09:25:53.656537",
     "exception": false,
     "start_time": "2022-09-29T09:25:53.490569",
     "status": "completed"
    },
    "tags": []
   },
   "outputs": [],
   "source": [
    "from sklearn.preprocessing import LabelEncoder\n",
    "from sklearn.preprocessing import OneHotEncoder\n"
   ]
  },
  {
   "cell_type": "code",
   "execution_count": 28,
   "id": "b099e00c",
   "metadata": {
    "execution": {
     "iopub.execute_input": "2022-09-29T09:25:53.698539Z",
     "iopub.status.busy": "2022-09-29T09:25:53.697613Z",
     "iopub.status.idle": "2022-09-29T09:25:53.702754Z",
     "shell.execute_reply": "2022-09-29T09:25:53.701740Z"
    },
    "papermill": {
     "duration": 0.028513,
     "end_time": "2022-09-29T09:25:53.705064",
     "exception": false,
     "start_time": "2022-09-29T09:25:53.676551",
     "status": "completed"
    },
    "tags": []
   },
   "outputs": [],
   "source": [
    "target = [\"Sales\"]"
   ]
  },
  {
   "cell_type": "code",
   "execution_count": 29,
   "id": "72e68d32",
   "metadata": {
    "execution": {
     "iopub.execute_input": "2022-09-29T09:25:53.746877Z",
     "iopub.status.busy": "2022-09-29T09:25:53.746482Z",
     "iopub.status.idle": "2022-09-29T09:25:53.751947Z",
     "shell.execute_reply": "2022-09-29T09:25:53.750857Z"
    },
    "papermill": {
     "duration": 0.02913,
     "end_time": "2022-09-29T09:25:53.754149",
     "exception": false,
     "start_time": "2022-09-29T09:25:53.725019",
     "status": "completed"
    },
    "tags": []
   },
   "outputs": [],
   "source": [
    "numeric_columns = [\"Customers\",\"Open\",\"Promo\",\"Promo2\",\"StateHoliday\",\"SchoolHoliday\",\n",
    "                   \"CompetitionDistance\"]\n",
    "categorical_columns = [\"DayOfWeek\",\"Quarter\",\"Month\",\"Year\",\n",
    "                       \"StoreType\",\"Assortment\",\"Season\"]\n"
   ]
  },
  {
   "cell_type": "code",
   "execution_count": 30,
   "id": "e2b7dc23",
   "metadata": {
    "execution": {
     "iopub.execute_input": "2022-09-29T09:25:53.796119Z",
     "iopub.status.busy": "2022-09-29T09:25:53.795696Z",
     "iopub.status.idle": "2022-09-29T09:25:53.802035Z",
     "shell.execute_reply": "2022-09-29T09:25:53.800884Z"
    },
    "papermill": {
     "duration": 0.030025,
     "end_time": "2022-09-29T09:25:53.804343",
     "exception": false,
     "start_time": "2022-09-29T09:25:53.774318",
     "status": "completed"
    },
    "tags": []
   },
   "outputs": [],
   "source": [
    "#Define a function that will intake the raw dataframe\n",
    "def create_ohe(df, col):\n",
    "    le = LabelEncoder()\n",
    "    a=le.fit_transform(df_new[col]).reshape(-1,1)\n",
    "    ohe = OneHotEncoder(sparse=False)\n",
    "    column_names = [col+ \"_\"+ str(i) for i in le.classes_]\n",
    "    return(pd.DataFrame(ohe.fit_transform(a),columns =column_names))"
   ]
  },
  {
   "cell_type": "code",
   "execution_count": 31,
   "id": "36375261",
   "metadata": {
    "execution": {
     "iopub.execute_input": "2022-09-29T09:25:53.845585Z",
     "iopub.status.busy": "2022-09-29T09:25:53.845174Z",
     "iopub.status.idle": "2022-09-29T09:25:56.428518Z",
     "shell.execute_reply": "2022-09-29T09:25:56.427252Z"
    },
    "papermill": {
     "duration": 2.607125,
     "end_time": "2022-09-29T09:25:56.431357",
     "exception": false,
     "start_time": "2022-09-29T09:25:53.824232",
     "status": "completed"
    },
    "tags": []
   },
   "outputs": [],
   "source": [
    "#Since the above function converts the column, one at a time\n",
    "#We create a loop to create the final dataset with all features\n",
    "temp = df_new[numeric_columns]\n",
    "for column in categorical_columns:\n",
    "    temp_df = create_ohe(df_new,column)\n",
    "    temp = pd.concat([temp,temp_df],axis=1)"
   ]
  },
  {
   "cell_type": "code",
   "execution_count": 32,
   "id": "3fe04f7d",
   "metadata": {
    "execution": {
     "iopub.execute_input": "2022-09-29T09:25:56.475909Z",
     "iopub.status.busy": "2022-09-29T09:25:56.475359Z",
     "iopub.status.idle": "2022-09-29T09:25:56.482356Z",
     "shell.execute_reply": "2022-09-29T09:25:56.481005Z"
    },
    "papermill": {
     "duration": 0.032301,
     "end_time": "2022-09-29T09:25:56.484971",
     "exception": false,
     "start_time": "2022-09-29T09:25:56.452670",
     "status": "completed"
    },
    "tags": []
   },
   "outputs": [
    {
     "name": "stdout",
     "output_type": "stream",
     "text": [
      "Shape of Data: (1017209, 44)\n",
      "Distinct Datatypes: [dtype('int64') dtype('O') dtype('float64')]\n"
     ]
    }
   ],
   "source": [
    "print(\"Shape of Data:\",temp.shape)\n",
    "print(\"Distinct Datatypes:\",temp.dtypes.unique())"
   ]
  },
  {
   "cell_type": "code",
   "execution_count": 33,
   "id": "fe08c170",
   "metadata": {
    "execution": {
     "iopub.execute_input": "2022-09-29T09:25:56.527306Z",
     "iopub.status.busy": "2022-09-29T09:25:56.526889Z",
     "iopub.status.idle": "2022-09-29T09:25:56.533994Z",
     "shell.execute_reply": "2022-09-29T09:25:56.532554Z"
    },
    "papermill": {
     "duration": 0.031136,
     "end_time": "2022-09-29T09:25:56.536440",
     "exception": false,
     "start_time": "2022-09-29T09:25:56.505304",
     "status": "completed"
    },
    "tags": []
   },
   "outputs": [
    {
     "name": "stdout",
     "output_type": "stream",
     "text": [
      "Index(['StateHoliday'], dtype='object')\n"
     ]
    }
   ],
   "source": [
    "print(temp.columns[temp.dtypes==\"object\"])"
   ]
  },
  {
   "cell_type": "code",
   "execution_count": 34,
   "id": "1db9f6d2",
   "metadata": {
    "execution": {
     "iopub.execute_input": "2022-09-29T09:25:56.578218Z",
     "iopub.status.busy": "2022-09-29T09:25:56.577800Z",
     "iopub.status.idle": "2022-09-29T09:25:56.604169Z",
     "shell.execute_reply": "2022-09-29T09:25:56.602981Z"
    },
    "papermill": {
     "duration": 0.050034,
     "end_time": "2022-09-29T09:25:56.606623",
     "exception": false,
     "start_time": "2022-09-29T09:25:56.556589",
     "status": "completed"
    },
    "tags": []
   },
   "outputs": [
    {
     "data": {
      "text/plain": [
       "array(['0', 'a', 'b', 'c', 0], dtype=object)"
      ]
     },
     "execution_count": 34,
     "metadata": {},
     "output_type": "execute_result"
    }
   ],
   "source": [
    "temp[\"StateHoliday\"].unique()"
   ]
  },
  {
   "cell_type": "code",
   "execution_count": 35,
   "id": "c9fe6eb9",
   "metadata": {
    "execution": {
     "iopub.execute_input": "2022-09-29T09:25:56.649226Z",
     "iopub.status.busy": "2022-09-29T09:25:56.648774Z",
     "iopub.status.idle": "2022-09-29T09:25:56.722232Z",
     "shell.execute_reply": "2022-09-29T09:25:56.721002Z"
    },
    "papermill": {
     "duration": 0.09775,
     "end_time": "2022-09-29T09:25:56.725010",
     "exception": false,
     "start_time": "2022-09-29T09:25:56.627260",
     "status": "completed"
    },
    "tags": []
   },
   "outputs": [
    {
     "data": {
      "text/plain": [
       "array([dtype('int64'), dtype('float64')], dtype=object)"
      ]
     },
     "execution_count": 35,
     "metadata": {},
     "output_type": "execute_result"
    }
   ],
   "source": [
    "temp[\"StateHoliday\"]= np.where(temp[\"StateHoliday\"]== '0',0,1)\n",
    "#One last check of the data type\n",
    "temp.dtypes.unique()"
   ]
  },
  {
   "cell_type": "markdown",
   "id": "78837626",
   "metadata": {
    "papermill": {
     "duration": 0.019615,
     "end_time": "2022-09-29T09:25:56.764845",
     "exception": false,
     "start_time": "2022-09-29T09:25:56.745230",
     "status": "completed"
    },
    "tags": []
   },
   "source": [
    "**Train-Test-Split**"
   ]
  },
  {
   "cell_type": "code",
   "execution_count": 36,
   "id": "02c082c5",
   "metadata": {
    "execution": {
     "iopub.execute_input": "2022-09-29T09:25:56.807410Z",
     "iopub.status.busy": "2022-09-29T09:25:56.807011Z",
     "iopub.status.idle": "2022-09-29T09:25:56.871925Z",
     "shell.execute_reply": "2022-09-29T09:25:56.870958Z"
    },
    "papermill": {
     "duration": 0.089509,
     "end_time": "2022-09-29T09:25:56.874736",
     "exception": false,
     "start_time": "2022-09-29T09:25:56.785227",
     "status": "completed"
    },
    "tags": []
   },
   "outputs": [],
   "source": [
    "from sklearn.model_selection import train_test_split\n"
   ]
  },
  {
   "cell_type": "code",
   "execution_count": 37,
   "id": "47f7c97d",
   "metadata": {
    "execution": {
     "iopub.execute_input": "2022-09-29T09:25:56.917972Z",
     "iopub.status.busy": "2022-09-29T09:25:56.917525Z",
     "iopub.status.idle": "2022-09-29T09:25:57.824800Z",
     "shell.execute_reply": "2022-09-29T09:25:57.823707Z"
    },
    "papermill": {
     "duration": 0.931827,
     "end_time": "2022-09-29T09:25:57.827438",
     "exception": false,
     "start_time": "2022-09-29T09:25:56.895611",
     "status": "completed"
    },
    "tags": []
   },
   "outputs": [],
   "source": [
    "x_train, x_test, y_train, y_test = train_test_split(temp,df_new[target],test_size=0.2,random_state=2018)"
   ]
  },
  {
   "cell_type": "code",
   "execution_count": 38,
   "id": "22d8055c",
   "metadata": {
    "execution": {
     "iopub.execute_input": "2022-09-29T09:25:57.870189Z",
     "iopub.status.busy": "2022-09-29T09:25:57.869747Z",
     "iopub.status.idle": "2022-09-29T09:25:58.300142Z",
     "shell.execute_reply": "2022-09-29T09:25:58.298858Z"
    },
    "papermill": {
     "duration": 0.454926,
     "end_time": "2022-09-29T09:25:58.302901",
     "exception": false,
     "start_time": "2022-09-29T09:25:57.847975",
     "status": "completed"
    },
    "tags": []
   },
   "outputs": [],
   "source": [
    "#Further divide training dataset into train and validation dataset with an 90:10 split\n",
    "x_train, x_val, y_train, y_val = train_test_split(x_train, y_train,test_size=0.1,random_state=2018)"
   ]
  },
  {
   "cell_type": "code",
   "execution_count": 39,
   "id": "df71c8dc",
   "metadata": {
    "execution": {
     "iopub.execute_input": "2022-09-29T09:25:58.346319Z",
     "iopub.status.busy": "2022-09-29T09:25:58.345937Z",
     "iopub.status.idle": "2022-09-29T09:25:58.352617Z",
     "shell.execute_reply": "2022-09-29T09:25:58.351447Z"
    },
    "papermill": {
     "duration": 0.031339,
     "end_time": "2022-09-29T09:25:58.355415",
     "exception": false,
     "start_time": "2022-09-29T09:25:58.324076",
     "status": "completed"
    },
    "tags": []
   },
   "outputs": [
    {
     "name": "stdout",
     "output_type": "stream",
     "text": [
      "Shape of x_train: (732390, 44)\n",
      "Shape of x_val: (81377, 44)\n",
      "Shape of x_test: (203442, 44)\n",
      "Shape of y_train: (732390, 1)\n",
      "Shape of y_val: (81377, 1)\n",
      "Shape of y_test: (203442, 1)\n"
     ]
    }
   ],
   "source": [
    "#Check the sizes of all newly created datasets\n",
    "print(\"Shape of x_train:\",x_train.shape)\n",
    "print(\"Shape of x_val:\",x_val.shape)\n",
    "print(\"Shape of x_test:\",x_test.shape)\n",
    "print(\"Shape of y_train:\",y_train.shape)\n",
    "print(\"Shape of y_val:\",y_val.shape)\n",
    "print(\"Shape of y_test:\",y_test.shape)"
   ]
  },
  {
   "cell_type": "markdown",
   "id": "d2201eae",
   "metadata": {
    "papermill": {
     "duration": 0.019915,
     "end_time": "2022-09-29T09:25:58.395862",
     "exception": false,
     "start_time": "2022-09-29T09:25:58.375947",
     "status": "completed"
    },
    "tags": []
   },
   "source": [
    "**Defining Model Baseline Performance**"
   ]
  },
  {
   "cell_type": "code",
   "execution_count": 40,
   "id": "e612b423",
   "metadata": {
    "execution": {
     "iopub.execute_input": "2022-09-29T09:25:58.438452Z",
     "iopub.status.busy": "2022-09-29T09:25:58.438076Z",
     "iopub.status.idle": "2022-09-29T09:25:58.446622Z",
     "shell.execute_reply": "2022-09-29T09:25:58.445409Z"
    },
    "papermill": {
     "duration": 0.033197,
     "end_time": "2022-09-29T09:25:58.449581",
     "exception": false,
     "start_time": "2022-09-29T09:25:58.416384",
     "status": "completed"
    },
    "tags": []
   },
   "outputs": [
    {
     "name": "stdout",
     "output_type": "stream",
     "text": [
      "Average Sales : Sales    5773.099997\n",
      "dtype: float64\n"
     ]
    }
   ],
   "source": [
    "#calculate the average score of the train dataset\n",
    "mean_sales = y_train.mean()\n",
    "print(\"Average Sales :\",mean_sales)"
   ]
  },
  {
   "cell_type": "code",
   "execution_count": 41,
   "id": "63b2bf98",
   "metadata": {
    "execution": {
     "iopub.execute_input": "2022-09-29T09:25:58.493462Z",
     "iopub.status.busy": "2022-09-29T09:25:58.493086Z",
     "iopub.status.idle": "2022-09-29T09:25:58.503068Z",
     "shell.execute_reply": "2022-09-29T09:25:58.501092Z"
    },
    "papermill": {
     "duration": 0.03485,
     "end_time": "2022-09-29T09:25:58.505535",
     "exception": false,
     "start_time": "2022-09-29T09:25:58.470685",
     "status": "completed"
    },
    "tags": []
   },
   "outputs": [
    {
     "name": "stdout",
     "output_type": "stream",
     "text": [
      "MAE for Test Data: 2883.587604303127\n"
     ]
    }
   ],
   "source": [
    "#Calculate the Mean Absolute Error on the test dataset\n",
    "print(\"MAE for Test Data:\",abs(y_test - mean_sales).mean()[0])"
   ]
  },
  {
   "cell_type": "markdown",
   "id": "01b70ee3",
   "metadata": {
    "papermill": {
     "duration": 0.019718,
     "end_time": "2022-09-29T09:25:58.546051",
     "exception": false,
     "start_time": "2022-09-29T09:25:58.526333",
     "status": "completed"
    },
    "tags": []
   },
   "source": [
    "**Designing the DNN**\n",
    "*  Start with small architectures.\n",
    "*  When small architectures (with two layers) fail, increase the size.\n",
    "* When larger networks with two layers fail, go deeper.\n",
    "*  When larger and deeper networks also fail, go even larger and even deeper.\n",
    "* When everything fails, revisit the data"
   ]
  },
  {
   "cell_type": "markdown",
   "id": "ca59f58b",
   "metadata": {
    "papermill": {
     "duration": 0.01983,
     "end_time": "2022-09-29T09:25:58.586458",
     "exception": false,
     "start_time": "2022-09-29T09:25:58.566628",
     "status": "completed"
    },
    "tags": []
   },
   "source": [
    "**Create Deep Neural Network Architecture**"
   ]
  },
  {
   "cell_type": "code",
   "execution_count": 42,
   "id": "c40da4ad",
   "metadata": {
    "execution": {
     "iopub.execute_input": "2022-09-29T09:25:58.629260Z",
     "iopub.status.busy": "2022-09-29T09:25:58.628852Z",
     "iopub.status.idle": "2022-09-29T09:26:05.308639Z",
     "shell.execute_reply": "2022-09-29T09:26:05.307324Z"
    },
    "papermill": {
     "duration": 6.704783,
     "end_time": "2022-09-29T09:26:05.311894",
     "exception": false,
     "start_time": "2022-09-29T09:25:58.607111",
     "status": "completed"
    },
    "tags": []
   },
   "outputs": [],
   "source": [
    "from keras.models import Sequential\n",
    "from keras.layers import Dense, Dropout"
   ]
  },
  {
   "cell_type": "code",
   "execution_count": 43,
   "id": "a9457a7d",
   "metadata": {
    "execution": {
     "iopub.execute_input": "2022-09-29T09:26:05.355563Z",
     "iopub.status.busy": "2022-09-29T09:26:05.354827Z",
     "iopub.status.idle": "2022-09-29T09:26:05.482438Z",
     "shell.execute_reply": "2022-09-29T09:26:05.481002Z"
    },
    "papermill": {
     "duration": 0.153511,
     "end_time": "2022-09-29T09:26:05.486038",
     "exception": false,
     "start_time": "2022-09-29T09:26:05.332527",
     "status": "completed"
    },
    "tags": []
   },
   "outputs": [
    {
     "name": "stderr",
     "output_type": "stream",
     "text": [
      "2022-09-29 09:26:05.395435: I tensorflow/core/common_runtime/process_util.cc:146] Creating new thread pool with default inter op setting: 2. Tune using inter_op_parallelism_threads for best performance.\n"
     ]
    }
   ],
   "source": [
    "model = Sequential()\n",
    "model.add(Dense(150,input_dim = 44,activation=\"relu\"))\n",
    "#The input_dim =44, since the width of the training data=44 (refer data engg section)\n",
    "model.add(Dense(1,activation = \"linear\"))\n"
   ]
  },
  {
   "cell_type": "code",
   "execution_count": 44,
   "id": "e873bb19",
   "metadata": {
    "execution": {
     "iopub.execute_input": "2022-09-29T09:26:05.530240Z",
     "iopub.status.busy": "2022-09-29T09:26:05.529864Z",
     "iopub.status.idle": "2022-09-29T09:26:05.544268Z",
     "shell.execute_reply": "2022-09-29T09:26:05.543226Z"
    },
    "papermill": {
     "duration": 0.039009,
     "end_time": "2022-09-29T09:26:05.546625",
     "exception": false,
     "start_time": "2022-09-29T09:26:05.507616",
     "status": "completed"
    },
    "tags": []
   },
   "outputs": [],
   "source": [
    "#Configure the model\n",
    "model.compile(optimizer='adam',loss=\"mean_absolute_error\", metrics=[\"mean_absolute_error\"])"
   ]
  },
  {
   "cell_type": "code",
   "execution_count": 45,
   "id": "236211f9",
   "metadata": {
    "execution": {
     "iopub.execute_input": "2022-09-29T09:26:05.590152Z",
     "iopub.status.busy": "2022-09-29T09:26:05.588885Z",
     "iopub.status.idle": "2022-09-29T09:29:33.820102Z",
     "shell.execute_reply": "2022-09-29T09:29:33.818713Z"
    },
    "papermill": {
     "duration": 208.255749,
     "end_time": "2022-09-29T09:29:33.822819",
     "exception": false,
     "start_time": "2022-09-29T09:26:05.567070",
     "status": "completed"
    },
    "tags": []
   },
   "outputs": [
    {
     "name": "stderr",
     "output_type": "stream",
     "text": [
      "2022-09-29 09:26:06.098194: I tensorflow/compiler/mlir/mlir_graph_optimization_pass.cc:185] None of the MLIR Optimization Passes are enabled (registered 2)\n"
     ]
    },
    {
     "name": "stdout",
     "output_type": "stream",
     "text": [
      "Epoch 1/10\n",
      "11444/11444 [==============================] - 21s 2ms/step - loss: 949.4141 - mean_absolute_error: 949.4141 - val_loss: 821.8738 - val_mean_absolute_error: 821.8738\n",
      "Epoch 2/10\n",
      "11444/11444 [==============================] - 21s 2ms/step - loss: 781.4952 - mean_absolute_error: 781.4952 - val_loss: 751.3886 - val_mean_absolute_error: 751.3886\n",
      "Epoch 3/10\n",
      "11444/11444 [==============================] - 20s 2ms/step - loss: 741.0007 - mean_absolute_error: 741.0007 - val_loss: 735.3550 - val_mean_absolute_error: 735.3550\n",
      "Epoch 4/10\n",
      "11444/11444 [==============================] - 20s 2ms/step - loss: 725.2391 - mean_absolute_error: 725.2391 - val_loss: 712.0281 - val_mean_absolute_error: 712.0281\n",
      "Epoch 5/10\n",
      "11444/11444 [==============================] - 22s 2ms/step - loss: 713.5037 - mean_absolute_error: 713.5037 - val_loss: 745.5887 - val_mean_absolute_error: 745.5887\n",
      "Epoch 6/10\n",
      "11444/11444 [==============================] - 21s 2ms/step - loss: 706.9674 - mean_absolute_error: 706.9674 - val_loss: 706.4247 - val_mean_absolute_error: 706.4247\n",
      "Epoch 7/10\n",
      "11444/11444 [==============================] - 21s 2ms/step - loss: 700.9819 - mean_absolute_error: 700.9819 - val_loss: 693.4778 - val_mean_absolute_error: 693.4778\n",
      "Epoch 8/10\n",
      "11444/11444 [==============================] - 21s 2ms/step - loss: 696.8656 - mean_absolute_error: 696.8656 - val_loss: 693.7095 - val_mean_absolute_error: 693.7095\n",
      "Epoch 9/10\n",
      "11444/11444 [==============================] - 21s 2ms/step - loss: 691.8649 - mean_absolute_error: 691.8649 - val_loss: 690.8162 - val_mean_absolute_error: 690.8162\n",
      "Epoch 10/10\n",
      "11444/11444 [==============================] - 21s 2ms/step - loss: 689.1489 - mean_absolute_error: 689.1489 - val_loss: 691.3944 - val_mean_absolute_error: 691.3944\n"
     ]
    },
    {
     "data": {
      "text/plain": [
       "<keras.callbacks.History at 0x7f5f73ff4c10>"
      ]
     },
     "execution_count": 45,
     "metadata": {},
     "output_type": "execute_result"
    }
   ],
   "source": [
    "#Train the model\n",
    "model.fit(x_train.values,y_train.values, validation_data=(x_val,y_val),epochs=10,batch_size=64)"
   ]
  },
  {
   "cell_type": "markdown",
   "id": "47d05790",
   "metadata": {
    "papermill": {
     "duration": 0.263629,
     "end_time": "2022-09-29T09:29:34.353473",
     "exception": false,
     "start_time": "2022-09-29T09:29:34.089844",
     "status": "completed"
    },
    "tags": []
   },
   "source": [
    "**Testing the Model Performance**"
   ]
  },
  {
   "cell_type": "code",
   "execution_count": 46,
   "id": "1d881917",
   "metadata": {
    "execution": {
     "iopub.execute_input": "2022-09-29T09:29:34.875382Z",
     "iopub.status.busy": "2022-09-29T09:29:34.874754Z",
     "iopub.status.idle": "2022-09-29T09:29:45.024175Z",
     "shell.execute_reply": "2022-09-29T09:29:45.022386Z"
    },
    "papermill": {
     "duration": 10.414271,
     "end_time": "2022-09-29T09:29:45.026570",
     "exception": false,
     "start_time": "2022-09-29T09:29:34.612299",
     "status": "completed"
    },
    "tags": []
   },
   "outputs": [
    {
     "name": "stdout",
     "output_type": "stream",
     "text": [
      "6358/6358 [==============================] - 10s 2ms/step - loss: 688.2950 - mean_absolute_error: 688.2950\n",
      "Metric  loss : 688.29\n",
      "Metric  mean_absolute_error : 688.29\n"
     ]
    }
   ],
   "source": [
    "#Use the model's evaluate method to predict and evaluate the test datasets\n",
    "result = model.evaluate(x_test.values,y_test.values)\n",
    "\n",
    "#Print the results\n",
    "for i in range(len(model.metrics_names)):\n",
    "    print(\"Metric \",model.metrics_names[i],\":\",str(round(result[i],2)))"
   ]
  },
  {
   "cell_type": "markdown",
   "id": "2e3f2fda",
   "metadata": {
    "papermill": {
     "duration": 0.269517,
     "end_time": "2022-09-29T09:29:45.572108",
     "exception": false,
     "start_time": "2022-09-29T09:29:45.302591",
     "status": "completed"
    },
    "tags": []
   },
   "source": [
    "**Improving the Model**\n",
    "* In the following network, we have added two more layers with similar numbers of neurons\n",
    "* We will update our loss function to mean squared error instead of MAE"
   ]
  },
  {
   "cell_type": "code",
   "execution_count": 47,
   "id": "b03c7591",
   "metadata": {
    "execution": {
     "iopub.execute_input": "2022-09-29T09:29:46.127611Z",
     "iopub.status.busy": "2022-09-29T09:29:46.126880Z",
     "iopub.status.idle": "2022-09-29T09:36:15.414382Z",
     "shell.execute_reply": "2022-09-29T09:36:15.412455Z"
    },
    "papermill": {
     "duration": 389.574452,
     "end_time": "2022-09-29T09:36:15.417648",
     "exception": false,
     "start_time": "2022-09-29T09:29:45.843196",
     "status": "completed"
    },
    "tags": []
   },
   "outputs": [
    {
     "name": "stdout",
     "output_type": "stream",
     "text": [
      "Epoch 1/10\n",
      "11444/11444 [==============================] - 43s 4ms/step - loss: 1718797.7500 - mean_absolute_error: 849.7004 - val_loss: 1116462.7500 - val_mean_absolute_error: 722.0202\n",
      "Epoch 2/10\n",
      "11444/11444 [==============================] - 39s 3ms/step - loss: 1158631.5000 - mean_absolute_error: 722.2584 - val_loss: 1069183.0000 - val_mean_absolute_error: 698.7987\n",
      "Epoch 3/10\n",
      "11444/11444 [==============================] - 40s 3ms/step - loss: 1086117.5000 - mean_absolute_error: 698.7021 - val_loss: 1027069.3750 - val_mean_absolute_error: 681.3471\n",
      "Epoch 4/10\n",
      "11444/11444 [==============================] - 39s 3ms/step - loss: 1052315.6250 - mean_absolute_error: 688.0210 - val_loss: 980079.7500 - val_mean_absolute_error: 670.1331\n",
      "Epoch 5/10\n",
      "11444/11444 [==============================] - 39s 3ms/step - loss: 1026101.9375 - mean_absolute_error: 680.4962 - val_loss: 1010591.2500 - val_mean_absolute_error: 691.0016\n",
      "Epoch 6/10\n",
      "11444/11444 [==============================] - 38s 3ms/step - loss: 998160.7500 - mean_absolute_error: 672.2117 - val_loss: 1005428.6875 - val_mean_absolute_error: 672.1208\n",
      "Epoch 7/10\n",
      "11444/11444 [==============================] - 38s 3ms/step - loss: 979986.5625 - mean_absolute_error: 667.2786 - val_loss: 1017602.8750 - val_mean_absolute_error: 694.5658\n",
      "Epoch 8/10\n",
      "11444/11444 [==============================] - 37s 3ms/step - loss: 956806.5625 - mean_absolute_error: 660.3503 - val_loss: 907890.8750 - val_mean_absolute_error: 645.9006\n",
      "Epoch 9/10\n",
      "11444/11444 [==============================] - 37s 3ms/step - loss: 943584.8750 - mean_absolute_error: 655.6144 - val_loss: 888290.7500 - val_mean_absolute_error: 643.4257\n",
      "Epoch 10/10\n",
      "11444/11444 [==============================] - 38s 3ms/step - loss: 916431.3125 - mean_absolute_error: 646.8156 - val_loss: 1092119.1250 - val_mean_absolute_error: 700.4053\n",
      "Metric  loss : 688.29\n",
      "Metric  mean_absolute_error : 688.29\n"
     ]
    }
   ],
   "source": [
    "model = Sequential()\n",
    "model.add(Dense(150,input_dim = 44,activation=\"relu\"))\n",
    "model.add(Dense(150,activation=\"relu\"))\n",
    "model.add(Dense(150,activation=\"relu\"))\n",
    "model.add(Dense(1,activation = \"linear\"))\n",
    "model.compile(optimizer='adam',loss=\"mean_squared_error\",metrics=[\"mean_absolute_error\"])\n",
    "history = model.fit(x_train,y_train, validation_data=(x_val,\n",
    "y_val),epochs=10,batch_size=64)\n",
    "#result = model.evaluate(x_test,y_test)\n",
    "for i in range(len(model.metrics_names)):\n",
    "    print(\"Metric \",model.metrics_names[i],\":\",str(round(result[i],2)))"
   ]
  },
  {
   "cell_type": "code",
   "execution_count": 48,
   "id": "5641404f",
   "metadata": {
    "execution": {
     "iopub.execute_input": "2022-09-29T09:36:16.983005Z",
     "iopub.status.busy": "2022-09-29T09:36:16.982161Z",
     "iopub.status.idle": "2022-09-29T09:49:36.513441Z",
     "shell.execute_reply": "2022-09-29T09:49:36.511710Z"
    },
    "papermill": {
     "duration": 800.344133,
     "end_time": "2022-09-29T09:49:36.516562",
     "exception": false,
     "start_time": "2022-09-29T09:36:16.172429",
     "status": "completed"
    },
    "tags": []
   },
   "outputs": [
    {
     "name": "stdout",
     "output_type": "stream",
     "text": [
      "Epoch 1/15\n",
      "11444/11444 [==============================] - 55s 5ms/step - loss: 1690155.5000 - mean_absolute_error: 848.0298 - val_loss: 1105953.5000 - val_mean_absolute_error: 705.4253\n",
      "Epoch 2/15\n",
      "11444/11444 [==============================] - 52s 5ms/step - loss: 1156470.6250 - mean_absolute_error: 720.6958 - val_loss: 1019149.0625 - val_mean_absolute_error: 682.0356\n",
      "Epoch 3/15\n",
      "11444/11444 [==============================] - 49s 4ms/step - loss: 1097137.2500 - mean_absolute_error: 701.4722 - val_loss: 1435905.7500 - val_mean_absolute_error: 832.8124\n",
      "Epoch 4/15\n",
      "11444/11444 [==============================] - 49s 4ms/step - loss: 1064729.3750 - mean_absolute_error: 691.0792 - val_loss: 1125021.8750 - val_mean_absolute_error: 705.0380\n",
      "Epoch 5/15\n",
      "11444/11444 [==============================] - 51s 4ms/step - loss: 1035048.3125 - mean_absolute_error: 681.4214 - val_loss: 940086.0625 - val_mean_absolute_error: 657.8316\n",
      "Epoch 6/15\n",
      "11444/11444 [==============================] - 52s 5ms/step - loss: 1005884.9375 - mean_absolute_error: 673.7734 - val_loss: 940381.3125 - val_mean_absolute_error: 659.1203\n",
      "Epoch 7/15\n",
      "11444/11444 [==============================] - 55s 5ms/step - loss: 985561.8750 - mean_absolute_error: 667.5081 - val_loss: 1006320.1875 - val_mean_absolute_error: 670.5106\n",
      "Epoch 8/15\n",
      "11444/11444 [==============================] - 52s 5ms/step - loss: 961448.8750 - mean_absolute_error: 659.8865 - val_loss: 904071.9375 - val_mean_absolute_error: 642.6971\n",
      "Epoch 9/15\n",
      "11444/11444 [==============================] - 53s 5ms/step - loss: 937091.5000 - mean_absolute_error: 651.9775 - val_loss: 916635.9375 - val_mean_absolute_error: 644.2465\n",
      "Epoch 10/15\n",
      "11444/11444 [==============================] - 52s 5ms/step - loss: 920103.1875 - mean_absolute_error: 645.9754 - val_loss: 909624.8750 - val_mean_absolute_error: 651.8869\n",
      "Epoch 11/15\n",
      "11444/11444 [==============================] - 52s 5ms/step - loss: 902660.1875 - mean_absolute_error: 639.6730 - val_loss: 858184.0000 - val_mean_absolute_error: 629.8488\n",
      "Epoch 12/15\n",
      "11444/11444 [==============================] - 51s 4ms/step - loss: 892717.3750 - mean_absolute_error: 635.7640 - val_loss: 903252.6250 - val_mean_absolute_error: 652.9757\n",
      "Epoch 13/15\n",
      "11444/11444 [==============================] - 54s 5ms/step - loss: 881697.0000 - mean_absolute_error: 631.4122 - val_loss: 902056.6250 - val_mean_absolute_error: 637.0397\n",
      "Epoch 14/15\n",
      "11444/11444 [==============================] - 55s 5ms/step - loss: 868179.0000 - mean_absolute_error: 626.3237 - val_loss: 842336.8750 - val_mean_absolute_error: 620.6385\n",
      "Epoch 15/15\n",
      "11444/11444 [==============================] - 54s 5ms/step - loss: 857151.0625 - mean_absolute_error: 622.0647 - val_loss: 822302.3125 - val_mean_absolute_error: 608.9702\n",
      "6358/6358 [==============================] - 13s 2ms/step - loss: 825104.8125 - mean_absolute_error: 605.7222\n",
      "Metric  loss : 825104.81\n",
      "Metric  mean_absolute_error : 605.72\n"
     ]
    }
   ],
   "source": [
    "model = Sequential()\n",
    "model.add(Dense(150,input_dim = 44,activation=\"relu\"))\n",
    "model.add(Dense(150,activation=\"relu\"))\n",
    "model.add(Dense(150,activation=\"relu\"))\n",
    "model.add(Dense(150,activation=\"relu\"))\n",
    "model.add(Dense(150,activation=\"relu\"))\n",
    "model.add(Dense(1,activation = \"linear\"))\n",
    "model.compile(optimizer='adam',loss=\"mean_squared_error\",metrics=[\"mean_absolute_error\"])\n",
    "model.fit(x_train,y_train, validation_data=(x_val,y_val),\n",
    "epochs=15,batch_size=64)\n",
    "result = model.evaluate(x_test,y_test)\n",
    "for i in range(len(model.metrics_names)):\n",
    "    print(\"Metric \",model.metrics_names[i],\":\",str(round(result[i],2)))"
   ]
  },
  {
   "cell_type": "markdown",
   "id": "b18e6a92",
   "metadata": {
    "papermill": {
     "duration": 1.7528,
     "end_time": "2022-09-29T09:49:39.982969",
     "exception": false,
     "start_time": "2022-09-29T09:49:38.230169",
     "status": "completed"
    },
    "tags": []
   },
   "source": [
    "**Increasing the Number of Neurons**\n",
    "* two hidden layers having 350 neurons each and uses a model configuration"
   ]
  },
  {
   "cell_type": "code",
   "execution_count": 49,
   "id": "049af7cc",
   "metadata": {
    "execution": {
     "iopub.execute_input": "2022-09-29T09:49:43.467198Z",
     "iopub.status.busy": "2022-09-29T09:49:43.466774Z",
     "iopub.status.idle": "2022-09-29T09:59:10.145776Z",
     "shell.execute_reply": "2022-09-29T09:59:10.144419Z"
    },
    "papermill": {
     "duration": 568.350609,
     "end_time": "2022-09-29T09:59:10.148048",
     "exception": false,
     "start_time": "2022-09-29T09:49:41.797439",
     "status": "completed"
    },
    "tags": []
   },
   "outputs": [
    {
     "name": "stdout",
     "output_type": "stream",
     "text": [
      "Epoch 1/15\n",
      "11444/11444 [==============================] - 38s 3ms/step - loss: 1676833.2500 - mean_absolute_error: 842.5742 - val_loss: 1182624.5000 - val_mean_absolute_error: 719.3463\n",
      "Epoch 2/15\n",
      "11444/11444 [==============================] - 38s 3ms/step - loss: 1157330.7500 - mean_absolute_error: 723.8979 - val_loss: 1047482.1250 - val_mean_absolute_error: 690.6622\n",
      "Epoch 3/15\n",
      "11444/11444 [==============================] - 37s 3ms/step - loss: 1088442.0000 - mean_absolute_error: 703.0292 - val_loss: 1003557.1250 - val_mean_absolute_error: 674.1793\n",
      "Epoch 4/15\n",
      "11444/11444 [==============================] - 39s 3ms/step - loss: 1058953.5000 - mean_absolute_error: 693.8430 - val_loss: 1043395.3750 - val_mean_absolute_error: 677.1143\n",
      "Epoch 5/15\n",
      "11444/11444 [==============================] - 38s 3ms/step - loss: 1031736.1250 - mean_absolute_error: 685.0639 - val_loss: 965124.6250 - val_mean_absolute_error: 664.4574\n",
      "Epoch 6/15\n",
      "11444/11444 [==============================] - 38s 3ms/step - loss: 1010478.4375 - mean_absolute_error: 677.5480 - val_loss: 969215.1875 - val_mean_absolute_error: 668.8973\n",
      "Epoch 7/15\n",
      "11444/11444 [==============================] - 35s 3ms/step - loss: 991552.5625 - mean_absolute_error: 671.4156 - val_loss: 939487.1250 - val_mean_absolute_error: 662.7529\n",
      "Epoch 8/15\n",
      "11444/11444 [==============================] - 38s 3ms/step - loss: 975167.4375 - mean_absolute_error: 665.4142 - val_loss: 942792.4375 - val_mean_absolute_error: 666.2951\n",
      "Epoch 9/15\n",
      "11444/11444 [==============================] - 36s 3ms/step - loss: 961174.8125 - mean_absolute_error: 660.6437 - val_loss: 915387.2500 - val_mean_absolute_error: 645.2032\n",
      "Epoch 10/15\n",
      "11444/11444 [==============================] - 35s 3ms/step - loss: 946516.9375 - mean_absolute_error: 656.0182 - val_loss: 898350.0625 - val_mean_absolute_error: 651.7158\n",
      "Epoch 11/15\n",
      "11444/11444 [==============================] - 36s 3ms/step - loss: 932227.0625 - mean_absolute_error: 651.6114 - val_loss: 900850.9375 - val_mean_absolute_error: 646.3610\n",
      "Epoch 12/15\n",
      "11444/11444 [==============================] - 37s 3ms/step - loss: 917888.4375 - mean_absolute_error: 647.6626 - val_loss: 988214.6250 - val_mean_absolute_error: 683.6705\n",
      "Epoch 13/15\n",
      "11444/11444 [==============================] - 36s 3ms/step - loss: 911768.6250 - mean_absolute_error: 644.5518 - val_loss: 869997.3125 - val_mean_absolute_error: 641.1108\n",
      "Epoch 14/15\n",
      "11444/11444 [==============================] - 36s 3ms/step - loss: 898271.5625 - mean_absolute_error: 640.4191 - val_loss: 950535.3750 - val_mean_absolute_error: 654.6159\n",
      "Epoch 15/15\n",
      "11444/11444 [==============================] - 39s 3ms/step - loss: 892569.6250 - mean_absolute_error: 637.5122 - val_loss: 841203.0000 - val_mean_absolute_error: 627.6973\n",
      "6358/6358 [==============================] - 9s 1ms/step - loss: 841034.0000 - mean_absolute_error: 624.4412\n",
      "Metric  loss : 841034.0\n",
      "Metric  mean_absolute_error : 624.44\n"
     ]
    }
   ],
   "source": [
    "model = Sequential()\n",
    "model.add(Dense(350,input_dim = 44,activation=\"relu\"))\n",
    "model.add(Dense(350,activation=\"relu\"))\n",
    "model.add(Dense(1,activation = \"linear\"))\n",
    "model.compile(optimizer='adam',loss=\"mean_squared_error\",metrics=[\"mean_absolute_error\"])\n",
    "model.fit(x_train,y_train, validation_data=(x_val,y_val),\n",
    "epochs=15,batch_size=64)\n",
    "result = model.evaluate(x_test,y_test)\n",
    "for i in range(len(model.metrics_names)):\n",
    "    print(\"Metric \",model.metrics_names[i],\":\",str(round(result[i],2)))"
   ]
  },
  {
   "cell_type": "markdown",
   "id": "25acb2c6",
   "metadata": {
    "papermill": {
     "duration": 2.50807,
     "end_time": "2022-09-29T09:59:15.086843",
     "exception": false,
     "start_time": "2022-09-29T09:59:12.578773",
     "status": "completed"
    },
    "tags": []
   },
   "source": [
    "**Conclusion**\n",
    "* We can see quite a bit of improvement when we use an architecture that was built with a higher number of neurons.\n",
    "* We can use the history, post training, to visualize and understand the model’s learning curve"
   ]
  },
  {
   "cell_type": "code",
   "execution_count": 50,
   "id": "fc483770",
   "metadata": {
    "execution": {
     "iopub.execute_input": "2022-09-29T09:59:19.928729Z",
     "iopub.status.busy": "2022-09-29T09:59:19.927934Z",
     "iopub.status.idle": "2022-09-29T10:21:45.814405Z",
     "shell.execute_reply": "2022-09-29T10:21:45.813166Z"
    },
    "papermill": {
     "duration": 1349.171126,
     "end_time": "2022-09-29T10:21:46.676689",
     "exception": false,
     "start_time": "2022-09-29T09:59:17.505563",
     "status": "completed"
    },
    "tags": []
   },
   "outputs": [
    {
     "name": "stdout",
     "output_type": "stream",
     "text": [
      "Epoch 1/15\n",
      "11444/11444 [==============================] - 91s 8ms/step - loss: 1635868.1250 - mean_absolute_error: 840.0845 - val_loss: 1154325.8750 - val_mean_absolute_error: 715.0417\n",
      "Epoch 2/15\n",
      "11444/11444 [==============================] - 93s 8ms/step - loss: 1178157.2500 - mean_absolute_error: 727.2094 - val_loss: 1126368.3750 - val_mean_absolute_error: 698.0116\n",
      "Epoch 3/15\n",
      "11444/11444 [==============================] - 93s 8ms/step - loss: 1109651.8750 - mean_absolute_error: 704.4002 - val_loss: 1196239.5000 - val_mean_absolute_error: 739.7811\n",
      "Epoch 4/15\n",
      "11444/11444 [==============================] - 90s 8ms/step - loss: 1068297.5000 - mean_absolute_error: 691.1456 - val_loss: 1133598.1250 - val_mean_absolute_error: 733.6102\n",
      "Epoch 5/15\n",
      "11444/11444 [==============================] - 86s 8ms/step - loss: 1038727.5000 - mean_absolute_error: 682.5831 - val_loss: 999166.1875 - val_mean_absolute_error: 666.7141\n",
      "Epoch 6/15\n",
      "11444/11444 [==============================] - 88s 8ms/step - loss: 1014469.0000 - mean_absolute_error: 675.0204 - val_loss: 1089167.0000 - val_mean_absolute_error: 721.1319\n",
      "Epoch 7/15\n",
      "11444/11444 [==============================] - 91s 8ms/step - loss: 996114.3750 - mean_absolute_error: 669.9240 - val_loss: 1147910.8750 - val_mean_absolute_error: 712.7816\n",
      "Epoch 8/15\n",
      "11444/11444 [==============================] - 88s 8ms/step - loss: 975270.6250 - mean_absolute_error: 663.6283 - val_loss: 907443.3125 - val_mean_absolute_error: 642.9116\n",
      "Epoch 9/15\n",
      "11444/11444 [==============================] - 88s 8ms/step - loss: 957071.2500 - mean_absolute_error: 657.4597 - val_loss: 923521.8750 - val_mean_absolute_error: 650.4125\n",
      "Epoch 10/15\n",
      "11444/11444 [==============================] - 84s 7ms/step - loss: 938517.1250 - mean_absolute_error: 651.1257 - val_loss: 931220.8125 - val_mean_absolute_error: 646.6800\n",
      "Epoch 11/15\n",
      "11444/11444 [==============================] - 85s 7ms/step - loss: 919476.3750 - mean_absolute_error: 644.4055 - val_loss: 902497.2500 - val_mean_absolute_error: 650.5283\n",
      "Epoch 12/15\n",
      "11444/11444 [==============================] - 86s 8ms/step - loss: 917244.5000 - mean_absolute_error: 643.1033 - val_loss: 864191.9375 - val_mean_absolute_error: 629.1195\n",
      "Epoch 13/15\n",
      "11444/11444 [==============================] - 88s 8ms/step - loss: 896930.5000 - mean_absolute_error: 636.1527 - val_loss: 852937.7500 - val_mean_absolute_error: 630.6429\n",
      "Epoch 14/15\n",
      "11444/11444 [==============================] - 86s 7ms/step - loss: 885579.3750 - mean_absolute_error: 631.7422 - val_loss: 906070.6250 - val_mean_absolute_error: 640.5151\n",
      "Epoch 15/15\n",
      "11444/11444 [==============================] - 89s 8ms/step - loss: 873209.2500 - mean_absolute_error: 627.0970 - val_loss: 818067.8125 - val_mean_absolute_error: 609.1863\n",
      "6358/6358 [==============================] - 18s 3ms/step - loss: 822607.9375 - mean_absolute_error: 606.9955\n",
      "Metric  loss : 822607.94\n",
      "Metric  mean_absolute_error : 607.0\n"
     ]
    }
   ],
   "source": [
    "from keras.callbacks import History\n",
    "history = History()\n",
    "model = Sequential()\n",
    "model.add(Dense(350,input_dim = 44,activation=\"relu\"))\n",
    "model.add(Dense(350,activation=\"relu\"))\n",
    "model.add(Dense(350,activation=\"relu\"))\n",
    "model.add(Dense(350,activation=\"relu\"))\n",
    "model.add(Dense(350,activation=\"relu\"))\n",
    "model.add(Dense(1,activation = \"linear\"))\n",
    "model.compile(optimizer='adam',loss=\"mean_squared_error\",metrics=[\"mean_absolute_error\"])\n",
    "model.fit(x_train,y_train, validation_data=(x_val,y_val),\n",
    "epochs=15,batch_size=64,callbacks=[history])\n",
    "result = model.evaluate(x_test,y_test)\n",
    "\n",
    "for i in range(len(model.metrics_names)):\n",
    "    print(\"Metric \",model.metrics_names[i],\":\",str(round(result[i],2)))"
   ]
  },
  {
   "cell_type": "markdown",
   "id": "fa7de143",
   "metadata": {
    "papermill": {
     "duration": 4.18192,
     "end_time": "2022-09-29T10:21:54.872914",
     "exception": false,
     "start_time": "2022-09-29T10:21:50.690994",
     "status": "completed"
    },
    "tags": []
   },
   "source": [
    "**Plotting the Loss Metric Across Epochs**"
   ]
  },
  {
   "cell_type": "code",
   "execution_count": 51,
   "id": "c7906fa1",
   "metadata": {
    "execution": {
     "iopub.execute_input": "2022-09-29T10:22:03.091794Z",
     "iopub.status.busy": "2022-09-29T10:22:03.091354Z",
     "iopub.status.idle": "2022-09-29T10:22:04.061139Z",
     "shell.execute_reply": "2022-09-29T10:22:04.059900Z"
    },
    "papermill": {
     "duration": 5.031261,
     "end_time": "2022-09-29T10:22:04.063865",
     "exception": false,
     "start_time": "2022-09-29T10:21:59.032604",
     "status": "completed"
    },
    "tags": []
   },
   "outputs": [
    {
     "data": {
      "image/png": "[encoded data removed]",
      "text/plain": [
       "<Figure size 432x288 with 1 Axes>"
      ]
     },
     "metadata": {
      "needs_background": "light"
     },
     "output_type": "display_data"
    }
   ],
   "source": [
    "plt.plot(history.history['loss'])\n",
    "plt.plot(history.history['val_loss'])\n",
    "plt.title(\"Model's Training & Validation loss across epochs\")\n",
    "plt.ylabel('Loss')\n",
    "plt.xlabel('Epochs')\n",
    "plt.legend(['Train', 'Validation'], loc='upper right')\n",
    "plt.show()"
   ]
  },
  {
   "cell_type": "markdown",
   "id": "6fe23e19",
   "metadata": {
    "papermill": {
     "duration": 4.140194,
     "end_time": "2022-09-29T10:22:12.322744",
     "exception": false,
     "start_time": "2022-09-29T10:22:08.182550",
     "status": "completed"
    },
    "tags": []
   },
   "source": [
    "**Testing the Model Manually**"
   ]
  },
  {
   "cell_type": "code",
   "execution_count": 52,
   "id": "97066c64",
   "metadata": {
    "execution": {
     "iopub.execute_input": "2022-09-29T10:22:20.547947Z",
     "iopub.status.busy": "2022-09-29T10:22:20.547530Z",
     "iopub.status.idle": "2022-09-29T10:22:33.629919Z",
     "shell.execute_reply": "2022-09-29T10:22:33.628515Z"
    },
    "papermill": {
     "duration": 17.200386,
     "end_time": "2022-09-29T10:22:33.632363",
     "exception": false,
     "start_time": "2022-09-29T10:22:16.431977",
     "status": "completed"
    },
    "tags": []
   },
   "outputs": [
    {
     "name": "stdout",
     "output_type": "stream",
     "text": [
      "        Actual Sales  Predicted Sales\n",
      "115563             0         0.106386\n",
      "832654             0         0.106386\n",
      "769112          2933      3209.298584\n",
      "350588          8602      7259.171387\n",
      "141556          6975      6348.395020\n",
      "84435           9239      8863.255859\n",
      "53018              0         0.106386\n",
      "262419             0         0.106386\n",
      "702267          5885      5216.647949\n",
      "981431             0         0.106386\n"
     ]
    }
   ],
   "source": [
    "#Manually predicting from the model, instead of using model's evaluate function\n",
    "y_test[\"Prediction\"] = model.predict(x_test)\n",
    "y_test.columns = [\"Actual Sales\",\"Predicted Sales\"]\n",
    "print(y_test.head(10))\n"
   ]
  },
  {
   "cell_type": "code",
   "execution_count": 53,
   "id": "0d0b2766",
   "metadata": {
    "execution": {
     "iopub.execute_input": "2022-09-29T10:22:41.791082Z",
     "iopub.status.busy": "2022-09-29T10:22:41.790649Z",
     "iopub.status.idle": "2022-09-29T10:22:41.804640Z",
     "shell.execute_reply": "2022-09-29T10:22:41.803005Z"
    },
    "papermill": {
     "duration": 4.021387,
     "end_time": "2022-09-29T10:22:41.807531",
     "exception": false,
     "start_time": "2022-09-29T10:22:37.786144",
     "status": "completed"
    },
    "tags": []
   },
   "outputs": [
    {
     "name": "stdout",
     "output_type": "stream",
     "text": [
      "MSE : 822605.2408836328\n",
      "MAE : 606.9956644710697\n"
     ]
    }
   ],
   "source": [
    "#Manually predicting from the model, instead of using model's evaluate function\n",
    "from sklearn.metrics import mean_squared_error, mean_absolute_error\n",
    "print(\"MSE :\",mean_squared_error(y_test[\"Actual Sales\"].values,y_test[\"Predicted Sales\"].values))\n",
    "print(\"MAE :\",mean_absolute_error(y_test[\"Actual Sales\"].values,y_test[\"Predicted Sales\"].values))"
   ]
  },
  {
   "cell_type": "markdown",
   "id": "2c6229b1",
   "metadata": {
    "papermill": {
     "duration": 4.199946,
     "end_time": "2022-09-29T10:22:50.138067",
     "exception": false,
     "start_time": "2022-09-29T10:22:45.938121",
     "status": "completed"
    },
    "tags": []
   },
   "source": [
    "**Conclusion**\n",
    "*  We started with the problem statement and defined it using industry standard frameworks to get an intuitive understanding of why we are solving this problem.\n",
    "* We then explored the data to understand the available features and different data types"
   ]
  },
  {
   "cell_type": "code",
   "execution_count": null,
   "id": "07fa7456",
   "metadata": {
    "papermill": {
     "duration": 4.153801,
     "end_time": "2022-09-29T10:22:58.391547",
     "exception": false,
     "start_time": "2022-09-29T10:22:54.237746",
     "status": "completed"
    },
    "tags": []
   },
   "outputs": [],
   "source": []
  }
 ],
 "metadata": {
  "kernelspec": {
   "display_name": "Python 3",
   "language": "python",
   "name": "python3"
  },
  "language_info": {
   "codemirror_mode": {
    "name": "ipython",
    "version": 3
   },
   "file_extension": ".py",
   "mimetype": "text/x-python",
   "name": "python",
   "nbconvert_exporter": "python",
   "pygments_lexer": "ipython3",
   "version": "3.7.12"
  },
  "papermill": {
   "default_parameters": {},
   "duration": 3562.694963,
   "end_time": "2022-09-29T10:23:06.061211",
   "environment_variables": {},
   "exception": null,
   "input_path": "__notebook__.ipynb",
   "output_path": "__notebook__.ipynb",
   "parameters": {},
   "start_time": "2022-09-29T09:23:43.366248",
   "version": "2.3.4"
  }
 },
 "nbformat": 4,
 "nbformat_minor": 5
}
